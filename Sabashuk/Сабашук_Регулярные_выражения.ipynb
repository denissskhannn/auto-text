{
  "nbformat": 4,
  "nbformat_minor": 0,
  "metadata": {
    "colab": {
      "provenance": []
    },
    "kernelspec": {
      "name": "python3",
      "display_name": "Python 3"
    },
    "language_info": {
      "name": "python"
    }
  },
  "cells": [
    {
      "cell_type": "markdown",
      "source": [
        "Эта тетрадка содержит примеры использования регулярных выражений для обработки текстов на русском и английском языках. Мы начнем с простых примеров и постепенно перейдем к более сложным задачам."
      ],
      "metadata": {
        "id": "WGFlTFBKoc8Y"
      }
    },
    {
      "cell_type": "markdown",
      "source": [
        "**Библиотеки:**"
      ],
      "metadata": {
        "id": "ChzJunJDokk0"
      }
    },
    {
      "cell_type": "code",
      "execution_count": 70,
      "metadata": {
        "id": "HG9D8IH-laDW"
      },
      "outputs": [],
      "source": [
        "import re\n",
        "import time\n",
        "from collections import Counter"
      ]
    },
    {
      "cell_type": "markdown",
      "source": [
        "**1. Основы регулярных выражений**"
      ],
      "metadata": {
        "id": "x-idVYDnosCo"
      }
    },
    {
      "cell_type": "markdown",
      "source": [
        "1.1 Простой поиск"
      ],
      "metadata": {
        "id": "gSe5UDbLotjS"
      }
    },
    {
      "cell_type": "code",
      "source": [
        "# Пример текста на русском языке\n",
        "import re\n",
        "text_ru = \"Регулярные выражения - мощный инструмент для обработки текста.\"\n",
        "\n",
        "# Поиск слова \"выражения\"\n",
        "match = re.search(\"выражения\", text_ru)\n",
        "if match:\n",
        "    print(f\"Найдено совпадение: {match.group()}\")\n",
        "    print(f\"Позиция: с {match.start()} по {match.end()}\")"
      ],
      "metadata": {
        "id": "MxNslSDJowiy",
        "colab": {
          "base_uri": "https://localhost:8080/"
        },
        "outputId": "a8d91ebb-a462-4863-c6cc-c930542d42a9"
      },
      "execution_count": 71,
      "outputs": [
        {
          "output_type": "stream",
          "name": "stdout",
          "text": [
            "Найдено совпадение: выражения\n",
            "Позиция: с 11 по 20\n"
          ]
        }
      ]
    },
    {
      "cell_type": "markdown",
      "source": [
        "Пояснение: Функция re.search() ищет первое вхождение шаблона в строке. Если совпадение найдено, она возвращает объект Match, который содержит информацию о найденном совпадении. Метод group() возвращает найденную подстроку, а методы start() и end() возвращают начальную и конечную позиции совпадения."
      ],
      "metadata": {
        "id": "VSrgOwgLpAUq"
      }
    },
    {
      "cell_type": "markdown",
      "source": [
        "1.2 Поиск всех совпадений.\n",
        "Для поиска всех совпадений используется функция re.findall():"
      ],
      "metadata": {
        "id": "LLhN61mbpD1s"
      }
    },
    {
      "cell_type": "code",
      "source": [
        "# Пример текста на английском языке\n",
        "text_en = \"Regular expressions are powerful tools for text processing. Regular patterns can be defined using these expressions.\"\n",
        "\n",
        "# Поиск всех вхождений слова \"regular\" (без учета регистра)\n",
        "matches = re.findall(\"regular\", text_en, re.IGNORECASE)\n",
        "print(f\"Найдено совпадений: {len(matches)}\")\n",
        "print(f\"Совпадения: {matches}\")"
      ],
      "metadata": {
        "id": "x7gDsuDWpFrV",
        "colab": {
          "base_uri": "https://localhost:8080/"
        },
        "outputId": "bdfb07c6-2f27-4fbb-e314-d0311d8d757e"
      },
      "execution_count": null,
      "outputs": [
        {
          "output_type": "stream",
          "name": "stdout",
          "text": [
            "Найдено совпадений: 2\n",
            "Совпадения: ['Regular', 'Regular']\n"
          ]
        }
      ]
    },
    {
      "cell_type": "markdown",
      "source": [
        "Пояснение: Функция re.findall() возвращает список всех найденных совпадений. Флаг re.IGNORECASE указывает, что поиск должен производиться без учета регистра."
      ],
      "metadata": {
        "id": "3ExyN5RqpVEP"
      }
    },
    {
      "cell_type": "markdown",
      "source": [
        "1.3 Замена текста.\n",
        "Функция re.sub() используется для замены текста, соответствующего шаблону:"
      ],
      "metadata": {
        "id": "rtt41IugpWH7"
      }
    },
    {
      "cell_type": "code",
      "source": [
        "# Заменим слово \"мощный\" на \"эффективный\"\n",
        "new_text = re.sub(\"мощный\", \"эффективный\", text_ru)\n",
        "print(f\"Исходный текст: {text_ru}\")\n",
        "print(f\"Новый текст: {new_text}\")"
      ],
      "metadata": {
        "id": "xqkLsXI0paN2",
        "colab": {
          "base_uri": "https://localhost:8080/"
        },
        "outputId": "774e2293-237f-4d28-b7a1-5c37caad749d"
      },
      "execution_count": null,
      "outputs": [
        {
          "output_type": "stream",
          "name": "stdout",
          "text": [
            "Исходный текст: Регулярные выражения - мощный инструмент для обработки текста.\n",
            "Новый текст: Регулярные выражения - эффективный инструмент для обработки текста.\n"
          ]
        }
      ]
    },
    {
      "cell_type": "markdown",
      "source": [
        "**2. Метасимволы и классы символов**"
      ],
      "metadata": {
        "id": "uYMbGl4jphjW"
      }
    },
    {
      "cell_type": "markdown",
      "source": [
        "2.1 Точка (любой символ).\n",
        "Точка . соответствует любому символу, кроме новой строки:"
      ],
      "metadata": {
        "id": "1c1xCkLApija"
      }
    },
    {
      "cell_type": "code",
      "source": [
        "text = \"cat, bat, rat, mat, sad\"\n",
        "pattern = \".at\"\n",
        "matches = re.findall(pattern, text)\n",
        "print(f\"Шаблон '{pattern}' находит: {matches}\")"
      ],
      "metadata": {
        "id": "oCmhWQakpoAu",
        "colab": {
          "base_uri": "https://localhost:8080/"
        },
        "outputId": "34d45904-6b3f-48db-9dc4-a48b1a4c21bb"
      },
      "execution_count": null,
      "outputs": [
        {
          "output_type": "stream",
          "name": "stdout",
          "text": [
            "Шаблон '.at' находит: ['cat', 'bat', 'rat', 'mat']\n"
          ]
        }
      ]
    },
    {
      "cell_type": "markdown",
      "source": [
        "2.2 Квантификаторы (*, +, ?, {}) определяют, сколько раз должен повторяться предыдущий элемент:\n",
        "\n",
        "\n"
      ],
      "metadata": {
        "id": "P_bgInMRpzfq"
      }
    },
    {
      "cell_type": "code",
      "source": [
        "text = \"регулярное выражение, регулярные выражения, нерегулярный\"\n",
        "\n",
        "# * - 0 или более повторений\n",
        "pattern1 = \"регуляр.*выражени\"\n",
        "matches1 = re.findall(pattern1, text)\n",
        "print(f\"'регуляр.*выражени' находит: {matches1}\")\n",
        "\n",
        "# + - 1 или более повторений\n",
        "pattern2 = \"регуляр.+е\"\n",
        "matches2 = re.findall(pattern2, text)\n",
        "print(f\"'регуляр.+е' находит: {matches2}\")\n",
        "\n",
        "# ? - 0 или 1 повторение\n",
        "pattern3 = \"регулярн?ый\"\n",
        "matches3 = re.findall(pattern3, text)\n",
        "print(f\"'регулярн?ый' находит: {matches3}\")\n",
        "\n",
        "# {n} - ровно n повторений\n",
        "pattern4 = \"регуляр.{3}е\"\n",
        "matches4 = re.findall(pattern4, text)\n",
        "print(f\"'регуляр.{3}е' находит: {matches4}\")"
      ],
      "metadata": {
        "id": "pfYaf8lJp4KY",
        "colab": {
          "base_uri": "https://localhost:8080/"
        },
        "outputId": "6c6fbe38-3b20-4d75-a4f7-daa585e0801b"
      },
      "execution_count": null,
      "outputs": [
        {
          "output_type": "stream",
          "name": "stdout",
          "text": [
            "'регуляр.*выражени' находит: ['регулярное выражение, регулярные выражени']\n",
            "'регуляр.+е' находит: ['регулярное выражение, регулярные выражения, нере']\n",
            "'регулярн?ый' находит: ['регулярный']\n",
            "'регуляр.3е' находит: []\n"
          ]
        }
      ]
    },
    {
      "cell_type": "markdown",
      "source": [
        "Пояснение:\n",
        "\n",
        "* \\* означает \"0 или более повторений предыдущего элемента\"\n",
        "* \\+ означает \"1 или более повторений предыдущего элемента\"\n",
        "* \\? означает \"0 или 1 повторение предыдущего элемента\"\n",
        "* \\{n} означает \"ровно n повторений предыдущего элемента\"\n",
        "* \\{n,} означает \"n или более повторений предыдущего элемента\"\n",
        "* \\{n,m} означает \"от n до m повторений предыдущего элемента\""
      ],
      "metadata": {
        "id": "_BgjIS6QqFnO"
      }
    },
    {
      "cell_type": "markdown",
      "source": [
        "2.3 Классы символов позволяют указать набор символов, из которых один должен присутствовать в данной позиции:"
      ],
      "metadata": {
        "id": "u1plrUtZrCSN"
      }
    },
    {
      "cell_type": "code",
      "source": [
        "text = \"Телефоны (tel.): +7(123)456-78-90, 8-987-654-32-10, 89991112233\"\n",
        "\n",
        "# [0-9] - любая цифра (то же, что и \\d)\n",
        "digits = re.findall(\"[0-9]+\", text)\n",
        "print(f\"Цифры: {digits}\")\n",
        "\n",
        "# [а-яА-Я] - любая русская буква\n",
        "russian_letters = re.findall(\"[а-яА-Я]+\", text)\n",
        "print(f\"Русские слова: {russian_letters}\")\n",
        "\n",
        "# [a-zA-Z] - любая латинская буква\n",
        "english_letters = re.findall(\"[a-zA-Z]+\", text)\n",
        "print(f\"Латинские слова: {english_letters}\")\n",
        "\n",
        "# [^0-9] - любой символ, кроме цифры\n",
        "non_digits = re.findall(\"[^0-9]+\", text)\n",
        "print(f\"Не цифры: {non_digits}\")"
      ],
      "metadata": {
        "id": "cF6yoSmpqJGY",
        "colab": {
          "base_uri": "https://localhost:8080/"
        },
        "outputId": "66092564-189b-4043-e542-d676ab965130"
      },
      "execution_count": null,
      "outputs": [
        {
          "output_type": "stream",
          "name": "stdout",
          "text": [
            "Цифры: ['7', '123', '456', '78', '90', '8', '987', '654', '32', '10', '89991112233']\n",
            "Русские слова: ['Телефоны']\n",
            "Латинские слова: ['tel']\n",
            "Не цифры: ['Телефоны (tel.): +', '(', ')', '-', '-', ', ', '-', '-', '-', '-', ', ']\n"
          ]
        }
      ]
    },
    {
      "cell_type": "markdown",
      "source": [
        "**3. Группировка и захват**"
      ],
      "metadata": {
        "id": "VvfAkTbyrQxB"
      }
    },
    {
      "cell_type": "markdown",
      "source": [
        "3.1 Основы группировки. Скобки () используются для группировки элементов регулярного выражения:"
      ],
      "metadata": {
        "id": "20Jg3SZWrSUy"
      }
    },
    {
      "cell_type": "code",
      "source": [
        "text = \"apple, orange, banana, apple123, orange456\"\n",
        "\n",
        "# Группировка и захват\n",
        "pattern = r\"(apple|orange)(\\d*)\"\n",
        "matches = re.findall(pattern, text)\n",
        "print(f\"Найденные группы: {matches}\")\n",
        "\n",
        "# Использование групп в re.search\n",
        "match = re.search(pattern, text)\n",
        "if match:\n",
        "    print(f\"Первая группа: {match.group(1)}\")\n",
        "    print(f\"Вторая группа: {match.group(2)}\")"
      ],
      "metadata": {
        "id": "63la3sBKrV1I"
      },
      "execution_count": null,
      "outputs": []
    },
    {
      "cell_type": "markdown",
      "source": [
        "3.2 Именованные группы позволяют обращаться к группам по имени, а не по индексу:"
      ],
      "metadata": {
        "id": "68yhmb_RsltW"
      }
    },
    {
      "cell_type": "code",
      "source": [
        "text = \"Дата: 12.05.2023, время: 15:30\"\n",
        "\n",
        "# Именованные группы\n",
        "pattern = r\"Дата: (?P<day>\\d{2})\\.(?P<month>\\d{2})\\.(?P<year>\\d{4}), время: (?P<hour>\\d{2}):(?P<minute>\\d{2})\"\n",
        "match = re.search(pattern, text)\n",
        "\n",
        "if match:\n",
        "    print(f\"День: {match.group('day')}\")\n",
        "    print(f\"Месяц: {match.group('month')}\")\n",
        "    print(f\"Год: {match.group('year')}\")\n",
        "    print(f\"Час: {match.group('hour')}\")\n",
        "    print(f\"Минута: {match.group('minute')}\")\n",
        "\n",
        "    # Получение словаря всех именованных групп\n",
        "    date_dict = match.groupdict()\n",
        "    print(f\"Словарь групп: {date_dict}\")"
      ],
      "metadata": {
        "id": "7ILEbmzfsnww",
        "colab": {
          "base_uri": "https://localhost:8080/"
        },
        "outputId": "66e3841a-b12c-4a21-f168-d46329ac6ca2"
      },
      "execution_count": null,
      "outputs": [
        {
          "output_type": "stream",
          "name": "stdout",
          "text": [
            "День: 12\n",
            "Месяц: 05\n",
            "Год: 2023\n",
            "Час: 15\n",
            "Минута: 30\n",
            "Словарь групп: {'day': '12', 'month': '05', 'year': '2023', 'hour': '15', 'minute': '30'}\n"
          ]
        }
      ]
    },
    {
      "cell_type": "markdown",
      "source": [
        "Пояснение: Именованные группы создаются с помощью синтаксиса (?P<name>pattern). После нахождения совпадения, можно обратиться к группе по имени с помощью метода group('name'). Метод groupdict() возвращает словарь, где ключи — имена групп, а значения — соответствующие совпадения."
      ],
      "metadata": {
        "id": "G3s2nQszs0ES"
      }
    },
    {
      "cell_type": "markdown",
      "source": [
        "3.3 Незахватывающие группы. Иногда нужно использовать группировку без захвата совпадений:"
      ],
      "metadata": {
        "id": "y43qYK7es9qs"
      }
    },
    {
      "cell_type": "code",
      "source": [
        "text = \"apple123, orange456, banana789\"\n",
        "\n",
        "# Обычные захватывающие группы\n",
        "pattern1 = r\"(apple|orange|banana)(\\d+)\"\n",
        "matches1 = re.findall(pattern1, text)\n",
        "print(f\"Захватывающие группы: {matches1}\")\n",
        "\n",
        "# Незахватывающие группы\n",
        "pattern2 = r\"(?:apple|orange|banana)(\\d+)\"\n",
        "matches2 = re.findall(pattern2, text)\n",
        "print(f\"Незахватывающие группы: {matches2}\")"
      ],
      "metadata": {
        "id": "9TYcT_r0s_QY",
        "colab": {
          "base_uri": "https://localhost:8080/"
        },
        "outputId": "4a00f78c-fbc6-4081-858c-61105ee78d84"
      },
      "execution_count": null,
      "outputs": [
        {
          "output_type": "stream",
          "name": "stdout",
          "text": [
            "Захватывающие группы: [('apple', '123'), ('orange', '456'), ('banana', '789')]\n",
            "Незахватывающие группы: ['123', '456', '789']\n"
          ]
        }
      ]
    },
    {
      "cell_type": "markdown",
      "source": [
        "**4. Специальные конструкции**"
      ],
      "metadata": {
        "id": "bPLgfBuXtU2-"
      }
    },
    {
      "cell_type": "markdown",
      "source": [
        "4.1 Границы слов. Метасимволы \\b и \\B используются для обозначения границ слов:"
      ],
      "metadata": {
        "id": "-yCU7zlvtWcF"
      }
    },
    {
      "cell_type": "code",
      "source": [
        "text = \"This is a test. Testing is important.\"\n",
        "\n",
        "# \\b - граница слова\n",
        "pattern1 = r\"\\btest\\b\"\n",
        "matches1 = re.findall(pattern1, text)\n",
        "print(f\"\\\\btest\\\\b находит: {matches1}\")\n",
        "\n",
        "# \\B - не граница слова\n",
        "pattern2 = r\"im\\B\"\n",
        "matches2 = re.findall(pattern2, text)\n",
        "print(f\"im\\\\B находит: {matches2}\")\n",
        "\n",
        "pattern3 = r\"\\btest\"\n",
        "matches3 = re.findall(pattern3, text)\n",
        "print(f\"\\\\btest находит: {matches3}\")"
      ],
      "metadata": {
        "id": "XQakPzTHtnKu",
        "colab": {
          "base_uri": "https://localhost:8080/"
        },
        "outputId": "3e3f9e0f-e568-4c2e-e1ee-934f64137758"
      },
      "execution_count": null,
      "outputs": [
        {
          "output_type": "stream",
          "name": "stdout",
          "text": [
            "\\btest\\b находит: ['test']\n",
            "im\\B находит: ['im']\n",
            "\\btest находит: ['test']\n"
          ]
        }
      ]
    },
    {
      "cell_type": "markdown",
      "source": [
        "Пояснение:\n",
        "\n",
        "* \\b соответствует границе слова (позиции между символом, удовлетворяющим \\w, и символом, не удовлетворяющим \\w)\n",
        "* \\B соответствует позиции, не являющейся границей слова\n",
        "* \\bword соответствует слову, начинающемуся с \"word\"\n",
        "* word\\b соответствует слову, заканчивающемуся на \"word\"\n",
        "* \\bword\\b соответствует слову \"word\" целиком"
      ],
      "metadata": {
        "id": "jZvi3SEmtqFs"
      }
    },
    {
      "cell_type": "markdown",
      "source": [
        "4.2 Начало и конец строки. Метасимволы ^ и $ обозначают начало и конец строки:"
      ],
      "metadata": {
        "id": "WfMjTZ8Xvkqa"
      }
    },
    {
      "cell_type": "code",
      "source": [
        "text = \"\"\"Первая строка\n",
        "Вторая строка\n",
        "Третья строка\n",
        "Первая строка\n",
        "Вторая строка\"\"\"\n",
        "\n",
        "# ^ - начало строки\n",
        "pattern1 = r\"^Первая\"\n",
        "matches1 = re.findall(pattern1, text)\n",
        "print(f\"^Первая находит: {matches1}\")\n",
        "\n",
        "# $ - конец строки\n",
        "pattern2 = r\"строка$\"\n",
        "matches2 = re.findall(pattern2, text)\n",
        "print(f\"строка$ находит: {matches2}\")\n",
        "\n",
        "# Использование флага MULTILINE\n",
        "pattern3 = r\"^Вторая\"\n",
        "matches3 = re.findall(pattern3, text, re.MULTILINE)\n",
        "print(f\"^Вторая с флагом MULTILINE находит: {matches3}\")"
      ],
      "metadata": {
        "id": "sd5axdN0voOu",
        "colab": {
          "base_uri": "https://localhost:8080/"
        },
        "outputId": "f38e29d7-4bb5-4dd6-cd04-d4f316b95f38"
      },
      "execution_count": null,
      "outputs": [
        {
          "output_type": "stream",
          "name": "stdout",
          "text": [
            "^Первая находит: ['Первая']\n",
            "строка$ находит: ['строка']\n",
            "^Вторая с флагом MULTILINE находит: ['Вторая', 'Вторая']\n"
          ]
        }
      ]
    },
    {
      "cell_type": "markdown",
      "source": [
        "Пояснение:\n",
        "\n",
        "* ^ соответствует началу строки\n",
        "* $ соответствует концу строки\n",
        "\n",
        "* По умолчанию, ^ и $ соответствуют началу и концу всего текста\n",
        "\n",
        "\n",
        "* С флагом re.MULTILINE, ^ и $ соответствуют началу и концу каждой строки в тексте"
      ],
      "metadata": {
        "id": "-kYlyIVhv2zw"
      }
    },
    {
      "cell_type": "markdown",
      "source": [
        "4.3 Жадные и ленивые квантификаторы. По умолчанию квантификаторы \"жадные\" — они захватывают максимально возможное количество символов. Добавление ? к квантификатору делает его \"ленивым\":"
      ],
      "metadata": {
        "id": "1BSnEmq712Sd"
      }
    },
    {
      "cell_type": "code",
      "source": [
        "text = \"<div>Первый блок</div><div>Второй блок</div>\"\n",
        "\n",
        "# Жадный квантификатор\n",
        "pattern1 = r\"<div>.+</div>\"\n",
        "matches1 = re.findall(pattern1, text)\n",
        "print(f\"Жадный квантификатор .+ находит: {matches1}\")\n",
        "\n",
        "# Ленивый квантификатор\n",
        "pattern2 = r\"<div>.+?</div>\"\n",
        "matches2 = re.findall(pattern2, text)\n",
        "print(f\"Ленивый квантификатор .+? находит: {matches2}\")"
      ],
      "metadata": {
        "id": "-lGsUPc5v9-B",
        "colab": {
          "base_uri": "https://localhost:8080/"
        },
        "outputId": "cb89f3b1-8d58-4096-bce9-0ea3ac9239d2"
      },
      "execution_count": null,
      "outputs": [
        {
          "output_type": "stream",
          "name": "stdout",
          "text": [
            "Жадный квантификатор .+ находит: ['<div>Первый блок</div><div>Второй блок</div>']\n",
            "Ленивый квантификатор .+? находит: ['<div>Первый блок</div>', '<div>Второй блок</div>']\n"
          ]
        }
      ]
    },
    {
      "cell_type": "markdown",
      "source": [
        "4.4 Опережающие и ретроспективные проверки. Эти конструкции позволяют проверять контекст вокруг совпадения, не включая его в результат:\n",
        "\n",
        "\n"
      ],
      "metadata": {
        "id": "lA5q7sXLtxDw"
      }
    },
    {
      "cell_type": "code",
      "source": [
        "text = \"apple price: $10, orange price: $5, banana price: $7\"\n",
        "\n",
        "# Позитивная опережающая проверка: (?=...)\n",
        "# Найти все товары, за которыми следует цена $5 или $7\n",
        "pattern1 = r\"\\w+(?= price: \\$[57])\"\n",
        "matches1 = re.findall(pattern1, text)\n",
        "print(f\"Товары с ценой $5 или $7: {matches1}\")\n",
        "\n",
        "# Негативная опережающая проверка: (?!...)\n",
        "# Найти все товары, за которыми не следует цена $10\n",
        "pattern2 = r\"\\b(\\w+)(?= price: \\$(?!10\\b))\"\n",
        "matches2 = re.findall(pattern2, text)\n",
        "print(f\"Товары с ценой не $10: {matches2}\")\n",
        "\n",
        "# Позитивная ретроспективная проверка: (?<=...)\n",
        "# Найти все цены, перед которыми стоит \"apple price: \" или \"orange price: \"\n",
        "pattern3 = r\"(?<=apple price: )\\$\\d+|(?<=orange price: )\\$\\d+\"\n",
        "matches3 = re.findall(pattern3, text)\n",
        "print(f\"Цены яблок или апельсинов: {matches3}\")\n",
        "\n",
        "# Негативная ретроспективная проверка: (?<!...)\n",
        "# Найти все цены, перед которыми не стоит \"banana price: \"\n",
        "pattern4 = r\"(?<!banana price: )\\$\\d+\"\n",
        "matches4 = re.findall(pattern4, text)\n",
        "print(f\"Цены не бананов: {matches4}\")"
      ],
      "metadata": {
        "id": "qFiQqegz2G0l",
        "colab": {
          "base_uri": "https://localhost:8080/"
        },
        "outputId": "5dfd21f9-ec16-485e-bcee-2ff859d8c770"
      },
      "execution_count": null,
      "outputs": [
        {
          "output_type": "stream",
          "name": "stdout",
          "text": [
            "Товары с ценой $5 или $7: ['orange', 'banana']\n",
            "Товары с ценой не $10: ['orange', 'banana']\n",
            "Цены яблок или апельсинов: ['$10', '$5']\n",
            "Цены не бананов: ['$10', '$5']\n"
          ]
        }
      ]
    },
    {
      "cell_type": "markdown",
      "source": [
        "**5. Препроцессинг текста с помощью регулярных выражений**"
      ],
      "metadata": {
        "id": "7wCh2GKx40hC"
      }
    },
    {
      "cell_type": "markdown",
      "source": [
        "5.1 Токенизация текста. Разделение текста на слова с учетом пунктуации:"
      ],
      "metadata": {
        "id": "YEJpYWjP49Cr"
      }
    },
    {
      "cell_type": "code",
      "source": [
        "def tokenize_text(text):\n",
        "    # Удаляем все символы, кроме букв, цифр и пробелов\n",
        "    # Заменяем их на пробелы\n",
        "    text = re.sub(r'[^\\w\\s]', ' ', text)\n",
        "\n",
        "    # Разделяем текст по пробелам\n",
        "    tokens = re.split(r'\\s+', text)\n",
        "\n",
        "    # Удаляем пустые токены\n",
        "    tokens = [token for token in tokens if token]\n",
        "\n",
        "    return tokens\n",
        "\n",
        "text_ru = \"Привет, мир! Это пример текста на русском языке для обработки регулярными выражениями.\"\n",
        "text_en = \"Hello, world! This is an example of English text for processing with regular expressions.\"\n",
        "\n",
        "tokens_ru = tokenize_text(text_ru)\n",
        "tokens_en = tokenize_text(text_en)\n",
        "\n",
        "print(f\"Токены русского текста: {tokens_ru}\")\n",
        "print(f\"Токены английского текста: {tokens_en}\")"
      ],
      "metadata": {
        "id": "2v-MQRiR5cad",
        "colab": {
          "base_uri": "https://localhost:8080/"
        },
        "outputId": "111cd31c-b95c-46ad-893a-06410846365c"
      },
      "execution_count": null,
      "outputs": [
        {
          "output_type": "stream",
          "name": "stdout",
          "text": [
            "Токены русского текста: ['Привет', 'мир', 'Это', 'пример', 'текста', 'на', 'русском', 'языке', 'для', 'обработки', 'регулярными', 'выражениями']\n",
            "Токены английского текста: ['Hello', 'world', 'This', 'is', 'an', 'example', 'of', 'English', 'text', 'for', 'processing', 'with', 'regular', 'expressions']\n"
          ]
        }
      ]
    },
    {
      "cell_type": "markdown",
      "source": [
        "5.2 Очистка текста. Удаление специальных символов, лишних пробелов и HTML-тегов:"
      ],
      "metadata": {
        "id": "g3fys1-e5obt"
      }
    },
    {
      "cell_type": "code",
      "source": [
        "def clean_text(text):\n",
        "    # Удаление HTML-тегов\n",
        "    text = re.sub(r'<[^>]+>', '', text)\n",
        "\n",
        "    # Удаление URL\n",
        "    text = re.sub(r'https?://\\S+|www\\.\\S+', '', text)\n",
        "\n",
        "    # Удаление символов пунктуации\n",
        "    text = re.sub(r'[^\\w\\s]', ' ', text)\n",
        "\n",
        "    # Удаление цифр\n",
        "    text = re.sub(r'\\d+', '', text)\n",
        "\n",
        "    # Удаление лишних пробелов\n",
        "    text = re.sub(r'\\s+', ' ', text)\n",
        "\n",
        "    # Приведение к нижнему регистру\n",
        "    text = text.lower().strip()\n",
        "\n",
        "    return text\n",
        "\n",
        "text = \"\"\"\n",
        "<div>Пример <b>HTML</b> текста</div>\n",
        "Ссылка: https://example.com\n",
        "Цифры: 12345\n",
        "Лишние   пробелы    и пунктуация: !@#$%^&*()\n",
        "\"\"\"\n",
        "\n",
        "cleaned_text = clean_text(text)\n",
        "print(f\"Исходный текст:\\n{text}\")\n",
        "print(f\"Очищенный текст:\\n{cleaned_text}\")"
      ],
      "metadata": {
        "id": "QR-YXqCR5q4b",
        "colab": {
          "base_uri": "https://localhost:8080/"
        },
        "outputId": "580c9420-5ea0-4948-af30-a101cd25c868"
      },
      "execution_count": null,
      "outputs": [
        {
          "output_type": "stream",
          "name": "stdout",
          "text": [
            "Исходный текст:\n",
            "\n",
            "<div>Пример <b>HTML</b> текста</div>\n",
            "Ссылка: https://example.com\n",
            "Цифры: 12345\n",
            "Лишние   пробелы    и пунктуация: !@#$%^&*()\n",
            "\n",
            "Очищенный текст:\n",
            "пример html текста ссылка цифры лишние пробелы и пунктуация\n"
          ]
        }
      ]
    },
    {
      "cell_type": "markdown",
      "source": [
        "5.3 Извлечение информации"
      ],
      "metadata": {
        "id": "l7hdXDWk523O"
      }
    },
    {
      "cell_type": "code",
      "source": [
        "def extract_emails(text):\n",
        "    pattern = r'[a-zA-Z0-9._%+-]+@[a-zA-Z0-9.-]+\\.[a-zA-Z]{2,}'\n",
        "    return re.findall(pattern, text)\n",
        "\n",
        "def extract_phone_numbers(text):\n",
        "    # Шаблон для российских номеров телефонов с захватом всего номера\n",
        "    pattern = r'((?:\\+7|8)[\\s\\-(]?\\d{3}[\\s\\-)]?\\d{3}[\\s\\-]?\\d{2}[\\s\\-]?\\d{2})'\n",
        "    return re.findall(pattern, text)\n",
        "\n",
        "def extract_dates(text):\n",
        "    # Шаблон для дат в формате ДД.ММ.ГГГГ или ДД/ММ/ГГГГ\n",
        "    pattern = r'\\b\\d{1,2}[./]\\d{1,2}[./]\\d{2,4}\\b'\n",
        "    return re.findall(pattern, text)\n",
        "\n",
        "def extract_entities(text):\n",
        "    results = {\n",
        "        'emails': extract_emails(text),\n",
        "        'phones': extract_phone_numbers(text),\n",
        "        'dates': extract_dates(text)\n",
        "    }\n",
        "    return results\n",
        "\n",
        "sample_text = \"\"\"\n",
        "Контактная информация:\n",
        "Email: john.doe@example.com, support@company.org\n",
        "Телефоны: +7(123)456-78-90, 8 999 123 45 67\n",
        "Дата встречи: 15.10.2023 или 10/15/2023\n",
        "\"\"\"\n",
        "\n",
        "entities = extract_entities(sample_text)\n",
        "for entity_type, entity_list in entities.items():\n",
        "    print(f\"{entity_type.capitalize()}: {entity_list}\")"
      ],
      "metadata": {
        "id": "T_wX1SLn53kU",
        "colab": {
          "base_uri": "https://localhost:8080/"
        },
        "outputId": "71bea636-9307-48e5-c783-0a45722caac8"
      },
      "execution_count": null,
      "outputs": [
        {
          "output_type": "stream",
          "name": "stdout",
          "text": [
            "Emails: ['john.doe@example.com', 'support@company.org']\n",
            "Phones: ['+7(123)456-78-90', '8 999 123 45 67']\n",
            "Dates: ['15.10.2023', '10/15/2023']\n"
          ]
        }
      ]
    },
    {
      "cell_type": "markdown",
      "source": [
        "5.4 Нормализация текста"
      ],
      "metadata": {
        "id": "-UXMe5rL6x5k"
      }
    },
    {
      "cell_type": "code",
      "source": [
        "def normalize_text(text):\n",
        "    # Приведение к нижнему регистру\n",
        "    text = text.lower()\n",
        "\n",
        "    # Замена множественных пробелов на один\n",
        "    text = re.sub(r'\\s+', ' ', text)\n",
        "\n",
        "    # Замена цифр на слово \"число\"\n",
        "    text = re.sub(r'\\d+', 'число', text)\n",
        "\n",
        "    # Удаление всех символов, кроме букв и пробелов\n",
        "    text = re.sub(r'[^a-zа-яё\\s]', '', text)\n",
        "\n",
        "    # Удаление начальных и конечных пробелов\n",
        "    text = text.strip()\n",
        "\n",
        "    return text\n",
        "\n",
        "texts = [\n",
        "    \"Пример   текста с РАЗНЫМ регистром!!!\",\n",
        "    \"Текст с цифрами: 123, 456, 789\",\n",
        "    \"Текст с @специальными% символами!\"\n",
        "]\n",
        "\n",
        "for i, text in enumerate(texts, 1):\n",
        "    print(f\"Текст {i}:\")\n",
        "    print(f\"Исходный: {text}\")\n",
        "    print(f\"Нормализованный: {normalize_text(text)}\")\n",
        "    print()"
      ],
      "metadata": {
        "id": "siVP5ZL-6ylg",
        "colab": {
          "base_uri": "https://localhost:8080/"
        },
        "outputId": "a501cb67-1008-448e-c266-993d3825691d"
      },
      "execution_count": null,
      "outputs": [
        {
          "output_type": "stream",
          "name": "stdout",
          "text": [
            "Текст 1:\n",
            "Исходный: Пример   текста с РАЗНЫМ регистром!!!\n",
            "Нормализованный: пример текста с разным регистром\n",
            "\n",
            "Текст 2:\n",
            "Исходный: Текст с цифрами: 123, 456, 789\n",
            "Нормализованный: текст с цифрами число число число\n",
            "\n",
            "Текст 3:\n",
            "Исходный: Текст с @специальными% символами!\n",
            "Нормализованный: текст с специальными символами\n",
            "\n"
          ]
        }
      ]
    },
    {
      "cell_type": "markdown",
      "source": [
        "5.5 Стемминг и лемматизация с помощью регулярных выражений. Хотя для стемминга и лемматизации обычно используются специализированные инструменты, можно реализовать простые версии с помощью регулярных выражений:\n",
        "\n",
        "\n"
      ],
      "metadata": {
        "id": "CIFf9AEf6-QK"
      }
    },
    {
      "cell_type": "code",
      "source": [
        "def simple_russian_stemmer(word):\n",
        "    # Удаление окончаний существительных\n",
        "    word = re.sub(r'(ов|ев|ей|ам|ям|ом|ем|ами|ями|ах|ях|у|ю|е|и|ы|а|я)$', '', word)\n",
        "\n",
        "    # Удаление окончаний прилагательных\n",
        "    word = re.sub(r'(ого|его|ому|ему|ыми|ими|ых|их|ый|ий|ой|ая|ое|ее|ые|ие)$', '', word)\n",
        "\n",
        "    # Удаление окончаний глаголов\n",
        "    word = re.sub(r'(ить|ыть|ать|еть|уть|ют|ят|ат|ут|ите|ете|йте|ешь|ёшь|ет|ём|ем|им|ым|у|ю|ил|ыл|ла|ло|ли)$', '', word)\n",
        "\n",
        "    return word\n",
        "\n",
        "def simple_english_stemmer(word):\n",
        "    # Удаление окончаний множественного числа\n",
        "    word = re.sub(r'(s|es)$', '', word)\n",
        "\n",
        "    # Удаление окончаний 'ing', 'ed'\n",
        "    word = re.sub(r'(ing|ed)$', '', word)\n",
        "\n",
        "    return word\n",
        "\n",
        "russian_words = [\"программирование\", \"компьютеры\", \"языки\", \"библиотеки\", \"функциональный\", \"работает\"]\n",
        "english_words = [\"programming\", \"computers\", \"languages\", \"libraries\", \"functional\", \"working\"]\n",
        "\n",
        "print(\"Стемминг русских слов:\")\n",
        "for word in russian_words:\n",
        "    print(f\"{word} -> {simple_russian_stemmer(word)}\")\n",
        "\n",
        "print(\"\\nСтемминг английских слов:\")\n",
        "for word in english_words:\n",
        "    print(f\"{word} -> {simple_english_stemmer(word)}\")"
      ],
      "metadata": {
        "id": "t7IykgSx7Sdf",
        "colab": {
          "base_uri": "https://localhost:8080/"
        },
        "outputId": "c62a0f85-4e02-4809-9b70-22f1c8f29b03"
      },
      "execution_count": null,
      "outputs": [
        {
          "output_type": "stream",
          "name": "stdout",
          "text": [
            "Стемминг русских слов:\n",
            "программирование -> программировани\n",
            "компьютеры -> компьютер\n",
            "языки -> язык\n",
            "библиотеки -> библиотек\n",
            "функциональный -> функциональн\n",
            "работает -> работа\n",
            "\n",
            "Стемминг английских слов:\n",
            "programming -> programm\n",
            "computers -> computer\n",
            "languages -> languag\n",
            "libraries -> librari\n",
            "functional -> functional\n",
            "working -> work\n"
          ]
        }
      ]
    },
    {
      "cell_type": "markdown",
      "source": [
        "**6. Практические примеры и задачи**"
      ],
      "metadata": {
        "id": "B3OGcvwV7l_H"
      }
    },
    {
      "cell_type": "markdown",
      "source": [
        "6.1 Анализ частотности слов в тексте"
      ],
      "metadata": {
        "id": "79POP3e77sR9"
      }
    },
    {
      "cell_type": "code",
      "source": [
        "def count_word_frequency(text, top_n=10):\n",
        "    # Очистка текста\n",
        "    text = re.sub(r'[^\\w\\s]', ' ', text.lower())\n",
        "\n",
        "    # Разделение на слова\n",
        "    words = re.split(r'\\s+', text)\n",
        "\n",
        "    # Удаление пустых строк\n",
        "    words = [word for word in words if word]\n",
        "\n",
        "    # Подсчет частоты\n",
        "    word_freq = Counter(words)\n",
        "\n",
        "    # Возвращаем top_n наиболее частых слов\n",
        "    return word_freq.most_common(top_n)\n",
        "\n",
        "sample_text = \"\"\"\n",
        "Регулярные выражения - мощный инструмент для обработки текста.\n",
        "Регулярные выражения позволяют искать и извлекать информацию из текста по определенным шаблонам.\n",
        "С помощью регулярных выражений можно выполнять сложные операции по обработке текста всего несколькими строками кода.\n",
        "Изучение регулярных выражений требует времени, но это время окупается сторицей при работе с текстовыми данными.\n",
        "\"\"\"\n",
        "\n",
        "word_freq = count_word_frequency(sample_text)\n",
        "print(\"Топ-10 наиболее частых слов:\")\n",
        "for word, freq in word_freq:\n",
        "    print(f\"{word}: {freq}\")"
      ],
      "metadata": {
        "id": "LzRVwMjT7qas",
        "colab": {
          "base_uri": "https://localhost:8080/",
          "height": 332
        },
        "outputId": "8d5a5cfd-9a6c-4af1-ce49-516c3a944d6f"
      },
      "execution_count": null,
      "outputs": [
        {
          "output_type": "error",
          "ename": "NameError",
          "evalue": "name 'Counter' is not defined",
          "traceback": [
            "\u001b[0;31m---------------------------------------------------------------------------\u001b[0m",
            "\u001b[0;31mNameError\u001b[0m                                 Traceback (most recent call last)",
            "\u001b[0;32m/tmp/ipython-input-3337959627.py\u001b[0m in \u001b[0;36m<cell line: 0>\u001b[0;34m()\u001b[0m\n\u001b[1;32m     22\u001b[0m \"\"\"\n\u001b[1;32m     23\u001b[0m \u001b[0;34m\u001b[0m\u001b[0m\n\u001b[0;32m---> 24\u001b[0;31m \u001b[0mword_freq\u001b[0m \u001b[0;34m=\u001b[0m \u001b[0mcount_word_frequency\u001b[0m\u001b[0;34m(\u001b[0m\u001b[0msample_text\u001b[0m\u001b[0;34m)\u001b[0m\u001b[0;34m\u001b[0m\u001b[0;34m\u001b[0m\u001b[0m\n\u001b[0m\u001b[1;32m     25\u001b[0m \u001b[0mprint\u001b[0m\u001b[0;34m(\u001b[0m\u001b[0;34m\"Топ-10 наиболее частых слов:\"\u001b[0m\u001b[0;34m)\u001b[0m\u001b[0;34m\u001b[0m\u001b[0;34m\u001b[0m\u001b[0m\n\u001b[1;32m     26\u001b[0m \u001b[0;32mfor\u001b[0m \u001b[0mword\u001b[0m\u001b[0;34m,\u001b[0m \u001b[0mfreq\u001b[0m \u001b[0;32min\u001b[0m \u001b[0mword_freq\u001b[0m\u001b[0;34m:\u001b[0m\u001b[0;34m\u001b[0m\u001b[0;34m\u001b[0m\u001b[0m\n",
            "\u001b[0;32m/tmp/ipython-input-3337959627.py\u001b[0m in \u001b[0;36mcount_word_frequency\u001b[0;34m(text, top_n)\u001b[0m\n\u001b[1;32m     10\u001b[0m \u001b[0;34m\u001b[0m\u001b[0m\n\u001b[1;32m     11\u001b[0m     \u001b[0;31m# Подсчет частоты\u001b[0m\u001b[0;34m\u001b[0m\u001b[0;34m\u001b[0m\u001b[0m\n\u001b[0;32m---> 12\u001b[0;31m     \u001b[0mword_freq\u001b[0m \u001b[0;34m=\u001b[0m \u001b[0mCounter\u001b[0m\u001b[0;34m(\u001b[0m\u001b[0mwords\u001b[0m\u001b[0;34m)\u001b[0m\u001b[0;34m\u001b[0m\u001b[0;34m\u001b[0m\u001b[0m\n\u001b[0m\u001b[1;32m     13\u001b[0m \u001b[0;34m\u001b[0m\u001b[0m\n\u001b[1;32m     14\u001b[0m     \u001b[0;31m# Возвращаем top_n наиболее частых слов\u001b[0m\u001b[0;34m\u001b[0m\u001b[0;34m\u001b[0m\u001b[0m\n",
            "\u001b[0;31mNameError\u001b[0m: name 'Counter' is not defined"
          ]
        }
      ]
    },
    {
      "cell_type": "markdown",
      "source": [
        "6.2 Фильтрация спама по ключевым словам"
      ],
      "metadata": {
        "id": "tfAB1xfC70Tn"
      }
    },
    {
      "cell_type": "code",
      "source": [
        "def is_spam(text, spam_words=None):\n",
        "    if spam_words is None:\n",
        "        spam_words = ['выигрыш', 'бесплатно', 'акция', 'скидка', 'распродажа', 'приз', 'срочно', 'только сегодня']\n",
        "\n",
        "    # Приведение к нижнему регистру\n",
        "    text = text.lower()\n",
        "\n",
        "    # Поиск спам-слов\n",
        "    matches = 0\n",
        "    for word in spam_words:\n",
        "        # Ищем слово с границами слова\n",
        "        if re.search(r'\\b' + re.escape(word) + r'\\b', text):\n",
        "            matches += 1\n",
        "\n",
        "    # Если найдено больше 2 спам-слов, считаем сообщение спамом\n",
        "    return matches >= 2\n",
        "\n",
        "messages = [\n",
        "    \"Привет! Как дела?\",\n",
        "    \"СРОЧНО! Только сегодня БЕСПЛАТНО получите свой ПРИЗ!\",\n",
        "    \"Приглашаем на конференцию по машинному обучению\",\n",
        "    \"СКИДКА 90%! РАСПРОДАЖА только сегодня! Не упустите выгодное предложение!\"\n",
        "]\n",
        "\n",
        "for i, message in enumerate(messages, 1):\n",
        "    print(f\"Сообщение {i}: {'СПАМ' if is_spam(message) else 'НЕ СПАМ'}\")\n",
        "    print(f\"Текст: {message}\")\n",
        "    print()"
      ],
      "metadata": {
        "id": "ftAjpLrn74pn",
        "colab": {
          "base_uri": "https://localhost:8080/"
        },
        "outputId": "a21e5fa7-a3fb-4292-8e0a-16085c0da8a4"
      },
      "execution_count": null,
      "outputs": [
        {
          "output_type": "stream",
          "name": "stdout",
          "text": [
            "Сообщение 1: НЕ СПАМ\n",
            "Текст: Привет! Как дела?\n",
            "\n",
            "Сообщение 2: СПАМ\n",
            "Текст: СРОЧНО! Только сегодня БЕСПЛАТНО получите свой ПРИЗ!\n",
            "\n",
            "Сообщение 3: НЕ СПАМ\n",
            "Текст: Приглашаем на конференцию по машинному обучению\n",
            "\n",
            "Сообщение 4: СПАМ\n",
            "Текст: СКИДКА 90%! РАСПРОДАЖА только сегодня! Не упустите выгодное предложение!\n",
            "\n"
          ]
        }
      ]
    },
    {
      "cell_type": "markdown",
      "source": [
        "6.3 Извлечение цитат из текста"
      ],
      "metadata": {
        "id": "Uk-HgGb78ADa"
      }
    },
    {
      "cell_type": "code",
      "source": [
        "def extract_quotes(text):\n",
        "    # Шаблон для поиска текста в кавычках\n",
        "    patterns = [\n",
        "        r'\"([^\"]*)\"',  # Обычные двойные кавычки\n",
        "        r\"'([^']*)'\",  # Обычные одинарные кавычки\n",
        "    ]\n",
        "\n",
        "    quotes = []\n",
        "    for pattern in patterns:\n",
        "        quotes.extend(re.findall(pattern, text))\n",
        "\n",
        "    return quotes\n",
        "\n",
        "text = \"\"\"\n",
        "Как сказал Альберт Эйнштейн: \"Воображение важнее знания\".\n",
        "'Делай что можешь, с тем что у тебя есть, там где ты находишься', - советовал Теодор Рузвельт.\n",
        "Марк Твен однажды заметил: \"Классика — это то, что каждый хочет прочесть, но никто не хочет читать\".\n",
        "\"\"\"\n",
        "\n",
        "quotes = extract_quotes(text)\n",
        "print(\"Извлеченные цитаты:\")\n",
        "for i, quote in enumerate(quotes, 1):\n",
        "    print(f\"{i}. {quote}\")"
      ],
      "metadata": {
        "id": "-tkzBLd38Gbr",
        "colab": {
          "base_uri": "https://localhost:8080/"
        },
        "outputId": "11a47ce3-b57a-4ecd-cba9-f35eb755a420"
      },
      "execution_count": 77,
      "outputs": [
        {
          "output_type": "stream",
          "name": "stdout",
          "text": [
            "Извлеченные цитаты:\n",
            "1. Воображение важнее знания\n",
            "2. Классика — это то, что каждый хочет прочесть, но никто не хочет читать\n",
            "3. Делай что можешь, с тем что у тебя есть, там где ты находишься\n"
          ]
        }
      ]
    },
    {
      "cell_type": "markdown",
      "source": [
        "**7. Упражнения и задачи для отработки**"
      ],
      "metadata": {
        "id": "uLIKVeu-9qIT"
      }
    },
    {
      "cell_type": "markdown",
      "source": [
        "Упражнение 1: Проверка корректности пароля."
      ],
      "metadata": {
        "id": "0xo4RZot9rUC"
      }
    },
    {
      "cell_type": "markdown",
      "source": [
        "Напишите функцию, которая проверяет, удовлетворяет ли пароль следующим требованиям:\n",
        "\n",
        "* Длина не менее 8 символов\n",
        "* Содержит хотя бы одну цифру\n",
        "* Содержит хотя бы одну строчную букву\n",
        "* Содержит хотя бы одну заглавную букву\n",
        "* Содержит хотя бы один специальный символ (!, @, #, $, %, ^, &, *)"
      ],
      "metadata": {
        "id": "RpOg2aNy-Wf2"
      }
    },
    {
      "cell_type": "code",
      "source": [
        "# ваш код\n",
        "def check_password(password):\n",
        "\n",
        "    if len(password) < 8:\n",
        "        return False\n",
        "\n",
        "    if not re.search(r\"\\d\", password):\n",
        "        return False\n",
        "\n",
        "    if not re.search(r\"[a-z]\", password):\n",
        "        return False\n",
        "\n",
        "    if not re.search(r\"[A-Z]\", password):\n",
        "        return False\n",
        "\n",
        "    if not re.search(r\"[!@#$%^&*]\", password):\n",
        "        return False\n",
        "\n",
        "    return True\n",
        "\n",
        "# Проверка\n",
        "passwords = [\n",
        "    \"Password123\",\n",
        "    \"pass\",\n",
        "    \"PASSWORD123\",\n",
        "    \"password123!\",\n",
        "    \"Pass@word123\"\n",
        "]\n",
        "\n",
        "for pwd in passwords:\n",
        "    print(f\"{pwd}: {\"корректный\" if check_password(pwd) else \"некорректный\"}\")\n",
        "\n"
      ],
      "metadata": {
        "id": "_GBcI2L393Z4",
        "colab": {
          "base_uri": "https://localhost:8080/"
        },
        "outputId": "f67ff6b3-fcb9-4d10-d538-46de96038922"
      },
      "execution_count": 78,
      "outputs": [
        {
          "output_type": "stream",
          "name": "stdout",
          "text": [
            "Password123: некорректный\n",
            "pass: некорректный\n",
            "PASSWORD123: некорректный\n",
            "password123!: некорректный\n",
            "Pass@word123: корректный\n"
          ]
        }
      ]
    },
    {
      "cell_type": "markdown",
      "source": [
        "Упражнение 2: Извлечение хештегов и упоминаний из текста социальных сетей"
      ],
      "metadata": {
        "id": "jmAuYhR--O8p"
      }
    },
    {
      "cell_type": "markdown",
      "source": [
        "Напишите функцию, которая извлекает все хештеги (#hashtag) и упоминания (@mention) из текста. Функция должна возвращать словарь с двумя ключами: 'hashtags' и 'mentions', содержащими списки найденных сущностей."
      ],
      "metadata": {
        "id": "iYWGOGe4-YEt"
      }
    },
    {
      "cell_type": "code",
      "source": [
        "# ваш код\n",
        "import re\n",
        "def delete(text):\n",
        "  hashtags = re.findall(r'#\\w+', text)\n",
        "  mentions = re.findall(r'@\\w+', text)\n",
        "\n",
        "  return {\n",
        "        'hashtags': hashtags,\n",
        "        'mentions': mentions\n",
        "  }\n",
        "\n",
        "# Проверка\n",
        "sample_text = \"\"\"\n",
        "#Python - отличный язык программирования! @guido создал его в 1991 году.\n",
        "Многие любят #DataScience и #MachineLearning.\n",
        "Спасибо @python_tips за полезные советы!\n",
        "\"\"\"\n",
        "\n",
        "print(\"Хештеги:\", delete(sample_text)['hashtags'])\n",
        "print(\"Упоминания:\", delete(sample_text)['mentions'])\n",
        "\n"
      ],
      "metadata": {
        "id": "gevHlqXc9_PD",
        "colab": {
          "base_uri": "https://localhost:8080/"
        },
        "outputId": "e169d29c-09b8-42c3-8f7b-5163fbbc9ab9"
      },
      "execution_count": 79,
      "outputs": [
        {
          "output_type": "stream",
          "name": "stdout",
          "text": [
            "Хештеги: ['#Python', '#DataScience', '#MachineLearning']\n",
            "Упоминания: ['@guido', '@python_tips']\n"
          ]
        }
      ]
    },
    {
      "cell_type": "markdown",
      "source": [
        "Упражнение 3: Нормализация русских текстов"
      ],
      "metadata": {
        "id": "N4iMvQr_-oVv"
      }
    },
    {
      "cell_type": "markdown",
      "source": [
        "Напишите функцию, которая выполняет следующие преобразования:\n",
        "\n",
        "* Удаляет все не-кириллические символы, кроме пробелов\n",
        "* Заменяет буквы 'ё' на 'е'\n",
        "* Удаляет лишние пробелы\n",
        "* Приводит текст к нижнему регистру"
      ],
      "metadata": {
        "id": "ij4lzDca-q1v"
      }
    },
    {
      "cell_type": "code",
      "source": [
        "# ваш код\n",
        "\n",
        "def normalize_text(text):\n",
        "\n",
        "    text = text.lower()\n",
        "    text = re.sub(r'ё', 'е', text)\n",
        "    text = re.sub(r'[^а-яё\\\\s]', '', text)\n",
        "    text = re.sub(r'\\\\s+', ' ', text)\n",
        "    text = text.strip()\n",
        "\n",
        "    return text\n",
        "\n",
        "# Проверка\n",
        "texts = [\n",
        "    \"Привет, мир! Это текст с буквой ё и цифрами 123.\",\n",
        "    \"МНОГО   ПРОБЕЛОВ   и English words тут.\",\n",
        "    \"Разные символы: !@#$%^&*()_+[]{}|;':\\\",./<>?\"\n",
        "]\n",
        "\n",
        "for text in texts:\n",
        "    print(f\"Исходный: {text}\")\n",
        "    print(f\"Нормализованный: {normalize_text(text)}\")\n",
        "    print()"
      ],
      "metadata": {
        "id": "6-ooIi1l-pux",
        "colab": {
          "base_uri": "https://localhost:8080/"
        },
        "outputId": "b64e98ba-213d-4244-c968-71caa1ba7cdb"
      },
      "execution_count": 80,
      "outputs": [
        {
          "output_type": "stream",
          "name": "stdout",
          "text": [
            "Исходный: Привет, мир! Это текст с буквой ё и цифрами 123.\n",
            "Нормализованный: приветмирэтотекстсбуквойеицифрами\n",
            "\n",
            "Исходный: МНОГО   ПРОБЕЛОВ   и English words тут.\n",
            "Нормализованный: многопробеловиssтут\n",
            "\n",
            "Исходный: Разные символы: !@#$%^&*()_+[]{}|;':\",./<>?\n",
            "Нормализованный: разныесимволы\n",
            "\n"
          ]
        }
      ]
    },
    {
      "cell_type": "markdown",
      "source": [
        "Упражнение 4: Извлечение структурированных данных из текста"
      ],
      "metadata": {
        "id": "aFjK9__G-8Bd"
      }
    },
    {
      "cell_type": "markdown",
      "source": [
        "Напишите функцию, которая извлекает из текста резюме следующую информацию:\n",
        "\n",
        "* Имя и фамилию (формат: \"Имя Фамилия\")\n",
        "* Возраст (число лет)\n",
        "* Контактный email\n",
        "* Контактный телефон\n",
        "* Опыт работы (число лет)"
      ],
      "metadata": {
        "id": "B73dMsLa_ADo"
      }
    },
    {
      "cell_type": "code",
      "source": [
        "# ваш код\n",
        "\n",
        "import re\n",
        "def extract(text):\n",
        "    name_match = re.search(r'([А-Я][а-я]+\\s+[А-Я][а-я]+)', text)\n",
        "    name = name_match.group(1) if name_match else None\n",
        "\n",
        "    age_match = re.search(r'Возраст:\\s*(\\d+)', text)\n",
        "    age = age_match.group(1) if age_match else None\n",
        "\n",
        "    email_match = re.search(r'[a-zA-Z0-9._%+-]+@[a-zA-Z0-9.-]+\\.[a-zA-Z]{2,}', text)\n",
        "    email = email_match.group() if email_match else None\n",
        "\n",
        "    phone_match = re.search(r'(?:\\+7|8)[\\s\\-\\(]?\\d{3}[\\s\\-\\)]?\\d{3}[\\s\\-]?\\d{2}[\\s\\-]?\\d{2}', text)\n",
        "    phone = phone_match.group() if phone_match else None\n",
        "\n",
        "    experience_match = re.search(r'Опыт работы:\\s*(\\d+)', text)\n",
        "    experience = experience_match.group(1) if experience_match else None\n",
        "\n",
        "    return {\n",
        "        'name': name,\n",
        "        'age': age,\n",
        "        'email': email,\n",
        "        'phone': phone,\n",
        "        'experience': experience\n",
        "    }\n",
        "\n",
        "\n",
        "# Проверка\n",
        "resume_text = \"\"\"\n",
        "Резюме: Иванов Иван\n",
        "\n",
        "Возраст: 35 лет\n",
        "\n",
        "Образование: Высшее техническое, МГУ, 2010 г.\n",
        "\n",
        "Опыт работы: 12 лет в сфере IT\n",
        "\n",
        "Контактная информация:\n",
        "Email: ivan.ivanov@example.com\n",
        "Телефон: +7 (123) 456-78-90\n",
        "\"\"\"\n",
        "\n",
        "resume_info = extract(resume_text)\n",
        "for key, value in resume_info.items():\n",
        "    print(f\"{key}: {value}\")"
      ],
      "metadata": {
        "id": "eUmvl9xn_IFD",
        "colab": {
          "base_uri": "https://localhost:8080/"
        },
        "outputId": "cbbe64e7-0590-43fd-b4b8-da7354e74ad4"
      },
      "execution_count": 81,
      "outputs": [
        {
          "output_type": "stream",
          "name": "stdout",
          "text": [
            "name: Иванов Иван\n",
            "age: 35\n",
            "email: ivan.ivanov@example.com\n",
            "phone: None\n",
            "experience: 12\n"
          ]
        }
      ]
    },
    {
      "cell_type": "markdown",
      "source": [
        "Упражнение 5: Анализ и очистка научного текста"
      ],
      "metadata": {
        "id": "Xg2CQetY_x0M"
      }
    },
    {
      "cell_type": "markdown",
      "source": [
        "Напишите функцию, которая выполняет следующие действия:\n",
        "\n",
        "* Удаляет библиографические ссылки формата [1], [2-5] и т.п.\n",
        "* Заменяет формулы вида (1), (2.3), (A.4) на слово \"ФОРМУЛА\"\n",
        "* Удаляет сноски (символы * и † с соответствующим текстом)\n",
        "* Извлекает все сокращения (последовательности заглавных букв, например, \"DNA\", \"USA\")\n",
        "* Возвращает очищенный текст и список найденных сокращений"
      ],
      "metadata": {
        "id": "_QrAB5qU_1n8"
      }
    },
    {
      "cell_type": "code",
      "source": [
        "# ваш код\n",
        "import re\n",
        "def clean_text(text):\n",
        "    text = re.sub(r'\\[\\d+[-\\d]*\\]', '', text)\n",
        "    text = re.sub(r'\\([\\w\\d\\.]+\\)', 'ФОРМУЛА', text)\n",
        "    text = re.sub(r'[*†].*?(?=\\n|$)', '', text)\n",
        "    abbreviations = re.findall(r'\\b[A-Z]{2,}\\b', text)\n",
        "    text = re.sub(r'\\s+', ' ', text)\n",
        "    text = text.strip()\n",
        "\n",
        "    return {\n",
        "        'cleaned_text': text,\n",
        "        'abbreviations': abbreviations\n",
        "    }\n",
        "# Проверка\n",
        "scientific_text = \"\"\"\n",
        "The influence of various factors on DNA [1] structure showed interesting results.\n",
        "According to equation (2.1), the interaction between nucleotides can be expressed as:\n",
        "E = mc² (1)\n",
        "\n",
        "In works [2-4] it was shown that RNA is also affected by these factors*.\n",
        "* Note: only under certain conditions.\n",
        "\n",
        "Researchers from the USA† and UK confirmed these results.\n",
        "† Funding provided by NSF.\n",
        "\"\"\"\n",
        "\n",
        "result = clean_text(scientific_text)\n",
        "print(\"Очищенный текст:\")\n",
        "print(result['cleaned_text'])\n",
        "print(\"\\nСокращения:\", result['abbreviations'])"
      ],
      "metadata": {
        "id": "-E12FnXZ_L0r",
        "colab": {
          "base_uri": "https://localhost:8080/"
        },
        "outputId": "43f49f05-b854-45a8-8f23-b6b0960d2b9b"
      },
      "execution_count": 82,
      "outputs": [
        {
          "output_type": "stream",
          "name": "stdout",
          "text": [
            "Очищенный текст:\n",
            "The influence of various factors on DNA structure showed interesting results. According to equation ФОРМУЛА, the interaction between nucleotides can be expressed as: E = mc² ФОРМУЛА In works it was shown that RNA is also affected by these factors Researchers from the USA\n",
            "\n",
            "Сокращения: ['DNA', 'RNA', 'USA']\n"
          ]
        }
      ]
    }
  ]
}