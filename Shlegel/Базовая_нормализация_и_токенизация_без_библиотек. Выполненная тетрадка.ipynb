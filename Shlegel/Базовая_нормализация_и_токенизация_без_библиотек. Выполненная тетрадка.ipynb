{
  "cells": [
    {
      "cell_type": "markdown",
      "metadata": {
        "id": "xaCyWYJ6uGfk"
      },
      "source": [
        "В этом ноутбуке вы узнаете:\n",
        "\n",
        "1.   Как использовать встроенные методы Python для работы со строками\n",
        "2.   Как выполнять базовую нормализацию текста\n",
        "3. Как токенизировать текст с помощью простых методов\n",
        "4. Как применять эти навыки на практике\n"
      ]
    },
    {
      "cell_type": "markdown",
      "metadata": {
        "id": "T4-yFhGcy934"
      },
      "source": [
        "**1. Основные понятия и функции**"
      ]
    },
    {
      "cell_type": "markdown",
      "metadata": {
        "id": "mMYBk9PluRfs"
      },
      "source": [
        "В Python текст представлен в виде строк (тип данных str). Строки можно создавать, используя одинарные или двойные кавычки."
      ]
    },
    {
      "cell_type": "code",
      "execution_count": 37,
      "metadata": {
        "id": "tXalOImZuMdk",
        "colab": {
          "base_uri": "https://localhost:8080/"
        },
        "outputId": "e8caf6b4-c937-4c1c-d996-6268349adacc"
      },
      "outputs": [
        {
          "output_type": "stream",
          "name": "stdout",
          "text": [
            "Это текст в \"одинарных\" кавычках\n",
            "Это текст в 'двойных' кавычках\n",
            "Это текст в \"тройных\" кавычках\n",
            "Это\n",
            "текст\n",
            "в 'тройных'\n",
            "кавычках\n"
          ]
        }
      ],
      "source": [
        "# Создание строк\n",
        "text1 = 'Это текст в \"одинарных\" кавычках'\n",
        "text2 = \"Это текст в 'двойных' кавычках\"\n",
        "text3 = '''Это текст в \"тройных\" кавычках'''\n",
        "text4 = '''Это\n",
        "текст\n",
        "в 'тройных'\n",
        "кавычках'''\n",
        "\n",
        "# Вывод строк\n",
        "print(text1)\n",
        "print(text2)\n",
        "print(text3)\n",
        "print(text4)"
      ]
    },
    {
      "cell_type": "markdown",
      "metadata": {
        "id": "4dVUdNKvuYvU"
      },
      "source": [
        "1.1. Индексация и срезы строк.\n",
        "Строки в Python — это последовательности символов, к которым можно обращаться по индексу. Индексация начинается с 0."
      ]
    },
    {
      "cell_type": "code",
      "execution_count": 38,
      "metadata": {
        "id": "8RlZDm97uVrC",
        "colab": {
          "base_uri": "https://localhost:8080/"
        },
        "outputId": "70ec1853-ec5b-47a2-a49e-fec44d7f2179"
      },
      "outputs": [
        {
          "output_type": "stream",
          "name": "stdout",
          "text": [
            "Первый символ: К\n",
            "Пятый символ: ь\n",
            "Первые 12 символов: Компьютерная\n",
            "С 13-го символа до конца: лингвистика\n",
            "С 5-го по 10-й символ: ютерна\n"
          ]
        }
      ],
      "source": [
        "# Строка для примеров\n",
        "sample_text = \"Компьютерная лингвистика\"\n",
        "\n",
        "# Получение отдельного символа\n",
        "print(\"Первый символ:\", sample_text[0])\n",
        "print(\"Пятый символ:\", sample_text[4])\n",
        "\n",
        "# Срезы строк\n",
        "print(\"Первые 12 символов:\", sample_text[:12])  # от начала до 12-го символа (не включая)\n",
        "print(\"С 13-го символа до конца:\", sample_text[13:])  # с 13-го символа до конца\n",
        "print(\"С 5-го по 10-й символ:\", sample_text[5:11])  # с 5-го по 10-й символ (11-й не включается)"
      ]
    },
    {
      "cell_type": "markdown",
      "metadata": {
        "id": "-oi1N22TvbQx"
      },
      "source": [
        "1.2. Основные методы строк\n",
        "Python предоставляет множество встроенных методов для работы со строками. Рассмотрим наиболее полезные для обработки текста:"
      ]
    },
    {
      "cell_type": "code",
      "execution_count": 39,
      "metadata": {
        "id": "vkcKQqqgvcpk",
        "colab": {
          "base_uri": "https://localhost:8080/"
        },
        "outputId": "c2b361b5-9a56-4fc9-c3a9-9bb45a722083"
      },
      "outputs": [
        {
          "output_type": "stream",
          "name": "stdout",
          "text": [
            "После strip(): Пример текста для анализа.\n",
            "После lower():    пример текста для анализа.   \n",
            "После upper():    ПРИМЕР ТЕКСТА ДЛЯ АНАЛИЗА.   \n",
            "Начинается с 'Пример'? True\n",
            "Заканчивается на '.'? True\n",
            "После replace():    Пример текста для обработки.   \n",
            "Количество пробелов: 9\n"
          ]
        }
      ],
      "source": [
        "# Строка для примеров\n",
        "text = \"   Пример текста для анализа.   \"\n",
        "\n",
        "# Удаление пробелов в начале и конце строки\n",
        "print(\"После strip():\", text.strip())\n",
        "\n",
        "# Перевод в нижний регистр\n",
        "print(\"После lower():\", text.lower())\n",
        "\n",
        "# Перевод в верхний регистр\n",
        "print(\"После upper():\", text.upper())\n",
        "\n",
        "# Проверка, начинается ли строка с определенной подстроки\n",
        "print(\"Начинается с 'Пример'?\", text.strip().startswith(\"Пример\"))\n",
        "\n",
        "# Проверка, заканчивается ли строка определенной подстрокой\n",
        "print(\"Заканчивается на '.'?\", text.strip().endswith(\".\"))\n",
        "\n",
        "# Замена подстроки\n",
        "print(\"После replace():\", text.replace(\"анализа\", \"обработки\"))\n",
        "\n",
        "# Подсчет вхождений подстроки\n",
        "print(\"Количество пробелов:\", text.count(\" \"))"
      ]
    },
    {
      "cell_type": "markdown",
      "metadata": {
        "id": "-oEf7vLCvvzL"
      },
      "source": [
        "1.3. Конкатенация строк и форматирование.\n",
        "Существует несколько способов объединения строк в Python:"
      ]
    },
    {
      "cell_type": "code",
      "execution_count": 40,
      "metadata": {
        "id": "CS50TkzKvwfk",
        "colab": {
          "base_uri": "https://localhost:8080/"
        },
        "outputId": "7919e1bb-75d5-4561-cf94-2dd1b097990e"
      },
      "outputs": [
        {
          "output_type": "stream",
          "name": "stdout",
          "text": [
            "Полное имя: Иван Петров\n",
            "Меня зовут Иван Петров, мне 25 лет.\n",
            "Меня зовут Иван Петров, мне 25 лет.\n",
            "Меня зовут Иван Петров, мне 25 лет.\n"
          ]
        }
      ],
      "source": [
        "# Простая конкатенация с помощью оператора +\n",
        "first_name = \"Иван\"\n",
        "last_name = \"Петров\"\n",
        "full_name = first_name + \" \" + last_name\n",
        "print(\"Полное имя:\", full_name)\n",
        "\n",
        "# Форматирование строк с помощью метода format()\n",
        "age = 25\n",
        "message = \"Меня зовут {}, мне {} лет.\".format(full_name, age)\n",
        "print(message)\n",
        "\n",
        "# f-строки (начиная с Python 3.6)\n",
        "message_f = f\"Меня зовут {full_name}, мне {age} лет.\"\n",
        "print(message_f)\n",
        "\n",
        "# Использование %\n",
        "message_old = \"Меня зовут %s, мне %d лет.\" % (full_name, age)\n",
        "print(message_old)"
      ]
    },
    {
      "cell_type": "markdown",
      "metadata": {
        "id": "e0K6mt6Vv6gV"
      },
      "source": [
        "**2. Базовая нормализация текста**"
      ]
    },
    {
      "cell_type": "markdown",
      "metadata": {
        "id": "hL2BXNo8wEVY"
      },
      "source": [
        "Нормализация текста — это процесс преобразования текста к стандартному виду для облегчения его дальнейшей обработки. Рассмотрим базовые операции нормализации."
      ]
    },
    {
      "cell_type": "markdown",
      "metadata": {
        "id": "J5Gk1AnRwHK0"
      },
      "source": [
        "2.1. Приведение к нижнему регистру помогает унифицировать текст. Обычно используется нижний регистр."
      ]
    },
    {
      "cell_type": "code",
      "execution_count": 41,
      "metadata": {
        "id": "vNNMpCqOv2Dz",
        "colab": {
          "base_uri": "https://localhost:8080/"
        },
        "outputId": "01eea204-f21f-4749-f89c-e2b85c0c65a1"
      },
      "outputs": [
        {
          "output_type": "stream",
          "name": "stdout",
          "text": [
            "Исходный текст: КомпьЮтерная ЛИНГвистика изучает Методы Автоматической Обработки Текста.\n",
            "Нормализованный текст: компьютерная лингвистика изучает методы автоматической обработки текста.\n",
            "Английский текст после нормализации: natural language processing (nlp) is a field of ai.\n"
          ]
        }
      ],
      "source": [
        "# Пример текста с разным регистром\n",
        "mixed_case_text = \"КомпьЮтерная ЛИНГвистика изучает Методы Автоматической Обработки Текста.\"\n",
        "\n",
        "# Приведение к нижнему регистру\n",
        "normalized_text = mixed_case_text.lower()\n",
        "print(\"Исходный текст:\", mixed_case_text)\n",
        "print(\"Нормализованный текст:\", normalized_text)\n",
        "\n",
        "# Пример на английском\n",
        "english_text = \"Natural Language Processing (NLP) is a FIELD of AI.\"\n",
        "print(\"Английский текст после нормализации:\", english_text.lower())"
      ]
    },
    {
      "cell_type": "markdown",
      "metadata": {
        "id": "Vlwzl4-bw7u9"
      },
      "source": [
        "2.2. Удаление лишних пробелов. Часто тексты содержат лишние пробелы, которые нужно удалить.\n",
        "\n",
        "\n"
      ]
    },
    {
      "cell_type": "code",
      "execution_count": 42,
      "metadata": {
        "id": "AioDUYPrw-Hl",
        "colab": {
          "base_uri": "https://localhost:8080/"
        },
        "outputId": "5656ce00-ec6c-41c0-941b-833b367321b3"
      },
      "outputs": [
        {
          "output_type": "stream",
          "name": "stdout",
          "text": [
            "После strip(): В  этом   тексте  есть  лишние    пробелы.\n",
            "Нормализация: В этом тексте есть лишние пробелы.\n",
            "Английский текст после нормализации пробелов: This text has extra spaces.\n"
          ]
        }
      ],
      "source": [
        "# Текст с лишними пробелами\n",
        "text_with_spaces = \"   В  этом   тексте  есть  лишние    пробелы.   \"\n",
        "\n",
        "# Удаление пробелов в начале и конце\n",
        "trimmed_text = text_with_spaces.strip()\n",
        "print(\"После strip():\", trimmed_text)\n",
        "\n",
        "words = trimmed_text.split()  # Разбиваем текст на слова\n",
        "normalized_manually = ' '.join(words)  # Объединяем слова с одним пробелом\n",
        "print(\"Нормализация:\", normalized_manually)\n",
        "\n",
        "# Пример на английском\n",
        "english_spaces = \"  This   text   has   extra   spaces. \"\n",
        "english_normalized = ' '.join(english_spaces.strip().split())\n",
        "print(\"Английский текст после нормализации пробелов:\", english_normalized)"
      ]
    },
    {
      "cell_type": "markdown",
      "metadata": {
        "id": "M7bFiY8syfRf"
      },
      "source": [
        "2.3. Удаление пунктуации. Для многих задач обработки текста необходимо удалить знаки пунктуации."
      ]
    },
    {
      "cell_type": "code",
      "execution_count": 43,
      "metadata": {
        "id": "g7M5Bna1yjB1",
        "colab": {
          "base_uri": "https://localhost:8080/"
        },
        "outputId": "0b00c2ba-c560-46af-c913-b91a499efbac"
      },
      "outputs": [
        {
          "output_type": "stream",
          "name": "stdout",
          "text": [
            "Знаки пунктуации: !\"#$%&'()*+,-./:;<=>?@[\\]^_`{|}~\n",
            "Текст без пунктуации (метод 1): Привет мир Как дела Это  пример текста с разными знаками пунктуации\n",
            "Текст без пунктуации (метод 2): Привет мир Как дела Это  пример текста с разными знаками пунктуации\n",
            "Английский текст без пунктуации: Hello world How are you This is a sample text with various punctuation marks\n"
          ]
        }
      ],
      "source": [
        "# Текст с пунктуацией\n",
        "text_with_punctuation = \"Привет, мир! Как дела? Это - пример текста; с разными знаками пунктуации.\"\n",
        "\n",
        "# Определение знаков пунктуации для удаления\n",
        "import string\n",
        "punctuation = string.punctuation  # !\"#$%&'()*+,-./:;<=>?@[\\]^_`{|}~\n",
        "print(\"Знаки пунктуации:\", punctuation)\n",
        "\n",
        "# Удаление пунктуации (метод 1)\n",
        "no_punctuation = ''.join(char for char in text_with_punctuation if char not in punctuation)\n",
        "print(\"Текст без пунктуации (метод 1):\", no_punctuation)\n",
        "\n",
        "# Удаление пунктуации (метод 2)\n",
        "translator = str.maketrans('', '', punctuation)\n",
        "no_punctuation2 = text_with_punctuation.translate(translator)\n",
        "print(\"Текст без пунктуации (метод 2):\", no_punctuation2)\n",
        "\n",
        "# Пример на английском\n",
        "english_punctuation = \"Hello, world! How are you? This is a sample text; with various punctuation marks.\"\n",
        "english_no_punctuation = english_punctuation.translate(translator)\n",
        "print(\"Английский текст без пунктуации:\", english_no_punctuation)"
      ]
    },
    {
      "cell_type": "markdown",
      "metadata": {
        "id": "cCzDj3GayrSf"
      },
      "source": [
        "2.4. Комплексная нормализация текста. Объединим все изученные методы для комплексной нормализации текста."
      ]
    },
    {
      "cell_type": "code",
      "execution_count": 44,
      "metadata": {
        "id": "-EQfaUxNyuOm",
        "colab": {
          "base_uri": "https://localhost:8080/"
        },
        "outputId": "27c98434-4609-4827-c7a3-3711ce2caeda"
      },
      "outputs": [
        {
          "output_type": "stream",
          "name": "stdout",
          "text": [
            "Исходный русский текст:    Компьютерная    ЛИНГВИСТИКА - это ОБЛАСТЬ науки, изучающая   методы автоматической    обработки текста!   \n",
            "Нормализованный русский текст: компьютерная лингвистика это область науки изучающая методы автоматической обработки текста\n",
            "Исходный английский текст:    Natural    LANGUAGE Processing (NLP) - is a FIELD of AI, focusing   on text analysis!   \n",
            "Нормализованный английский текст: natural language processing nlp is a field of ai focusing on text analysis\n"
          ]
        }
      ],
      "source": [
        "def normalize_text(text):\n",
        "    \"\"\"\n",
        "    Функция для комплексной нормализации текста:\n",
        "    1. Приведение к нижнему регистру\n",
        "    2. Удаление лишних пробелов\n",
        "    3. Удаление пунктуации\n",
        "    \"\"\"\n",
        "    # Шаг 1: Приведение к нижнему регистру\n",
        "    text = text.lower()\n",
        "\n",
        "    # Шаг 2: Удаление пунктуации\n",
        "    translator = str.maketrans('', '', string.punctuation)\n",
        "    text = text.translate(translator)\n",
        "\n",
        "    # Шаг 3: Удаление лишних пробелов\n",
        "    text = ' '.join(text.split())\n",
        "\n",
        "    return text\n",
        "\n",
        "# Проверка функции на русском тексте\n",
        "russian_text = \"   Компьютерная    ЛИНГВИСТИКА - это ОБЛАСТЬ науки, изучающая   методы автоматической    обработки текста!   \"\n",
        "normalized_russian = normalize_text(russian_text)\n",
        "print(\"Исходный русский текст:\", russian_text)\n",
        "print(\"Нормализованный русский текст:\", normalized_russian)\n",
        "\n",
        "# Проверка функции на английском тексте\n",
        "english_text = \"   Natural    LANGUAGE Processing (NLP) - is a FIELD of AI, focusing   on text analysis!   \"\n",
        "normalized_english = normalize_text(english_text)\n",
        "print(\"Исходный английский текст:\", english_text)\n",
        "print(\"Нормализованный английский текст:\", normalized_english)"
      ]
    },
    {
      "cell_type": "markdown",
      "metadata": {
        "id": "H2IvHG_yy1uJ"
      },
      "source": [
        "**3. Простая токенизация текста**"
      ]
    },
    {
      "cell_type": "markdown",
      "metadata": {
        "id": "ISndfr9tzMRC"
      },
      "source": [
        "Токенизация — это процесс разделения текста на отдельные токены (обычно слова или предложения). Рассмотрим простые методы токенизации с использованием встроенных возможностей Python."
      ]
    },
    {
      "cell_type": "markdown",
      "metadata": {
        "id": "sjvNUNImzP5i"
      },
      "source": [
        "3.1. Токенизация по пробелам. Самый простой способ токенизации — разделение текста по пробелам с помощью метода .split()."
      ]
    },
    {
      "cell_type": "code",
      "execution_count": 45,
      "metadata": {
        "id": "pRMRYdZfzTk2",
        "colab": {
          "base_uri": "https://localhost:8080/"
        },
        "outputId": "7caf6338-beb1-4fae-e09b-6627e9405f9c"
      },
      "outputs": [
        {
          "output_type": "stream",
          "name": "stdout",
          "text": [
            "Токены: ['Компьютерная', 'лингвистика', 'изучает', 'методы', 'обработки', 'текста']\n",
            "Количество токенов: 6\n",
            "Английские токены: ['Natural', 'language', 'processing', 'studies', 'methods', 'of', 'text', 'analysis']\n",
            "Количество английских токенов: 8\n"
          ]
        }
      ],
      "source": [
        "# Пример текста\n",
        "text = \"Компьютерная лингвистика изучает методы обработки текста\"\n",
        "\n",
        "# Токенизация по пробелам\n",
        "tokens = text.split()\n",
        "print(\"Токены:\", tokens)\n",
        "print(\"Количество токенов:\", len(tokens))\n",
        "\n",
        "# Токенизация английского текста\n",
        "english_text = \"Natural language processing studies methods of text analysis\"\n",
        "english_tokens = english_text.split()\n",
        "print(\"Английские токены:\", english_tokens)\n",
        "print(\"Количество английских токенов:\", len(english_tokens))"
      ]
    },
    {
      "cell_type": "markdown",
      "metadata": {
        "id": "Ey-4jl42zahC"
      },
      "source": [
        "3.2. Токенизация с учетом пунктуации. Токенизация по пробелам не учитывает пунктуацию. Для более точной токенизации можно сначала отделить пунктуацию от слов."
      ]
    },
    {
      "cell_type": "code",
      "execution_count": 46,
      "metadata": {
        "id": "8rYkdzlnzdkp",
        "colab": {
          "base_uri": "https://localhost:8080/"
        },
        "outputId": "8b53ff7e-7260-43eb-aab1-8a9b80f22755"
      },
      "outputs": [
        {
          "output_type": "stream",
          "name": "stdout",
          "text": [
            "Русский текст: Привет, мир! Как дела? Это - пример текста; с разными знаками пунктуации.\n",
            "Токены русского текста: ['Привет', ',', 'мир', '!', 'Как', 'дела', '?', 'Это', '-', 'пример', 'текста', ';', 'с', 'разными', 'знаками', 'пунктуации', '.']\n",
            "Количество токенов: 17\n",
            "Английский текст: Hello, world! How are you? This is a sample text; with various punctuation marks.\n",
            "Токены английского текста: ['Hello', ',', 'world', '!', 'How', 'are', 'you', '?', 'This', 'is', 'a', 'sample', 'text', ';', 'with', 'various', 'punctuation', 'marks', '.']\n",
            "Количество токенов: 19\n"
          ]
        }
      ],
      "source": [
        "def simple_tokenize(text):\n",
        "    \"\"\"\n",
        "    Простая токенизация с учетом пунктуации:\n",
        "    1. Добавляем пробелы вокруг знаков пунктуации\n",
        "    2. Разделяем по пробелам\n",
        "    3. Удаляем пустые токены\n",
        "    \"\"\"\n",
        "    # Добавляем пробелы вокруг знаков пунктуации\n",
        "    for punct in string.punctuation:\n",
        "        text = text.replace(punct, f' {punct} ')\n",
        "\n",
        "    # Разделяем по пробелам и удаляем пустые токены\n",
        "    tokens = [token for token in text.split() if token]\n",
        "\n",
        "    return tokens\n",
        "\n",
        "# Проверка на русском тексте\n",
        "russian_text = \"Привет, мир! Как дела? Это - пример текста; с разными знаками пунктуации.\"\n",
        "russian_tokens = simple_tokenize(russian_text)\n",
        "print(\"Русский текст:\", russian_text)\n",
        "print(\"Токены русского текста:\", russian_tokens)\n",
        "print(\"Количество токенов:\", len(russian_tokens))\n",
        "\n",
        "# Проверка на английском тексте\n",
        "english_text = \"Hello, world! How are you? This is a sample text; with various punctuation marks.\"\n",
        "english_tokens = simple_tokenize(english_text)\n",
        "print(\"Английский текст:\", english_text)\n",
        "print(\"Токены английского текста:\", english_tokens)\n",
        "print(\"Количество токенов:\", len(english_tokens))"
      ]
    },
    {
      "cell_type": "markdown",
      "metadata": {
        "id": "qfbRKk1S0wq_"
      },
      "source": [
        "3.3. Токенизация предложений. Простой способ — разделение по знакам конца предложения."
      ]
    },
    {
      "cell_type": "code",
      "execution_count": 47,
      "metadata": {
        "id": "bw3dAKeG0-fA",
        "colab": {
          "base_uri": "https://localhost:8080/"
        },
        "outputId": "176f3cb7-6703-4501-e613-74c86e4902a6"
      },
      "outputs": [
        {
          "output_type": "stream",
          "name": "stdout",
          "text": [
            "Русский текст: Привет, мир! Как дела? Это пример текста. Он состоит из нескольких предложений.\n",
            "Предложения русского текста:\n",
            "1. Привет, мир!\n",
            "2. Как дела?\n",
            "3. Это пример текста.\n",
            "4. Он состоит из нескольких предложений.\n",
            "\n",
            "Английский текст: Hello, world! How are you? This is a sample text. It consists of several sentences.\n",
            "Предложения английского текста:\n",
            "1. Hello, world!\n",
            "2. How are you?\n",
            "3. This is a sample text.\n",
            "4. It consists of several sentences.\n"
          ]
        }
      ],
      "source": [
        "def simple_sentence_tokenize(text):\n",
        "    \"\"\"\n",
        "    Простая токенизация на предложения:\n",
        "    1. Заменяем знаки конца предложения на специальный маркер\n",
        "    2. Разделяем текст по маркеру\n",
        "    3. Очищаем полученные предложения\n",
        "    \"\"\"\n",
        "    # Заменяем знаки конца предложения\n",
        "    for end_mark in ['.', '!', '?']:\n",
        "        text = text.replace(end_mark, f'{end_mark}SENTENCE_END')\n",
        "\n",
        "    # Разделяем по маркеру\n",
        "    sentences = text.split('SENTENCE_END')\n",
        "\n",
        "    # Очищаем предложения и удаляем пустые\n",
        "    cleaned_sentences = [sentence.strip() for sentence in sentences if sentence.strip()]\n",
        "\n",
        "    return cleaned_sentences\n",
        "\n",
        "# Проверка на русском тексте\n",
        "russian_text = \"Привет, мир! Как дела? Это пример текста. Он состоит из нескольких предложений.\"\n",
        "russian_sentences = simple_sentence_tokenize(russian_text)\n",
        "print(\"Русский текст:\", russian_text)\n",
        "print(\"Предложения русского текста:\")\n",
        "for i, sentence in enumerate(russian_sentences, 1):\n",
        "    print(f\"{i}. {sentence}\")\n",
        "\n",
        "# Проверка на английском тексте\n",
        "english_text = \"Hello, world! How are you? This is a sample text. It consists of several sentences.\"\n",
        "english_sentences = simple_sentence_tokenize(english_text)\n",
        "print(\"\\nАнглийский текст:\", english_text)\n",
        "print(\"Предложения английского текста:\")\n",
        "for i, sentence in enumerate(english_sentences, 1):\n",
        "    print(f\"{i}. {sentence}\")"
      ]
    },
    {
      "cell_type": "markdown",
      "metadata": {
        "id": "_a-rRcLp1NnW"
      },
      "source": [
        "3.4. Объединение токенов обратно в текст. Метод .join() позволяет объединить токены обратно в текст, указав разделитель."
      ]
    },
    {
      "cell_type": "code",
      "execution_count": 48,
      "metadata": {
        "id": "jCOkR50y1PYv",
        "colab": {
          "base_uri": "https://localhost:8080/"
        },
        "outputId": "6e2d85a8-35f7-45c9-dcfe-62ac673fa521"
      },
      "outputs": [
        {
          "output_type": "stream",
          "name": "stdout",
          "text": [
            "Объединенный текст: Компьютерная лингвистика изучает методы обработки текста\n",
            "Токены через запятую: Компьютерная, лингвистика, изучает, методы, обработки, текста\n",
            "Объединенный английский текст: Natural language processing studies methods of text analysis\n"
          ]
        }
      ],
      "source": [
        "# Пример токенов\n",
        "tokens = [\"Компьютерная\", \"лингвистика\", \"изучает\", \"методы\", \"обработки\", \"текста\"]\n",
        "\n",
        "# Объединение токенов с пробелом\n",
        "text = ' '.join(tokens)\n",
        "print(\"Объединенный текст:\", text)\n",
        "\n",
        "# Объединение с другими разделителями\n",
        "comma_separated = ', '.join(tokens)\n",
        "print(\"Токены через запятую:\", comma_separated)\n",
        "\n",
        "# Объединение английских токенов\n",
        "english_tokens = [\"Natural\", \"language\", \"processing\", \"studies\", \"methods\", \"of\", \"text\", \"analysis\"]\n",
        "english_text = ' '.join(english_tokens)\n",
        "print(\"Объединенный английский текст:\", english_text)"
      ]
    },
    {
      "cell_type": "markdown",
      "metadata": {
        "id": "zTAF-Lj21evo"
      },
      "source": [
        "**4. Практические упражнения**"
      ]
    },
    {
      "cell_type": "markdown",
      "metadata": {
        "id": "2ffDLEVL1oiZ"
      },
      "source": [
        "Упражнение 1: Нормализация текста. Напишите функцию, которая будет нормализовать текст следующим образом:\n",
        "\n",
        "1. Привести к нижнему регистру\n",
        "2. Удалить все цифры\n",
        "3. Заменить все символы пунктуации на пробелы\n",
        "4. Удалить лишние пробелы\n",
        "\n"
      ]
    },
    {
      "cell_type": "code",
      "execution_count": 49,
      "metadata": {
        "id": "rU4ZTUrd1jFX",
        "colab": {
          "base_uri": "https://localhost:8080/"
        },
        "outputId": "48060a0e-26a9-497d-9f58-c7b29af6bcfa"
      },
      "outputs": [
        {
          "output_type": "stream",
          "name": "stdout",
          "text": [
            "Нормализированный текст: пример текста с разными символами и цифрами\n"
          ]
        }
      ],
      "source": [
        "sample_text = \"Пример текста123, с РАЗНЫМИ символами! И 456 цифрами?\"\n",
        "\n",
        "def normalize_text(sample_text):\n",
        "    sample_text = sample_text.lower()\n",
        "\n",
        "\n",
        "    translator = str.maketrans('', '', string.digits)\n",
        "    sample_text = sample_text.translate(translator)\n",
        "\n",
        "    translator_punctuation = str.maketrans(string.punctuation, ' ' * len(string.punctuation))\n",
        "    sample_text = sample_text.translate(translator_punctuation)\n",
        "\n",
        "    sample_text = ' '.join(sample_text.split())\n",
        "\n",
        "    return sample_text\n",
        "\n",
        "normalize_text = normalize_text(sample_text)\n",
        "print(\"Нормализированный текст:\", normalize_text)"
      ]
    },
    {
      "cell_type": "markdown",
      "metadata": {
        "id": "waC9ZHWB2Kph"
      },
      "source": [
        "Упражнение 2: Подсчет частотности слов. Напишите функцию, которая будет принимать текст, нормализовать его, токенизировать и возвращать словарь с частотностью каждого слова."
      ]
    },
    {
      "cell_type": "code",
      "execution_count": 50,
      "metadata": {
        "id": "HlWO9Bpn2SQo",
        "colab": {
          "base_uri": "https://localhost:8080/"
        },
        "outputId": "f0c244fc-0621-4c28-b401-3b5b2ae9edc3"
      },
      "outputs": [
        {
          "output_type": "stream",
          "name": "stdout",
          "text": [
            "Русский текст:\n",
            "{'компьютерная': 2, 'лингвистика': 2, 'изучает': 1, 'методы': 1, 'обработки': 1, 'текста': 1, 'является': 1, 'областью': 1, 'искусственного': 1, 'интеллекта': 1}\n",
            "\n",
            "Английский текст:\n",
            "{'natural': 2, 'language': 2, 'processing': 2, 'is': 1, 'a': 1, 'field': 1, 'of': 1, 'artificial': 1, 'intelligence': 1, 'focuses': 1, 'on': 1, 'the': 1, 'interaction': 1, 'between': 1, 'computers': 1, 'and': 1, 'humans': 1}\n"
          ]
        }
      ],
      "source": [
        "sample_text = \"Компьютерная лингвистика изучает методы обработки текста. Компьютерная лингвистика является областью искусственного интеллекта.\"\n",
        "english_text = \"Natural language processing is a field of artificial intelligence. Natural language processing focuses on the interaction between computers and humans.\"\n",
        "# ваш код\n",
        "def frequency_text(text):\n",
        "  text = text.lower()\n",
        "\n",
        "  translator = str.maketrans('', '', string.punctuation)\n",
        "  text = text.translate(translator)\n",
        "\n",
        "  words = text.split()\n",
        "\n",
        "  frequency = {}\n",
        "  for word in words:\n",
        "    if word in frequency:\n",
        "      frequency[word] += 1\n",
        "    else:\n",
        "      frequency[word] = 1\n",
        "\n",
        "  return frequency\n",
        "print('Русский текст:')\n",
        "print(frequency_text(sample_text))\n",
        "print('\\nАнглийский текст:')\n",
        "print(frequency_text(english_text))\n",
        "\n",
        "\n"
      ]
    },
    {
      "cell_type": "markdown",
      "metadata": {
        "id": "RPTWlfsD2ehu"
      },
      "source": [
        "Упражнение 3: Поиск самых длинных и коротких слов. Напишите функцию, которая находит самые длинные и самые короткие слова в тексте."
      ]
    },
    {
      "cell_type": "code",
      "execution_count": 51,
      "metadata": {
        "id": "hizov4xW2YhX",
        "colab": {
          "base_uri": "https://localhost:8080/"
        },
        "outputId": "0f129582-568e-42f1-f1b4-015296a5bd1b"
      },
      "outputs": [
        {
          "output_type": "stream",
          "name": "stdout",
          "text": [
            "ru: (['и', 'а', 'в'], ['междисциплинарной'])\n",
            "en: (['is', 'an', 'of', 'of', 'in'], ['interdisciplinary'])\n"
          ]
        }
      ],
      "source": [
        "sample_text = \"Компьютерная лингвистика является междисциплинарной областью науки, которая изучает математические и компьютерные модели естественного языка, а также его применение в системах искусственного интеллекта.\"\n",
        "english_text = \"Computational linguistics is an interdisciplinary field of science that studies mathematical and computational models of natural language and its application in artificial intelligence systems.\"\n",
        "# ваш код\n",
        "def find_words(text):\n",
        "  text = text.lower()\n",
        "\n",
        "  translator = str.maketrans('', '', string.punctuation)\n",
        "  text = text.translate(translator)\n",
        "\n",
        "  words = text.split()\n",
        "\n",
        "  min_len = min(len(word) for word in words)\n",
        "  max_len = max(len(word) for word in words)\n",
        "\n",
        "  shortest = [word for word in words if len(word) == min_len]\n",
        "  longest = [word for word in words if len(word) == max_len]\n",
        "\n",
        "  return shortest, longest\n",
        "\n",
        "print('ru:', find_words(sample_text))\n",
        "print('en:', find_words(english_text))"
      ]
    },
    {
      "cell_type": "markdown",
      "metadata": {
        "id": "wtQ6vmk922D6"
      },
      "source": [
        "Упражнение 4: Поиск и подсчет определенных паттернов. Напишите функцию, которая находит и подсчитывает слова, начинающиеся с определенной буквы или содержащие определенную последовательность букв."
      ]
    },
    {
      "cell_type": "code",
      "execution_count": 52,
      "metadata": {
        "id": "Pv0AYXVp23vc",
        "colab": {
          "base_uri": "https://localhost:8080/"
        },
        "outputId": "3633b242-b74a-48ea-955a-a2524e34151e"
      },
      "outputs": [
        {
          "output_type": "stream",
          "name": "stdout",
          "text": [
            "Количество слов: 2\n"
          ]
        }
      ],
      "source": [
        "sample_text = \"Компьютерная лингвистика изучает методы обработки текста. Математические модели и компьютерные алгоритмы используются для анализа естественных языков.\"\n",
        "\n",
        "# Поиск слов, начинающихся с 'к'\n",
        "# ваш код\n",
        "\n",
        "def count_pattern(text, pattern):\n",
        "\n",
        "  text = text.lower()\n",
        "\n",
        "  translator = str.maketrans('', '', string.punctuation)\n",
        "  text = text.translate(translator)\n",
        "\n",
        "  words = text.split()\n",
        "\n",
        "  if len(pattern) == 1:\n",
        "    found_words = [word for word in words if word[0] == pattern]\n",
        "  else:\n",
        "    found_words = [word for word in words if pattern in word]\n",
        "\n",
        "  return found_words\n",
        "\n",
        "count_words = count_pattern(sample_text, \"к\")\n",
        "print('Количество слов:', len(count_words))\n",
        "\n",
        "\n"
      ]
    },
    {
      "cell_type": "code",
      "execution_count": 53,
      "metadata": {
        "id": "1i4Yjoum26nz",
        "colab": {
          "base_uri": "https://localhost:8080/"
        },
        "outputId": "662101a8-450a-440d-eb7b-50fd54355afe"
      },
      "outputs": [
        {
          "output_type": "stream",
          "name": "stdout",
          "text": [
            "Количество слов: 2\n"
          ]
        }
      ],
      "source": [
        "english_text = \"Computational linguistics studies methods of text processing. Mathematical models and computer algorithms are used to analyze natural languages.\"\n",
        "\n",
        "# Поиск слов, содержащих 'ing'\n",
        "# ваш код\n",
        "\n",
        "def count_pattern(text, pattern):\n",
        "\n",
        "  text = text.lower()\n",
        "\n",
        "  translator = str.maketrans('', '', string.punctuation)\n",
        "  text = text.translate(translator)\n",
        "\n",
        "  words = text.split()\n",
        "\n",
        "  if len(pattern) == 1:\n",
        "    found_words = [word for word in words if word[0] == pattern]\n",
        "  else:\n",
        "    found_words = [word for word in words if pattern in word]\n",
        "\n",
        "  return found_words\n",
        "\n",
        "count_words = count_pattern(english_text, \"ing\")\n",
        "print('Количество слов:', len(count_words))\n"
      ]
    },
    {
      "cell_type": "markdown",
      "metadata": {
        "id": "anDhdjLG3M1A"
      },
      "source": [
        "Упражнение 5: Анализ предложений в тексте. Напишите функцию, которая анализирует текст на уровне предложений, подсчитывая:\n",
        "\n",
        "1. Количество предложений\n",
        "2. Среднюю длину предложения (в словах)\n",
        "3. Самое длинное и самое короткое предложение\n"
      ]
    },
    {
      "cell_type": "code",
      "execution_count": 54,
      "metadata": {
        "id": "QQd2ZgIj3YlJ",
        "colab": {
          "base_uri": "https://localhost:8080/"
        },
        "outputId": "321dcb75-5af7-43d1-8cb3-4581163b7fdf"
      },
      "outputs": [
        {
          "output_type": "stream",
          "name": "stdout",
          "text": [
            "Результаты анализа предложений:\n",
            "Количество предложений: 4\n",
            "Средняя длина предложения (в словах): 9.75\n",
            "Самое длинное предложение: 17\n",
            "Самое короткое предложение: 7\n"
          ]
        }
      ],
      "source": [
        "sample_text = \"\"\"Компьютерная лингвистика — это междисциплинарная область науки.\n",
        "Она изучает математические и компьютерные модели естественного языка.\n",
        "Методы компьютерной лингвистики применяются для решения различных задач, таких как машинный перевод, автоматическое реферирование и информационный поиск.\n",
        "Современные алгоритмы позволяют анализировать большие объемы текстов.\"\"\"\n",
        "\n",
        "# ваш код\n",
        "def analysis(text):\n",
        "\n",
        "  for end_mark in ['.','!','?']:\n",
        "    text = text.replace(end_mark, f'{end_mark}SENTENCE_END')\n",
        "  sentences = text.split('SENTENCE_END')\n",
        "  sentences = [sentence.strip() for sentence in sentences if sentence.strip()]\n",
        "\n",
        "  count_sentences = len(sentences)\n",
        "  word_length = [len(sentence.split()) for sentence in sentences]\n",
        "  if count_sentences > 0:\n",
        "    average_len = sum(word_length) / count_sentences\n",
        "  else:\n",
        "    average_len = 0\n",
        "\n",
        "  min_length = min(word_length)\n",
        "  max_length = max(word_length)\n",
        "\n",
        "  return {\n",
        "        'count_sentences': count_sentences,\n",
        "        'word_length': word_length,\n",
        "        'average_len': average_len,\n",
        "        'min_length': min_length,\n",
        "        'max_length': max_length\n",
        "    }\n",
        "\n",
        "result = analysis(sample_text)\n",
        "\n",
        "# Анализ предложений\n",
        "print(\"Результаты анализа предложений:\")\n",
        "print(f\"Количество предложений: {result['count_sentences']}\")\n",
        "print(f\"Средняя длина предложения (в словах): {result['average_len']}\")\n",
        "print(f\"Самое длинное предложение: {result['max_length']}\")\n",
        "print(f\"Самое короткое предложение: {result['min_length']}\")\n"
      ]
    },
    {
      "cell_type": "code",
      "execution_count": 55,
      "metadata": {
        "id": "N7pW-9_c3rmI",
        "colab": {
          "base_uri": "https://localhost:8080/"
        },
        "outputId": "1cacf76b-2d77-4e69-9a29-3d805ec45b65"
      },
      "outputs": [
        {
          "output_type": "stream",
          "name": "stdout",
          "text": [
            "Результаты анализа предложений:\n",
            "Количество предложений: 4\n",
            "Средняя длина предложения (в словах): 11.0\n",
            "Самое длинное предложение: 19\n",
            "Самое короткое предложение: 8\n"
          ]
        }
      ],
      "source": [
        "english_text = \"\"\"Computational linguistics is an interdisciplinary field of science.\n",
        "It studies mathematical and computational models of natural language.\n",
        "Methods of computational linguistics are applied to solve various tasks such as machine translation, automatic summarization, and information retrieval.\n",
        "Modern algorithms allow analyzing large volumes of texts.\"\"\"\n",
        "\n",
        "# ваш код\n",
        "def analysis(text):\n",
        "\n",
        "  for end_mark in ['.','!','?']:\n",
        "    text = text.replace(end_mark, f'{end_mark}SENTENCE_END')\n",
        "  sentences = text.split('SENTENCE_END')\n",
        "  sentences = [sentence.strip() for sentence in sentences if sentence.strip()]\n",
        "\n",
        "  count_sentences = len(sentences)\n",
        "  word_length = [len(sentence.split()) for sentence in sentences]\n",
        "  if count_sentences > 0:\n",
        "    average_len = sum(word_length) / count_sentences\n",
        "  else:\n",
        "    average_len = 0\n",
        "\n",
        "  min_length = min(word_length)\n",
        "  max_length = max(word_length)\n",
        "\n",
        "  return {\n",
        "        'count_sentences': count_sentences,\n",
        "        'word_length': word_length,\n",
        "        'average_len': average_len,\n",
        "        'min_length': min_length,\n",
        "        'max_length': max_length\n",
        "    }\n",
        "\n",
        "result = analysis(english_text)\n",
        "# Анализ предложений на английском\n",
        "print(\"Результаты анализа предложений:\")\n",
        "print(f\"Количество предложений: {result['count_sentences']}\")\n",
        "print(f\"Средняя длина предложения (в словах): {result['average_len']}\")\n",
        "print(f\"Самое длинное предложение: {result['max_length']}\")\n",
        "print(f\"Самое короткое предложение: {result['min_length']}\")\n"
      ]
    },
    {
      "cell_type": "markdown",
      "metadata": {
        "id": "ZE7TEjrM37te"
      },
      "source": [
        "**5. Домашнее задание**"
      ]
    },
    {
      "cell_type": "markdown",
      "metadata": {
        "id": "qJtWAqaL3-od"
      },
      "source": [
        "# Напишите функцию для нормализации текста, которая:\n",
        "\n",
        "1. Приводит текст к нижнему регистру\n",
        "2. Удаляет все знаки пунктуации\n",
        "3. Заменяет все цифры на символ '#'\n",
        "4. Удаляет лишние пробелы\n",
        "\n",
        "Напишите функцию, которая находит и выводит все слова из текста, содержащие гласные в определенной последовательности (например, 'о' и затем 'а').\n",
        "\n",
        "Создайте функцию, которая:\n",
        "\n",
        "1.   Токенизирует текст\n",
        "2.   Отбирает только слова длиной более 4 символов\n",
        "3. Сортирует их по алфавиту\n",
        "4. Возвращает первые 10 слов\n",
        "\n",
        "Напишите функцию для анализа частотности символов в тексте, которая возвращает 5 самых часто встречающихся символов и их количество.\n",
        "\n",
        "Напишите программу, которая разделяет текст на параграфы (по двойному переносу строки), а затем подсчитывает для каждого параграфа: количество предложений, количество слов, среднюю длину слова"
      ]
    },
    {
      "cell_type": "code",
      "source": [
        "#1\n",
        "import string\n",
        "\n",
        "def normalize(text):\n",
        "  text = text.lower()\n",
        "\n",
        "  translator = str.maketrans('', '', string.punctuation)\n",
        "  text = text.translate(translator)\n",
        "\n",
        "  translator_digits = str.maketrans(string.digits, '#' * len(string.digits))\n",
        "  text = text.translate(translator_digits)\n",
        "\n",
        "  text = ' '.join(text.split())\n",
        "\n",
        "  return text\n",
        "\n",
        "sample_text = 'Пример текста123, с РАЗНЫМИ символами!  И 456 цифрами?'\n",
        "normalize_text = normalize(sample_text)\n",
        "\n",
        "print('Нормализоваанный текст:', normalize_text)"
      ],
      "metadata": {
        "colab": {
          "base_uri": "https://localhost:8080/"
        },
        "id": "ry4AeBhJy551",
        "outputId": "d1a28fe3-a738-4be2-ccb0-d60dc3af7e49"
      },
      "execution_count": 56,
      "outputs": [
        {
          "output_type": "stream",
          "name": "stdout",
          "text": [
            "Нормализоваанный текст: пример текста### с разными символами и ### цифрами\n"
          ]
        }
      ]
    },
    {
      "cell_type": "code",
      "source": [
        "#2\n",
        "def find_words(text, sequence):\n",
        "  text = text.lower()\n",
        "\n",
        "  translator = str.maketrans('', '', string.punctuation)\n",
        "  text = text.translate(translator)\n",
        "\n",
        "  words = text.split()\n",
        "\n",
        "  result = []\n",
        "  for word in words:\n",
        "    if sequence in word:\n",
        "      result.append(word)\n",
        "  return result\n",
        "\n",
        "sample_text = '''Глава попавшего в беду семейства, не в силах помочь своим родным, в праздничный вечер сбегает из дома и\n",
        "случайно встречает врача, который спасает больного ребенка и всю семью, дает деньги и вселяет бодрость в измученных\n",
        "людей. Это сродни чуду, что подчеркнуто в названии рассказа.'''\n",
        "\n",
        "found_words = find_words(sample_text, 'ро')\n",
        "print(\"Найденные слова:\", found_words)"
      ],
      "metadata": {
        "colab": {
          "base_uri": "https://localhost:8080/"
        },
        "id": "f3GTlZsD1WTE",
        "outputId": "bde942d0-ca24-4dfd-d2a0-ae7ec7f3468b"
      },
      "execution_count": 57,
      "outputs": [
        {
          "output_type": "stream",
          "name": "stdout",
          "text": [
            "Найденные слова: ['родным', 'бодрость', 'сродни']\n"
          ]
        }
      ]
    },
    {
      "cell_type": "code",
      "source": [
        "#3\n",
        "def process(text):\n",
        "  text = text.lower()\n",
        "  translator = str.maketrans('', '', string.punctuation)\n",
        "  text = text.translate(translator)\n",
        "  tokens = text.split()\n",
        "  filtered_words = [word for word in tokens if len(word) > 4]\n",
        "  sorted_words = sorted(filtered_words)\n",
        "\n",
        "  return sorted_words[:10]\n",
        "\n",
        "sample_text = 'Пример текста со словами разной длины. Каша – слово из четырёх букв, а кошка – из пяти.'\n",
        "result = process(sample_text)\n",
        "print(result)\n"
      ],
      "metadata": {
        "colab": {
          "base_uri": "https://localhost:8080/"
        },
        "id": "78owo-GH1Xd6",
        "outputId": "b268b453-f0f9-441f-cd36-11873dfad9fa"
      },
      "execution_count": 58,
      "outputs": [
        {
          "output_type": "stream",
          "name": "stdout",
          "text": [
            "['длины', 'кошка', 'пример', 'разной', 'словами', 'слово', 'текста', 'четырёх']\n"
          ]
        }
      ]
    },
    {
      "cell_type": "code",
      "source": [
        "#4\n",
        "from collections import Counter\n",
        "\n",
        "def frequency(text):\n",
        "\n",
        "    counter = Counter(text)\n",
        "\n",
        "\n",
        "    most_common_word = counter.most_common(5)\n",
        "\n",
        "    return most_common_word\n",
        "\n",
        "sample_text = \"Компьютерная лингвистика изучает методы обработки текста. Компьютерная лингвистика является областью искусственного интеллекта.\"\n",
        "result = frequency(sample_text)\n",
        "print(result)"
      ],
      "metadata": {
        "colab": {
          "base_uri": "https://localhost:8080/"
        },
        "id": "G3CYg-Ozi_aO",
        "outputId": "e705e469-9ef1-4639-ee81-07ab9defb738"
      },
      "execution_count": 59,
      "outputs": [
        {
          "output_type": "stream",
          "name": "stdout",
          "text": [
            "[('т', 14), (' ', 11), ('и', 10), ('е', 9), ('а', 9)]\n"
          ]
        }
      ]
    },
    {
      "cell_type": "code",
      "source": [
        "#5\n",
        "def paragraph(text):\n",
        "  paragraphs = text.split('\\n\\n')\n",
        "  words = []\n",
        "\n",
        "  for paragraph in paragraphs:\n",
        "        paragraph = paragraph.strip()\n",
        "\n",
        "  for end_mark in ['.','!','?']:\n",
        "    text = text.replace(end_mark, f'{end_mark}SENTENCE_END')\n",
        "  sentences = text.split('SENTENCE_END')\n",
        "  sentences = [sentence.strip() for sentence in sentences if sentence.strip()]\n",
        "\n",
        "  count_sentences = len(sentences)\n",
        "\n",
        "  for sentence in sentences:\n",
        "            words_in_sentence = sentence.split()\n",
        "            words.extend(words_in_sentence)\n",
        "  count_words = len(words)\n",
        "\n",
        "  if count_words > 0:\n",
        "            average_len = sum(len(word) for word in words) / count_words\n",
        "  else:\n",
        "            average_len = 0\n",
        "  return {\n",
        "        'count_sentences': count_sentences,\n",
        "        'count_words': count_words,\n",
        "        'average_len': average_len,\n",
        "\n",
        "    }\n",
        "\n",
        "sample_text = \"\"\"«Чудесный доктор» — трогательный святочный рассказ Александра Куприна. Двое мальчиков из обнищавшей семьи Мерцаловых возвращаются с нарядных,\n",
        "готовящихся к празднику улиц домой в подвал, где их ждет мать, больная сестра и голодный младенец. Глава попавшего в беду семейства, не в силах помочь своим\n",
        "родным, в праздничный вечер сбегает из дома и случайно встречает врача, который спасает больного ребенка и всю семью, дает деньги и вселяет бодрость в измученных\n",
        "людей. Это сродни чуду, что подчеркнуто в названии рассказа. После появления этого необыкновенного человека нищая, неудачная жизнь Мерцаловых входит в\n",
        "благополучное русло: дети выздоравливают, отец находит место, мальчиков устраивают в гимназию.\n",
        "\n",
        "\"\"\"\n",
        "result = paragraph(sample_text)\n",
        "\n",
        "print(\"Результаты анализа предложений:\")\n",
        "print(f\"Количество предложений: {result['count_sentences']}\")\n",
        "print(f\"Количество слов: {result['count_words']}\")\n",
        "print(f\"Средняя длина слова: {result['average_len']}\")\n"
      ],
      "metadata": {
        "colab": {
          "base_uri": "https://localhost:8080/"
        },
        "id": "F47GfmCRjITf",
        "outputId": "185b8f23-0eb6-401c-cba9-6921d5b05dad"
      },
      "execution_count": 60,
      "outputs": [
        {
          "output_type": "stream",
          "name": "stdout",
          "text": [
            "Результаты анализа предложений:\n",
            "Количество предложений: 5\n",
            "Количество слов: 99\n",
            "Средняя длина слова: 6.141414141414141\n"
          ]
        }
      ]
    }
  ],
  "metadata": {
    "colab": {
      "provenance": []
    },
    "kernelspec": {
      "display_name": "Python 3",
      "name": "python3"
    },
    "language_info": {
      "name": "python",
      "version": "3.11.9"
    }
  },
  "nbformat": 4,
  "nbformat_minor": 0
}