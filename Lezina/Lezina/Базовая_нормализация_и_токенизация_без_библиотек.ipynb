{
  "cells": [
    {
      "cell_type": "markdown",
      "metadata": {
        "id": "xaCyWYJ6uGfk"
      },
      "source": [
        "В этом ноутбуке вы узнаете:\n",
        "\n",
        "1.   Как использовать встроенные методы Python для работы со строками\n",
        "2.   Как выполнять базовую нормализацию текста\n",
        "3. Как токенизировать текст с помощью простых методов\n",
        "4. Как применять эти навыки на практике\n"
      ]
    },
    {
      "cell_type": "markdown",
      "metadata": {},
      "source": []
    },
    {
      "cell_type": "markdown",
      "metadata": {
        "id": "T4-yFhGcy934"
      },
      "source": [
        "**1. Основные понятия и функции**"
      ]
    },
    {
      "cell_type": "markdown",
      "metadata": {
        "id": "mMYBk9PluRfs"
      },
      "source": [
        "В Python текст представлен в виде строк (тип данных str). Строки можно создавать, используя одинарные или двойные кавычки."
      ]
    },
    {
      "cell_type": "code",
      "execution_count": null,
      "metadata": {
        "id": "tXalOImZuMdk"
      },
      "outputs": [],
      "source": [
        "# Создание строк\n",
        "text1 = 'Это текст в \"одинарных\" кавычках'\n",
        "text2 = \"Это текст в 'двойных' кавычках\"\n",
        "text3 = '''Это текст в \"тройных\" кавычках'''\n",
        "text4 = '''Это\n",
        "текст\n",
        "в 'тройных'\n",
        "кавычках'''\n",
        "\n",
        "# Вывод строк\n",
        "print(text1)\n",
        "print(text2)\n",
        "print(text3)\n",
        "print(text4)"
      ]
    },
    {
      "cell_type": "markdown",
      "metadata": {
        "id": "4dVUdNKvuYvU"
      },
      "source": [
        "1.1. Индексация и срезы строк.\n",
        "Строки в Python — это последовательности символов, к которым можно обращаться по индексу. Индексация начинается с 0."
      ]
    },
    {
      "cell_type": "code",
      "execution_count": null,
      "metadata": {
        "id": "8RlZDm97uVrC"
      },
      "outputs": [],
      "source": [
        "# Строка для примеров\n",
        "sample_text = \"Компьютерная лингвистика\"\n",
        "\n",
        "# Получение отдельного символа\n",
        "print(\"Первый символ:\", sample_text[0])\n",
        "print(\"Пятый символ:\", sample_text[4])\n",
        "\n",
        "# Срезы строк\n",
        "print(\"Первые 12 символов:\", sample_text[:12])  # от начала до 12-го символа (не включая)\n",
        "print(\"С 13-го символа до конца:\", sample_text[13:])  # с 13-го символа до конца\n",
        "print(\"С 5-го по 10-й символ:\", sample_text[5:11])  # с 5-го по 10-й символ (11-й не включается)"
      ]
    },
    {
      "cell_type": "markdown",
      "metadata": {
        "id": "-oi1N22TvbQx"
      },
      "source": [
        "1.2. Основные методы строк\n",
        "Python предоставляет множество встроенных методов для работы со строками. Рассмотрим наиболее полезные для обработки текста:"
      ]
    },
    {
      "cell_type": "code",
      "execution_count": null,
      "metadata": {
        "id": "vkcKQqqgvcpk"
      },
      "outputs": [],
      "source": [
        "# Строка для примеров\n",
        "text = \"   Пример текста для анализа.   \"\n",
        "\n",
        "# Удаление пробелов в начале и конце строки\n",
        "print(\"После strip():\", text.strip())\n",
        "\n",
        "# Перевод в нижний регистр\n",
        "print(\"После lower():\", text.lower())\n",
        "\n",
        "# Перевод в верхний регистр\n",
        "print(\"После upper():\", text.upper())\n",
        "\n",
        "# Проверка, начинается ли строка с определенной подстроки\n",
        "print(\"Начинается с 'Пример'?\", text.strip().startswith(\"Пример\"))\n",
        "\n",
        "# Проверка, заканчивается ли строка определенной подстрокой\n",
        "print(\"Заканчивается на '.'?\", text.strip().endswith(\".\"))\n",
        "\n",
        "# Замена подстроки\n",
        "print(\"После replace():\", text.replace(\"анализа\", \"обработки\"))\n",
        "\n",
        "# Подсчет вхождений подстроки\n",
        "print(\"Количество пробелов:\", text.count(\" \"))"
      ]
    },
    {
      "cell_type": "markdown",
      "metadata": {
        "id": "-oEf7vLCvvzL"
      },
      "source": [
        "1.3. Конкатенация строк и форматирование.\n",
        "Существует несколько способов объединения строк в Python:"
      ]
    },
    {
      "cell_type": "code",
      "execution_count": null,
      "metadata": {
        "id": "CS50TkzKvwfk"
      },
      "outputs": [],
      "source": [
        "# Простая конкатенация с помощью оператора +\n",
        "first_name = \"Иван\"\n",
        "last_name = \"Петров\"\n",
        "full_name = first_name + \" \" + last_name\n",
        "print(\"Полное имя:\", full_name)\n",
        "\n",
        "# Форматирование строк с помощью метода format()\n",
        "age = 25\n",
        "message = \"Меня зовут {}, мне {} лет.\".format(full_name, age)\n",
        "print(message)\n",
        "\n",
        "# f-строки (начиная с Python 3.6)\n",
        "message_f = f\"Меня зовут {full_name}, мне {age} лет.\"\n",
        "print(message_f)\n",
        "\n",
        "# Использование %\n",
        "message_old = \"Меня зовут %s, мне %d лет.\" % (full_name, age)\n",
        "print(message_old)"
      ]
    },
    {
      "cell_type": "markdown",
      "metadata": {
        "id": "e0K6mt6Vv6gV"
      },
      "source": [
        "**2. Базовая нормализация текста**"
      ]
    },
    {
      "cell_type": "markdown",
      "metadata": {
        "id": "hL2BXNo8wEVY"
      },
      "source": [
        "Нормализация текста — это процесс преобразования текста к стандартному виду для облегчения его дальнейшей обработки. Рассмотрим базовые операции нормализации."
      ]
    },
    {
      "cell_type": "markdown",
      "metadata": {
        "id": "J5Gk1AnRwHK0"
      },
      "source": [
        "2.1. Приведение к нижнему регистру помогает унифицировать текст. Обычно используется нижний регистр."
      ]
    },
    {
      "cell_type": "code",
      "execution_count": null,
      "metadata": {
        "id": "vNNMpCqOv2Dz"
      },
      "outputs": [],
      "source": [
        "# Пример текста с разным регистром\n",
        "mixed_case_text = \"КомпьЮтерная ЛИНГвистика изучает Методы Автоматической Обработки Текста.\"\n",
        "\n",
        "# Приведение к нижнему регистру\n",
        "normalized_text = mixed_case_text.lower()\n",
        "print(\"Исходный текст:\", mixed_case_text)\n",
        "print(\"Нормализованный текст:\", normalized_text)\n",
        "\n",
        "# Пример на английском\n",
        "english_text = \"Natural Language Processing (NLP) is a FIELD of AI.\"\n",
        "print(\"Английский текст после нормализации:\", english_text.lower())"
      ]
    },
    {
      "cell_type": "markdown",
      "metadata": {
        "id": "Vlwzl4-bw7u9"
      },
      "source": [
        "2.2. Удаление лишних пробелов. Часто тексты содержат лишние пробелы, которые нужно удалить.\n",
        "\n",
        "\n"
      ]
    },
    {
      "cell_type": "code",
      "execution_count": null,
      "metadata": {
        "id": "AioDUYPrw-Hl"
      },
      "outputs": [],
      "source": [
        "# Текст с лишними пробелами\n",
        "text_with_spaces = \"   В  этом   тексте  есть  лишние    пробелы.   \"\n",
        "\n",
        "# Удаление пробелов в начале и конце\n",
        "trimmed_text = text_with_spaces.strip()\n",
        "print(\"После strip():\", trimmed_text)\n",
        "\n",
        "words = trimmed_text.split()  # Разбиваем текст на слова\n",
        "normalized_manually = ' '.join(words)  # Объединяем слова с одним пробелом\n",
        "print(\"Нормализация:\", normalized_manually)\n",
        "\n",
        "# Пример на английском\n",
        "english_spaces = \"  This   text   has   extra   spaces. \"\n",
        "english_normalized = ' '.join(english_spaces.strip().split())\n",
        "print(\"Английский текст после нормализации пробелов:\", english_normalized)"
      ]
    },
    {
      "cell_type": "markdown",
      "metadata": {
        "id": "M7bFiY8syfRf"
      },
      "source": [
        "2.3. Удаление пунктуации. Для многих задач обработки текста необходимо удалить знаки пунктуации."
      ]
    },
    {
      "cell_type": "code",
      "execution_count": null,
      "metadata": {
        "id": "g7M5Bna1yjB1"
      },
      "outputs": [],
      "source": [
        "# Текст с пунктуацией\n",
        "text_with_punctuation = \"Привет, мир! Как дела? Это - пример текста; с разными знаками пунктуации.\"\n",
        "\n",
        "# Определение знаков пунктуации для удаления\n",
        "import string\n",
        "punctuation = string.punctuation  # !\"#$%&'()*+,-./:;<=>?@[\\]^_`{|}~\n",
        "print(\"Знаки пунктуации:\", punctuation)\n",
        "\n",
        "# Удаление пунктуации (метод 1)\n",
        "no_punctuation = ''.join(char for char in text_with_punctuation if char not in punctuation)\n",
        "print(\"Текст без пунктуации (метод 1):\", no_punctuation)\n",
        "\n",
        "# Удаление пунктуации (метод 2)\n",
        "translator = str.maketrans('', '', punctuation)\n",
        "no_punctuation2 = text_with_punctuation.translate(translator)\n",
        "print(\"Текст без пунктуации (метод 2):\", no_punctuation2)\n",
        "\n",
        "# Пример на английском\n",
        "english_punctuation = \"Hello, world! How are you? This is a sample text; with various punctuation marks.\"\n",
        "english_no_punctuation = english_punctuation.translate(translator)\n",
        "print(\"Английский текст без пунктуации:\", english_no_punctuation)"
      ]
    },
    {
      "cell_type": "markdown",
      "metadata": {
        "id": "cCzDj3GayrSf"
      },
      "source": [
        "2.4. Комплексная нормализация текста. Объединим все изученные методы для комплексной нормализации текста."
      ]
    },
    {
      "cell_type": "code",
      "execution_count": null,
      "metadata": {
        "id": "-EQfaUxNyuOm"
      },
      "outputs": [],
      "source": [
        "def normalize_text(text):\n",
        "    \"\"\"\n",
        "    Функция для комплексной нормализации текста:\n",
        "    1. Приведение к нижнему регистру\n",
        "    2. Удаление лишних пробелов\n",
        "    3. Удаление пунктуации\n",
        "    \"\"\"\n",
        "    # Шаг 1: Приведение к нижнему регистру\n",
        "    text = text.lower()\n",
        "\n",
        "    # Шаг 2: Удаление пунктуации\n",
        "    translator = str.maketrans('', '', string.punctuation)\n",
        "    text = text.translate(translator)\n",
        "\n",
        "    # Шаг 3: Удаление лишних пробелов\n",
        "    text = ' '.join(text.split())\n",
        "\n",
        "    return text\n",
        "\n",
        "# Проверка функции на русском тексте\n",
        "russian_text = \"   Компьютерная    ЛИНГВИСТИКА - это ОБЛАСТЬ науки, изучающая   методы автоматической    обработки текста!   \"\n",
        "normalized_russian = normalize_text(russian_text)\n",
        "print(\"Исходный русский текст:\", russian_text)\n",
        "print(\"Нормализованный русский текст:\", normalized_russian)\n",
        "\n",
        "# Проверка функции на английском тексте\n",
        "english_text = \"   Natural    LANGUAGE Processing (NLP) - is a FIELD of AI, focusing   on text analysis!   \"\n",
        "normalized_english = normalize_text(english_text)\n",
        "print(\"Исходный английский текст:\", english_text)\n",
        "print(\"Нормализованный английский текст:\", normalized_english)"
      ]
    },
    {
      "cell_type": "markdown",
      "metadata": {
        "id": "H2IvHG_yy1uJ"
      },
      "source": [
        "**3. Простая токенизация текста**"
      ]
    },
    {
      "cell_type": "markdown",
      "metadata": {
        "id": "ISndfr9tzMRC"
      },
      "source": [
        "Токенизация — это процесс разделения текста на отдельные токены (обычно слова или предложения). Рассмотрим простые методы токенизации с использованием встроенных возможностей Python."
      ]
    },
    {
      "cell_type": "markdown",
      "metadata": {
        "id": "sjvNUNImzP5i"
      },
      "source": [
        "3.1. Токенизация по пробелам. Самый простой способ токенизации — разделение текста по пробелам с помощью метода .split()."
      ]
    },
    {
      "cell_type": "code",
      "execution_count": 5,
      "metadata": {
        "id": "pRMRYdZfzTk2"
      },
      "outputs": [
        {
          "name": "stdout",
          "output_type": "stream",
          "text": [
            "Токены: ['Компьютерная', 'лингвистика', 'изучает', 'методы', 'обработки', 'текста']\n",
            "Количество токенов: 6\n",
            "Английские токены: ['Natural', 'language', 'processing', 'studies', 'methods', 'of', 'text', 'analysis']\n",
            "Количество английских токенов: 8\n"
          ]
        }
      ],
      "source": [
        "# Пример текста\n",
        "text = \"Компьютерная лингвистика изучает методы обработки текста\"\n",
        "\n",
        "# Токенизация по пробелам\n",
        "tokens = text.split()\n",
        "print(\"Токены:\", tokens)\n",
        "print(\"Количество токенов:\", len(tokens))\n",
        "\n",
        "# Токенизация английского текста\n",
        "english_text = \"Natural language processing studies methods of text analysis\"\n",
        "english_tokens = english_text.split()\n",
        "print(\"Английские токены:\", english_tokens)\n",
        "print(\"Количество английских токенов:\", len(english_tokens))"
      ]
    },
    {
      "cell_type": "markdown",
      "metadata": {
        "id": "Ey-4jl42zahC"
      },
      "source": [
        "3.2. Токенизация с учетом пунктуации. Токенизация по пробелам не учитывает пунктуацию. Для более точной токенизации можно сначала отделить пунктуацию от слов."
      ]
    },
    {
      "cell_type": "code",
      "execution_count": 4,
      "metadata": {
        "id": "8rYkdzlnzdkp"
      },
      "outputs": [
        {
          "ename": "NameError",
          "evalue": "name 'string' is not defined",
          "output_type": "error",
          "traceback": [
            "\u001b[31m---------------------------------------------------------------------------\u001b[39m",
            "\u001b[31mNameError\u001b[39m                                 Traceback (most recent call last)",
            "\u001b[36mCell\u001b[39m\u001b[36m \u001b[39m\u001b[32mIn[4]\u001b[39m\u001b[32m, line 19\u001b[39m\n\u001b[32m     17\u001b[39m \u001b[38;5;66;03m# Проверка на русском тексте\u001b[39;00m\n\u001b[32m     18\u001b[39m russian_text = \u001b[33m\"\u001b[39m\u001b[33mПривет, мир! Как дела? Это - пример текста; с разными знаками пунктуации.\u001b[39m\u001b[33m\"\u001b[39m\n\u001b[32m---> \u001b[39m\u001b[32m19\u001b[39m russian_tokens = \u001b[43msimple_tokenize\u001b[49m\u001b[43m(\u001b[49m\u001b[43mrussian_text\u001b[49m\u001b[43m)\u001b[49m\n\u001b[32m     20\u001b[39m \u001b[38;5;28mprint\u001b[39m(\u001b[33m\"\u001b[39m\u001b[33mРусский текст:\u001b[39m\u001b[33m\"\u001b[39m, russian_text)\n\u001b[32m     21\u001b[39m \u001b[38;5;28mprint\u001b[39m(\u001b[33m\"\u001b[39m\u001b[33mТокены русского текста:\u001b[39m\u001b[33m\"\u001b[39m, russian_tokens)\n",
            "\u001b[36mCell\u001b[39m\u001b[36m \u001b[39m\u001b[32mIn[4]\u001b[39m\u001b[32m, line 9\u001b[39m, in \u001b[36msimple_tokenize\u001b[39m\u001b[34m(text)\u001b[39m\n\u001b[32m      2\u001b[39m \u001b[38;5;250m\u001b[39m\u001b[33;03m\"\"\"\u001b[39;00m\n\u001b[32m      3\u001b[39m \u001b[33;03mПростая токенизация с учетом пунктуации:\u001b[39;00m\n\u001b[32m      4\u001b[39m \u001b[33;03m1. Добавляем пробелы вокруг знаков пунктуации\u001b[39;00m\n\u001b[32m      5\u001b[39m \u001b[33;03m2. Разделяем по пробелам\u001b[39;00m\n\u001b[32m      6\u001b[39m \u001b[33;03m3. Удаляем пустые токены\u001b[39;00m\n\u001b[32m      7\u001b[39m \u001b[33;03m\"\"\"\u001b[39;00m\n\u001b[32m      8\u001b[39m \u001b[38;5;66;03m# Добавляем пробелы вокруг знаков пунктуации\u001b[39;00m\n\u001b[32m----> \u001b[39m\u001b[32m9\u001b[39m \u001b[38;5;28;01mfor\u001b[39;00m punct \u001b[38;5;129;01min\u001b[39;00m \u001b[43mstring\u001b[49m.punctuation:\n\u001b[32m     10\u001b[39m     text = text.replace(punct, \u001b[33mf\u001b[39m\u001b[33m'\u001b[39m\u001b[33m \u001b[39m\u001b[38;5;132;01m{\u001b[39;00mpunct\u001b[38;5;132;01m}\u001b[39;00m\u001b[33m \u001b[39m\u001b[33m'\u001b[39m)\n\u001b[32m     12\u001b[39m \u001b[38;5;66;03m# Разделяем по пробелам и удаляем пустые токены\u001b[39;00m\n",
            "\u001b[31mNameError\u001b[39m: name 'string' is not defined"
          ]
        }
      ],
      "source": [
        "def simple_tokenize(text):\n",
        "    \"\"\"\n",
        "    Простая токенизация с учетом пунктуации:\n",
        "    1. Добавляем пробелы вокруг знаков пунктуации\n",
        "    2. Разделяем по пробелам\n",
        "    3. Удаляем пустые токены\n",
        "    \"\"\"\n",
        "    # Добавляем пробелы вокруг знаков пунктуации\n",
        "    for punct in string.punctuation:\n",
        "        text = text.replace(punct, f' {punct} ')\n",
        "\n",
        "    # Разделяем по пробелам и удаляем пустые токены\n",
        "    tokens = [token for token in text.split() if token]\n",
        "\n",
        "    return tokens\n",
        "\n",
        "# Проверка на русском тексте\n",
        "russian_text = \"Привет, мир! Как дела? Это - пример текста; с разными знаками пунктуации.\"\n",
        "russian_tokens = simple_tokenize(russian_text)\n",
        "print(\"Русский текст:\", russian_text)\n",
        "print(\"Токены русского текста:\", russian_tokens)\n",
        "print(\"Количество токенов:\", len(russian_tokens))\n",
        "\n",
        "# Проверка на английском тексте\n",
        "english_text = \"Hello, world! How are you? This is a sample text; with various punctuation marks.\"\n",
        "english_tokens = simple_tokenize(english_text)\n",
        "print(\"Английский текст:\", english_text)\n",
        "print(\"Токены английского текста:\", english_tokens)\n",
        "print(\"Количество токенов:\", len(english_tokens))"
      ]
    },
    {
      "cell_type": "markdown",
      "metadata": {
        "id": "qfbRKk1S0wq_"
      },
      "source": [
        "3.3. Токенизация предложений. Простой способ — разделение по знакам конца предложения."
      ]
    },
    {
      "cell_type": "code",
      "execution_count": 3,
      "metadata": {
        "id": "bw3dAKeG0-fA"
      },
      "outputs": [
        {
          "name": "stdout",
          "output_type": "stream",
          "text": [
            "Русский текст: Привет, мир! Как дела? Это пример текста. Он состоит из нескольких предложений.\n",
            "Предложения русского текста:\n",
            "1. Привет, мир!\n",
            "2. Как дела?\n",
            "3. Это пример текста.\n",
            "4. Он состоит из нескольких предложений.\n",
            "\n",
            "Английский текст: Hello, world! How are you? This is a sample text. It consists of several sentences.\n",
            "Предложения английского текста:\n",
            "1. Hello, world!\n",
            "2. How are you?\n",
            "3. This is a sample text.\n",
            "4. It consists of several sentences.\n"
          ]
        }
      ],
      "source": [
        "def simple_sentence_tokenize(text):\n",
        "    \"\"\"\n",
        "    Простая токенизация на предложения:\n",
        "    1. Заменяем знаки конца предложения на специальный маркер\n",
        "    2. Разделяем текст по маркеру\n",
        "    3. Очищаем полученные предложения\n",
        "    \"\"\"\n",
        "    # Заменяем знаки конца предложения\n",
        "    for end_mark in ['.', '!', '?']:\n",
        "        text = text.replace(end_mark, f'{end_mark}SENTENCE_END')\n",
        "\n",
        "    # Разделяем по маркеру\n",
        "    sentences = text.split('SENTENCE_END')\n",
        "\n",
        "    # Очищаем предложения и удаляем пустые\n",
        "    cleaned_sentences = [sentence.strip() for sentence in sentences if sentence.strip()]\n",
        "\n",
        "    return cleaned_sentences\n",
        "\n",
        "# Проверка на русском тексте\n",
        "russian_text = \"Привет, мир! Как дела? Это пример текста. Он состоит из нескольких предложений.\"\n",
        "russian_sentences = simple_sentence_tokenize(russian_text)\n",
        "print(\"Русский текст:\", russian_text)\n",
        "print(\"Предложения русского текста:\")\n",
        "for i, sentence in enumerate(russian_sentences, 1):\n",
        "    print(f\"{i}. {sentence}\")\n",
        "\n",
        "# Проверка на английском тексте\n",
        "english_text = \"Hello, world! How are you? This is a sample text. It consists of several sentences.\"\n",
        "english_sentences = simple_sentence_tokenize(english_text)\n",
        "print(\"\\nАнглийский текст:\", english_text)\n",
        "print(\"Предложения английского текста:\")\n",
        "for i, sentence in enumerate(english_sentences, 1):\n",
        "    print(f\"{i}. {sentence}\")"
      ]
    },
    {
      "cell_type": "markdown",
      "metadata": {
        "id": "_a-rRcLp1NnW"
      },
      "source": [
        "3.4. Объединение токенов обратно в текст. Метод .join() позволяет объединить токены обратно в текст, указав разделитель."
      ]
    },
    {
      "cell_type": "code",
      "execution_count": 2,
      "metadata": {
        "id": "jCOkR50y1PYv"
      },
      "outputs": [
        {
          "name": "stdout",
          "output_type": "stream",
          "text": [
            "Объединенный текст: Компьютерная лингвистика изучает методы обработки текста\n",
            "Токены через запятую: Компьютерная, лингвистика, изучает, методы, обработки, текста\n",
            "Объединенный английский текст: Natural language processing studies methods of text analysis\n"
          ]
        }
      ],
      "source": [
        "# Пример токенов\n",
        "tokens = [\"Компьютерная\", \"лингвистика\", \"изучает\", \"методы\", \"обработки\", \"текста\"]\n",
        "\n",
        "# Объединение токенов с пробелом\n",
        "text = ' '.join(tokens)\n",
        "print(\"Объединенный текст:\", text)\n",
        "\n",
        "# Объединение с другими разделителями\n",
        "comma_separated = ', '.join(tokens)\n",
        "print(\"Токены через запятую:\", comma_separated)\n",
        "\n",
        "# Объединение английских токенов\n",
        "english_tokens = [\"Natural\", \"language\", \"processing\", \"studies\", \"methods\", \"of\", \"text\", \"analysis\"]\n",
        "english_text = ' '.join(english_tokens)\n",
        "print(\"Объединенный английский текст:\", english_text)"
      ]
    },
    {
      "cell_type": "markdown",
      "metadata": {
        "id": "zTAF-Lj21evo"
      },
      "source": [
        "**4. Практические упражнения**"
      ]
    },
    {
      "cell_type": "markdown",
      "metadata": {
        "id": "2ffDLEVL1oiZ"
      },
      "source": [
        "Упражнение 1: Нормализация текста. Напишите функцию, которая будет нормализовать текст следующим образом:\n",
        "\n",
        "1. Привести к нижнему регистру\n",
        "2. Удалить все цифры\n",
        "3. Заменить все символы пунктуации на пробелы\n",
        "4. Удалить лишние пробелы\n",
        "\n"
      ]
    },
    {
      "cell_type": "code",
      "execution_count": 1,
      "metadata": {
        "id": "rU4ZTUrd1jFX"
      },
      "outputs": [
        {
          "name": "stdout",
          "output_type": "stream",
          "text": [
            "Нормализованный текст: пример текста с разными символами и цифрами\n"
          ]
        }
      ],
      "source": [
        "sample_text = \"Пример текста123, с РАЗНЫМИ символами! И 456 цифрами?!\"\n",
        "def normalization(text):\n",
        "    text = text.lower()\n",
        "\n",
        "    text = text.replace(\"0\", ' ').replace(\"1\", ' ').replace(\"2\", ' ').replace(\"3\", ' ').replace(\"4\", ' ').replace(\"5\", ' ').replace(\"6\", ' ').replace(\"7\", ' ').replace(\"8\", ' ').replace(\"9\", ' ')\n",
        "    \n",
        "    import string\n",
        "    translator = str.maketrans(string.punctuation, ' '*len(string.punctuation))\n",
        "    text = text.translate(translator)\n",
        "\n",
        "    text = ' '.join(text.split())\n",
        "\n",
        "    return text\n",
        "normalize_text = normalization(sample_text)\n",
        "print('Нормализованный текст:', normalize_text)"
      ]
    },
    {
      "cell_type": "markdown",
      "metadata": {
        "id": "waC9ZHWB2Kph"
      },
      "source": [
        "Упражнение 2: Подсчет частотности слов. Напишите функцию, которая будет принимать текст, нормализовать его, токенизировать и возвращать словарь с частотностью каждого слова."
      ]
    },
    {
      "cell_type": "code",
      "execution_count": null,
      "metadata": {
        "id": "HlWO9Bpn2SQo"
      },
      "outputs": [
        {
          "name": "stdout",
          "output_type": "stream",
          "text": [
            "Частотность русских слов: {'компьютерная': 2, 'лингвистика': 2, 'изучает': 1, 'методы': 1, 'обработки': 1, 'текста': 1, 'является': 1, 'областью': 1, 'искусственного': 1, 'интеллекта': 1}\n",
            "Частотность английских слов: {'natural': 2, 'language': 2, 'processing': 2, 'is': 1, 'a': 1, 'field': 1, 'of': 1, 'artificial': 1, 'intelligence': 1, 'focuses': 1, 'on': 1, 'the': 1, 'interaction': 1, 'between': 1, 'computers': 1, 'and': 1, 'humans': 1}\n"
          ]
        }
      ],
      "source": [
        "sample_text = \"Компьютерная лингвистика изучает методы обработки текста. Компьютерная лингвистика является областью искусственного интеллекта.\"\n",
        "english_text = \"Natural language processing is a field of artificial intelligence. Natural language processing focuses on the interaction between computers and humans.\"\n",
        "def frequency(text):\n",
        "    text = text.lower()\n",
        "\n",
        "    text = text.replace(\"0\", ' ').replace(\"1\", ' ').replace(\"2\", ' ').replace(\"3\", ' ').replace(\"4\", ' ').replace(\"5\", ' ').replace(\"6\", ' ').replace(\"7\", ' ').replace(\"8\", ' ').replace(\"9\", ' ')\n",
        "    \n",
        "    import string\n",
        "    translator = str.maketrans(string.punctuation, ' '*len(string.punctuation))\n",
        "    text = text.translate(translator)\n",
        "\n",
        "    text = ' '.join(text.split())\n",
        "    \n",
        "    tokens = text.split()\n",
        "\n",
        "    frequency = {}\n",
        "    for word in tokens:\n",
        "        if word in frequency:\n",
        "            frequency[word] += 1\n",
        "        else:\n",
        "            frequency[word] = 1\n",
        "\n",
        "    return frequency\n",
        "frequency_dictionary_rus = frequency(sample_text)\n",
        "print(\"Частотность русских слов:\", frequency_dictionary_rus)\n",
        "frequency_dictionary_eng = frequency(english_text)\n",
        "print(\"Частотность английских слов:\", frequency_dictionary_eng)"
      ]
    },
    {
      "cell_type": "markdown",
      "metadata": {
        "id": "RPTWlfsD2ehu"
      },
      "source": [
        "Упражнение 3: Поиск самых длинных и коротких слов. Напишите функцию, которая находит самые длинные и самые короткие слова в тексте."
      ]
    },
    {
      "cell_type": "code",
      "execution_count": 8,
      "metadata": {
        "id": "hizov4xW2YhX"
      },
      "outputs": [
        {
          "name": "stdout",
          "output_type": "stream",
          "text": [
            "Самые короткие и самые длинные слова: (['и', 'а', 'в'], ['междисциплинарной'])\n"
          ]
        }
      ],
      "source": [
        "sample_text = \"Компьютерная лингвистика является междисциплинарной областью науки, которая изучает математические и компьютерные модели естественного языка, а также его применение в системах искусственного интеллекта.\"\n",
        "english_text = \"Computational linguistics is an interdisciplinary field of science that studies mathematical and computational models of natural language and its application in artificial intelligence systems.\"\n",
        "\n",
        "def searching(text):\n",
        "    text = text.lower()\n",
        "\n",
        "    text = text.replace(\"0\", ' ').replace(\"1\", ' ').replace(\"2\", ' ').replace(\"3\", ' ').replace(\"4\", ' ').replace(\"5\", ' ').replace(\"6\", ' ').replace(\"7\", ' ').replace(\"8\", ' ').replace(\"9\", ' ')\n",
        "    \n",
        "    import string\n",
        "    translator = str.maketrans(string.punctuation, ' '*len(string.punctuation))\n",
        "    text = text.translate(translator)\n",
        "\n",
        "    words = text.split()\n",
        "\n",
        "    min_length = len(words[0])\n",
        "    max_length = len(words[0])\n",
        "\n",
        "    for word in words:\n",
        "        word_length = len(word)\n",
        "        if word_length < min_length:\n",
        "            min_length = word_length\n",
        "        if word_length > max_length:\n",
        "            max_length = word_length\n",
        "\n",
        "    shortest_words = []\n",
        "    longest_words = []\n",
        "    \n",
        "    for word in words:\n",
        "        if len(word) == min_length and word not in shortest_words:\n",
        "            shortest_words.append(word)\n",
        "        if len(word) == max_length and word not in longest_words:\n",
        "            longest_words.append(word)\n",
        "    \n",
        "    return shortest_words, longest_words\n",
        "chosen_words = searching(sample_text)\n",
        "print(\"Самые короткие и самые длинные слова:\", chosen_words)\n"
      ]
    },
    {
      "cell_type": "markdown",
      "metadata": {
        "id": "wtQ6vmk922D6"
      },
      "source": [
        "Упражнение 4: Поиск и подсчет определенных паттернов. Напишите функцию, которая находит и подсчитывает слова, начинающиеся с определенной буквы или содержащие определенную последовательность букв."
      ]
    },
    {
      "cell_type": "code",
      "execution_count": 4,
      "metadata": {
        "id": "Pv0AYXVp23vc"
      },
      "outputs": [
        {
          "name": "stdout",
          "output_type": "stream",
          "text": [
            "Слова, начинающиеся на 'к': {'компьютерная': 1, 'компьютерные': 1}\n"
          ]
        }
      ],
      "source": [
        "sample_text = \"Компьютерная лингвистика изучает методы обработки текста. Математические модели и компьютерные алгоритмы используются для анализа естественных языков.\"\n",
        "\n",
        "# Поиск слов, начинающихся с 'к'\n",
        "def pattern(text, pattern, position):\n",
        "    text = text.lower()\n",
        "\n",
        "    text = text.replace(\"0\", ' ').replace(\"1\", ' ').replace(\"2\", ' ').replace(\"3\", ' ').replace(\"4\", ' ').replace(\"5\", ' ').replace(\"6\", ' ').replace(\"7\", ' ').replace(\"8\", ' ').replace(\"9\", ' ')\n",
        "    \n",
        "    import string\n",
        "    translator = str.maketrans(string.punctuation, ' '*len(string.punctuation))\n",
        "    text = text.translate(translator)\n",
        "\n",
        "    words = text.split()\n",
        "\n",
        "    result = {}\n",
        "    \n",
        "    for word in words:\n",
        "        if position == \"starts\":\n",
        "            if word.startswith(pattern.lower()):\n",
        "                if word in result:\n",
        "                    result[word] += 1\n",
        "                else:\n",
        "                    result[word] = 1\n",
        "                \n",
        "        elif position == \"ends\":\n",
        "            if word.endswith(pattern.lower()):\n",
        "                if word in result:\n",
        "                    result[word] += 1\n",
        "                else:\n",
        "                    result[word] = 1\n",
        "                \n",
        "        elif position == \"contains\":\n",
        "            if pattern.lower() in word:\n",
        "                if word in result:\n",
        "                    result[word] += 1\n",
        "                else:\n",
        "                    result[word] = 1\n",
        "    return result\n",
        "search = pattern(sample_text, \"к\", \"starts\")\n",
        "print(\"Слова, начинающиеся на 'к':\", search)\n"
      ]
    },
    {
      "cell_type": "code",
      "execution_count": 6,
      "metadata": {
        "id": "1i4Yjoum26nz"
      },
      "outputs": [
        {
          "name": "stdout",
          "output_type": "stream",
          "text": [
            "Слова, содержащие 'ing': {'linguistics': 1, 'processing': 1}\n"
          ]
        }
      ],
      "source": [
        "english_text = \"Computational linguistics studies methods of text processing. Mathematical models and computer algorithms are used to analyze natural languages.\"\n",
        "\n",
        "# Поиск слов, содержащих 'ing'\n",
        "def pattern(text, pattern, position):\n",
        "    text = text.lower()\n",
        "\n",
        "    text = text.replace(\"0\", ' ').replace(\"1\", ' ').replace(\"2\", ' ').replace(\"3\", ' ').replace(\"4\", ' ').replace(\"5\", ' ').replace(\"6\", ' ').replace(\"7\", ' ').replace(\"8\", ' ').replace(\"9\", ' ')\n",
        "    \n",
        "    import string\n",
        "    translator = str.maketrans(string.punctuation, ' '*len(string.punctuation))\n",
        "    text = text.translate(translator)\n",
        "\n",
        "    words = text.split()\n",
        "\n",
        "    result = {}\n",
        "    \n",
        "    for word in words:\n",
        "        if position == \"starts\":\n",
        "            if word.startswith(pattern.lower()):\n",
        "                if word in result:\n",
        "                    result[word] += 1\n",
        "                else:\n",
        "                    result[word] = 1\n",
        "                \n",
        "        elif position == \"ends\":\n",
        "            if word.endswith(pattern.lower()):\n",
        "                if word in result:\n",
        "                    result[word] += 1\n",
        "                else:\n",
        "                    result[word] = 1\n",
        "                \n",
        "        elif position == \"contains\":\n",
        "            if pattern.lower() in word:\n",
        "                if word in result:\n",
        "                    result[word] += 1\n",
        "                else:\n",
        "                    result[word] = 1\n",
        "    return result\n",
        "search = pattern(english_text, \"ing\", \"contains\")\n",
        "print(\"Слова, содержащие 'ing':\", search)"
      ]
    },
    {
      "cell_type": "markdown",
      "metadata": {
        "id": "anDhdjLG3M1A"
      },
      "source": [
        "Упражнение 5: Анализ предложений в тексте. Напишите функцию, которая анализирует текст на уровне предложений, подсчитывая:\n",
        "\n",
        "1. Количество предложений\n",
        "2. Среднюю длину предложения (в словах)\n",
        "3. Самое длинное и самое короткое предложение\n"
      ]
    },
    {
      "cell_type": "code",
      "execution_count": 8,
      "metadata": {
        "id": "QQd2ZgIj3YlJ"
      },
      "outputs": [
        {
          "name": "stdout",
          "output_type": "stream",
          "text": [
            "Результаты анализа предложений:\n",
            "Количество предложений: 4\n",
            "Средняя длина предложения (в словах): 9.75\n",
            "Самое длинное предложение: 'Методы компьютерной лингвистики применяются для решения различных задач, таких как машинный перевод, автоматическое реферирование и информационный поиск.' (17 слов)\n",
            "Самое короткое предложение: 'Компьютерная лингвистика — это междисциплинарная область науки.' (7 слов)\n"
          ]
        }
      ],
      "source": [
        "sample_text = \"\"\"Компьютерная лингвистика — это междисциплинарная область науки.\n",
        "Она изучает математические и компьютерные модели естественного языка.\n",
        "Методы компьютерной лингвистики применяются для решения различных задач, таких как машинный перевод, автоматическое реферирование и информационный поиск.\n",
        "Современные алгоритмы позволяют анализировать большие объемы текстов.\"\"\"\n",
        "\n",
        "def analyze(text):\n",
        "    \n",
        "    for end_mark in ['.', '!', '?']:\n",
        "        text = text.replace(end_mark, f'{end_mark}SENTENCE_END')\n",
        "    sentences = text.split('SENTENCE_END')\n",
        "    sentences = [sentence.strip() for sentence in sentences if sentence.strip()]\n",
        "\n",
        "    sentence_lengths = []\n",
        "    words_in_sentences = []\n",
        "    \n",
        "    for sentence in sentences:\n",
        "        processed_sentence = sentence.lower()\n",
        "        \n",
        "        for number in \"0123456789\":\n",
        "            processed_sentence = processed_sentence.replace(number, ' ')\n",
        "        \n",
        "        import string\n",
        "        translator = str.maketrans(string.punctuation, ' '*len(string.punctuation))\n",
        "        processed_sentence = processed_sentence.translate(translator)\n",
        "\n",
        "        words = [word for word in processed_sentence.split() if word]\n",
        "        word_count = len(words)\n",
        "        \n",
        "        sentence_lengths.append(word_count)\n",
        "        words_in_sentences.append((sentence, words))\n",
        "    \n",
        "    total_sentences = len(sentences)\n",
        "    average_length = sum(sentence_lengths) / total_sentences\n",
        "\n",
        "    max_length_index = sentence_lengths.index(max(sentence_lengths))\n",
        "    min_length_index = sentence_lengths.index(min(sentence_lengths))\n",
        "\n",
        "    longest_sentence = sentences[max_length_index]\n",
        "    shortest_sentence = sentences[min_length_index]\n",
        "    \n",
        "    return {\n",
        "        \"total_sentences\": total_sentences,\n",
        "        \"average_length\": round(average_length, 2),\n",
        "        \"longest_sentence\": longest_sentence,\n",
        "        \"longest_sentence_length\": sentence_lengths[max_length_index],\n",
        "        \"shortest_sentence\": shortest_sentence,\n",
        "        \"shortest_sentence_length\": sentence_lengths[min_length_index],\n",
        "        \"sentence_lengths\": sentence_lengths,\n",
        "        \"sentences_with_words\": words_in_sentences\n",
        "    }\n",
        "\n",
        "result = analyze(sample_text)\n",
        "\n",
        "print(\"Результаты анализа предложений:\")\n",
        "print(f\"Количество предложений: {result['total_sentences']}\")\n",
        "print(f\"Средняя длина предложения (в словах): {result['average_length']}\")\n",
        "print(f\"Самое длинное предложение: '{result['longest_sentence']}' ({result['longest_sentence_length']} слов)\")\n",
        "print(f\"Самое короткое предложение: '{result['shortest_sentence']}' ({result['shortest_sentence_length']} слов)\")"
      ]
    },
    {
      "cell_type": "code",
      "execution_count": 9,
      "metadata": {
        "id": "N7pW-9_c3rmI"
      },
      "outputs": [
        {
          "name": "stdout",
          "output_type": "stream",
          "text": [
            "Результаты анализа предложений:\n",
            "Количество предложений: 4\n",
            "Средняя длина предложения (в словах): 11.0\n",
            "Самое длинное предложение: 'Methods of computational linguistics are applied to solve various tasks such as machine translation, automatic summarization, and information retrieval.' (19 слов)\n",
            "Самое короткое предложение: 'Computational linguistics is an interdisciplinary field of science.' (8 слов)\n"
          ]
        }
      ],
      "source": [
        "english_text = \"\"\"Computational linguistics is an interdisciplinary field of science.\n",
        "It studies mathematical and computational models of natural language.\n",
        "Methods of computational linguistics are applied to solve various tasks such as machine translation, automatic summarization, and information retrieval.\n",
        "Modern algorithms allow analyzing large volumes of texts.\"\"\"\n",
        "\n",
        "def analyze(text):\n",
        "    \n",
        "    for end_mark in ['.', '!', '?']:\n",
        "        text = text.replace(end_mark, f'{end_mark}SENTENCE_END')\n",
        "    sentences = text.split('SENTENCE_END')\n",
        "    sentences = [sentence.strip() for sentence in sentences if sentence.strip()]\n",
        "\n",
        "    sentence_lengths = []\n",
        "    words_in_sentences = []\n",
        "    \n",
        "    for sentence in sentences:\n",
        "        processed_sentence = sentence.lower()\n",
        "        \n",
        "        for number in \"0123456789\":\n",
        "            processed_sentence = processed_sentence.replace(number, ' ')\n",
        "        \n",
        "        import string\n",
        "        translator = str.maketrans(string.punctuation, ' '*len(string.punctuation))\n",
        "        processed_sentence = processed_sentence.translate(translator)\n",
        "\n",
        "        words = [word for word in processed_sentence.split() if word]\n",
        "        word_count = len(words)\n",
        "        \n",
        "        sentence_lengths.append(word_count)\n",
        "        words_in_sentences.append((sentence, words))\n",
        "    \n",
        "    total_sentences = len(sentences)\n",
        "    average_length = sum(sentence_lengths) / total_sentences\n",
        "\n",
        "    max_length_index = sentence_lengths.index(max(sentence_lengths))\n",
        "    min_length_index = sentence_lengths.index(min(sentence_lengths))\n",
        "\n",
        "    longest_sentence = sentences[max_length_index]\n",
        "    shortest_sentence = sentences[min_length_index]\n",
        "    \n",
        "    return {\n",
        "        \"total_sentences\": total_sentences,\n",
        "        \"average_length\": round(average_length, 2),\n",
        "        \"longest_sentence\": longest_sentence,\n",
        "        \"longest_sentence_length\": sentence_lengths[max_length_index],\n",
        "        \"shortest_sentence\": shortest_sentence,\n",
        "        \"shortest_sentence_length\": sentence_lengths[min_length_index],\n",
        "        \"sentence_lengths\": sentence_lengths,\n",
        "        \"sentences_with_words\": words_in_sentences\n",
        "    }\n",
        "\n",
        "result = analyze(english_text)\n",
        "\n",
        "print(\"Результаты анализа предложений:\")\n",
        "print(f\"Количество предложений: {result['total_sentences']}\")\n",
        "print(f\"Средняя длина предложения (в словах): {result['average_length']}\")\n",
        "print(f\"Самое длинное предложение: '{result['longest_sentence']}' ({result['longest_sentence_length']} слов)\")\n",
        "print(f\"Самое короткое предложение: '{result['shortest_sentence']}' ({result['shortest_sentence_length']} слов)\")"
      ]
    },
    {
      "cell_type": "markdown",
      "metadata": {
        "id": "ZE7TEjrM37te"
      },
      "source": [
        "**5. Домашнее задание**"
      ]
    },
    {
      "cell_type": "markdown",
      "metadata": {},
      "source": [
        "1) Напишите функцию для нормализации текста, которая:\n",
        "\n",
        "1. Приводит текст к нижнему регистру\n",
        "2. Удаляет все знаки пунктуации\n",
        "3. Заменяет все цифры на символ '#'\n",
        "4. Удаляет лишние пробелы"
      ]
    },
    {
      "cell_type": "code",
      "execution_count": 12,
      "metadata": {},
      "outputs": [
        {
          "name": "stdout",
          "output_type": "stream",
          "text": [
            "Нормализованный текст: пример текста### с разными символами и ### цифрами\n"
          ]
        }
      ],
      "source": [
        "sample_text = \"Пример текста123,      с РАЗНЫМИ символами!         И 456 цифрами?!\"\n",
        "def normalization(text):\n",
        "    text = text.lower()\n",
        "\n",
        "    import string\n",
        "    translator = str.maketrans(string.punctuation, ' '*len(string.punctuation))\n",
        "    text = text.translate(translator)\n",
        "\n",
        "    for number in \"0123456789\":\n",
        "            text = text.replace(number, '#')\n",
        "\n",
        "    text = ' '.join(text.split())\n",
        "\n",
        "    return text\n",
        "normalize_text = normalization(sample_text)\n",
        "print('Нормализованный текст:', normalize_text)"
      ]
    },
    {
      "cell_type": "markdown",
      "metadata": {},
      "source": [
        "2) Напишите функцию, которая находит и выводит все слова из текста, содержащие гласные в определенной последовательности (например, 'о' и затем 'а')."
      ]
    },
    {
      "cell_type": "code",
      "execution_count": 13,
      "metadata": {},
      "outputs": [
        {
          "name": "stdout",
          "output_type": "stream",
          "text": [
            "Слова, содержащие гласные 'о' и затем 'а': ['компьютерная', 'область', 'она', 'автоматическое', 'реферирование', 'информационный', 'анализировать']\n"
          ]
        }
      ],
      "source": [
        "sample_text = \"\"\"Компьютерная лингвистика — это междисциплинарная область науки.\n",
        "Она изучает математические и компьютерные модели естественного языка.\n",
        "Методы компьютерной лингвистики применяются для решения различных задач, таких как машинный перевод, автоматическое реферирование и информационный поиск.\n",
        "Современные алгоритмы позволяют анализировать большие объемы текстов.\"\"\"\n",
        "\n",
        "def search_words(text, first_vowel, second_vowel):\n",
        "\n",
        "    text = text.lower()\n",
        "    first_vowel = first_vowel.lower()\n",
        "    second_vowel = second_vowel.lower()\n",
        "\n",
        "    for numbers in \"0123456789\":\n",
        "        text = text.replace(numbers, ' ')\n",
        "    \n",
        "    import string\n",
        "    translator = str.maketrans(string.punctuation, ' '*len(string.punctuation))\n",
        "    text = text.translate(translator)\n",
        "    \n",
        "    words = [word for word in text.split() if word]\n",
        "    \n",
        "    result = []\n",
        "    \n",
        "    for word in words:\n",
        "        first_position = word.find(first_vowel)\n",
        "        second_position = word.find(second_vowel, first_position + 1)\n",
        "        \n",
        "        if first_position != -1 and second_position != -1:\n",
        "            result.append(word)\n",
        "    \n",
        "    return result\n",
        "\n",
        "result = search_words(sample_text, 'о', 'а')\n",
        "print(\"Слова, содержащие гласные 'о' и затем 'а':\", result)"
      ]
    },
    {
      "cell_type": "markdown",
      "metadata": {},
      "source": [
        "3) Создайте функцию, которая:\n",
        "\n",
        "1. Токенизирует текст\n",
        "2. Отбирает только слова длиной более 4 символов\n",
        "3. Сортирует их по алфавиту\n",
        "4. Возвращает первые 10 слов"
      ]
    },
    {
      "cell_type": "code",
      "execution_count": null,
      "metadata": {},
      "outputs": [
        {
          "name": "stdout",
          "output_type": "stream",
          "text": [
            "Первые 10 слов длиной более 4 символов, отсортированные по алфавиту: ['автоматическое', 'алгоритмы', 'анализировать', 'большие', 'естественного', 'задач', 'изучает', 'информационный', 'компьютерная', 'компьютерной']\n"
          ]
        }
      ],
      "source": [
        "sample_text = \"\"\"Компьютерная лингвистика — это междисциплинарная область науки.\n",
        "Она изучает математические и компьютерные модели естественного языка.\n",
        "Методы компьютерной лингвистики применяются для решения различных задач, таких как машинный перевод, автоматическое реферирование и информационный поиск.\n",
        "Современные алгоритмы позволяют анализировать большие объемы текстов.\"\"\"\n",
        "\n",
        "def sort(text):\n",
        "\n",
        "    text = text.lower()\n",
        "\n",
        "    for numbers in \"0123456789\":\n",
        "        text = text.replace(numbers, ' ')\n",
        "    \n",
        "    import string\n",
        "    translator = str.maketrans(string.punctuation, ' '*len(string.punctuation))\n",
        "    text = text.translate(translator)\n",
        "    \n",
        "    words = [word for word in text.split() if word]\n",
        "    \n",
        "    long_words = []\n",
        "    for word in words:\n",
        "        if len(word) > 4:\n",
        "            long_words.append(word)\n",
        "    \n",
        "    sorted_words = sorted(long_words)\n",
        "    \n",
        "    return sorted_words[:10]\n",
        "\n",
        "result = sort(sample_text)\n",
        "print(\"Первые 10 слов длиной более 4 символов, отсортированные по алфавиту:\", result)\n"
      ]
    },
    {
      "cell_type": "markdown",
      "metadata": {},
      "source": [
        "4) Напишите функцию для анализа частотности символов в тексте, которая возвращает 5 самых часто встречающихся символов и их количество."
      ]
    },
    {
      "cell_type": "code",
      "execution_count": 21,
      "metadata": {},
      "outputs": [
        {
          "name": "stdout",
          "output_type": "stream",
          "text": [
            "5 самых часто встречающихся символов в тексте: [(' ', 35), ('и', 32), ('е', 30), ('о', 25), ('а', 25)]\n"
          ]
        }
      ],
      "source": [
        "sample_text = \"\"\"Компьютерная лингвистика — это междисциплинарная область науки.\n",
        "Она изучает математические и компьютерные модели естественного языка.\n",
        "Методы компьютерной лингвистики применяются для решения различных задач, таких как машинный перевод, автоматическое реферирование и информационный поиск.\n",
        "Современные алгоритмы позволяют анализировать большие объемы текстов.\"\"\"\n",
        "\n",
        "def symbols_frequency(text):\n",
        "\n",
        "    symbols_frequency = {}\n",
        "    \n",
        "    for i in text:\n",
        "        if i in symbols_frequency:\n",
        "            symbols_frequency[i] += 1\n",
        "        else:\n",
        "            symbols_frequency[i] = 1\n",
        "    \n",
        "    def get_frequency(item):\n",
        "        return item[1]\n",
        "\n",
        "    sorted_symbols = sorted(symbols_frequency.items(), key=get_frequency, reverse=True)\n",
        "    \n",
        "    top_symbols = sorted_symbols[:5]\n",
        "    \n",
        "    return top_symbols\n",
        "\n",
        "result = symbols_frequency(sample_text)\n",
        "print(\"5 самых часто встречающихся символов в тексте:\", result)"
      ]
    },
    {
      "cell_type": "markdown",
      "metadata": {},
      "source": [
        "5) Напишите программу, которая разделяет текст на параграфы (по двойному переносу строки), а затем подсчитывает для каждого параграфа: количество предложений, количество слов, среднюю длину слова"
      ]
    },
    {
      "cell_type": "code",
      "execution_count": 24,
      "metadata": {},
      "outputs": [
        {
          "name": "stdout",
          "output_type": "stream",
          "text": [
            "Параграф 1:\n",
            "Количество предложений: 2\n",
            "Количество слов: 15\n",
            "Средняя длина слова: 7.8 символов\n",
            "Параграф 2:\n",
            "Количество предложений: 2\n",
            "Количество слов: 17\n",
            "Средняя длина слова: 7.88 символов\n",
            "Параграф 3:\n",
            "Количество предложений: 2\n",
            "Количество слов: 13\n",
            "Средняя длина слова: 7.69 символов\n"
          ]
        }
      ],
      "source": [
        "sample_text = \"\"\"Компьютерная лингвистика — это междисциплинарная область науки. Она изучает математические и компьютерные модели естественного языка.\n",
        "\n",
        "Методы компьютерной лингвистики применяются для решения различных задач. Таких как машинный перевод, автоматическое реферирование и информационный поиск.\n",
        "\n",
        "Современные алгоритмы позволяют анализировать большие объемы текстов. Это важно для обработки естественного языка.\"\"\"\n",
        "\n",
        "def analize_paragraphs(text):\n",
        "    paragraphs = text.split('\\n\\n')\n",
        "    \n",
        "    results = []\n",
        "    \n",
        "    for i, paragraph in enumerate(paragraphs, 1):\n",
        "        if not paragraph.strip():\n",
        "            continue\n",
        "        sentences = split_sentences(paragraph)\n",
        "        \n",
        "        words = words_split(paragraph)\n",
        "        \n",
        "        total_symbols = sum(len(word) for word in words)\n",
        "        avg_word_length = total_symbols / len(words)\n",
        "        \n",
        "        results.append({\n",
        "            'paragraph_number': i,\n",
        "            'text': paragraph.strip(),\n",
        "            'sentence_count': len(sentences),\n",
        "            'word_count': len(words),\n",
        "            'average_word_length': round(avg_word_length, 2),\n",
        "            'sentences': sentences,\n",
        "            'words': words\n",
        "        })\n",
        "    \n",
        "    return results\n",
        "\n",
        "def split_sentences(text):\n",
        "    sentences = []\n",
        "    current_sentence = \"\"\n",
        "    \n",
        "    for j in text:\n",
        "        current_sentence += j\n",
        "        if j in '.!?':\n",
        "            sentence = current_sentence.strip()\n",
        "            if sentence:\n",
        "                sentences.append(sentence)\n",
        "            current_sentence = \"\"\n",
        "    \n",
        "    if current_sentence.strip():\n",
        "        sentences.append(current_sentence.strip())\n",
        "    \n",
        "    return sentences\n",
        "\n",
        "def words_split(text):\n",
        "    text = text.lower()\n",
        "\n",
        "    for numbers in \"0123456789\":\n",
        "        text = text.replace(numbers, ' ')\n",
        "    \n",
        "    import string\n",
        "    translator = str.maketrans(string.punctuation, ' '*len(string.punctuation))\n",
        "    text = text.translate(translator)\n",
        "    \n",
        "    words = [word for word in text.split() if word]\n",
        "    \n",
        "    return words\n",
        "\n",
        "\n",
        "results = analize_paragraphs(sample_text)\n",
        "\n",
        "for result in results:\n",
        "    print(f\"Параграф {result['paragraph_number']}:\")\n",
        "    print(f\"Количество предложений: {result['sentence_count']}\")\n",
        "    print(f\"Количество слов: {result['word_count']}\")\n",
        "    print(f\"Средняя длина слова: {result['average_word_length']} символов\")"
      ]
    }
  ],
  "metadata": {
    "colab": {
      "provenance": []
    },
    "kernelspec": {
      "display_name": "Python 3",
      "name": "python3"
    },
    "language_info": {
      "codemirror_mode": {
        "name": "ipython",
        "version": 3
      },
      "file_extension": ".py",
      "mimetype": "text/x-python",
      "name": "python",
      "nbconvert_exporter": "python",
      "pygments_lexer": "ipython3",
      "version": "3.11.9"
    }
  },
  "nbformat": 4,
  "nbformat_minor": 0
}
