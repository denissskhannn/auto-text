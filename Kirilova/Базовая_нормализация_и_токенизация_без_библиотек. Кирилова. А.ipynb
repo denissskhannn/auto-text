{
  "cells": [
    {
      "cell_type": "markdown",
      "metadata": {
        "id": "xaCyWYJ6uGfk"
      },
      "source": [
        "В этом ноутбуке вы узнаете:\n",
        "\n",
        "1.   Как использовать встроенные методы Python для работы со строками\n",
        "2.   Как выполнять базовую нормализацию текста\n",
        "3. Как токенизировать текст с помощью простых методов\n",
        "4. Как применять эти навыки на практике\n"
      ]
    },
    {
      "cell_type": "markdown",
      "metadata": {
        "id": "T4-yFhGcy934"
      },
      "source": [
        "**1. Основные понятия и функции**"
      ]
    },
    {
      "cell_type": "markdown",
      "metadata": {
        "id": "mMYBk9PluRfs"
      },
      "source": [
        "В Python текст представлен в виде строк (тип данных str). Строки можно создавать, используя одинарные или двойные кавычки."
      ]
    },
    {
      "cell_type": "code",
      "execution_count": null,
      "metadata": {
        "id": "tXalOImZuMdk"
      },
      "outputs": [],
      "source": [
        "# Создание строк\n",
        "text1 = 'Это текст в \"одинарных\" кавычках'\n",
        "text2 = \"Это текст в 'двойных' кавычках\"\n",
        "text3 = '''Это текст в \"тройных\" кавычках'''\n",
        "text4 = '''Это\n",
        "текст\n",
        "в 'тройных'\n",
        "кавычках'''\n",
        "\n",
        "# Вывод строк\n",
        "print(text1)\n",
        "print(text2)\n",
        "print(text3)\n",
        "print(text4)"
      ]
    },
    {
      "cell_type": "markdown",
      "metadata": {
        "id": "4dVUdNKvuYvU"
      },
      "source": [
        "1.1. Индексация и срезы строк.\n",
        "Строки в Python — это последовательности символов, к которым можно обращаться по индексу. Индексация начинается с 0."
      ]
    },
    {
      "cell_type": "code",
      "execution_count": 3,
      "metadata": {
        "id": "8RlZDm97uVrC"
      },
      "outputs": [
        {
          "name": "stdout",
          "output_type": "stream",
          "text": [
            "Первый символ: К\n",
            "Пятый символ: ь\n",
            "Первые 12 символов: Компьютерная\n",
            "С 13-го символа до конца: лингвистика\n",
            "С 5-го по 10-й символ: ютерна\n"
          ]
        }
      ],
      "source": [
        "# Строка для примеров\n",
        "sample_text = \"Компьютерная лингвистика\"\n",
        "\n",
        "# Получение отдельного символа\n",
        "print(\"Первый символ:\", sample_text[0])\n",
        "print(\"Пятый символ:\", sample_text[4])\n",
        "\n",
        "# Срезы строк\n",
        "print(\"Первые 12 символов:\", sample_text[:12])  # от начала до 12-го символа (не включая)\n",
        "print(\"С 13-го символа до конца:\", sample_text[13:])  # с 13-го символа до конца\n",
        "print(\"С 5-го по 10-й символ:\", sample_text[5:11])  # с 5-го по 10-й символ (11-й не включается)"
      ]
    },
    {
      "cell_type": "markdown",
      "metadata": {
        "id": "-oi1N22TvbQx"
      },
      "source": [
        "1.2. Основные методы строк\n",
        "Python предоставляет множество встроенных методов для работы со строками. Рассмотрим наиболее полезные для обработки текста:"
      ]
    },
    {
      "cell_type": "code",
      "execution_count": 4,
      "metadata": {
        "id": "vkcKQqqgvcpk"
      },
      "outputs": [
        {
          "name": "stdout",
          "output_type": "stream",
          "text": [
            "После strip(): Пример текста для анализа.\n",
            "После lower():    пример текста для анализа.   \n",
            "После upper():    ПРИМЕР ТЕКСТА ДЛЯ АНАЛИЗА.   \n",
            "Начинается с 'Пример'? True\n",
            "Заканчивается на '.'? True\n",
            "После replace():    Пример текста для обработки.   \n",
            "Количество пробелов: 9\n"
          ]
        }
      ],
      "source": [
        "# Строка для примеров\n",
        "text = \"   Пример текста для анализа.   \"\n",
        "\n",
        "# Удаление пробелов в начале и конце строки\n",
        "print(\"После strip():\", text.strip())\n",
        "\n",
        "# Перевод в нижний регистр\n",
        "print(\"После lower():\", text.lower())\n",
        "\n",
        "# Перевод в верхний регистр\n",
        "print(\"После upper():\", text.upper())\n",
        "\n",
        "# Проверка, начинается ли строка с определенной подстроки\n",
        "print(\"Начинается с 'Пример'?\", text.strip().startswith(\"Пример\"))\n",
        "\n",
        "# Проверка, заканчивается ли строка определенной подстрокой\n",
        "print(\"Заканчивается на '.'?\", text.strip().endswith(\".\"))\n",
        "\n",
        "# Замена подстроки\n",
        "print(\"После replace():\", text.replace(\"анализа\", \"обработки\"))\n",
        "\n",
        "# Подсчет вхождений подстроки\n",
        "print(\"Количество пробелов:\", text.count(\" \"))"
      ]
    },
    {
      "cell_type": "markdown",
      "metadata": {
        "id": "-oEf7vLCvvzL"
      },
      "source": [
        "1.3. Конкатенация строк и форматирование.\n",
        "Существует несколько способов объединения строк в Python:"
      ]
    },
    {
      "cell_type": "code",
      "execution_count": 5,
      "metadata": {
        "id": "CS50TkzKvwfk"
      },
      "outputs": [
        {
          "name": "stdout",
          "output_type": "stream",
          "text": [
            "Полное имя: Иван Петров\n",
            "Меня зовут Иван Петров, мне 25 лет.\n",
            "Меня зовут Иван Петров, мне 25 лет.\n",
            "Меня зовут Иван Петров, мне 25 лет.\n"
          ]
        }
      ],
      "source": [
        "# Простая конкатенация с помощью оператора +\n",
        "first_name = \"Иван\"\n",
        "last_name = \"Петров\"\n",
        "full_name = first_name + \" \" + last_name\n",
        "print(\"Полное имя:\", full_name)\n",
        "\n",
        "# Форматирование строк с помощью метода format()\n",
        "age = 25\n",
        "message = \"Меня зовут {}, мне {} лет.\".format(full_name, age)\n",
        "print(message)\n",
        "\n",
        "# f-строки (начиная с Python 3.6)\n",
        "message_f = f\"Меня зовут {full_name}, мне {age} лет.\"\n",
        "print(message_f)\n",
        "\n",
        "# Использование %\n",
        "message_old = \"Меня зовут %s, мне %d лет.\" % (full_name, age)\n",
        "print(message_old)"
      ]
    },
    {
      "cell_type": "markdown",
      "metadata": {
        "id": "e0K6mt6Vv6gV"
      },
      "source": [
        "**2. Базовая нормализация текста**"
      ]
    },
    {
      "cell_type": "markdown",
      "metadata": {
        "id": "hL2BXNo8wEVY"
      },
      "source": [
        "Нормализация текста — это процесс преобразования текста к стандартному виду для облегчения его дальнейшей обработки. Рассмотрим базовые операции нормализации."
      ]
    },
    {
      "cell_type": "markdown",
      "metadata": {
        "id": "J5Gk1AnRwHK0"
      },
      "source": [
        "2.1. Приведение к нижнему регистру помогает унифицировать текст. Обычно используется нижний регистр."
      ]
    },
    {
      "cell_type": "code",
      "execution_count": 6,
      "metadata": {
        "id": "vNNMpCqOv2Dz"
      },
      "outputs": [
        {
          "name": "stdout",
          "output_type": "stream",
          "text": [
            "Исходный текст: КомпьЮтерная ЛИНГвистика изучает Методы Автоматической Обработки Текста.\n",
            "Нормализованный текст: компьютерная лингвистика изучает методы автоматической обработки текста.\n",
            "Английский текст после нормализации: natural language processing (nlp) is a field of ai.\n"
          ]
        }
      ],
      "source": [
        "# Пример текста с разным регистром\n",
        "mixed_case_text = \"КомпьЮтерная ЛИНГвистика изучает Методы Автоматической Обработки Текста.\"\n",
        "\n",
        "# Приведение к нижнему регистру\n",
        "normalized_text = mixed_case_text.lower()\n",
        "print(\"Исходный текст:\", mixed_case_text)\n",
        "print(\"Нормализованный текст:\", normalized_text)\n",
        "\n",
        "# Пример на английском\n",
        "english_text = \"Natural Language Processing (NLP) is a FIELD of AI.\"\n",
        "print(\"Английский текст после нормализации:\", english_text.lower())"
      ]
    },
    {
      "cell_type": "markdown",
      "metadata": {
        "id": "Vlwzl4-bw7u9"
      },
      "source": [
        "2.2. Удаление лишних пробелов. Часто тексты содержат лишние пробелы, которые нужно удалить.\n",
        "\n",
        "\n"
      ]
    },
    {
      "cell_type": "code",
      "execution_count": 7,
      "metadata": {
        "id": "AioDUYPrw-Hl"
      },
      "outputs": [
        {
          "name": "stdout",
          "output_type": "stream",
          "text": [
            "После strip(): В  этом   тексте  есть  лишние    пробелы.\n",
            "Нормализация: В этом тексте есть лишние пробелы.\n",
            "Английский текст после нормализации пробелов: This text has extra spaces.\n"
          ]
        }
      ],
      "source": [
        "# Текст с лишними пробелами\n",
        "text_with_spaces = \"   В  этом   тексте  есть  лишние    пробелы.   \"\n",
        "\n",
        "# Удаление пробелов в начале и конце\n",
        "trimmed_text = text_with_spaces.strip()\n",
        "print(\"После strip():\", trimmed_text)\n",
        "\n",
        "words = trimmed_text.split()  # Разбиваем текст на слова\n",
        "normalized_manually = ' '.join(words)  # Объединяем слова с одним пробелом\n",
        "print(\"Нормализация:\", normalized_manually)\n",
        "\n",
        "# Пример на английском\n",
        "english_spaces = \"  This   text   has   extra   spaces. \"\n",
        "english_normalized = ' '.join(english_spaces.strip().split())\n",
        "print(\"Английский текст после нормализации пробелов:\", english_normalized)"
      ]
    },
    {
      "cell_type": "markdown",
      "metadata": {
        "id": "M7bFiY8syfRf"
      },
      "source": [
        "2.3. Удаление пунктуации. Для многих задач обработки текста необходимо удалить знаки пунктуации."
      ]
    },
    {
      "cell_type": "code",
      "execution_count": 8,
      "metadata": {
        "id": "g7M5Bna1yjB1"
      },
      "outputs": [
        {
          "name": "stdout",
          "output_type": "stream",
          "text": [
            "Знаки пунктуации: !\"#$%&'()*+,-./:;<=>?@[\\]^_`{|}~\n",
            "Текст без пунктуации (метод 1): Привет мир Как дела Это  пример текста с разными знаками пунктуации\n",
            "Текст без пунктуации (метод 2): Привет мир Как дела Это  пример текста с разными знаками пунктуации\n",
            "Английский текст без пунктуации: Hello world How are you This is a sample text with various punctuation marks\n"
          ]
        }
      ],
      "source": [
        "# Текст с пунктуацией\n",
        "text_with_punctuation = \"Привет, мир! Как дела? Это - пример текста; с разными знаками пунктуации.\"\n",
        "\n",
        "# Определение знаков пунктуации для удаления\n",
        "import string\n",
        "punctuation = string.punctuation  # !\"#$%&'()*+,-./:;<=>?@[\\]^_`{|}~\n",
        "print(\"Знаки пунктуации:\", punctuation)\n",
        "\n",
        "# Удаление пунктуации (метод 1)\n",
        "no_punctuation = ''.join(char for char in text_with_punctuation if char not in punctuation)\n",
        "print(\"Текст без пунктуации (метод 1):\", no_punctuation)\n",
        "\n",
        "# Удаление пунктуации (метод 2)\n",
        "translator = str.maketrans('', '', punctuation)\n",
        "no_punctuation2 = text_with_punctuation.translate(translator)\n",
        "print(\"Текст без пунктуации (метод 2):\", no_punctuation2)\n",
        "\n",
        "# Пример на английском\n",
        "english_punctuation = \"Hello, world! How are you? This is a sample text; with various punctuation marks.\"\n",
        "english_no_punctuation = english_punctuation.translate(translator)\n",
        "print(\"Английский текст без пунктуации:\", english_no_punctuation)"
      ]
    },
    {
      "cell_type": "markdown",
      "metadata": {
        "id": "cCzDj3GayrSf"
      },
      "source": [
        "2.4. Комплексная нормализация текста. Объединим все изученные методы для комплексной нормализации текста."
      ]
    },
    {
      "cell_type": "code",
      "execution_count": 9,
      "metadata": {
        "id": "-EQfaUxNyuOm"
      },
      "outputs": [
        {
          "name": "stdout",
          "output_type": "stream",
          "text": [
            "Исходный русский текст:    Компьютерная    ЛИНГВИСТИКА - это ОБЛАСТЬ науки, изучающая   методы автоматической    обработки текста!   \n",
            "Нормализованный русский текст: компьютерная лингвистика это область науки изучающая методы автоматической обработки текста\n",
            "Исходный английский текст:    Natural    LANGUAGE Processing (NLP) - is a FIELD of AI, focusing   on text analysis!   \n",
            "Нормализованный английский текст: natural language processing nlp is a field of ai focusing on text analysis\n"
          ]
        }
      ],
      "source": [
        "def normalize_text(text):\n",
        "    \"\"\"\n",
        "    Функция для комплексной нормализации текста:\n",
        "    1. Приведение к нижнему регистру\n",
        "    2. Удаление лишних пробелов\n",
        "    3. Удаление пунктуации\n",
        "    \"\"\"\n",
        "    # Шаг 1: Приведение к нижнему регистру\n",
        "    text = text.lower()\n",
        "\n",
        "    # Шаг 2: Удаление пунктуации\n",
        "    translator = str.maketrans('', '', string.punctuation)\n",
        "    text = text.translate(translator)\n",
        "\n",
        "    # Шаг 3: Удаление лишних пробелов\n",
        "    text = ' '.join(text.split())\n",
        "\n",
        "    return text\n",
        "\n",
        "# Проверка функции на русском тексте\n",
        "russian_text = \"   Компьютерная    ЛИНГВИСТИКА - это ОБЛАСТЬ науки, изучающая   методы автоматической    обработки текста!   \"\n",
        "normalized_russian = normalize_text(russian_text)\n",
        "print(\"Исходный русский текст:\", russian_text)\n",
        "print(\"Нормализованный русский текст:\", normalized_russian)\n",
        "\n",
        "# Проверка функции на английском тексте\n",
        "english_text = \"   Natural    LANGUAGE Processing (NLP) - is a FIELD of AI, focusing   on text analysis!   \"\n",
        "normalized_english = normalize_text(english_text)\n",
        "print(\"Исходный английский текст:\", english_text)\n",
        "print(\"Нормализованный английский текст:\", normalized_english)"
      ]
    },
    {
      "cell_type": "markdown",
      "metadata": {
        "id": "H2IvHG_yy1uJ"
      },
      "source": [
        "**3. Простая токенизация текста**"
      ]
    },
    {
      "cell_type": "markdown",
      "metadata": {
        "id": "ISndfr9tzMRC"
      },
      "source": [
        "Токенизация — это процесс разделения текста на отдельные токены (обычно слова или предложения). Рассмотрим простые методы токенизации с использованием встроенных возможностей Python."
      ]
    },
    {
      "cell_type": "markdown",
      "metadata": {
        "id": "sjvNUNImzP5i"
      },
      "source": [
        "3.1. Токенизация по пробелам. Самый простой способ токенизации — разделение текста по пробелам с помощью метода .split()."
      ]
    },
    {
      "cell_type": "code",
      "execution_count": 10,
      "metadata": {
        "id": "pRMRYdZfzTk2"
      },
      "outputs": [
        {
          "name": "stdout",
          "output_type": "stream",
          "text": [
            "Токены: ['Компьютерная', 'лингвистика', 'изучает', 'методы', 'обработки', 'текста']\n",
            "Количество токенов: 6\n",
            "Английские токены: ['Natural', 'language', 'processing', 'studies', 'methods', 'of', 'text', 'analysis']\n",
            "Количество английских токенов: 8\n"
          ]
        }
      ],
      "source": [
        "# Пример текста\n",
        "text = \"Компьютерная лингвистика изучает методы обработки текста\"\n",
        "\n",
        "# Токенизация по пробелам\n",
        "tokens = text.split()\n",
        "print(\"Токены:\", tokens)\n",
        "print(\"Количество токенов:\", len(tokens))\n",
        "\n",
        "# Токенизация английского текста\n",
        "english_text = \"Natural language processing studies methods of text analysis\"\n",
        "english_tokens = english_text.split()\n",
        "print(\"Английские токены:\", english_tokens)\n",
        "print(\"Количество английских токенов:\", len(english_tokens))"
      ]
    },
    {
      "cell_type": "markdown",
      "metadata": {
        "id": "Ey-4jl42zahC"
      },
      "source": [
        "3.2. Токенизация с учетом пунктуации. Токенизация по пробелам не учитывает пунктуацию. Для более точной токенизации можно сначала отделить пунктуацию от слов."
      ]
    },
    {
      "cell_type": "code",
      "execution_count": 11,
      "metadata": {
        "id": "8rYkdzlnzdkp"
      },
      "outputs": [
        {
          "name": "stdout",
          "output_type": "stream",
          "text": [
            "Русский текст: Привет, мир! Как дела? Это - пример текста; с разными знаками пунктуации.\n",
            "Токены русского текста: ['Привет', ',', 'мир', '!', 'Как', 'дела', '?', 'Это', '-', 'пример', 'текста', ';', 'с', 'разными', 'знаками', 'пунктуации', '.']\n",
            "Количество токенов: 17\n",
            "Английский текст: Hello, world! How are you? This is a sample text; with various punctuation marks.\n",
            "Токены английского текста: ['Hello', ',', 'world', '!', 'How', 'are', 'you', '?', 'This', 'is', 'a', 'sample', 'text', ';', 'with', 'various', 'punctuation', 'marks', '.']\n",
            "Количество токенов: 19\n"
          ]
        }
      ],
      "source": [
        "def simple_tokenize(text):\n",
        "    \"\"\"\n",
        "    Простая токенизация с учетом пунктуации:\n",
        "    1. Добавляем пробелы вокруг знаков пунктуации\n",
        "    2. Разделяем по пробелам\n",
        "    3. Удаляем пустые токены\n",
        "    \"\"\"\n",
        "    # Добавляем пробелы вокруг знаков пунктуации\n",
        "    for punct in string.punctuation:\n",
        "        text = text.replace(punct, f' {punct} ')\n",
        "\n",
        "    # Разделяем по пробелам и удаляем пустые токены\n",
        "    tokens = [token for token in text.split() if token]\n",
        "\n",
        "    return tokens\n",
        "\n",
        "# Проверка на русском тексте\n",
        "russian_text = \"Привет, мир! Как дела? Это - пример текста; с разными знаками пунктуации.\"\n",
        "russian_tokens = simple_tokenize(russian_text)\n",
        "print(\"Русский текст:\", russian_text)\n",
        "print(\"Токены русского текста:\", russian_tokens)\n",
        "print(\"Количество токенов:\", len(russian_tokens))\n",
        "\n",
        "# Проверка на английском тексте\n",
        "english_text = \"Hello, world! How are you? This is a sample text; with various punctuation marks.\"\n",
        "english_tokens = simple_tokenize(english_text)\n",
        "print(\"Английский текст:\", english_text)\n",
        "print(\"Токены английского текста:\", english_tokens)\n",
        "print(\"Количество токенов:\", len(english_tokens))"
      ]
    },
    {
      "cell_type": "markdown",
      "metadata": {
        "id": "qfbRKk1S0wq_"
      },
      "source": [
        "3.3. Токенизация предложений. Простой способ — разделение по знакам конца предложения."
      ]
    },
    {
      "cell_type": "code",
      "execution_count": 12,
      "metadata": {
        "id": "bw3dAKeG0-fA"
      },
      "outputs": [
        {
          "name": "stdout",
          "output_type": "stream",
          "text": [
            "Русский текст: Привет, мир! Как дела? Это пример текста. Он состоит из нескольких предложений.\n",
            "Предложения русского текста:\n",
            "1. Привет, мир!\n",
            "2. Как дела?\n",
            "3. Это пример текста.\n",
            "4. Он состоит из нескольких предложений.\n",
            "\n",
            "Английский текст: Hello, world! How are you? This is a sample text. It consists of several sentences.\n",
            "Предложения английского текста:\n",
            "1. Hello, world!\n",
            "2. How are you?\n",
            "3. This is a sample text.\n",
            "4. It consists of several sentences.\n"
          ]
        }
      ],
      "source": [
        "def simple_sentence_tokenize(text):\n",
        "    \"\"\"\n",
        "    Простая токенизация на предложения:\n",
        "    1. Заменяем знаки конца предложения на специальный маркер\n",
        "    2. Разделяем текст по маркеру\n",
        "    3. Очищаем полученные предложения\n",
        "    \"\"\"\n",
        "    # Заменяем знаки конца предложения\n",
        "    for end_mark in ['.', '!', '?']:\n",
        "        text = text.replace(end_mark, f'{end_mark}SENTENCE_END')\n",
        "\n",
        "    # Разделяем по маркеру\n",
        "    sentences = text.split('SENTENCE_END')\n",
        "\n",
        "    # Очищаем предложения и удаляем пустые\n",
        "    cleaned_sentences = [sentence.strip() for sentence in sentences if sentence.strip()]\n",
        "\n",
        "    return cleaned_sentences\n",
        "\n",
        "# Проверка на русском тексте\n",
        "russian_text = \"Привет, мир! Как дела? Это пример текста. Он состоит из нескольких предложений.\"\n",
        "russian_sentences = simple_sentence_tokenize(russian_text)\n",
        "print(\"Русский текст:\", russian_text)\n",
        "print(\"Предложения русского текста:\")\n",
        "for i, sentence in enumerate(russian_sentences, 1):\n",
        "    print(f\"{i}. {sentence}\")\n",
        "\n",
        "# Проверка на английском тексте\n",
        "english_text = \"Hello, world! How are you? This is a sample text. It consists of several sentences.\"\n",
        "english_sentences = simple_sentence_tokenize(english_text)\n",
        "print(\"\\nАнглийский текст:\", english_text)\n",
        "print(\"Предложения английского текста:\")\n",
        "for i, sentence in enumerate(english_sentences, 1):\n",
        "    print(f\"{i}. {sentence}\")"
      ]
    },
    {
      "cell_type": "markdown",
      "metadata": {
        "id": "_a-rRcLp1NnW"
      },
      "source": [
        "3.4. Объединение токенов обратно в текст. Метод .join() позволяет объединить токены обратно в текст, указав разделитель."
      ]
    },
    {
      "cell_type": "code",
      "execution_count": 13,
      "metadata": {
        "id": "jCOkR50y1PYv"
      },
      "outputs": [
        {
          "name": "stdout",
          "output_type": "stream",
          "text": [
            "Объединенный текст: Компьютерная лингвистика изучает методы обработки текста\n",
            "Токены через запятую: Компьютерная, лингвистика, изучает, методы, обработки, текста\n",
            "Объединенный английский текст: Natural language processing studies methods of text analysis\n"
          ]
        }
      ],
      "source": [
        "# Пример токенов\n",
        "tokens = [\"Компьютерная\", \"лингвистика\", \"изучает\", \"методы\", \"обработки\", \"текста\"]\n",
        "\n",
        "# Объединение токенов с пробелом\n",
        "text = ' '.join(tokens)\n",
        "print(\"Объединенный текст:\", text)\n",
        "\n",
        "# Объединение с другими разделителями\n",
        "comma_separated = ', '.join(tokens)\n",
        "print(\"Токены через запятую:\", comma_separated)\n",
        "\n",
        "# Объединение английских токенов\n",
        "english_tokens = [\"Natural\", \"language\", \"processing\", \"studies\", \"methods\", \"of\", \"text\", \"analysis\"]\n",
        "english_text = ' '.join(english_tokens)\n",
        "print(\"Объединенный английский текст:\", english_text)"
      ]
    },
    {
      "cell_type": "markdown",
      "metadata": {
        "id": "zTAF-Lj21evo"
      },
      "source": [
        "**4. Практические упражнения**"
      ]
    },
    {
      "cell_type": "markdown",
      "metadata": {
        "id": "2ffDLEVL1oiZ"
      },
      "source": [
        "Упражнение 1: Нормализация текста. Напишите функцию, которая будет нормализовать текст следующим образом:\n",
        "\n",
        "1. Привести к нижнему регистру\n",
        "2. Удалить все цифры\n",
        "3. Заменить все символы пунктуации на пробелы\n",
        "4. Удалить лишние пробелы\n",
        "\n"
      ]
    },
    {
      "cell_type": "code",
      "execution_count": null,
      "metadata": {
        "id": "rU4ZTUrd1jFX"
      },
      "outputs": [
        {
          "name": "stdout",
          "output_type": "stream",
          "text": [
            "пример текста с разными символами и цифрами\n"
          ]
        }
      ],
      "source": [
        "sample_text = \"Пример текста123, с РАЗНЫМИ символами! И 456 цифрами?!\"\n",
        "import string\n",
        "def normalize_text(text):\n",
        "    text = text.lower()\n",
        "    text = ''.join(char for char in text if not char.isdigit())\n",
        "    translator = str.maketrans(string.punctuation, ' ' * len(string.punctuation))\n",
        "    text = text.translate(translator)\n",
        "    text = ' '.join(text.split())\n",
        "    return text\n",
        "\n",
        "normalized_text = normalize_text(sample_text)\n",
        "print(normalized_text)\n",
        "\n",
        "# ваш код"
      ]
    },
    {
      "cell_type": "markdown",
      "metadata": {
        "id": "waC9ZHWB2Kph"
      },
      "source": [
        "Упражнение 2: Подсчет частотности слов. Напишите функцию, которая будет принимать текст, нормализовать его, токенизировать и возвращать словарь с частотностью каждого слова."
      ]
    },
    {
      "cell_type": "code",
      "execution_count": 18,
      "metadata": {
        "id": "HlWO9Bpn2SQo"
      },
      "outputs": [
        {
          "name": "stdout",
          "output_type": "stream",
          "text": [
            "Русский текст: компьютерная лингвистика изучает методы обработки текста компьютерная лингвистика является областью искусственного интеллекта\n",
            "Токены: ['компьютерная', 'лингвистика', 'изучает', 'методы', 'обработки', 'текста', 'компьютерная', 'лингвистика', 'является', 'областью', 'искусственного', 'интеллекта']\n",
            "Количество токенов: 12\n",
            "Английский текст: natural language processing is a field of artificial intelligence natural language processing focuses on the interaction between computers and humans\n",
            "Английские токены: ['natural', 'language', 'processing', 'is', 'a', 'field', 'of', 'artificial', 'intelligence', 'natural', 'language', 'processing', 'focuses', 'on', 'the', 'interaction', 'between', 'computers', 'and', 'humans']\n",
            "Количество токенов: 20\n"
          ]
        }
      ],
      "source": [
        "sample_text = \"Компьютерная лингвистика изучает методы обработки текста. Компьютерная лингвистика является областью искусственного интеллекта.\"\n",
        "english_text = \"Natural language processing is a field of artificial intelligence. Natural language processing focuses on the interaction between computers and humans.\"\n",
        "\n",
        "def normalize_text(text):\n",
        "    text = text.lower()\n",
        "    translator = str.maketrans('', '', string.punctuation)\n",
        "    text = text.translate(translator)\n",
        "    text = ' '.join(text.split())\n",
        "    return text\n",
        "\n",
        "def tokenize(text):\n",
        "    text = normalize_text(text)\n",
        "    tokens = text.split()\n",
        "    return tokens\n",
        "\n",
        "\n",
        "\n",
        "print('Русский текст:', normalize_text(sample_text))  \n",
        "print(\"Токены:\", tokenize(sample_text))\n",
        "print(\"Количество токенов:\", len(tokenize(sample_text)))\n",
        "\n",
        "print('Английский текст:', normalize_text(english_text))\n",
        "print(\"Английские токены:\", tokenize(english_text))\n",
        "print(\"Количество токенов:\", len(tokenize(english_text)))"
      ]
    },
    {
      "cell_type": "markdown",
      "metadata": {
        "id": "RPTWlfsD2ehu"
      },
      "source": [
        "Упражнение 3: Поиск самых длинных и коротких слов. Напишите функцию, которая находит самые длинные и самые короткие слова в тексте."
      ]
    },
    {
      "cell_type": "code",
      "execution_count": 20,
      "metadata": {
        "id": "hizov4xW2YhX"
      },
      "outputs": [
        {
          "name": "stdout",
          "output_type": "stream",
          "text": [
            "Русский текст:\n",
            "(17 букв): ['междисциплинарной']\n",
            "(1 букв): ['и', 'а', 'в']\n",
            "Английский текст:\n",
            "(17 букв): ['interdisciplinary']\n",
            "(2 букв): ['of', 'is', 'in', 'an']\n"
          ]
        }
      ],
      "source": [
        "sample_text = \"Компьютерная лингвистика является междисциплинарной областью науки, которая изучает математические и компьютерные модели естественного языка, а также его применение в системах искусственного интеллекта.\"\n",
        "english_text = \"Computational linguistics is an interdisciplinary field of science that studies mathematical and computational models of natural language and its application in artificial intelligence systems.\"\n",
        "\n",
        "\n",
        "def find_words(text):\n",
        "    text = text.lower()\n",
        "    text = ''.join(char for char in text if not char.isdigit())\n",
        "    translator = str.maketrans(string.punctuation, ' ' * len(string.punctuation))\n",
        "    text = text.translate(translator)\n",
        "    words = text.split()\n",
        "\n",
        "    if not words:\n",
        "        return [], []\n",
        "    \n",
        "    max_length = max(len(word) for word in words)\n",
        "    min_length = min(len(word) for word in words)\n",
        "\n",
        "    longest_words = [word for word in words if len(word) == max_length]\n",
        "    shortest_words = [word for word in words if len(word) == min_length]\n",
        "    longest_words = list(set(longest_words))\n",
        "    shortest_words = list(set(shortest_words))\n",
        "    \n",
        "    return longest_words, shortest_words\n",
        "\n",
        "longest_ru, shortest_ru = find_words(sample_text)\n",
        "print(\"Русский текст:\")\n",
        "print(f\"({len(longest_ru[0])} букв): {longest_ru}\")\n",
        "print(f\"({len(shortest_ru[0])} букв): {shortest_ru}\")\n",
        "\n",
        "longest_en, shortest_en = find_words(english_text)\n",
        "print(\"Английский текст:\")\n",
        "print(f\"({len(longest_en[0])} букв): {longest_en}\")\n",
        "print(f\"({len(shortest_en[0])} букв): {shortest_en}\")"
      ]
    },
    {
      "cell_type": "markdown",
      "metadata": {
        "id": "wtQ6vmk922D6"
      },
      "source": [
        "Упражнение 4: Поиск и подсчет определенных паттернов. Напишите функцию, которая находит и подсчитывает слова, начинающиеся с определенной буквы или содержащие определенную последовательность букв."
      ]
    },
    {
      "cell_type": "code",
      "execution_count": 23,
      "metadata": {
        "id": "Pv0AYXVp23vc"
      },
      "outputs": [
        {
          "name": "stdout",
          "output_type": "stream",
          "text": [
            "Слова, начинающиеся с 'к': ['компьютерная', 'компьютерные']\n",
            "Количество слов, начинающихся с 'к': 2\n"
          ]
        }
      ],
      "source": [
        "sample_text = \"Компьютерная лингвистика изучает методы обработки текста. Математические модели и компьютерные алгоритмы используются для анализа естественных языков.\"\n",
        "\n",
        "def normalize_text(text):\n",
        "    text = text.lower()\n",
        "    translator = str.maketrans('', '', string.punctuation)\n",
        "    text = text.translate(translator)\n",
        "    text = ' '.join(text.split())\n",
        "\n",
        "    return text\n",
        "\n",
        "\n",
        "def find_words(text):\n",
        "    text = normalize_text(text)\n",
        "    words = text.split()\n",
        "    \n",
        "    words_with_k = []\n",
        "    \n",
        "    for word in words:\n",
        "        if word.startswith('к'):\n",
        "            words_with_k.append(word)\n",
        "    \n",
        "    count = len(words_with_k)\n",
        "    \n",
        "    return words_with_k, count\n",
        "\n",
        "words_k, count_k = find_words(sample_text)\n",
        "\n",
        "print(\"Слова, начинающиеся с 'к':\", words_k)\n",
        "print(\"Количество слов, начинающихся с 'к':\", count_k)"
      ]
    },
    {
      "cell_type": "code",
      "execution_count": 25,
      "metadata": {
        "id": "1i4Yjoum26nz"
      },
      "outputs": [
        {
          "name": "stdout",
          "output_type": "stream",
          "text": [
            "Слова, заканчивающиеся на 'ing': ['processing']\n",
            "Количество слов, заканчивающихся на 'ing': 1\n"
          ]
        }
      ],
      "source": [
        "english_text = \"Computational linguistics studies methods of text processing. Mathematical models and computer algorithms are used to analyze natural languages.\"\n",
        "\n",
        "def normalize_text(text):\n",
        "    text = text.lower()\n",
        "    translator = str.maketrans('', '', string.punctuation)\n",
        "    text = text.translate(translator)\n",
        "    text = ' '.join(text.split())\n",
        "\n",
        "    return text\n",
        "\n",
        "\n",
        "def find_words(text):\n",
        "    text = normalize_text(text)\n",
        "    words = text.split()\n",
        "    \n",
        "    words_with_ing = []\n",
        "    \n",
        "    for word in words:\n",
        "        if word.endswith('ing'):\n",
        "            words_with_ing.append(word)\n",
        "    \n",
        "    count = len(words_with_ing)\n",
        "    \n",
        "    return words_with_ing, count\n",
        "\n",
        "words_ing, count_ing = find_words(english_text)\n",
        "\n",
        "print(\"Слова, заканчивающиеся на 'ing':\", words_ing)\n",
        "print(\"Количество слов, заканчивающихся на 'ing':\", count_ing)"
      ]
    },
    {
      "cell_type": "markdown",
      "metadata": {
        "id": "anDhdjLG3M1A"
      },
      "source": [
        "Упражнение 5: Анализ предложений в тексте. Напишите функцию, которая анализирует текст на уровне предложений, подсчитывая:\n",
        "\n",
        "1. Количество предложений\n",
        "2. Среднюю длину предложения (в словах)\n",
        "3. Самое длинное и самое короткое предложение\n"
      ]
    },
    {
      "cell_type": "code",
      "execution_count": 27,
      "metadata": {
        "id": "QQd2ZgIj3YlJ"
      },
      "outputs": [
        {
          "name": "stdout",
          "output_type": "stream",
          "text": [
            "Результаты анализа предложений:\n",
            "Количество предложений: 4\n",
            "Средняя длина предложения (в словах): 9.5\n",
            "Самое длинное предложение: Методы компьютерной лингвистики применяются для решения различных задач, таких как машинный перевод, автоматическое реферирование и информационный поиск\n",
            "Самое короткое предложение: Компьютерная лингвистика — это междисциплинарная область науки\n"
          ]
        }
      ],
      "source": [
        "sample_text = \"\"\"Компьютерная лингвистика — это междисциплинарная область науки.\n",
        "Она изучает математические и компьютерные модели естественного языка.\n",
        "Методы компьютерной лингвистики применяются для решения различных задач, таких как машинный перевод, автоматическое реферирование и информационный поиск.\n",
        "Современные алгоритмы позволяют анализировать большие объемы текстов.\"\"\"\n",
        "\n",
        "def normalize_text(text):\n",
        "    text = text.lower()\n",
        "    translator = str.maketrans('', '', string.punctuation + \"—\") \n",
        "    text = text.translate(translator)\n",
        "    text = ' '.join(text.split())\n",
        "\n",
        "    return text\n",
        "\n",
        "def analyze(text):\n",
        "    for end_mark in ['.', '!', '?']:\n",
        "        text = text.replace(end_mark, 'SENT_END')\n",
        "\n",
        "    sentences = text.split('SENT_END')\n",
        "    sentences = [s.strip() for s in sentences if s.strip()]\n",
        "\n",
        "    num_sentences = len(sentences)\n",
        "    \n",
        "    sentence_lengths = []\n",
        "    for sentence in sentences:\n",
        "        normalized = normalize_text(sentence)\n",
        "        words = normalized.split()\n",
        "        sentence_lengths.append(len(words))\n",
        "    \n",
        "    avg_length = sum(sentence_lengths) / num_sentences if num_sentences > 0 else 0\n",
        "\n",
        "    longest_sentence = sentences[sentence_lengths.index(max(sentence_lengths))]\n",
        "    shortest_sentence = sentences[sentence_lengths.index(min(sentence_lengths))]\n",
        "    \n",
        "    return {\n",
        "        \"Количество предложений\": num_sentences,\n",
        "        \"Средняя длина (в словах)\": round(avg_length, 2),\n",
        "        \"Самое длинное предложение\": longest_sentence,\n",
        "        \"Самое короткое предложение\": shortest_sentence\n",
        "    }\n",
        "\n",
        "results = analyze(sample_text)\n",
        "\n",
        "print(\"Результаты анализа предложений:\")\n",
        "print(f\"Количество предложений: {results['Количество предложений']}\")\n",
        "print(f\"Средняя длина предложения (в словах): {results['Средняя длина (в словах)']}\")\n",
        "print(f\"Самое длинное предложение: {results['Самое длинное предложение']}\")\n",
        "print(f\"Самое короткое предложение: {results['Самое короткое предложение']}\")\n"
      ]
    },
    {
      "cell_type": "code",
      "execution_count": 28,
      "metadata": {
        "id": "N7pW-9_c3rmI"
      },
      "outputs": [
        {
          "name": "stdout",
          "output_type": "stream",
          "text": [
            "\n",
            "Результаты анализа предложений на английском:\n",
            "Количество предложений: 4\n",
            "Средняя длина предложения (в словах): 11.0\n",
            "Самое длинное предложение: Methods of computational linguistics are applied to solve various tasks such as machine translation, automatic summarization, and information retrieval\n",
            "Самое короткое предложение: Computational linguistics is an interdisciplinary field of science\n"
          ]
        }
      ],
      "source": [
        "english_text = \"\"\"Computational linguistics is an interdisciplinary field of science.\n",
        "It studies mathematical and computational models of natural language.\n",
        "Methods of computational linguistics are applied to solve various tasks such as machine translation, automatic summarization, and information retrieval.\n",
        "Modern algorithms allow analyzing large volumes of texts.\"\"\"\n",
        "\n",
        "def normalize_text(text):\n",
        "    text = text.lower()\n",
        "    translator = str.maketrans('', '', string.punctuation + \"—\") \n",
        "    text = text.translate(translator)\n",
        "    text = ' '.join(text.split())\n",
        "\n",
        "    return text\n",
        "\n",
        "def analyze(text):\n",
        "    for end_mark in ['.', '!', '?']:\n",
        "        text = text.replace(end_mark, 'SENT_END')\n",
        "\n",
        "    sentences = text.split('SENT_END')\n",
        "    sentences = [s.strip() for s in sentences if s.strip()]\n",
        "\n",
        "    num_sentences = len(sentences)\n",
        "    \n",
        "    sentence_lengths = []\n",
        "    for sentence in sentences:\n",
        "        normalized = normalize_text(sentence)\n",
        "        words = normalized.split()\n",
        "        sentence_lengths.append(len(words))\n",
        "    \n",
        "    avg_length = sum(sentence_lengths) / num_sentences if num_sentences > 0 else 0\n",
        "\n",
        "    longest_sentence = sentences[sentence_lengths.index(max(sentence_lengths))]\n",
        "    shortest_sentence = sentences[sentence_lengths.index(min(sentence_lengths))]\n",
        "    \n",
        "    return {\n",
        "        \"Количество предложений\": num_sentences,\n",
        "        \"Средняя длина (в словах)\": round(avg_length, 2),\n",
        "        \"Самое длинное предложение\": longest_sentence,\n",
        "        \"Самое короткое предложение\": shortest_sentence\n",
        "    }\n",
        "\n",
        "results = analyze(english_text)\n",
        "\n",
        "print(\"\\nРезультаты анализа предложений на английском:\")\n",
        "print(f\"Количество предложений: {results['Количество предложений']}\")\n",
        "print(f\"Средняя длина предложения (в словах): {results['Средняя длина (в словах)']}\")\n",
        "print(f\"Самое длинное предложение: {results['Самое длинное предложение']}\")\n",
        "print(f\"Самое короткое предложение: {results['Самое короткое предложение']}\")"
      ]
    },
    {
      "cell_type": "markdown",
      "metadata": {
        "id": "ZE7TEjrM37te"
      },
      "source": [
        "**5. Домашнее задание**"
      ]
    },
    {
      "cell_type": "markdown",
      "metadata": {
        "id": "qJtWAqaL3-od"
      },
      "source": [
        "Напишите функцию для нормализации текста, которая:\n",
        "\n",
        "1. Приводит текст к нижнему регистру\n",
        "2. Удаляет все знаки пунктуации\n",
        "3. Заменяет все цифры на символ '#'\n",
        "4. Удаляет лишние пробелы\n",
        "\n",
        "Напишите функцию, которая находит и выводит все слова из текста, содержащие гласные в определенной последовательности (например, 'о' и затем 'а').\n",
        "\n",
        "Создайте функцию, которая:\n",
        "\n",
        "1.   Токенизирует текст\n",
        "2.   Отбирает только слова длиной более 4 символов\n",
        "3. Сортирует их по алфавиту\n",
        "4. Возвращает первые 10 слов\n",
        "\n",
        "Напишите функцию для анализа частотности символов в тексте, которая возвращает 5 самых часто встречающихся символов и их количество.\n",
        "\n",
        "Напишите программу, которая разделяет текст на параграфы (по двойному переносу строки), а затем подсчитывает для каждого параграфа: количество предложений, количество слов, среднюю длину слова"
      ]
    },
    {
      "cell_type": "code",
      "execution_count": 54,
      "metadata": {},
      "outputs": [
        {
          "name": "stdout",
          "output_type": "stream",
          "text": [
            "Нормализованный текст: или колодец был очень глубок или она падала очень медленно во всяком## случае у неё было достаточно времени пока она падала осматриваться вокруг### и гадать что произойдёт дальше сначала алиса попыталась заглянуть вниз стараясь## понять куда она падает но там было слишком темно чтобы увидеть хоть что нибудь тогда она принялась разглядывать стены колодца и заметила что на них были буфетные и### книжные полки здесь и там она видела карты и картины висящие на колышках с одной из полок она сняла летя вниз банку с наклейкой апельсинный мармелад но к её величайшему разочарованию банка оказалась пустой алиса не решилась бросить её боясь убить### кого нибудь внизу и она изловчилась и поставила банку в один из буфетов мимо которого падала\n",
            "Слова, содержащие гласные 'о', а затем 'а':\n",
            "['она', 'достаточно', 'пока', 'она', 'осматриваться', 'попыталась', 'она', 'тогда', 'она', 'колодца', 'она', 'колышках', 'она', 'оказалась', 'она', 'изловчилась', 'поставила']\n",
            "Первые 10 слов по алфавиту, длина которых составляет более 4 символов:\n",
            "['алиса', 'алиса', 'апельсинный', 'банка', 'банку', 'банку', 'боясь', 'бросить', 'буфетные', 'буфетов']\n",
            "5 самых часто встречающихся символов и их количество:\n",
            "'а': 74\n",
            "'о': 63\n",
            "'и': 46\n",
            "'н': 45\n",
            "'л': 39\n",
            "Параграф 1:\n",
            "Количество предложений: 7\n",
            "Количество слов: 119\n",
            "Средняя длина слова: 5.22\n",
            "\n"
          ]
        }
      ],
      "source": [
        "sample_text = \"\"\"Или колодец был очень глубок, или  она падала очень медленно — во всяком12 случае, у неё было достаточно времени, пока она падала, осматриваться вокруг345 и гадать, что произойдёт дальше. Сначала Алиса попыталась заглянуть вниз, стараясь12 понять, куда она падает, но там было слишком темно,  чтобы увидеть хоть что-нибудь. Тогда  она принялась разглядывать стены колодца и заметила, что на них были буфетные и123 книжные полки. Здесь и там она видела карты и картины, висящие на колышках. С одной из полок она сняла, летя вниз, банку с наклейкой: «АПЕЛЬСИННЫЙ МАРМЕЛАД», но, к её величайшему разочарованию, банка оказалась пустой. Алиса не решилась бросить её, боясь убить123 кого-нибудь внизу. И она изловчилась и поставила банку в один из буфетов, мимо которого падала.\"\"\"\n",
        "\n",
        "# Первая часть задания ->\n",
        "def normalize_text(text):\n",
        "    text = text.lower()\n",
        "\n",
        "    all_punct = string.punctuation + \"«»—–…\"\n",
        "    for symbol in all_punct:\n",
        "        text = text.replace(symbol, \" \")\n",
        "\n",
        "    result = \"\"\n",
        "    for char in text:\n",
        "        if char.isdigit():\n",
        "            result += \"#\"\n",
        "        else:\n",
        "            result += char\n",
        "    text = result\n",
        "\n",
        "    text = \" \".join(text.split())\n",
        "\n",
        "    return text\n",
        "\n",
        "# Вторая часть задания ->\n",
        "def find_words_with_vowels(text, first_vowel, second_vowel):\n",
        "\n",
        "    text = normalize_text(text)\n",
        "\n",
        "    words = text.split()\n",
        "    \n",
        "    result = []\n",
        "    \n",
        "    for word in words:\n",
        "        if first_vowel in word and second_vowel in word:\n",
        "            if word.index(first_vowel) < word.index(second_vowel):\n",
        "                result.append(word)\n",
        "    \n",
        "    return result\n",
        "\n",
        "# Третья часть задания ->\n",
        "def long_words(text):\n",
        "\n",
        "    text = normalize_text(text)\n",
        "    \n",
        "    words = text.split()\n",
        "    \n",
        "    long_words = [word for word in words if len(word) > 4]\n",
        "    long_words.sort()\n",
        "\n",
        "    return long_words[:10]\n",
        "\n",
        "# Четвертая часть задания ->\n",
        "def five_characters(text):\n",
        "\n",
        "    text = normalize_text(text)\n",
        "\n",
        "    unique_chars = []\n",
        "    for char in text:\n",
        "        if char == \" \":\n",
        "            continue\n",
        "        if char not in unique_chars:\n",
        "            unique_chars.append(char)\n",
        "\n",
        "    counts = []\n",
        "    for char in unique_chars:\n",
        "        counts.append((char, text.count(char)))\n",
        "\n",
        "    top5 = []\n",
        "    times = 5 if len(counts) >= 5 else len(counts)\n",
        "    for _ in range(times):\n",
        "        max_idx = 0\n",
        "        for i in range(1, len(counts)):\n",
        "            if counts[i][1] > counts[max_idx][1]:\n",
        "                max_idx = i\n",
        "        top5.append(counts.pop(max_idx))\n",
        "    return top5\n",
        "\n",
        "# Пятая часть задания ->\n",
        "def paragraphs(text):\n",
        "\n",
        "    paragraphs = text.strip().split(\"\\n\\n\")\n",
        "    result = []\n",
        "\n",
        "    for i, paragraph in enumerate(paragraphs, start=1):\n",
        "        sentence_count = sum(1 for char in paragraph if char in \".!?\")\n",
        "\n",
        "        normalized = normalize_text(paragraph)\n",
        "        words = normalized.split()\n",
        "        word_count = len(words)\n",
        "\n",
        "        total_len = sum(len(word) for word in words)\n",
        "        avg_length = total_len / word_count if word_count > 0 else 0\n",
        "\n",
        "    result.append({\n",
        "        \"paragraph_number\": i,\n",
        "        \"sentence_count\": sentence_count,\n",
        "        \"word_count\": word_count,\n",
        "        \"average_word_length\": avg_length\n",
        "    })\n",
        "\n",
        "    return result\n",
        "\n",
        "\n",
        "normalized = normalize_text(sample_text)\n",
        "print(\"Нормализованный текст:\", normalized)\n",
        "\n",
        "oa_words = find_words_with_vowels(sample_text, \"о\", \"а\")\n",
        "\n",
        "print(\"Слова, содержащие гласные 'о', а затем 'а':\")\n",
        "print(oa_words)\n",
        "\n",
        "first_10 = long_words(sample_text)\n",
        "\n",
        "print(\"Первые 10 слов по алфавиту, длина которых составляет более 4 символов:\")\n",
        "print(first_10)\n",
        "\n",
        "result = five_characters(sample_text)\n",
        "print(\"5 самых часто встречающихся символов и их количество:\")\n",
        "for char, cnt in result:\n",
        "    print(f\"'{char}': {cnt}\")\n",
        "\n",
        "paragraphs_info = paragraphs(sample_text)\n",
        "for info in paragraphs_info:\n",
        "    print(f\"Параграф {info['paragraph_number']}:\")\n",
        "    print(f\"Количество предложений: {info['sentence_count']}\")\n",
        "    print(f\"Количество слов: {info['word_count']}\")\n",
        "    print(f\"Средняя длина слова: {info['average_word_length']:.2f}\")\n",
        "    print()"
      ]
    }
  ],
  "metadata": {
    "colab": {
      "provenance": []
    },
    "kernelspec": {
      "display_name": "Python 3",
      "language": "python",
      "name": "python3"
    },
    "language_info": {
      "codemirror_mode": {
        "name": "ipython",
        "version": 3
      },
      "file_extension": ".py",
      "mimetype": "text/x-python",
      "name": "python",
      "nbconvert_exporter": "python",
      "pygments_lexer": "ipython3",
      "version": "3.11.9"
    }
  },
  "nbformat": 4,
  "nbformat_minor": 0
}
