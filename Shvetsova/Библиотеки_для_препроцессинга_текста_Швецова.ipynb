{
  "cells": [
    {
      "cell_type": "markdown",
      "metadata": {
        "id": "qgpxdmVlmRLW"
      },
      "source": [
        "В этой практической тетрадке мы изучим различные методы нормализации текста – стемматизацию и лемматизацию – и сравним, как работают основные библиотеки обработки естественного языка для русского и английского языков."
      ]
    },
    {
      "cell_type": "markdown",
      "metadata": {
        "id": "XAy7q_PxmWFd"
      },
      "source": [
        "Мы рассмотрим:\n",
        "\n",
        "* Разницу между стемматизацией и лемматизацией\n",
        "* Сравнение работы библиотек NLTK, spaCy, PyMorphy2 и Natasha\n",
        "* Создание комплексных пайплайнов препроцессинга для разных языков\n",
        "* Практические упражнения для закрепления материала"
      ]
    },
    {
      "cell_type": "code",
      "execution_count": null,
      "metadata": {
        "collapsed": true,
        "id": "XpmGCPeXmcbl"
      },
      "outputs": [],
      "source": [
        "# Установка необходимых библиотек\n",
        "!pip install nltk spacy pymorphy2 natasha\n",
        "!python -m spacy download en_core_web_sm\n",
        "!python -m spacy download ru_core_news_sm\n",
        "\n",
        "import nltk\n",
        "nltk.download('punkt')\n",
        "nltk.download('stopwords')\n",
        "nltk.download('wordnet')\n",
        "\n",
        "import spacy\n",
        "import pymorphy2\n",
        "from natasha import Segmenter, MorphVocab, NewsEmbedding, NewsMorphTagger, Doc"
      ]
    },
    {
      "cell_type": "markdown",
      "metadata": {
        "id": "ORdenrTamgWN"
      },
      "source": [
        "**1. Сравнение стемматизации и лемматизации**"
      ]
    },
    {
      "cell_type": "code",
      "execution_count": null,
      "metadata": {
        "id": "qqJqaLM6mprF"
      },
      "outputs": [],
      "source": [
        "# Тестовые тексты\n",
        "russian_text = \"\"\"\n",
        "В России проживают народы с разными традициями и верованиями.\n",
        "Русские люди всегда с интересом относились к культуре соседних народов.\n",
        "Петр Первый ввел многие европейские обычаи.\n",
        "Екатерина Великая переписывалась с французскими просветителями.\n",
        "Современные россияне любят путешествовать по разным странам мира.\n",
        "\"\"\"\n",
        "\n",
        "english_text = \"\"\"\n",
        "The United States is home to people with diverse traditions and beliefs.\n",
        "Americans have always been interested in the cultures of neighboring countries.\n",
        "George Washington established many governmental customs.\n",
        "Thomas Jefferson corresponded with French intellectuals.\n",
        "Modern Americans enjoy traveling to different countries around the world.\n",
        "\"\"\""
      ]
    },
    {
      "cell_type": "markdown",
      "metadata": {
        "id": "x07ZPxQImzj9"
      },
      "source": [
        "1.1 Стемматизация с помощью NLTK. Стемматизация - это процесс нахождения основы слова путем отбрасывания аффиксов (окончаний, суффиксов). Стемматизаторы используют набор правил без словарей.\n",
        "\n",
        "\n"
      ]
    },
    {
      "cell_type": "code",
      "execution_count": null,
      "metadata": {
        "id": "D9_rxdQAm46d"
      },
      "outputs": [],
      "source": [
        "from nltk.stem import SnowballStemmer\n",
        "import re\n",
        "\n",
        "# Создаем стемматизаторы для английского и русского языков\n",
        "english_stemmer = SnowballStemmer(\"english\")\n",
        "russian_stemmer = SnowballStemmer(\"russian\")\n",
        "\n",
        "# Функция для токенизации и стемматизации\n",
        "def stem_text(text, stemmer):\n",
        "    # Приводим к нижнему регистру и токенизируем\n",
        "    words = re.findall(r'\\b\\w+\\b', text.lower())\n",
        "    # Применяем стемматизацию\n",
        "    stemmed_words = [stemmer.stem(word) for word in words]\n",
        "    return stemmed_words\n",
        "\n",
        "# Стемматизация русского текста\n",
        "russian_stemmed = stem_text(russian_text, russian_stemmer)\n",
        "print(\"Стемматизированные русские слова:\")\n",
        "for i, word in enumerate(russian_stemmed[:15]):  # Выводим первые 15 слов\n",
        "    print(f\"{i+1}. {word}\")\n",
        "\n",
        "# Стемматизация английского текста\n",
        "english_stemmed = stem_text(english_text, english_stemmer)\n",
        "print(\"\\nСтемматизированные английские слова:\")\n",
        "for i, word in enumerate(english_stemmed[:15]):  # Выводим первые 15 слов\n",
        "    print(f\"{i+1}. {word}\")"
      ]
    },
    {
      "cell_type": "markdown",
      "metadata": {
        "id": "5RQGjFJ-nBEk"
      },
      "source": [
        "1.2 Лемматизация с помощью разных библиотек. Лемматизация - это процесс приведения слова к его словарной (нормальной) форме. Лемматизаторы используют словари и учитывают грамматические особенности."
      ]
    },
    {
      "cell_type": "markdown",
      "metadata": {
        "id": "sUhOl_A9nFIE"
      },
      "source": [
        "1.2.1 NLTK (только для английского)"
      ]
    },
    {
      "cell_type": "code",
      "execution_count": null,
      "metadata": {
        "id": "QMz6k24ynhut"
      },
      "outputs": [],
      "source": [
        "from nltk.stem import WordNetLemmatizer\n",
        "from nltk import word_tokenize, pos_tag\n",
        "from nltk.corpus import wordnet\n",
        "nltk.download('punkt_tab')\n",
        "nltk.download('averaged_perceptron_tagger_eng')"
      ]
    },
    {
      "cell_type": "code",
      "execution_count": null,
      "metadata": {
        "id": "cplx5w3znCe1"
      },
      "outputs": [],
      "source": [
        "# Инициализация лемматизатора\n",
        "lemmatizer = WordNetLemmatizer()\n",
        "\n",
        "# Функция для конвертации POS-тегов NLTK в формат WordNet\n",
        "def get_wordnet_pos(tag):\n",
        "    if tag.startswith('J'):\n",
        "        return wordnet.ADJ\n",
        "    elif tag.startswith('V'):\n",
        "        return wordnet.VERB\n",
        "    elif tag.startswith('N'):\n",
        "        return wordnet.NOUN\n",
        "    elif tag.startswith('R'):\n",
        "        return wordnet.ADV\n",
        "    else:\n",
        "        return wordnet.NOUN  # По умолчанию существительное\n",
        "\n",
        "# Функция для лемматизации с учетом части речи\n",
        "def lemmatize_with_pos(text):\n",
        "    # Токенизация и определение части речи\n",
        "    tokens = word_tokenize(text.lower())\n",
        "    tagged = pos_tag(tokens)\n",
        "\n",
        "    # Лемматизация с учетом части речи\n",
        "    lemmas = []\n",
        "    for word, tag in tagged:\n",
        "        if word.isalpha():  # Исключаем числа и знаки препинания\n",
        "            wordnet_pos = get_wordnet_pos(tag)\n",
        "            lemmas.append(lemmatizer.lemmatize(word, wordnet_pos))\n",
        "\n",
        "    return lemmas\n",
        "\n",
        "# Лемматизация английского текста\n",
        "english_lemmas_nltk = lemmatize_with_pos(english_text)\n",
        "print(\"Лемматизированные английские слова (NLTK):\")\n",
        "for i, word in enumerate(english_lemmas_nltk[:15]):\n",
        "    print(f\"{i+1}. {word}\")\n",
        "\n",
        "# Примечание: NLTK не имеет встроенного лемматизатора для русского языка\n",
        "print(\"\\nNLTK не поддерживает лемматизацию русского языка напрямую.\")"
      ]
    },
    {
      "cell_type": "markdown",
      "metadata": {
        "id": "EC1ibf9HoP0E"
      },
      "source": [
        "1.2.2 spaCy (для обоих языков)"
      ]
    },
    {
      "cell_type": "code",
      "execution_count": null,
      "metadata": {
        "id": "NEAcyouloRVU"
      },
      "outputs": [],
      "source": [
        "# Загрузка моделей spaCy\n",
        "nlp_en = spacy.load(\"en_core_web_sm\")\n",
        "nlp_ru = spacy.load(\"ru_core_news_sm\")\n",
        "\n",
        "# Функция для лемматизации с помощью spaCy\n",
        "def lemmatize_with_spacy(text, nlp):\n",
        "    doc = nlp(text)\n",
        "    lemmas = [token.lemma_ for token in doc if token.is_alpha]\n",
        "    return lemmas\n",
        "\n",
        "# Лемматизация английского текста\n",
        "english_lemmas_spacy = lemmatize_with_spacy(english_text, nlp_en)\n",
        "print(\"Лемматизированные английские слова (spaCy):\")\n",
        "for i, word in enumerate(english_lemmas_spacy[:15]):\n",
        "    print(f\"{i+1}. {word}\")\n",
        "\n",
        "# Лемматизация русского текста\n",
        "russian_lemmas_spacy = lemmatize_with_spacy(russian_text, nlp_ru)\n",
        "print(\"\\nЛемматизированные русские слова (spaCy):\")\n",
        "for i, word in enumerate(russian_lemmas_spacy[:15]):\n",
        "    print(f\"{i+1}. {word}\")"
      ]
    },
    {
      "cell_type": "markdown",
      "metadata": {
        "id": "n-0rEI35pz4j"
      },
      "source": [
        "1.2.3 PyMorphy2 (для русского языка)"
      ]
    },
    {
      "cell_type": "code",
      "execution_count": null,
      "metadata": {
        "id": "JskPV0C3p0UT"
      },
      "outputs": [],
      "source": [
        "# Инициализация анализатора\n",
        "morph = pymorphy2.MorphAnalyzer()\n",
        "\n",
        "# Функция для лемматизации с помощью PyMorphy2\n",
        "def lemmatize_with_pymorphy(text):\n",
        "    # Токенизация\n",
        "    words = re.findall(r'\\b\\w+\\b', text.lower())\n",
        "\n",
        "    # Лемматизация\n",
        "    lemmas = [morph.parse(word)[0].normal_form for word in words]\n",
        "    return lemmas\n",
        "\n",
        "# Лемматизация русского текста\n",
        "russian_lemmas_pymorphy = lemmatize_with_pymorphy(russian_text)\n",
        "print(\"Лемматизированные русские слова (PyMorphy2):\")\n",
        "for i, word in enumerate(russian_lemmas_pymorphy[:15]):\n",
        "    print(f\"{i+1}. {word}\")"
      ]
    },
    {
      "cell_type": "markdown",
      "metadata": {
        "id": "cAdupAM1qYi7"
      },
      "source": [
        "1.2.4 Natasha (для русского языка)"
      ]
    },
    {
      "cell_type": "code",
      "execution_count": null,
      "metadata": {
        "id": "JFPv5xZFqaAz"
      },
      "outputs": [],
      "source": [
        "# Инициализация компонентов Natasha\n",
        "segmenter = Segmenter()\n",
        "morph_vocab = MorphVocab()\n",
        "emb = NewsEmbedding()\n",
        "morph_tagger = NewsMorphTagger(emb)\n",
        "\n",
        "# Функция для лемматизации с помощью Natasha\n",
        "def lemmatize_with_natasha(text):\n",
        "    doc = Doc(text)\n",
        "    doc.segment(segmenter)\n",
        "    doc.tag_morph(morph_tagger)\n",
        "\n",
        "    lemmas = []\n",
        "    for token in doc.tokens:\n",
        "        if token.text.isalpha():  # Исключаем числа и знаки препинания\n",
        "            token.lemmatize(morph_vocab)\n",
        "            lemmas.append(token.lemma)\n",
        "\n",
        "    return lemmas\n",
        "\n",
        "# Лемматизация русского текста\n",
        "russian_lemmas_natasha = lemmatize_with_natasha(russian_text)\n",
        "print(\"Лемматизированные русские слова (Natasha):\")\n",
        "for i, word in enumerate(russian_lemmas_natasha[:15]):\n",
        "    print(f\"{i+1}. {word}\")"
      ]
    },
    {
      "cell_type": "markdown",
      "metadata": {
        "id": "6LjqZiOKqi4r"
      },
      "source": [
        "1.3 Сравнительная таблица результатов"
      ]
    },
    {
      "cell_type": "markdown",
      "metadata": {
        "id": "U9vTvNd9qjbT"
      },
      "source": [
        "Для наглядности сравним результаты обработки одних и тех же слов разными методами."
      ]
    },
    {
      "cell_type": "code",
      "execution_count": null,
      "metadata": {
        "id": "MBJxuEUlqlkr"
      },
      "outputs": [],
      "source": [
        "import pandas as pd\n",
        "\n",
        "# Выбираем несколько интересных слов из русского текста для сравнения\n",
        "russian_words = [\"России\", \"проживают\", \"народы\", \"традициями\", \"верованиями\",\n",
        "                \"русские\", \"людей\", \"относились\", \"культуре\", \"Петр\", \"ввел\", \"обычаи\"]\n",
        "\n",
        "# Создаем DataFrame для сравнения\n",
        "comparison_ru = []\n",
        "for word in russian_words:\n",
        "    stem = russian_stemmer.stem(word.lower())\n",
        "    lemma_spacy = None\n",
        "\n",
        "    # Находим лемму в spaCy\n",
        "    doc = nlp_ru(word)\n",
        "    for token in doc:\n",
        "        lemma_spacy = token.lemma_\n",
        "\n",
        "    lemma_pymorphy = morph.parse(word.lower())[0].normal_form\n",
        "\n",
        "    # Находим лемму в Natasha\n",
        "    doc = Doc(word)\n",
        "    doc.segment(segmenter)\n",
        "    doc.tag_morph(morph_tagger)\n",
        "    for token in doc.tokens:\n",
        "        token.lemmatize(morph_vocab)\n",
        "        lemma_natasha = token.lemma\n",
        "\n",
        "    comparison_ru.append({\n",
        "        \"Слово\": word,\n",
        "        \"Стем (NLTK)\": stem,\n",
        "        \"Лемма (spaCy)\": lemma_spacy,\n",
        "        \"Лемма (PyMorphy2)\": lemma_pymorphy,\n",
        "        \"Лемма (Natasha)\": lemma_natasha\n",
        "    })\n",
        "\n",
        "# Создаем таблицу для русских слов\n",
        "comparison_ru_df = pd.DataFrame(comparison_ru)\n",
        "print(\"Сравнение методов для русского языка:\")\n",
        "comparison_ru_df"
      ]
    },
    {
      "cell_type": "code",
      "execution_count": null,
      "metadata": {
        "id": "dHPkDhnlqyAz"
      },
      "outputs": [],
      "source": [
        "# Выбираем несколько интересных слов из английского текста для сравнения\n",
        "english_words = [\"States\", \"people\", \"diverse\", \"traditions\", \"beliefs\",\n",
        "                \"Americans\", \"interested\", \"cultures\", \"neighboring\", \"established\", \"corresponded\", \"traveling\"]\n",
        "\n",
        "# Создаем DataFrame для сравнения\n",
        "comparison_en = []\n",
        "for word in english_words:\n",
        "    stem = english_stemmer.stem(word.lower())\n",
        "\n",
        "    # Находим лемму в NLTK\n",
        "    pos = pos_tag([word.lower()])[0][1]\n",
        "    wordnet_pos = get_wordnet_pos(pos)\n",
        "    lemma_nltk = lemmatizer.lemmatize(word.lower(), wordnet_pos)\n",
        "\n",
        "    # Находим лемму в spaCy\n",
        "    doc = nlp_en(word)\n",
        "    for token in doc:\n",
        "        lemma_spacy = token.lemma_\n",
        "\n",
        "    comparison_en.append({\n",
        "        \"Слово\": word,\n",
        "        \"Стем (NLTK)\": stem,\n",
        "        \"Лемма (NLTK)\": lemma_nltk,\n",
        "        \"Лемма (spaCy)\": lemma_spacy\n",
        "    })\n",
        "\n",
        "# Создаем таблицу для английских слов\n",
        "comparison_en_df = pd.DataFrame(comparison_en)\n",
        "print(\"Сравнение методов для английского языка:\")\n",
        "comparison_en_df"
      ]
    },
    {
      "cell_type": "markdown",
      "metadata": {
        "id": "L6ti34MVq4xS"
      },
      "source": [
        "**2. Комплексные пайплайны препроцессинга текста**"
      ]
    },
    {
      "cell_type": "markdown",
      "metadata": {
        "id": "jqmpnF2Tq7jy"
      },
      "source": [
        "2.1 Пайплайн для русского языка с PyMorphy2"
      ]
    },
    {
      "cell_type": "code",
      "execution_count": null,
      "metadata": {
        "id": "EiCoa-CmrFa7"
      },
      "outputs": [],
      "source": [
        "import re\n",
        "import pymorphy2\n",
        "from nltk.corpus import stopwords"
      ]
    },
    {
      "cell_type": "code",
      "execution_count": null,
      "metadata": {
        "id": "uOLOXZbLq-Xz"
      },
      "outputs": [],
      "source": [
        "# Загрузка стоп-слов\n",
        "nltk.download('stopwords')\n",
        "russian_stopwords = set(stopwords.words('russian'))\n",
        "\n",
        "# Инициализация анализатора\n",
        "morph = pymorphy2.MorphAnalyzer()\n",
        "\n",
        "def preprocess_russian_text(text):\n",
        "    \"\"\"\n",
        "    Полный пайплайн предобработки русского текста с использованием PyMorphy2\n",
        "    \"\"\"\n",
        "    # Шаг 1: Приведение текста к нижнему регистру\n",
        "    text = text.lower()\n",
        "    print(f\"1. Приведение к нижнему регистру: {text[:50]}...\")\n",
        "\n",
        "    # Шаг 2: Замена 'ё' на 'е'\n",
        "    text = text.replace('ё', 'е')\n",
        "    print(f\"2. Замена 'ё' на 'е': {text[:50]}...\")\n",
        "\n",
        "    # Шаг 3: Удаление цифр, знаков препинания и лишних пробелов\n",
        "    text = re.sub(r'[^\\w\\s]', ' ', text)  # Удаление знаков препинания\n",
        "    text = re.sub(r'\\d+', ' ', text)      # Удаление цифр\n",
        "    text = re.sub(r'\\s+', ' ', text)      # Удаление лишних пробелов\n",
        "    text = text.strip()                    # Удаление пробелов в начале и конце\n",
        "    print(f\"3. Очистка текста: {text[:50]}...\")\n",
        "\n",
        "    # Шаг 4: Токенизация\n",
        "    tokens = text.split()\n",
        "    print(f\"4. Токенизация: получено {len(tokens)} токенов\")\n",
        "\n",
        "    # Шаг 5: Удаление стоп-слов\n",
        "    filtered_tokens = [token for token in tokens if token not in russian_stopwords]\n",
        "    print(f\"5. Удаление стоп-слов: осталось {len(filtered_tokens)} токенов\")\n",
        "\n",
        "    # Шаг 6: Лемматизация с PyMorphy2\n",
        "    lemmas = []\n",
        "    for token in filtered_tokens:\n",
        "        parsed = morph.parse(token)[0]\n",
        "        lemmas.append(parsed.normal_form)\n",
        "\n",
        "    print(f\"6. Лемматизация: получено {len(lemmas)} лемм\")\n",
        "\n",
        "    # Шаг 7: Удаление слишком коротких слов\n",
        "    final_lemmas = [lemma for lemma in lemmas if len(lemma) > 2]\n",
        "    print(f\"7. Фильтрация коротких слов: итоговое количество {len(final_lemmas)} лемм\")\n",
        "\n",
        "    return final_lemmas\n",
        "\n",
        "# Применение пайплайна к русскому тексту\n",
        "print(\"Комплексный пайплайн для русского текста:\")\n",
        "preprocessed_russian = preprocess_russian_text(russian_text)\n",
        "print(\"\\nРезультат:\")\n",
        "print(preprocessed_russian)"
      ]
    },
    {
      "cell_type": "markdown",
      "metadata": {
        "id": "SiC4PNPlrQAy"
      },
      "source": [
        "2.2 Пайплайн для английского языка с spaCy"
      ]
    },
    {
      "cell_type": "code",
      "execution_count": null,
      "metadata": {
        "id": "avOTgnkUrRBj"
      },
      "outputs": [],
      "source": [
        "import spacy\n",
        "from nltk.corpus import stopwords"
      ]
    },
    {
      "cell_type": "code",
      "execution_count": null,
      "metadata": {
        "id": "7cbkaplkrVCq"
      },
      "outputs": [],
      "source": [
        "# Загрузка стоп-слов и модели spaCy\n",
        "english_stopwords = set(stopwords.words('english'))\n",
        "nlp_en = spacy.load(\"en_core_web_sm\")\n",
        "\n",
        "def preprocess_english_text(text):\n",
        "    \"\"\"\n",
        "    Полный пайплайн предобработки английского текста с использованием spaCy\n",
        "    \"\"\"\n",
        "    # Шаг 1: Приведение текста к нижнему регистру\n",
        "    text = text.lower()\n",
        "    print(f\"1. Приведение к нижнему регистру: {text[:50]}...\")\n",
        "\n",
        "    # Шаг 2: Расширение сокращений (контракций)\n",
        "    text = re.sub(r\"n't\", \" not\", text)\n",
        "    text = re.sub(r\"'ve\", \" have\", text)\n",
        "    text = re.sub(r\"'re\", \" are\", text)\n",
        "    text = re.sub(r\"'m\", \" am\", text)\n",
        "    text = re.sub(r\"'ll\", \" will\", text)\n",
        "    text = re.sub(r\"'d\", \" would\", text)\n",
        "    print(f\"2. Расширение контракций: {text[:50]}...\")\n",
        "\n",
        "    # Шаг 3: Обработка текста с помощью spaCy\n",
        "    doc = nlp_en(text)\n",
        "    print(f\"3. Обработка с spaCy: получено {len(doc)} токенов\")\n",
        "\n",
        "    # Шаг 4: Фильтрация и лемматизация\n",
        "    lemmas = []\n",
        "    for token in doc:\n",
        "        # Проверяем, что токен не является стоп-словом, пунктуацией или числом\n",
        "        if (not token.is_stop and\n",
        "            not token.is_punct and\n",
        "            not token.is_digit and\n",
        "            token.is_alpha):  # Только буквенные токены\n",
        "\n",
        "            # Получаем лемму и проверяем, что она не является специальным токеном spaCy\n",
        "            lemma = token.lemma_\n",
        "            if lemma != '-PRON-':  # spaCy иногда использует -PRON- для местоимений\n",
        "                lemmas.append(lemma)\n",
        "\n",
        "    print(f\"4. Фильтрация и лемматизация: получено {len(lemmas)} лемм\")\n",
        "\n",
        "    # Шаг 5: Удаление слишком коротких слов\n",
        "    final_lemmas = [lemma for lemma in lemmas if len(lemma) > 2]\n",
        "    print(f\"5. Фильтрация коротких слов: итоговое количество {len(final_lemmas)} лемм\")\n",
        "\n",
        "    return final_lemmas\n",
        "\n",
        "# Применение пайплайна к английскому тексту\n",
        "print(\"Комплексный пайплайн для английского текста:\")\n",
        "preprocessed_english = preprocess_english_text(english_text)\n",
        "print(\"\\nРезультат:\")\n",
        "print(preprocessed_english)"
      ]
    },
    {
      "cell_type": "markdown",
      "metadata": {
        "id": "EViy6ISyraCK"
      },
      "source": [
        "2.3 Пайплайн для смешанного текста (русский + английский)"
      ]
    },
    {
      "cell_type": "markdown",
      "metadata": {
        "id": "UIbjAyRlCFmY"
      },
      "source": [
        "Блок 1: Импорт необходимых библиотек и инициализация"
      ]
    },
    {
      "cell_type": "code",
      "execution_count": null,
      "metadata": {
        "id": "cS3MzLG0BNSz"
      },
      "outputs": [],
      "source": [
        "import re\n",
        "import nltk\n",
        "from nltk.tokenize import word_tokenize\n",
        "from nltk.corpus import stopwords\n",
        "from nltk.stem import SnowballStemmer\n",
        "import pymorphy2\n",
        "\n",
        "# Загрузим необходимые ресурсы\n",
        "nltk.download('stopwords')\n",
        "nltk.download('punkt')\n",
        "\n",
        "# Инициализация анализаторов\n",
        "morph = pymorphy2.MorphAnalyzer()\n",
        "russian_stemmer = SnowballStemmer(\"russian\")\n",
        "english_stemmer = SnowballStemmer(\"english\")\n",
        "\n",
        "# Списки стоп-слов\n",
        "russian_stop_words = set(stopwords.words('russian'))\n",
        "english_stop_words = set(stopwords.words('english'))\n"
      ]
    },
    {
      "cell_type": "code",
      "execution_count": null,
      "metadata": {
        "id": "M2gIZ8yTCr9-"
      },
      "outputs": [],
      "source": [
        "# Исходный текст\n",
        "mixed_text = \"\"\"\n",
        "<p>В современном мире digital-технологии стали неотъемлемой частью жизни.</p>\n",
        "<strong>Information technologies</strong> изменили способы коммуникации между людьми в 2023 году.\n",
        "CEO крупных IT-компаний (более 500 сотрудников) регулярно проводят online-конференции.\n",
        "<a href=\"https://example.com\">Developers</a> из разных стран сотрудничают в open-source проектах.\n",
        "Искусственный интеллект и <em>machine learning</em> находят применение в разных сферах.\n",
        "Для связи: contact@tech-info.com или посетите https://tech-conference.org.\n",
        "<div class=\"footer\">\n",
        "  © 2023 AI-News. Телефон: +7 (123) 456-78-90. #искусственныйинтеллект #bigdata\n",
        "</div>\n",
        "Data-scientists и ML-инженеры работают с web-приложениями и AI-моделями.\n",
        "Кибер-безопасность и e-commerce — важные направления IT-индустрии.\n",
        "\"\"\""
      ]
    },
    {
      "cell_type": "markdown",
      "metadata": {
        "id": "HWkQF_PhCMk3"
      },
      "source": [
        "Блок 2: Нормализация текста"
      ]
    },
    {
      "cell_type": "code",
      "execution_count": null,
      "metadata": {
        "id": "cfC2GfQ2Br8k"
      },
      "outputs": [],
      "source": [
        "def normalize_mixed_text(text):\n",
        "    \"\"\"\n",
        "    Нормализует смешанный текст, удаляя HTML-теги, URL, email, специальные символы\n",
        "    и выполняя базовые преобразования для стандартизации текста.\n",
        "\n",
        "    Args:\n",
        "        text (str): Исходный смешанный текст с \"шумом\"\n",
        "\n",
        "    Returns:\n",
        "        str: Нормализованный текст\n",
        "    \"\"\"\n",
        "    # Шаг 1: Удаление HTML-тегов\n",
        "    # Находит и удаляет всё между < и >, включая скрипты и стили\n",
        "    text = re.sub(r'<[^>]+>', ' ', text)\n",
        "\n",
        "    # Шаг 2: Удаление URL-адресов\n",
        "    text = re.sub(r'https?://\\S+|www\\.\\S+', ' ', text)\n",
        "\n",
        "    # Шаг 3: Удаление email-адресов\n",
        "    text = re.sub(r'\\S+@\\S+\\.\\S+', ' ', text)\n",
        "\n",
        "    # Шаг 4: Удаление хештегов\n",
        "    text = re.sub(r'#\\S+', ' ', text)\n",
        "\n",
        "    # Шаг 5: Удаление номеров телефонов (различные форматы)\n",
        "    text = re.sub(r'\\+\\d+\\s*[\\(\\)]*\\s*\\d+[\\s\\-\\(\\)]*\\d+[\\s\\-\\(\\)]*\\d+', ' ', text)\n",
        "\n",
        "    # Шаг 6: Удаление символов копирайта, специальных символов\n",
        "    text = re.sub(r'[©®™℠]+', ' ', text)\n",
        "\n",
        "    # Шаг 7: Замена скобок и их содержимого на пробел\n",
        "    text = re.sub(r'\\([^)]*\\)', ' ', text)\n",
        "\n",
        "    # Шаг 8: Приведение к нижнему регистру\n",
        "    text = text.lower()\n",
        "\n",
        "    # Шаг 9: Замена буквы \"ё\" на \"е\" для унификации русского текста\n",
        "    text = text.replace('ё', 'е')\n",
        "\n",
        "    # Шаг 10: Обработка пунктуации\n",
        "    # Сохраняем дефисы внутри слов, но удаляем остальную пунктуацию\n",
        "    # Сначала заменим дефисы временным маркером\n",
        "    text = re.sub(r'(\\w)-(\\w)', r'\\1HYPHEN\\2', text)\n",
        "\n",
        "    # Удаляем пунктуацию кроме временных маркеров дефисов\n",
        "    text = re.sub(r'[^\\w\\sHYPHEN]', ' ', text)\n",
        "\n",
        "    # Возвращаем дефисы\n",
        "    text = re.sub(r'HYPHEN', '-', text)\n",
        "\n",
        "    # Шаг 11: Удаление цифр, но сохранение слов с цифрами (например, ML-инженеры5)\n",
        "    text = re.sub(r'\\b\\d+\\b', ' ', text)\n",
        "\n",
        "    # Шаг 12: Удаление избыточных пробелов (в том числе в начале и конце строк)\n",
        "    text = re.sub(r'\\s+', ' ', text).strip()\n",
        "\n",
        "    return text\n",
        "\n",
        "# Тест функции\n",
        "normalized_text = normalize_mixed_text(mixed_text)\n",
        "print(\"Нормализованный текст:\")\n",
        "print(normalized_text)"
      ]
    },
    {
      "cell_type": "markdown",
      "metadata": {
        "id": "vMtLsyCMDZ9G"
      },
      "source": [
        "Блок 3: Определение алфавита символа и токенизация"
      ]
    },
    {
      "cell_type": "code",
      "execution_count": null,
      "metadata": {
        "id": "0fKwh812DcQO"
      },
      "outputs": [],
      "source": [
        "def is_cyrillic(char):\n",
        "    \"\"\"Проверяет, является ли символ кириллическим.\"\"\"\n",
        "    return 'а' <= char <= 'я' or char == 'ё'\n",
        "\n",
        "def is_latin(char):\n",
        "    \"\"\"Проверяет, является ли символ латинским.\"\"\"\n",
        "    return 'a' <= char <= 'z'\n",
        "\n",
        "def classify_token(token):\n",
        "    \"\"\"Определяет язык токена: 'russian', 'english' или 'mixed'.\"\"\"\n",
        "    if not token:\n",
        "        return None\n",
        "\n",
        "    # Удаляем все не-буквенные символы для определения языка\n",
        "    letters = [c for c in token.lower() if c.isalpha()]\n",
        "    if not letters:\n",
        "        return None\n",
        "\n",
        "    cyrillic_count = sum(1 for c in letters if is_cyrillic(c))\n",
        "    latin_count = sum(1 for c in letters if is_latin(c))\n",
        "\n",
        "    if cyrillic_count > 0 and latin_count == 0:\n",
        "        return 'russian'\n",
        "    elif latin_count > 0 and cyrillic_count == 0:\n",
        "        return 'english'\n",
        "    elif cyrillic_count > 0 and latin_count > 0:\n",
        "        return 'mixed'\n",
        "    else:\n",
        "        return None\n",
        "\n",
        "def split_hyphenated_words(token):\n",
        "    \"\"\"Разбивает слова с дефисом, если они состоят из смешанных символов.\"\"\"\n",
        "    if '-' not in token:\n",
        "        return [token]\n",
        "\n",
        "    # Проверяем, есть ли смешанные символы в токене\n",
        "    if classify_token(token) != 'mixed':\n",
        "        return [token]\n",
        "\n",
        "    # Разбиваем по дефису\n",
        "    parts = token.split('-')\n",
        "    result = []\n",
        "\n",
        "    for part in parts:\n",
        "        if part:  # Игнорируем пустые части\n",
        "            result.append(part)\n",
        "\n",
        "    return result\n",
        "\n",
        "def tokenize_and_classify(text):\n",
        "    \"\"\"Токенизирует текст и классифицирует токены по языку.\"\"\"\n",
        "    # Сначала разделим текст на слова, сохраняя дефисы внутри слов\n",
        "    raw_tokens = re.findall(r'\\b[\\w\\-]+\\b', text)\n",
        "\n",
        "    russian_tokens = []\n",
        "    english_tokens = []\n",
        "\n",
        "    for token in raw_tokens:\n",
        "        # Проверяем, нужно ли разделить слово с дефисом\n",
        "        split_tokens = split_hyphenated_words(token)\n",
        "\n",
        "        for t in split_tokens:\n",
        "            lang = classify_token(t)\n",
        "            if lang == 'russian':\n",
        "                russian_tokens.append(t)\n",
        "            elif lang == 'english':\n",
        "                english_tokens.append(t)\n",
        "\n",
        "    return russian_tokens, english_tokens\n",
        "\n",
        "# Применяем токенизацию и классификацию\n",
        "russian_tokens, english_tokens = tokenize_and_classify(normalized_text)\n",
        "\n",
        "print(\"\\nРусские токены:\")\n",
        "print(russian_tokens)\n",
        "print(\"\\nАнглийские токены:\")\n",
        "print(english_tokens)"
      ]
    },
    {
      "cell_type": "markdown",
      "metadata": {
        "id": "GaZMugJFDtHQ"
      },
      "source": [
        "Блок 4: Обработка токенов по языковым правилам"
      ]
    },
    {
      "cell_type": "code",
      "execution_count": null,
      "metadata": {
        "id": "_Fon7yaBDtuL"
      },
      "outputs": [],
      "source": [
        "def process_russian_tokens(tokens):\n",
        "    \"\"\"Обрабатывает русские токены по пайплайну для русского языка.\"\"\"\n",
        "    # Фильтрация стоп-слов\n",
        "    filtered_tokens = [token for token in tokens if token not in russian_stop_words]\n",
        "\n",
        "    # Лемматизация с помощью pymorphy2\n",
        "    lemmatized_tokens = []\n",
        "    for token in filtered_tokens:\n",
        "        # Получаем нормальную форму\n",
        "        lemma = morph.parse(token)[0].normal_form\n",
        "        lemmatized_tokens.append(lemma)\n",
        "\n",
        "    return lemmatized_tokens\n",
        "\n",
        "def process_english_tokens(tokens):\n",
        "    \"\"\"Обрабатывает английские токены по пайплайну для английского языка.\"\"\"\n",
        "    # Обработка сокращений и апострофов\n",
        "    expanded_tokens = []\n",
        "    for token in tokens:\n",
        "        # Обработка притяжательных форм и сокращений\n",
        "        token = re.sub(r'\\'s$|\\'$', '', token)  # Удаляем 's и '\n",
        "        expanded_tokens.append(token)\n",
        "\n",
        "    # Фильтрация стоп-слов\n",
        "    filtered_tokens = [token for token in expanded_tokens if token not in english_stop_words]\n",
        "\n",
        "    # Стемматизация\n",
        "    stemmed_tokens = [english_stemmer.stem(token) for token in filtered_tokens]\n",
        "\n",
        "    return stemmed_tokens\n",
        "\n",
        "# Обработка токенов по языковым правилам\n",
        "processed_russian = process_russian_tokens(russian_tokens)\n",
        "processed_english = process_english_tokens(english_tokens)\n",
        "\n",
        "print(\"\\nОбработанные русские токены:\")\n",
        "print(processed_russian)\n",
        "print(\"\\nОбработанные английские токены:\")\n",
        "print(processed_english)"
      ]
    },
    {
      "cell_type": "markdown",
      "metadata": {
        "id": "RrZFA-rID2XX"
      },
      "source": [
        "Блок 5: Финальная обработка и объединение результатов"
      ]
    },
    {
      "cell_type": "code",
      "execution_count": null,
      "metadata": {
        "id": "ulvjX8hDD4LJ"
      },
      "outputs": [],
      "source": [
        "def final_processing(russian_tokens, english_tokens):\n",
        "    \"\"\"Выполняет постобработку и объединяет результаты.\"\"\"\n",
        "    # Фильтрация коротких слов (менее 3 символов)\n",
        "    filtered_russian = [token for token in russian_tokens if len(token) >= 3]\n",
        "    filtered_english = [token for token in english_tokens if len(token) >= 3]\n",
        "\n",
        "    # Удаление дубликатов\n",
        "    unique_russian = list(dict.fromkeys(filtered_russian))\n",
        "    unique_english = list(dict.fromkeys(filtered_english))\n",
        "\n",
        "    return {\n",
        "        'russian_tokens': unique_russian,\n",
        "        'english_tokens': unique_english,\n",
        "        'stats': {\n",
        "            'russian_count': len(unique_russian),\n",
        "            'english_count': len(unique_english),\n",
        "            'total_unique': len(unique_russian) + len(unique_english)\n",
        "        }\n",
        "    }\n",
        "\n",
        "# Финальная обработка\n",
        "result = final_processing(processed_russian, processed_english)\n",
        "\n",
        "print(\"\\nФинальный результат:\")\n",
        "print(\"Русские слова:\", result['russian_tokens'])\n",
        "print(\"Английские слова:\", result['english_tokens'])\n",
        "print(\"\\nСтатистика:\")\n",
        "print(f\"Количество русских слов: {result['stats']['russian_count']}\")\n",
        "print(f\"Количество английских слов: {result['stats']['english_count']}\")\n",
        "print(f\"Общее количество уникальных слов: {result['stats']['total_unique']}\")"
      ]
    },
    {
      "cell_type": "markdown",
      "metadata": {
        "id": "JwJWCho_Eebo"
      },
      "source": [
        "**Практические упражнения:**"
      ]
    },
    {
      "cell_type": "markdown",
      "metadata": {
        "id": "xThTr52IEvhr"
      },
      "source": [
        "Упражнение 1: Базовая стемматизация русского текста с помощью NLTK"
      ]
    },
    {
      "cell_type": "markdown",
      "metadata": {
        "id": "8b-U9dWlEyUB"
      },
      "source": [
        "Задание:\n",
        "Напишите функцию, которая принимает русский текст, выполняет токенизацию и применяет стемматизацию с использованием SnowballStemmer из библиотеки NLTK. Функция должна возвращать список стемматизированных слов.\n",
        "\n",
        "Требования:\n",
        "\n",
        "* Используйте SnowballStemmer(\"russian\") из NLTK\n",
        "* Удалите все знаки препинания перед стемматизацией\n",
        "* Приведите слова к нижнему регистру\n",
        "* Выведите исходные слова и их стеммы в виде таблицы для сравнения"
      ]
    },
    {
      "cell_type": "code",
      "execution_count": null,
      "metadata": {
        "id": "kG7vf-0jE6US"
      },
      "outputs": [],
      "source": [
        "# ваш код\n",
        "import re\n",
        "from nltk.stem import SnowballStemmer\n",
        "\n",
        "russian_stemmer = SnowballStemmer(\"russian\")\n",
        "\n",
        "def stem_russian_text(text):\n",
        "    words = re.findall(r'\\b\\w+\\b', text.lower())\n",
        "    \n",
        "    stemmed_words = [russian_stemmer.stem(word) for word in words]\n",
        "    \n",
        "    return stemmed_words\n",
        "\n",
        "# Текст для проверки\n",
        "russian_text = \"\"\"\n",
        "Программирование - это искусство создания программ для компьютеров.\n",
        "Программисты разрабатывают различные приложения, которые используются миллионами людей.\n",
        "Хорошие разработчики всегда учатся новому и совершенствуют свои навыки программирования.\n",
        "\"\"\"\n",
        "\n",
        "russian_stemmed = stem_russian_text(russian_text)\n",
        "\n",
        "words = re.findall(r'\\b\\w+\\b', russian_text.lower())\n",
        "print(\"[Сравнение] [исходных] [слов] [и] [их] [стемм]:\")\n",
        "for i, (word, stem) in enumerate(zip(words, russian_stemmed)):\n",
        "    print(f\"{i+1}. {word} -> {stem}\")\n"
      ]
    },
    {
      "cell_type": "markdown",
      "metadata": {
        "id": "rHBKG099FGa5"
      },
      "source": [
        "Упражнение 2: Сравнение стемматизации и лемматизации английского текста"
      ]
    },
    {
      "cell_type": "markdown",
      "metadata": {
        "id": "bRCilNwJFJKu"
      },
      "source": [
        "Задание: Реализуйте две функции, которые обрабатывают один и тот же английский текст с использованием PorterStemmer и WordNetLemmatizer из NLTK соответственно. Сравните результаты и определите, какой метод лучше сохраняет семантику слов.\n",
        "\n",
        "Требования:\n",
        "\n",
        "* Для стемматизации используйте PorterStemmer из NLTK\n",
        "* Для лемматизации используйте WordNetLemmatizer с определением части речи\n",
        "* Создайте таблицу сравнения из трех колонок: исходное слово, стемма, лемма\n",
        "* Выделите случаи, где результаты стемматизации и лемматизации существенно различаются"
      ]
    },
    {
      "cell_type": "code",
      "execution_count": null,
      "metadata": {
        "id": "uuAXLHprFaqW"
      },
      "outputs": [],
      "source": [
        "# ваш код:\n",
        "import re\n",
        "import nltk\n",
        "from nltk.stem import PorterStemmer\n",
        "from nltk.stem import WordNetLemmatizer\n",
        "from nltk import pos_tag\n",
        "from nltk.corpus import wordnet\n",
        "\n",
        "nltk.download('punkt')\n",
        "nltk.download('averaged_perceptron_tagger')\n",
        "nltk.download('wordnet')\n",
        "\n",
        "stemmer = PorterStemmer()\n",
        "lemmatizer = WordNetLemmatizer()\n",
        "\n",
        "def get_wordnet_pos(tag):\n",
        "    if tag.startswith('J'):\n",
        "        return wordnet.ADJ\n",
        "    elif tag.startswith('V'):\n",
        "        return wordnet.VERB\n",
        "    elif tag.startswith('N'):\n",
        "        return wordnet.NOUN\n",
        "    elif tag.startswith('R'):\n",
        "        return wordnet.ADV\n",
        "    else:\n",
        "        return wordnet.NOUN\n",
        "\n",
        "def lemmatize_with_pos(text):\n",
        "    tokens = re.findall(r'\\b\\w+\\b', text.lower())\n",
        "    tagged = pos_tag(tokens)\n",
        "\n",
        "    lemmas = []\n",
        "    for word, tag in tagged:\n",
        "        if word.isalpha():  \n",
        "            wordnet_pos = get_wordnet_pos(tag)\n",
        "            lemmas.append(lemmatizer.lemmatize(word, wordnet_pos))\n",
        "\n",
        "    return lemmas\n",
        "\n",
        "def stem_text(text):\n",
        "    words = re.findall(r'\\b\\w+\\b', text.lower())\n",
        "    stemmed_words = [stemmer.stem(word) for word in words]\n",
        "    return stemmed_words\n",
        "\n",
        "# Текст для проверки\n",
        "english_text = \"\"\"\n",
        "Natural language processing helps computers understand and generate human language.\n",
        "Researchers are developing better models that can recognize patterns in texts.\n",
        "The running applications are processing huge amounts of data daily.\n",
        "Many universities are teaching students how to build better language models.\n",
        "\"\"\"\n",
        "english_stemmed = stem_text(english_text)\n",
        "\n",
        "english_lemmas = lemmatize_with_pos(english_text)\n",
        "\n",
        "original_words = re.findall(r'\\b\\w+\\b', english_text.lower())\n",
        "\n",
        "print(\"[Сравнение] [стемматизации] [и] [лемматизации]:\")\n",
        "for i, (word, stem, lemma) in enumerate(zip(original_words, english_stemmed, english_lemmas)):\n",
        "    print(f\"{i+1}. {word} -> [стемма]: {stem}, [лемма]: {lemma}\")\n"
      ]
    },
    {
      "cell_type": "markdown",
      "metadata": {
        "id": "JS5vnJXZFhPl"
      },
      "source": [
        "Упражнение 3: Лемматизация русского текста с использованием pymorphy2 и определение частей речи"
      ]
    },
    {
      "cell_type": "markdown",
      "metadata": {
        "id": "EW0VZZMaFiBQ"
      },
      "source": [
        "Задание: Напишите функцию, которая выполняет морфологический анализ русского текста с помощью библиотеки pymorphy2. Функция должна возвращать для каждого слова его лемму (нормальную форму) и часть речи.\n",
        "\n",
        "Требования:\n",
        "\n",
        "* Используйте pymorphy2.MorphAnalyzer()\n",
        "* Обработайте токенизированный текст, игнорируя пунктуацию и числа\n",
        "* Для каждого слова определите нормальную форму и часть речи\n",
        "* Посчитайте частоту встречаемости каждой части речи в тексте\n",
        "* Найдите слова, имеющие омонимичные разборы, и предложите способ разрешения неоднозначности"
      ]
    },
    {
      "cell_type": "code",
      "execution_count": null,
      "metadata": {
        "id": "e9TfNGJrFtDl"
      },
      "outputs": [],
      "source": [
        "# ваш код\n",
        "import re\n",
        "import pymorphy2\n",
        "from collections import Counter\n",
        "\n",
        "morph = pymorphy2.MorphAnalyzer()\n",
        "\n",
        "def analyze_russian_text(text):\n",
        "\n",
        "    words = re.findall(r'\\b\\w+\\b', text.lower())\n",
        "    \n",
        "    results = []\n",
        "    ambiguous_words = []\n",
        "    \n",
        "    for word in words:\n",
        "        parsed = morph.parse(word)\n",
        "        normal_form = parsed[0].normal_form\n",
        "        pos = parsed[0].tag.POS if parsed[0].tag.POS else 'UNKN'\n",
        "        \n",
        "        results.append({\n",
        "            'word': word,\n",
        "            'normal_form': normal_form,\n",
        "            'pos': pos\n",
        "        })\n",
        "        \n",
        "        if len(parsed) > 1:\n",
        "            scores = [p.score for p in parsed]\n",
        "            if max(scores) - min(scores) < 0.1: \n",
        "                ambiguous_words.append({\n",
        "                    'word': word,\n",
        "                    'parses': [(p.normal_form, p.tag.POS, p.score) for p in parsed]\n",
        "                })\n",
        "    \n",
        "    return results, ambiguous_words\n",
        "\n",
        "# Текст для проверки\n",
        "russian_text = \"\"\"\n",
        "Машинное обучение становится всё более популярным в современном мире.\n",
        "Компания используют алгоритмы машинного обучения для анализа данных и принятия решения.\n",
        "Имеющую по данным обучение можно на больших наборах данных, чтобы повысить их точность.\n",
        "Эти технологии меняют нашу жизнь, делая её более удобной и эффективной.\n",
        "\"\"\"\n",
        "\n",
        "results, ambiguous_words = analyze_russian_text(russian_text)\n",
        "\n",
        "print(\"[Демматизированные] [слова] [и] [их] [части] [речи]:\")\n",
        "for i, result in enumerate(results[:20]):  \n",
        "    print(f\"{i+1}. {result['word']} -> {result['normal_form']} ({result['pos']})\")\n",
        "\n",
        "pos_counter = Counter([result['pos'] for result in results])\n",
        "print(\"\\n[Частота] [встречаемости] [частей] [речи]:\")\n",
        "for pos, count in pos_counter.most_common():\n",
        "    print(f\"{pos}: {count}\")\n",
        "\n",
        "if ambiguous_words:\n",
        "    print(\"\\n[Слова] [с] [омонимичными] [разборами]:\")\n",
        "    for amb_word in ambiguous_words:\n",
        "        print(f\"\\n{amb_word['word']}:\")\n",
        "        for i, parse in enumerate(amb_word['parses']):\n",
        "            print(f\"  {i+1}. {parse[0]} ({parse[1]}) - вероятность: {parse[2]:.3f}\")\n",
        "else:\n",
        "    print(\"\\n[Омонимичные] [слова] [не] [найдены]\")\n"
      ]
    },
    {
      "cell_type": "markdown",
      "metadata": {
        "id": "3Gh_zSekF1EL"
      },
      "source": [
        "Упражнение 4: Обработка смешанного русско-английского текста с использованием spaCy"
      ]
    },
    {
      "cell_type": "markdown",
      "metadata": {
        "id": "fHzPZi7bF1sB"
      },
      "source": [
        "Задание: Разработайте систему для обработки смешанного русско-английского текста с использованием библиотеки spaCy. Ваша программа должна определять язык каждого слова, применять соответствующую модель для лемматизации и выполнять частеречную разметку.\n",
        "\n",
        "Требования:\n",
        "\n",
        "* Загрузите модели en_core_web_sm и ru_core_news_sm из spaCy\n",
        "* Реализуйте алгоритм определения языка для каждого токена (можно использовать множества символов кириллицы и латиницы)\n",
        "* Обработайте каждый токен соответствующей языковой моделью\n",
        "* Сформируйте два отдельных набора данных: лемматизированный русский и английский текст\n",
        "* Определите наиболее часто встречающиеся леммы для каждого языка"
      ]
    },
    {
      "cell_type": "code",
      "execution_count": null,
      "metadata": {
        "id": "0g_p-Y8KF-fh"
      },
      "outputs": [],
      "source": [
        "# ваш код\n",
        "\n",
        "# Текст для проверки\n",
        "\n",
        "mixed_text = \"\"\"\n",
        "Data science становится ключевой компетенцией в современном IT-мире.\n",
        "Machine learning инженеры и аналитики данных востребованы на рынке труда.\n",
        "Компании активно внедряют artificial intelligence решения для оптимизации бизнес-процессов.\n",
        "Работодатели ищут специалистов, владеющих языком программирования Python и имеющих опыт работы с big data.\n",
        "\"\"\""
      ]
    },
    {
      "cell_type": "markdown",
      "metadata": {
        "id": "sLVbeZHcGGK7"
      },
      "source": [
        "Упражнение 5*: Применение библиотеки Natasha для анализа именованных сущностей и лемматизации русского текста"
      ]
    },
    {
      "cell_type": "markdown",
      "metadata": {
        "id": "fs2q0cZOGLR7"
      },
      "source": [
        "Задание: Используйте библиотеку Natasha для выделения именованных сущностей (NER) и лемматизации русского текста. Создайте функцию, которая принимает текст, выделяет и классифицирует в нём именованные сущности (имена людей, организации, локации и т.д.), а также выполняет лемматизацию всех слов.\n",
        "\n",
        "Требования:\n",
        "\n",
        "* Используйте Segmenter, MorphVocab, NewsEmbedding, NewsMorphTagger, NewsSyntaxParser, NewsNERTagger из библиотеки Natasha\n",
        "* Выделите все именованные сущности в тексте и определите их тип\n",
        "* Выполните лемматизацию всех слов, учитывая контекст (используя синтаксический анализ)\n",
        "* Сформируйте структурированный результат, включающий: список всех именованных сущностей с указанием их типа, список всех слов с их леммами, статистику по типам найденных сущностей"
      ]
    },
    {
      "cell_type": "code",
      "execution_count": null,
      "metadata": {
        "id": "vkD1Mfj-GdAX"
      },
      "outputs": [],
      "source": [
        "# ваш код\n",
        "\n",
        "import spacy\n",
        "import re\n",
        "from collections import Counter\n",
        "\n",
        "nlp_en = spacy.load(\"en_core_web_sm\")\n",
        "nlp_ru = spacy.load(\"ru_core_news_sm\")\n",
        "\n",
        "def classify_token(token):\n",
        "    \"\"\"[Определяет] [язык] [токена]: 'russian', 'english' или 'mixed'.\"\"\"\n",
        "    if not token:\n",
        "        return None\n",
        "\n",
        "    letters = [c for c in token.lower() if c.isalpha()]\n",
        "    if not letters:\n",
        "        return None\n",
        "\n",
        "    cyrillic_count = sum(1 for c in letters if 'а' <= c <= 'я' or c == 'ё')\n",
        "    latin_count = sum(1 for c in letters if 'a' <= c <= 'z')\n",
        "\n",
        "    if cyrillic_count > 0 and latin_count == 0:\n",
        "        return 'russian'\n",
        "    elif latin_count > 0 and cyrillic_count == 0:\n",
        "        return 'english'\n",
        "    elif cyrillic_count > 0 and latin_count > 0:\n",
        "        return 'mixed'\n",
        "    else:\n",
        "        return None\n",
        "\n",
        "def lemmatize_with_spacy(text, nlp):\n",
        "    doc = nlp(text)\n",
        "    lemmas = [token.lemma_ for token in doc if token.is_alpha]\n",
        "    return lemmas\n",
        "\n",
        "def process_mixed_text(text):\n",
        "    tokens = re.findall(r'\\b\\w+\\b', text.lower())\n",
        "    \n",
        "    russian_tokens = []\n",
        "    english_tokens = []\n",
        "    \n",
        "    for token in tokens:\n",
        "        lang = classify_token(token)\n",
        "        if lang == 'russian':\n",
        "            russian_tokens.append(token)\n",
        "        elif lang == 'english':\n",
        "            english_tokens.append(token)\n",
        "    \n",
        "    russian_lemmas = lemmatize_with_spacy(' '.join(russian_tokens), nlp_ru)\n",
        "\n",
        "    english_lemmas = lemmatize_with_spacy(' '.join(english_tokens), nlp_en)\n",
        "    \n",
        "    return russian_lemmas, english_lemmas\n",
        "\n",
        "# Текст для проверки\n",
        "mixed_text = \"\"\"\n",
        "Data science становится ключевой компетенцией в современном IT-wipe.\n",
        "Rechine Learning минимум и аналитики данных востребованы на рынке труда.\n",
        "Компания активно внедряет artificial intelligence решения для оптимизации бизнес-процессов.\n",
        "Работодатели ищут специалистов, владеющих языком программирования Python и имеющих опыт работы [В big data.\n",
        "\"\"\"\n",
        "\n",
        "russian_lemmas, english_lemmas = process_mixed_text(mixed_text)\n",
        "\n",
        "print(\"[Лемматизированные] [русские] [слова]:\")\n",
        "for i, word in enumerate(russian_lemmas):\n",
        "    print(f\"{i+1}. {word}\")\n",
        "\n",
        "print(\"\\n[Лемматизированные] [английские] [слова]:\")\n",
        "for i, word in enumerate(english_lemmas):\n",
        "    print(f\"{i+1}. {word}\")\n",
        "\n",
        "russian_freq = Counter(russian_lemmas)\n",
        "english_freq = Counter(english_lemmas)\n",
        "\n",
        "print(\"\\n[Наиболее] [частые] [русские] [леммы]:\")\n",
        "for lemma, count in russian_freq.most_common(5):\n",
        "    print(f\"{lemma}: {count}\")\n",
        "\n",
        "print(\"\\n[Наиболее] [частые] [английские] [леммы]:\")\n",
        "for lemma, count in english_freq.most_common(5):\n",
        "    print(f\"{lemma}: {count}\")"
      ]
    }
  ],
  "metadata": {
    "colab": {
      "provenance": []
    },
    "kernelspec": {
      "display_name": "Python 3",
      "name": "python3"
    },
    "language_info": {
      "name": "python"
    }
  },
  "nbformat": 4,
  "nbformat_minor": 0
}
