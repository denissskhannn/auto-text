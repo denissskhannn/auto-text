{
  "cells": [
    {
      "cell_type": "markdown",
      "metadata": {
        "id": "xaCyWYJ6uGfk"
      },
      "source": [
        "В этом ноутбуке вы узнаете:\n",
        "\n",
        "1.   Как использовать встроенные методы Python для работы со строками\n",
        "2.   Как выполнять базовую нормализацию текста\n",
        "3. Как токенизировать текст с помощью простых методов\n",
        "4. Как применять эти навыки на практике\n"
      ]
    },
    {
      "cell_type": "markdown",
      "metadata": {
        "id": "T4-yFhGcy934"
      },
      "source": [
        "**1. Основные понятия и функции**"
      ]
    },
    {
      "cell_type": "markdown",
      "metadata": {
        "id": "mMYBk9PluRfs"
      },
      "source": [
        "В Python текст представлен в виде строк (тип данных str). Строки можно создавать, используя одинарные или двойные кавычки."
      ]
    },
    {
      "cell_type": "code",
      "execution_count": null,
      "metadata": {
        "id": "tXalOImZuMdk"
      },
      "outputs": [],
      "source": [
        "# Создание строк\n",
        "text1 = 'Это текст в \"одинарных\" кавычках'\n",
        "text2 = \"Это текст в 'двойных' кавычках\"\n",
        "text3 = '''Это текст в \"тройных\" кавычках'''\n",
        "text4 = '''Это\n",
        "текст\n",
        "в 'тройных'\n",
        "кавычках'''\n",
        "\n",
        "# Вывод строк\n",
        "print(text1)\n",
        "print(text2)\n",
        "print(text3)\n",
        "print(text4)"
      ]
    },
    {
      "cell_type": "markdown",
      "metadata": {
        "id": "4dVUdNKvuYvU"
      },
      "source": [
        "1.1. Индексация и срезы строк.\n",
        "Строки в Python — это последовательности символов, к которым можно обращаться по индексу. Индексация начинается с 0."
      ]
    },
    {
      "cell_type": "code",
      "execution_count": null,
      "metadata": {
        "id": "8RlZDm97uVrC"
      },
      "outputs": [],
      "source": [
        "# Строка для примеров\n",
        "sample_text = \"Компьютерная лингвистика\"\n",
        "\n",
        "# Получение отдельного символа\n",
        "print(\"Первый символ:\", sample_text[0])\n",
        "print(\"Пятый символ:\", sample_text[4])\n",
        "\n",
        "# Срезы строк\n",
        "print(\"Первые 12 символов:\", sample_text[:12])  # от начала до 12-го символа (не включая)\n",
        "print(\"С 13-го символа до конца:\", sample_text[13:])  # с 13-го символа до конца\n",
        "print(\"С 5-го по 10-й символ:\", sample_text[5:11])  # с 5-го по 10-й символ (11-й не включается)"
      ]
    },
    {
      "cell_type": "markdown",
      "metadata": {
        "id": "-oi1N22TvbQx"
      },
      "source": [
        "1.2. Основные методы строк\n",
        "Python предоставляет множество встроенных методов для работы со строками. Рассмотрим наиболее полезные для обработки текста:"
      ]
    },
    {
      "cell_type": "code",
      "execution_count": null,
      "metadata": {
        "id": "vkcKQqqgvcpk"
      },
      "outputs": [],
      "source": [
        "# Строка для примеров\n",
        "text = \"   Пример текста для анализа.   \"\n",
        "\n",
        "# Удаление пробелов в начале и конце строки\n",
        "print(\"После strip():\", text.strip())\n",
        "\n",
        "# Перевод в нижний регистр\n",
        "print(\"После lower():\", text.lower())\n",
        "\n",
        "# Перевод в верхний регистр\n",
        "print(\"После upper():\", text.upper())\n",
        "\n",
        "# Проверка, начинается ли строка с определенной подстроки\n",
        "print(\"Начинается с 'Пример'?\", text.strip().startswith(\"Пример\"))\n",
        "\n",
        "# Проверка, заканчивается ли строка определенной подстрокой\n",
        "print(\"Заканчивается на '.'?\", text.strip().endswith(\".\"))\n",
        "\n",
        "# Замена подстроки\n",
        "print(\"После replace():\", text.replace(\"анализа\", \"обработки\"))\n",
        "\n",
        "# Подсчет вхождений подстроки\n",
        "print(\"Количество пробелов:\", text.count(\" \"))"
      ]
    },
    {
      "cell_type": "markdown",
      "metadata": {
        "id": "-oEf7vLCvvzL"
      },
      "source": [
        "1.3. Конкатенация строк и форматирование.\n",
        "Существует несколько способов объединения строк в Python:"
      ]
    },
    {
      "cell_type": "code",
      "execution_count": null,
      "metadata": {
        "id": "CS50TkzKvwfk"
      },
      "outputs": [],
      "source": [
        "# Простая конкатенация с помощью оператора +\n",
        "first_name = \"Иван\"\n",
        "last_name = \"Петров\"\n",
        "full_name = first_name + \" \" + last_name\n",
        "print(\"Полное имя:\", full_name)\n",
        "\n",
        "# Форматирование строк с помощью метода format()\n",
        "age = 25\n",
        "message = \"Меня зовут {}, мне {} лет.\".format(full_name, age)\n",
        "print(message)\n",
        "\n",
        "# f-строки (начиная с Python 3.6)\n",
        "message_f = f\"Меня зовут {full_name}, мне {age} лет.\"\n",
        "print(message_f)\n",
        "\n",
        "# Использование %\n",
        "message_old = \"Меня зовут %s, мне %d лет.\" % (full_name, age)\n",
        "print(message_old)"
      ]
    },
    {
      "cell_type": "markdown",
      "metadata": {
        "id": "e0K6mt6Vv6gV"
      },
      "source": [
        "**2. Базовая нормализация текста**"
      ]
    },
    {
      "cell_type": "markdown",
      "metadata": {
        "id": "hL2BXNo8wEVY"
      },
      "source": [
        "Нормализация текста — это процесс преобразования текста к стандартному виду для облегчения его дальнейшей обработки. Рассмотрим базовые операции нормализации."
      ]
    },
    {
      "cell_type": "markdown",
      "metadata": {
        "id": "J5Gk1AnRwHK0"
      },
      "source": [
        "2.1. Приведение к нижнему регистру помогает унифицировать текст. Обычно используется нижний регистр."
      ]
    },
    {
      "cell_type": "code",
      "execution_count": null,
      "metadata": {
        "id": "vNNMpCqOv2Dz"
      },
      "outputs": [],
      "source": [
        "# Пример текста с разным регистром\n",
        "mixed_case_text = \"КомпьЮтерная ЛИНГвистика изучает Методы Автоматической Обработки Текста.\"\n",
        "\n",
        "# Приведение к нижнему регистру\n",
        "normalized_text = mixed_case_text.lower()\n",
        "print(\"Исходный текст:\", mixed_case_text)\n",
        "print(\"Нормализованный текст:\", normalized_text)\n",
        "\n",
        "# Пример на английском\n",
        "english_text = \"Natural Language Processing (NLP) is a FIELD of AI.\"\n",
        "print(\"Английский текст после нормализации:\", english_text.lower())"
      ]
    },
    {
      "cell_type": "markdown",
      "metadata": {
        "id": "Vlwzl4-bw7u9"
      },
      "source": [
        "2.2. Удаление лишних пробелов. Часто тексты содержат лишние пробелы, которые нужно удалить.\n",
        "\n",
        "\n"
      ]
    },
    {
      "cell_type": "code",
      "execution_count": null,
      "metadata": {
        "id": "AioDUYPrw-Hl"
      },
      "outputs": [],
      "source": [
        "# Текст с лишними пробелами\n",
        "text_with_spaces = \"   В  этом   тексте  есть  лишние    пробелы.   \"\n",
        "\n",
        "# Удаление пробелов в начале и конце\n",
        "trimmed_text = text_with_spaces.strip()\n",
        "print(\"После strip():\", trimmed_text)\n",
        "\n",
        "words = trimmed_text.split()  # Разбиваем текст на слова\n",
        "normalized_manually = ' '.join(words)  # Объединяем слова с одним пробелом\n",
        "print(\"Нормализация:\", normalized_manually)\n",
        "\n",
        "# Пример на английском\n",
        "english_spaces = \"  This   text   has   extra   spaces. \"\n",
        "english_normalized = ' '.join(english_spaces.strip().split())\n",
        "print(\"Английский текст после нормализации пробелов:\", english_normalized)"
      ]
    },
    {
      "cell_type": "markdown",
      "metadata": {
        "id": "M7bFiY8syfRf"
      },
      "source": [
        "2.3. Удаление пунктуации. Для многих задач обработки текста необходимо удалить знаки пунктуации."
      ]
    },
    {
      "cell_type": "code",
      "execution_count": null,
      "metadata": {
        "id": "g7M5Bna1yjB1"
      },
      "outputs": [],
      "source": [
        "# Текст с пунктуацией\n",
        "text_with_punctuation = \"Привет, мир! Как дела? Это - пример текста; с разными знаками пунктуации.\"\n",
        "\n",
        "# Определение знаков пунктуации для удаления\n",
        "import string\n",
        "punctuation = string.punctuation  # !\"#$%&'()*+,-./:;<=>?@[\\]^_`{|}~\n",
        "print(\"Знаки пунктуации:\", punctuation)\n",
        "\n",
        "# Удаление пунктуации (метод 1)\n",
        "no_punctuation = ''.join(char for char in text_with_punctuation if char not in punctuation)\n",
        "print(\"Текст без пунктуации (метод 1):\", no_punctuation)\n",
        "\n",
        "# Удаление пунктуации (метод 2)\n",
        "translator = str.maketrans('', '', punctuation)\n",
        "no_punctuation2 = text_with_punctuation.translate(translator)\n",
        "print(\"Текст без пунктуации (метод 2):\", no_punctuation2)\n",
        "\n",
        "# Пример на английском\n",
        "english_punctuation = \"Hello, world! How are you? This is a sample text; with various punctuation marks.\"\n",
        "english_no_punctuation = english_punctuation.translate(translator)\n",
        "print(\"Английский текст без пунктуации:\", english_no_punctuation)"
      ]
    },
    {
      "cell_type": "markdown",
      "metadata": {
        "id": "cCzDj3GayrSf"
      },
      "source": [
        "2.4. Комплексная нормализация текста. Объединим все изученные методы для комплексной нормализации текста."
      ]
    },
    {
      "cell_type": "code",
      "execution_count": null,
      "metadata": {
        "id": "-EQfaUxNyuOm"
      },
      "outputs": [],
      "source": [
        "def normalize_text(text):\n",
        "    \"\"\"\n",
        "    Функция для комплексной нормализации текста:\n",
        "    1. Приведение к нижнему регистру\n",
        "    2. Удаление лишних пробелов\n",
        "    3. Удаление пунктуации\n",
        "    \"\"\"\n",
        "    # Шаг 1: Приведение к нижнему регистру\n",
        "    text = text.lower()\n",
        "\n",
        "    # Шаг 2: Удаление пунктуации\n",
        "    translator = str.maketrans('', '', string.punctuation)\n",
        "    text = text.translate(translator)\n",
        "\n",
        "    # Шаг 3: Удаление лишних пробелов\n",
        "    text = ' '.join(text.split())\n",
        "\n",
        "    return text\n",
        "\n",
        "# Проверка функции на русском тексте\n",
        "russian_text = \"   Компьютерная    ЛИНГВИСТИКА - это ОБЛАСТЬ науки, изучающая   методы автоматической    обработки текста!   \"\n",
        "normalized_russian = normalize_text(russian_text)\n",
        "print(\"Исходный русский текст:\", russian_text)\n",
        "print(\"Нормализованный русский текст:\", normalized_russian)\n",
        "\n",
        "# Проверка функции на английском тексте\n",
        "english_text = \"   Natural    LANGUAGE Processing (NLP) - is a FIELD of AI, focusing   on text analysis!   \"\n",
        "normalized_english = normalize_text(english_text)\n",
        "print(\"Исходный английский текст:\", english_text)\n",
        "print(\"Нормализованный английский текст:\", normalized_english)"
      ]
    },
    {
      "cell_type": "markdown",
      "metadata": {
        "id": "H2IvHG_yy1uJ"
      },
      "source": [
        "**3. Простая токенизация текста**"
      ]
    },
    {
      "cell_type": "markdown",
      "metadata": {
        "id": "ISndfr9tzMRC"
      },
      "source": [
        "Токенизация — это процесс разделения текста на отдельные токены (обычно слова или предложения). Рассмотрим простые методы токенизации с использованием встроенных возможностей Python."
      ]
    },
    {
      "cell_type": "markdown",
      "metadata": {
        "id": "sjvNUNImzP5i"
      },
      "source": [
        "3.1. Токенизация по пробелам. Самый простой способ токенизации — разделение текста по пробелам с помощью метода .split()."
      ]
    },
    {
      "cell_type": "code",
      "execution_count": null,
      "metadata": {
        "id": "pRMRYdZfzTk2"
      },
      "outputs": [],
      "source": [
        "# Пример текста\n",
        "text = \"Компьютерная лингвистика изучает методы обработки текста\"\n",
        "\n",
        "# Токенизация по пробелам\n",
        "tokens = text.split()\n",
        "print(\"Токены:\", tokens)\n",
        "print(\"Количество токенов:\", len(tokens))\n",
        "\n",
        "# Токенизация английского текста\n",
        "english_text = \"Natural language processing studies methods of text analysis\"\n",
        "english_tokens = english_text.split()\n",
        "print(\"Английские токены:\", english_tokens)\n",
        "print(\"Количество английских токенов:\", len(english_tokens))"
      ]
    },
    {
      "cell_type": "markdown",
      "metadata": {
        "id": "Ey-4jl42zahC"
      },
      "source": [
        "3.2. Токенизация с учетом пунктуации. Токенизация по пробелам не учитывает пунктуацию. Для более точной токенизации можно сначала отделить пунктуацию от слов."
      ]
    },
    {
      "cell_type": "code",
      "execution_count": null,
      "metadata": {
        "id": "8rYkdzlnzdkp"
      },
      "outputs": [],
      "source": [
        "def simple_tokenize(text):\n",
        "    \"\"\"\n",
        "    Простая токенизация с учетом пунктуации:\n",
        "    1. Добавляем пробелы вокруг знаков пунктуации\n",
        "    2. Разделяем по пробелам\n",
        "    3. Удаляем пустые токены\n",
        "    \"\"\"\n",
        "    # Добавляем пробелы вокруг знаков пунктуации\n",
        "    for punct in string.punctuation:\n",
        "        text = text.replace(punct, f' {punct} ')\n",
        "\n",
        "    # Разделяем по пробелам и удаляем пустые токены\n",
        "    tokens = [token for token in text.split() if token]\n",
        "\n",
        "    return tokens\n",
        "\n",
        "# Проверка на русском тексте\n",
        "russian_text = \"Привет, мир! Как дела? Это - пример текста; с разными знаками пунктуации.\"\n",
        "russian_tokens = simple_tokenize(russian_text)\n",
        "print(\"Русский текст:\", russian_text)\n",
        "print(\"Токены русского текста:\", russian_tokens)\n",
        "print(\"Количество токенов:\", len(russian_tokens))\n",
        "\n",
        "# Проверка на английском тексте\n",
        "english_text = \"Hello, world! How are you? This is a sample text; with various punctuation marks.\"\n",
        "english_tokens = simple_tokenize(english_text)\n",
        "print(\"Английский текст:\", english_text)\n",
        "print(\"Токены английского текста:\", english_tokens)\n",
        "print(\"Количество токенов:\", len(english_tokens))"
      ]
    },
    {
      "cell_type": "markdown",
      "metadata": {
        "id": "qfbRKk1S0wq_"
      },
      "source": [
        "3.3. Токенизация предложений. Простой способ — разделение по знакам конца предложения."
      ]
    },
    {
      "cell_type": "code",
      "execution_count": null,
      "metadata": {
        "id": "bw3dAKeG0-fA"
      },
      "outputs": [],
      "source": [
        "def simple_sentence_tokenize(text):\n",
        "    \"\"\"\n",
        "    Простая токенизация на предложения:\n",
        "    1. Заменяем знаки конца предложения на специальный маркер\n",
        "    2. Разделяем текст по маркеру\n",
        "    3. Очищаем полученные предложения\n",
        "    \"\"\"\n",
        "    # Заменяем знаки конца предложения\n",
        "    for end_mark in ['.', '!', '?']:\n",
        "        text = text.replace(end_mark, f'{end_mark}SENTENCE_END')\n",
        "\n",
        "    # Разделяем по маркеру\n",
        "    sentences = text.split('SENTENCE_END')\n",
        "\n",
        "    # Очищаем предложения и удаляем пустые\n",
        "    cleaned_sentences = [sentence.strip() for sentence in sentences if sentence.strip()]\n",
        "\n",
        "    return cleaned_sentences\n",
        "\n",
        "# Проверка на русском тексте\n",
        "russian_text = \"Привет, мир! Как дела? Это пример текста. Он состоит из нескольких предложений.\"\n",
        "russian_sentences = simple_sentence_tokenize(russian_text)\n",
        "print(\"Русский текст:\", russian_text)\n",
        "print(\"Предложения русского текста:\")\n",
        "for i, sentence in enumerate(russian_sentences, 1):\n",
        "    print(f\"{i}. {sentence}\")\n",
        "\n",
        "# Проверка на английском тексте\n",
        "english_text = \"Hello, world! How are you? This is a sample text. It consists of several sentences.\"\n",
        "english_sentences = simple_sentence_tokenize(english_text)\n",
        "print(\"\\nАнглийский текст:\", english_text)\n",
        "print(\"Предложения английского текста:\")\n",
        "for i, sentence in enumerate(english_sentences, 1):\n",
        "    print(f\"{i}. {sentence}\")"
      ]
    },
    {
      "cell_type": "markdown",
      "metadata": {
        "id": "_a-rRcLp1NnW"
      },
      "source": [
        "3.4. Объединение токенов обратно в текст. Метод .join() позволяет объединить токены обратно в текст, указав разделитель."
      ]
    },
    {
      "cell_type": "code",
      "execution_count": null,
      "metadata": {
        "id": "jCOkR50y1PYv"
      },
      "outputs": [],
      "source": [
        "# Пример токенов\n",
        "tokens = [\"Компьютерная\", \"лингвистика\", \"изучает\", \"методы\", \"обработки\", \"текста\"]\n",
        "\n",
        "# Объединение токенов с пробелом\n",
        "text = ' '.join(tokens)\n",
        "print(\"Объединенный текст:\", text)\n",
        "\n",
        "# Объединение с другими разделителями\n",
        "comma_separated = ', '.join(tokens)\n",
        "print(\"Токены через запятую:\", comma_separated)\n",
        "\n",
        "# Объединение английских токенов\n",
        "english_tokens = [\"Natural\", \"language\", \"processing\", \"studies\", \"methods\", \"of\", \"text\", \"analysis\"]\n",
        "english_text = ' '.join(english_tokens)\n",
        "print(\"Объединенный английский текст:\", english_text)"
      ]
    },
    {
      "cell_type": "markdown",
      "metadata": {
        "id": "zTAF-Lj21evo"
      },
      "source": [
        "**4. Практические упражнения**"
      ]
    },
    {
      "cell_type": "markdown",
      "metadata": {
        "id": "2ffDLEVL1oiZ"
      },
      "source": [
        "Упражнение 1: Нормализация текста. Напишите функцию, которая будет нормализовать текст следующим образом:\n",
        "\n",
        "1. Привести к нижнему регистру\n",
        "2. Удалить все цифры\n",
        "3. Заменить все символы пунктуации на пробелы\n",
        "4. Удалить лишние пробелы\n",
        "\n"
      ]
    },
    {
      "cell_type": "code",
      "execution_count": null,
      "metadata": {
        "id": "rU4ZTUrd1jFX"
      },
      "outputs": [],
      "source": [
        "import string\n",
        "\n",
        "sample_text = \"Пример текста123, с РАЗНЫМИ символами! И 456 цифрами?!\"\n",
        "\n",
        "def normalize_text_exercise(text):\n",
        "    text = text.lower()\n",
        "    digits = '0123456789'\n",
        "    for digit in digits: \n",
        "        text = text.replace(digit, '')\n",
        "    punctuation = string.punctuation\n",
        "    for punct in punctuation:\n",
        "        text = text.replace(punct, ' ')\n",
        "    words = text.split()\n",
        "    normalized_text = ' '.join(words)\n",
        "    return normalized_text\n",
        "\n",
        "print(normalize_text_exercise(sample_text))"
      ]
    },
    {
      "cell_type": "markdown",
      "metadata": {
        "id": "waC9ZHWB2Kph"
      },
      "source": [
        "Упражнение 2: Подсчет частотности слов. Напишите функцию, которая будет принимать текст, нормализовать его, токенизировать и возвращать словарь с частотностью каждого слова."
      ]
    },
    {
      "cell_type": "code",
      "execution_count": null,
      "metadata": {
        "id": "HlWO9Bpn2SQo"
      },
      "outputs": [],
      "source": [
        "def calculate_word_frequency(text):\n",
        "    normalized_text = text.lower()\n",
        "    import string\n",
        "    punctuation = string.punctuation\n",
        "    translator = str.maketrans('', '', punctuation)\n",
        "    no_punctuation = normalized_text.translate(translator)\n",
        "    tokens = no_punctuation.split()\n",
        "    word_frequency = {}\n",
        "    for token in tokens:\n",
        "        if token in word_frequency:\n",
        "            word_frequency[token] += 1\n",
        "        else:\n",
        "            word_frequency[token] = 1\n",
        "    return word_frequency\n",
        "\n",
        "sample_text = \"Компьютерная лингвистика изучает методы обработки текста. Компьютерная лингвистика является областью искусственного интеллекта.\"\n",
        "english_text = \"Natural language processing is a field of artificial intelligence. Natural language processing focuses on the interaction between computers and humans.\"\n",
        "\n",
        "russian_frequency = calculate_word_frequency(sample_text)\n",
        "print(\"Частота слов в русском тексте:\")\n",
        "for word, freq in russian_frequency.items():\n",
        "    print(f\"'{word}': {freq}\")\n",
        "print()\n",
        "\n",
        "english_frequency = calculate_word_frequency(english_text)\n",
        "print(\"Частота слов в английском тексте:\")\n",
        "for word, freq in english_frequency.items():\n",
        "    print(f\"'{word}': {freq}\")"
      ]
    },
    {
      "cell_type": "markdown",
      "metadata": {
        "id": "RPTWlfsD2ehu"
      },
      "source": [
        "Упражнение 3: Поиск самых длинных и коротких слов. Напишите функцию, которая находит самые длинные и самые короткие слова в тексте."
      ]
    },
    {
      "cell_type": "code",
      "execution_count": null,
      "metadata": {
        "id": "hizov4xW2YhX"
      },
      "outputs": [],
      "source": [
        "def find_longest_shortest_words(text):\n",
        "    normalized_text = text.lower()\n",
        "    import string\n",
        "    punctuation = string.punctuation\n",
        "    translator = str.maketrans('', '', punctuation)\n",
        "    no_punctuation = normalized_text.translate(translator)\n",
        "    tokens = no_punctuation.split()\n",
        "    if not tokens:\n",
        "        return [], []\n",
        "    max_length = max(len(token) for token in tokens)\n",
        "    min_length = min(len(token) for token in tokens)\n",
        "    longest_words = [token for token in tokens if len(token) == max_length]\n",
        "    shortest_words = [token for token in tokens if len(token) == min_length]\n",
        "    return longest_words, shortest_words \n",
        "sample_text = \"Компьютерная лингвистика является междисциплинарной областью науки, которая изучает математические и компьютерные модели естественного языка, а также его применение в системах искусственного интеллекта.\"\n",
        "russian_longest, russian_shortest = find_longest_shortest_words(sample_text)\n",
        "print(\"Русский текст:\", sample_text)\n",
        "print(\"Самые длинные слова:\", russian_longest)\n",
        "print(\"Самые короткие слова:\", russian_shortest)\n",
        "print()\n",
        "english_text = \"Computational linguistics is an interdisciplinary field of science that studies mathematical and computational models of natural language and its application in artificial intelligence systems.\"\n",
        "english_longest, english_shortest = find_longest_shortest_words(english_text)\n",
        "print(\"Английский текст\", english_text)\n",
        "print(\"Самые длинные слова\", english_longest)\n",
        "print(\"Самые короткие слова\", english_shortest)\n",
        "\n",
        "\n",
        "    "
      ]
    },
    {
      "cell_type": "markdown",
      "metadata": {
        "id": "wtQ6vmk922D6"
      },
      "source": [
        "Упражнение 4: Поиск и подсчет определенных паттернов. Напишите функцию, которая находит и подсчитывает слова, начинающиеся с определенной буквы или содержащие определенную последовательность букв."
      ]
    },
    {
      "cell_type": "code",
      "execution_count": null,
      "metadata": {
        "id": "Pv0AYXVp23vc"
      },
      "outputs": [],
      "source": [
        "def find_words_with_pattern(text, pattern):\n",
        "    normalized_text = text.lower()\n",
        "    pattern = pattern.lower()\n",
        "    import string\n",
        "    punctuation = string.punctuation\n",
        "    translator = str.maketrans('', '', punctuation)\n",
        "    no_punctuation = normalized_text.translate(translator)\n",
        "    tokens = no_punctuation.split()\n",
        "    matching_words = [token for token in tokens if token.startswith(pattern)]\n",
        "    \n",
        "    return matching_words, len(matching_words)\n",
        "sample_text = \"Компьютерная лингвистика изучает методы обработки текста. Математические модели и компьютерные алгоритмы используются для анализа естественных языков.\"\n",
        "words_starting_with_k, count_k = find_words_with_pattern(sample_text, 'к')\n",
        "print(\"Текст:\", sample_text)\n",
        "print(\"Слова, начинающиеся с 'к':\", words_starting_with_k)\n",
        "print(\"Количество слов, начинающихся с 'к':\", count_k)\n",
        "\n",
        "\n",
        "\n"
      ]
    },
    {
      "cell_type": "code",
      "execution_count": null,
      "metadata": {
        "id": "1i4Yjoum26nz"
      },
      "outputs": [],
      "source": [
        "def find_words_with_pattern(text, pattern):\n",
        "    normalized_text = text.lower()\n",
        "    pattern = pattern.lower()\n",
        "    import string\n",
        "    punctuation = string.punctuation\n",
        "    translator = str.maketrans('', '', punctuation)\n",
        "    no_punctuation = normalized_text.translate(translator)\n",
        "    tokens = no_punctuation.split()\n",
        "    matching_words = [token for token in tokens if pattern in token]\n",
        "    \n",
        "    return matching_words, len(matching_words)\n",
        "english_text = \"Computational linguistics studies methods of text processing. Mathematical models and computer algorithms are used to analyze natural languages.\"\n",
        "words_with_ing, count_ing = find_words_with_pattern(english_text, 'ing')\n",
        "print(\"Текст:\", english_text)\n",
        "print(\"Слова, содержащие 'ing':\", words_with_ing)\n",
        "print(\"Количество слов, содержащих 'ing':\", count_ing)"
      ]
    },
    {
      "cell_type": "markdown",
      "metadata": {
        "id": "anDhdjLG3M1A"
      },
      "source": [
        "Упражнение 5: Анализ предложений в тексте. Напишите функцию, которая анализирует текст на уровне предложений, подсчитывая:\n",
        "\n",
        "1. Количество предложений\n",
        "2. Среднюю длину предложения (в словах)\n",
        "3. Самое длинное и самое короткое предложение\n"
      ]
    },
    {
      "cell_type": "code",
      "execution_count": null,
      "metadata": {
        "id": "QQd2ZgIj3YlJ"
      },
      "outputs": [],
      "source": [
        "def analyze_sentences(text):\n",
        "    def simple_sentence_tokenize(text):\n",
        "        for end_mark in ['.', '!', '?']:\n",
        "            text = text.replace(end_mark, f'{end_mark}SENTENCE_END')\n",
        "        \n",
        "        sentences = text.split('SENTENCE_END')\n",
        "        cleaned_sentences = [sentence.strip() for sentence in sentences if sentence.strip()]\n",
        "        \n",
        "        return cleaned_sentences\n",
        "    \n",
        "    sentences = simple_sentence_tokenize(text)\n",
        "    num_sentences = len(sentences)\n",
        "    \n",
        "    if num_sentences > 0:\n",
        "        all_tokens = []\n",
        "        for sentence in sentences:\n",
        "            tokens = sentence.split()  \n",
        "            all_tokens.extend(tokens)\n",
        "        \n",
        "        total_words = len(all_tokens) \n",
        "        avg_words_per_sentence = total_words / num_sentences\n",
        "    else:\n",
        "        avg_words_per_sentence = 0\n",
        "\n",
        "    if sentences:\n",
        "        sentence_lengths = [len(sentence.split()) for sentence in sentences]\n",
        "        max_length = max(sentence_lengths)\n",
        "        min_length = min(sentence_lengths)\n",
        "        longest_sentences = [sentence for sentence in sentences if len(sentence.split()) == max_length]\n",
        "        shortest_sentences = [sentence for sentence in sentences if len(sentence.split()) == min_length]\n",
        "    else:\n",
        "        longest_sentences = []\n",
        "        shortest_sentences = []\n",
        "    \n",
        "    return num_sentences, avg_words_per_sentence, longest_sentences, shortest_sentences\n",
        "\n",
        "sample_text = \"\"\"Компьютерная лингвистика — это междисциплинарная область науки.\n",
        "Она изучает математические и компьютерные модели естественного языка.\n",
        "Методы компьютерной лингвистики применяются для решения различных задач, таких как машинный перевод, автоматическое реферирование и информационный поиск.\n",
        "Современные алгоритмы позволяют анализировать большие объемы текстов.\"\"\"\n",
        "\n",
        "num_sentences, avg_length, longest, shortest = analyze_sentences(sample_text)\n",
        "\n",
        "print(\"\\nРезультаты анализа предложений:\")\n",
        "print(f\"Количество предложений: {num_sentences}\")\n",
        "print(f\"Средняя длина предложения (в словах): {avg_length:.1f}\")\n",
        "print(f\"Самое длинное предложение: {longest[0]}\")\n",
        "print(f\"Самое короткое предложение: {shortest[0]}\")"
      ]
    },
    {
      "cell_type": "code",
      "execution_count": null,
      "metadata": {
        "id": "N7pW-9_c3rmI"
      },
      "outputs": [],
      "source": [
        "def analyze_sentences(text):\n",
        "    def simple_sentence_tokenize(text):\n",
        "        for end_mark in ['.', '!', '?']:\n",
        "            text = text.replace(end_mark, f'{end_mark}SENTENCE_END')\n",
        "        \n",
        "        sentences = text.split('SENTENCE_END')\n",
        "        cleaned_sentences = [sentence.strip() for sentence in sentences if sentence.strip()]\n",
        "        \n",
        "        return cleaned_sentences\n",
        "    \n",
        "    sentences = simple_sentence_tokenize(text)\n",
        "    num_sentences = len(sentences)\n",
        "    \n",
        "    if num_sentences > 0:\n",
        "        total_words = 0\n",
        "        for sentence in sentences:\n",
        "            tokens = sentence.split()\n",
        "            total_words += len(tokens)\n",
        "        avg_words_per_sentence = total_words / num_sentences\n",
        "    else:\n",
        "        avg_words_per_sentence = 0\n",
        "    \n",
        "    if sentences:\n",
        "        sentence_lengths = [len(sentence.split()) for sentence in sentences]\n",
        "        max_length = max(sentence_lengths)\n",
        "        min_length = min(sentence_lengths)\n",
        "        longest_sentences = [sentence for sentence in sentences if len(sentence.split()) == max_length]\n",
        "        shortest_sentences = [sentence for sentence in sentences if len(sentence.split()) == min_length]\n",
        "    else:\n",
        "        longest_sentences = []\n",
        "        shortest_sentences = []\n",
        "    \n",
        "    return num_sentences, avg_words_per_sentence, longest_sentences, shortest_sentences\n",
        "\n",
        "english_text = \"\"\"Computational linguistics is an interdisciplinary field of science.\n",
        "It studies mathematical and computational models of natural language.\n",
        "Methods of computational linguistics are applied to solve various tasks such as machine translation, automatic summarization, and information retrieval.\n",
        "Modern algorithms allow analyzing large volumes of texts.\"\"\"\n",
        "\n",
        "num_sentences, avg_length, longest, shortest = analyze_sentences(english_text)\n",
        "\n",
        "print(\"\\nРезультаты анализа предложений на английском:\")\n",
        "print(f\"Количество предложений: {num_sentences}\")\n",
        "print(f\"Средняя длина предложения (в словах): {avg_length:.1f}\")\n",
        "print(f\"Самое длинное предложение: {longest[0]}\")\n",
        "print(f\"Самое короткое предложение: {shortest[0]}\")\n",
        "\n"
      ]
    },
    {
      "cell_type": "markdown",
      "metadata": {
        "id": "ZE7TEjrM37te"
      },
      "source": [
        "**5. Домашнее задание**"
      ]
    },
    {
      "cell_type": "code",
      "execution_count": null,
      "metadata": {},
      "outputs": [],
      "source": [
        "import string\n",
        "\n",
        "def normalize_text_homework(text):\n",
        "    text = text.lower()\n",
        "    punctuation = string.punctuation\n",
        "    translator = str.maketrans('', '', punctuation)\n",
        "    text = text.translate(translator)\n",
        "    digits = '0123456789'\n",
        "    digit_translator = str.maketrans(digits, '#' * len(digits))\n",
        "    text = text.translate(digit_translator)\n",
        "    words = text.split()\n",
        "    text = ' '.join(words)\n",
        "    \n",
        "    return text\n",
        "\n",
        "test_text = \"Пример текста123, с РАЗНЫМИ символами! И 456 цифрами?!\"\n",
        "normalized = normalize_text_homework(test_text)\n",
        "print(\"1. Нормализация текста:\")\n",
        "print(\"Исходный:\", test_text)\n",
        "print(\"Нормализованный:\", normalized)\n",
        "print()\n",
        "\n",
        "def find_vowel_sequence_words(text, sequence):\n",
        "    normalized_text = normalize_text_homework(text)\n",
        "    tokens = normalized_text.split()\n",
        "    matching_words = []\n",
        "    for token in tokens:\n",
        "        if sequence in token:\n",
        "            matching_words.append(token)\n",
        "    \n",
        "    return matching_words\n",
        "sample_text = \"Компьютерная лингвистика изучает методы обработки текста. Математические модели и компьютерные алгоритмы используются для анализа естественных языков.\"\n",
        "oa_words = find_vowel_sequence_words(sample_text, 'оа')\n",
        "print(\"2. Слова с последовательностью 'оа':\")\n",
        "print(\"Текст:\", sample_text)\n",
        "print(\"Найденные слова:\", oa_words)\n",
        "print()\n",
        "\n",
        "def get_top_long_words(text):\n",
        "    normalized_text = normalize_text_homework(text)\n",
        "    tokens = normalized_text.split()\n",
        "    long_words = []\n",
        "    for token in tokens:\n",
        "        if len(token) > 4:\n",
        "            long_words.append(token)\n",
        "    return long_words[:10]\n",
        "long_words_result = get_top_long_words(sample_text)\n",
        "print(\"3. Первые 10 длинных слов (более 4 символов):\")\n",
        "print(long_words_result)\n",
        "print()\n",
        "\n",
        "def analyze_character_frequency(text):\n",
        "    normalized_text = normalize_text_homework(text)\n",
        "    char_count = {}\n",
        "    for char in normalized_text:\n",
        "        if char != ' ': \n",
        "            if char in char_count:\n",
        "                char_count[char] += 1\n",
        "            else:\n",
        "                char_count[char] = 1\n",
        "    top_chars = []\n",
        "    for _ in range(5):\n",
        "        if not char_count:\n",
        "            break\n",
        "        max_char = ''\n",
        "        max_count = 0\n",
        "        for char, count in char_count.items():\n",
        "            if count > max_count:\n",
        "                max_count = count\n",
        "                max_char = char\n",
        "        if max_char:\n",
        "            top_chars.append((max_char, max_count))\n",
        "            del char_count[max_char]\n",
        "    \n",
        "    return top_chars\n",
        "\n",
        "char_freq_result = analyze_character_frequency(sample_text)\n",
        "print(\"4. Топ-5 самых частых символов:\")\n",
        "for char, count in char_freq_result:\n",
        "    print(\"  '\" + char + \"':\", count, \"раз\")\n",
        "print()\n",
        "\n",
        "def analyze_paragraphs(text):\n",
        "    paragraphs = text.split('\\n\\n')\n",
        "    \n",
        "    results = []\n",
        "    \n",
        "    for i, paragraph in enumerate(paragraphs, 1):\n",
        "        paragraph = paragraph.strip()\n",
        "        if not paragraph:\n",
        "            continue\n",
        "\n",
        "        def simple_sentence_tokenize(text):\n",
        "            for end_mark in ['.', '!', '?']:\n",
        "                text = text.replace(end_mark, f'{end_mark}SENTENCE_END')\n",
        "            sentences = text.split('SENTENCE_END')\n",
        "            return [sentence.strip() for sentence in sentences if sentence.strip()]\n",
        "        \n",
        "        sentences = simple_sentence_tokenize(paragraph)\n",
        "        num_sentences = len(sentences)\n",
        "        \n",
        "        total_words = 0\n",
        "        total_chars = 0\n",
        "        \n",
        "        for sentence in sentences:\n",
        "            normalized_sentence = normalize_text_homework(sentence)\n",
        "            words = normalized_sentence.split()\n",
        "            total_words += len(words)\n",
        "            total_chars += sum(len(word) for word in words)\n",
        "        \n",
        "        if total_words > 0:\n",
        "            avg_word_length = total_chars / total_words\n",
        "        else:\n",
        "            avg_word_length = 0\n",
        "        \n",
        "        results.append((i, num_sentences, total_words, avg_word_length))\n",
        "    \n",
        "    return results\n",
        "    \n",
        "test_paragraph_text = \"Компьютерная лингвистика — это междисциплинарная область науки. Она изучает математические и компьютерные модели естественного языка.\\n\\nМетоды компьютерной лингвистики применяются для решения различных задач. Таких как машинный перевод, автоматическое реферирование и информационный поиск.\"\n",
        "\n",
        "paragraph_analysis = analyze_paragraphs(test_paragraph_text)\n",
        "print(\"5. Анализ параграфов:\")\n",
        "for result in paragraph_analysis:\n",
        "    print(\"Параграф\", result[0] , \":\")\n",
        "    print(\"  Предложений:\", result[1])\n",
        "    print(\"  Слов:\", result[2])\n",
        "    print(\"  Средняя длина слова:\", round(result[3], 2))\n",
        "    print()"
      ]
    },
    {
      "cell_type": "markdown",
      "metadata": {
        "id": "qJtWAqaL3-od"
      },
      "source": [
        "Напишите функцию для нормализации текста, которая:\n",
        "\n",
        "1. Приводит текст к нижнему регистру\n",
        "2. Удаляет все знаки пунктуации\n",
        "3. Заменяет все цифры на символ '#'\n",
        "4. Удаляет лишние пробелы\n",
        "\n",
        "Напишите функцию, которая находит и выводит все слова из текста, содержащие гласные в определенной последовательности (например, 'о' и затем 'а').\n",
        "\n",
        "Создайте функцию, которая:\n",
        "\n",
        "1.   Токенизирует текст\n",
        "2.   Отбирает только слова длиной более 4 символов\n",
        "3. Сортирует их по алфавиту\n",
        "4. Возвращает первые 10 слов\n",
        "\n",
        "Напишите функцию для анализа частотности символов в тексте, которая возвращает 5 самых часто встречающихся символов и их количество.\n",
        "\n",
        "Напишите программу, которая разделяет текст на параграфы (по двойному переносу строки), а затем подсчитывает для каждого параграфа: количество предложений, количество слов, среднюю длину слова"
      ]
    }
  ],
  "metadata": {
    "colab": {
      "provenance": []
    },
    "kernelspec": {
      "display_name": "Python 3",
      "name": "python3"
    },
    "language_info": {
      "name": "python"
    }
  },
  "nbformat": 4,
  "nbformat_minor": 0
}
