{
  "nbformat": 4,
  "nbformat_minor": 0,
  "metadata": {
    "colab": {
      "provenance": []
    },
    "kernelspec": {
      "name": "python3",
      "display_name": "Python 3"
    },
    "language_info": {
      "name": "python"
    }
  },
  "cells": [
    {
      "cell_type": "markdown",
      "source": [
        "В этом ноутбуке вы узнаете:\n",
        "\n",
        "1.   Как использовать встроенные методы Python для работы со строками\n",
        "2.   Как выполнять базовую нормализацию текста\n",
        "3. Как токенизировать текст с помощью простых методов\n",
        "4. Как применять эти навыки на практике\n"
      ],
      "metadata": {
        "id": "xaCyWYJ6uGfk"
      }
    },
    {
      "cell_type": "markdown",
      "source": [
        "**1. Основные понятия и функции**"
      ],
      "metadata": {
        "id": "T4-yFhGcy934"
      }
    },
    {
      "cell_type": "markdown",
      "source": [
        "В Python текст представлен в виде строк (тип данных str). Строки можно создавать, используя одинарные или двойные кавычки."
      ],
      "metadata": {
        "id": "mMYBk9PluRfs"
      }
    },
    {
      "cell_type": "code",
      "source": [
        "# Создание строк\n",
        "text1 = 'Это текст в \"одинарных\" кавычках'\n",
        "text2 = \"Это текст в 'двойных' кавычках\"\n",
        "text3 = '''Это текст в \"тройных\" кавычках'''\n",
        "text4 = '''Это\n",
        "текст\n",
        "в 'тройных'\n",
        "кавычках'''\n",
        "\n",
        "# Вывод строк\n",
        "print(text1)\n",
        "print(text2)\n",
        "print(text3)\n",
        "print(text4)"
      ],
      "metadata": {
        "id": "tXalOImZuMdk"
      },
      "execution_count": null,
      "outputs": []
    },
    {
      "cell_type": "markdown",
      "source": [
        "1.1. Индексация и срезы строк.\n",
        "Строки в Python — это последовательности символов, к которым можно обращаться по индексу. Индексация начинается с 0."
      ],
      "metadata": {
        "id": "4dVUdNKvuYvU"
      }
    },
    {
      "cell_type": "code",
      "source": [
        "# Строка для примеров\n",
        "sample_text = \"Компьютерная лингвистика\"\n",
        "\n",
        "# Получение отдельного символа\n",
        "print(\"Первый символ:\", sample_text[0])\n",
        "print(\"Пятый символ:\", sample_text[4])\n",
        "\n",
        "# Срезы строк\n",
        "print(\"Первые 12 символов:\", sample_text[:12])  # от начала до 12-го символа (не включая)\n",
        "print(\"С 13-го символа до конца:\", sample_text[13:])  # с 13-го символа до конца\n",
        "print(\"С 5-го по 10-й символ:\", sample_text[5:11])  # с 5-го по 10-й символ (11-й не включается)"
      ],
      "metadata": {
        "id": "8RlZDm97uVrC"
      },
      "execution_count": null,
      "outputs": []
    },
    {
      "cell_type": "markdown",
      "source": [
        "1.2. Основные методы строк\n",
        "Python предоставляет множество встроенных методов для работы со строками. Рассмотрим наиболее полезные для обработки текста:"
      ],
      "metadata": {
        "id": "-oi1N22TvbQx"
      }
    },
    {
      "cell_type": "code",
      "source": [
        "# Строка для примеров\n",
        "text = \"   Пример текста для анализа.   \"\n",
        "\n",
        "# Удаление пробелов в начале и конце строки\n",
        "print(\"После strip():\", text.strip())\n",
        "\n",
        "# Перевод в нижний регистр\n",
        "print(\"После lower():\", text.lower())\n",
        "\n",
        "# Перевод в верхний регистр\n",
        "print(\"После upper():\", text.upper())\n",
        "\n",
        "# Проверка, начинается ли строка с определенной подстроки\n",
        "print(\"Начинается с 'Пример'?\", text.strip().startswith(\"Пример\"))\n",
        "\n",
        "# Проверка, заканчивается ли строка определенной подстрокой\n",
        "print(\"Заканчивается на '.'?\", text.strip().endswith(\".\"))\n",
        "\n",
        "# Замена подстроки\n",
        "print(\"После replace():\", text.replace(\"анализа\", \"обработки\"))\n",
        "\n",
        "# Подсчет вхождений подстроки\n",
        "print(\"Количество пробелов:\", text.count(\" \"))"
      ],
      "metadata": {
        "id": "vkcKQqqgvcpk"
      },
      "execution_count": null,
      "outputs": []
    },
    {
      "cell_type": "markdown",
      "source": [
        "1.3. Конкатенация строк и форматирование.\n",
        "Существует несколько способов объединения строк в Python:"
      ],
      "metadata": {
        "id": "-oEf7vLCvvzL"
      }
    },
    {
      "cell_type": "code",
      "source": [
        "# Простая конкатенация с помощью оператора +\n",
        "first_name = \"Иван\"\n",
        "last_name = \"Петров\"\n",
        "full_name = first_name + \" \" + last_name\n",
        "print(\"Полное имя:\", full_name)\n",
        "\n",
        "# Форматирование строк с помощью метода format()\n",
        "age = 25\n",
        "message = \"Меня зовут {}, мне {} лет.\".format(full_name, age)\n",
        "print(message)\n",
        "\n",
        "# f-строки (начиная с Python 3.6)\n",
        "message_f = f\"Меня зовут {full_name}, мне {age} лет.\"\n",
        "print(message_f)\n",
        "\n",
        "# Использование %\n",
        "message_old = \"Меня зовут %s, мне %d лет.\" % (full_name, age)\n",
        "print(message_old)"
      ],
      "metadata": {
        "id": "CS50TkzKvwfk"
      },
      "execution_count": null,
      "outputs": []
    },
    {
      "cell_type": "markdown",
      "source": [
        "**2. Базовая нормализация текста**"
      ],
      "metadata": {
        "id": "e0K6mt6Vv6gV"
      }
    },
    {
      "cell_type": "markdown",
      "source": [
        "Нормализация текста — это процесс преобразования текста к стандартному виду для облегчения его дальнейшей обработки. Рассмотрим базовые операции нормализации."
      ],
      "metadata": {
        "id": "hL2BXNo8wEVY"
      }
    },
    {
      "cell_type": "markdown",
      "source": [
        "2.1. Приведение к нижнему регистру помогает унифицировать текст. Обычно используется нижний регистр."
      ],
      "metadata": {
        "id": "J5Gk1AnRwHK0"
      }
    },
    {
      "cell_type": "code",
      "source": [
        "# Пример текста с разным регистром\n",
        "mixed_case_text = \"КомпьЮтерная ЛИНГвистика изучает Методы Автоматической Обработки Текста.\"\n",
        "\n",
        "# Приведение к нижнему регистру\n",
        "normalized_text = mixed_case_text.lower()\n",
        "print(\"Исходный текст:\", mixed_case_text)\n",
        "print(\"Нормализованный текст:\", normalized_text)\n",
        "\n",
        "# Пример на английском\n",
        "english_text = \"Natural Language Processing (NLP) is a FIELD of AI.\"\n",
        "print(\"Английский текст после нормализации:\", english_text.lower())"
      ],
      "metadata": {
        "id": "vNNMpCqOv2Dz"
      },
      "execution_count": null,
      "outputs": []
    },
    {
      "cell_type": "markdown",
      "source": [
        "2.2. Удаление лишних пробелов. Часто тексты содержат лишние пробелы, которые нужно удалить.\n",
        "\n",
        "\n"
      ],
      "metadata": {
        "id": "Vlwzl4-bw7u9"
      }
    },
    {
      "cell_type": "code",
      "source": [
        "# Текст с лишними пробелами\n",
        "text_with_spaces = \"   В  этом   тексте  есть  лишние    пробелы.   \"\n",
        "\n",
        "# Удаление пробелов в начале и конце\n",
        "trimmed_text = text_with_spaces.strip()\n",
        "print(\"После strip():\", trimmed_text)\n",
        "\n",
        "words = trimmed_text.split()  # Разбиваем текст на слова\n",
        "normalized_manually = ' '.join(words)  # Объединяем слова с одним пробелом\n",
        "print(\"Нормализация:\", normalized_manually)\n",
        "\n",
        "# Пример на английском\n",
        "english_spaces = \"  This   text   has   extra   spaces. \"\n",
        "english_normalized = ' '.join(english_spaces.strip().split())\n",
        "print(\"Английский текст после нормализации пробелов:\", english_normalized)"
      ],
      "metadata": {
        "id": "AioDUYPrw-Hl"
      },
      "execution_count": null,
      "outputs": []
    },
    {
      "cell_type": "markdown",
      "source": [
        "2.3. Удаление пунктуации. Для многих задач обработки текста необходимо удалить знаки пунктуации."
      ],
      "metadata": {
        "id": "M7bFiY8syfRf"
      }
    },
    {
      "cell_type": "code",
      "source": [
        "# Текст с пунктуацией\n",
        "text_with_punctuation = \"Привет, мир! Как дела? Это - пример текста; с разными знаками пунктуации.\"\n",
        "\n",
        "# Определение знаков пунктуации для удаления\n",
        "import string\n",
        "punctuation = string.punctuation  # !\"#$%&'()*+,-./:;<=>?@[\\]^_`{|}~\n",
        "print(\"Знаки пунктуации:\", punctuation)\n",
        "\n",
        "# Удаление пунктуации (метод 1)\n",
        "no_punctuation = ''.join(char for char in text_with_punctuation if char not in punctuation)\n",
        "print(\"Текст без пунктуации (метод 1):\", no_punctuation)\n",
        "\n",
        "# Удаление пунктуации (метод 2)\n",
        "translator = str.maketrans('', '', punctuation)\n",
        "no_punctuation2 = text_with_punctuation.translate(translator)\n",
        "print(\"Текст без пунктуации (метод 2):\", no_punctuation2)\n",
        "\n",
        "# Пример на английском\n",
        "english_punctuation = \"Hello, world! How are you? This is a sample text; with various punctuation marks.\"\n",
        "english_no_punctuation = english_punctuation.translate(translator)\n",
        "print(\"Английский текст без пунктуации:\", english_no_punctuation)"
      ],
      "metadata": {
        "id": "g7M5Bna1yjB1"
      },
      "execution_count": null,
      "outputs": []
    },
    {
      "cell_type": "markdown",
      "source": [
        "2.4. Комплексная нормализация текста. Объединим все изученные методы для комплексной нормализации текста."
      ],
      "metadata": {
        "id": "cCzDj3GayrSf"
      }
    },
    {
      "cell_type": "code",
      "source": [
        "def normalize_text(text):\n",
        "    \"\"\"\n",
        "    Функция для комплексной нормализации текста:\n",
        "    1. Приведение к нижнему регистру\n",
        "    2. Удаление лишних пробелов\n",
        "    3. Удаление пунктуации\n",
        "    \"\"\"\n",
        "    # Шаг 1: Приведение к нижнему регистру\n",
        "    text = text.lower()\n",
        "\n",
        "    # Шаг 2: Удаление пунктуации\n",
        "    translator = str.maketrans('', '', string.punctuation)\n",
        "    text = text.translate(translator)\n",
        "\n",
        "    # Шаг 3: Удаление лишних пробелов\n",
        "    text = ' '.join(text.split())\n",
        "\n",
        "    return text\n",
        "\n",
        "# Проверка функции на русском тексте\n",
        "russian_text = \"   Компьютерная    ЛИНГВИСТИКА - это ОБЛАСТЬ науки, изучающая   методы автоматической    обработки текста!   \"\n",
        "normalized_russian = normalize_text(russian_text)\n",
        "print(\"Исходный русский текст:\", russian_text)\n",
        "print(\"Нормализованный русский текст:\", normalized_russian)\n",
        "\n",
        "# Проверка функции на английском тексте\n",
        "english_text = \"   Natural    LANGUAGE Processing (NLP) - is a FIELD of AI, focusing   on text analysis!   \"\n",
        "normalized_english = normalize_text(english_text)\n",
        "print(\"Исходный английский текст:\", english_text)\n",
        "print(\"Нормализованный английский текст:\", normalized_english)"
      ],
      "metadata": {
        "id": "-EQfaUxNyuOm"
      },
      "execution_count": null,
      "outputs": []
    },
    {
      "cell_type": "markdown",
      "source": [
        "**3. Простая токенизация текста**"
      ],
      "metadata": {
        "id": "H2IvHG_yy1uJ"
      }
    },
    {
      "cell_type": "markdown",
      "source": [
        "Токенизация — это процесс разделения текста на отдельные токены (обычно слова или предложения). Рассмотрим простые методы токенизации с использованием встроенных возможностей Python."
      ],
      "metadata": {
        "id": "ISndfr9tzMRC"
      }
    },
    {
      "cell_type": "markdown",
      "source": [
        "3.1. Токенизация по пробелам. Самый простой способ токенизации — разделение текста по пробелам с помощью метода .split()."
      ],
      "metadata": {
        "id": "sjvNUNImzP5i"
      }
    },
    {
      "cell_type": "code",
      "source": [
        "# Пример текста\n",
        "text = \"Компьютерная лингвистика изучает методы обработки текста\"\n",
        "\n",
        "# Токенизация по пробелам\n",
        "tokens = text.split()\n",
        "print(\"Токены:\", tokens)\n",
        "print(\"Количество токенов:\", len(tokens))\n",
        "\n",
        "# Токенизация английского текста\n",
        "english_text = \"Natural language processing studies methods of text analysis\"\n",
        "english_tokens = english_text.split()\n",
        "print(\"Английские токены:\", english_tokens)\n",
        "print(\"Количество английских токенов:\", len(english_tokens))"
      ],
      "metadata": {
        "id": "pRMRYdZfzTk2"
      },
      "execution_count": null,
      "outputs": []
    },
    {
      "cell_type": "markdown",
      "source": [
        "3.2. Токенизация с учетом пунктуации. Токенизация по пробелам не учитывает пунктуацию. Для более точной токенизации можно сначала отделить пунктуацию от слов."
      ],
      "metadata": {
        "id": "Ey-4jl42zahC"
      }
    },
    {
      "cell_type": "code",
      "source": [
        "def simple_tokenize(text):\n",
        "    \"\"\"\n",
        "    Простая токенизация с учетом пунктуации:\n",
        "    1. Добавляем пробелы вокруг знаков пунктуации\n",
        "    2. Разделяем по пробелам\n",
        "    3. Удаляем пустые токены\n",
        "    \"\"\"\n",
        "    # Добавляем пробелы вокруг знаков пунктуации\n",
        "    for punct in string.punctuation:\n",
        "        text = text.replace(punct, f' {punct} ')\n",
        "\n",
        "    # Разделяем по пробелам и удаляем пустые токены\n",
        "    tokens = [token for token in text.split() if token]\n",
        "\n",
        "    return tokens\n",
        "\n",
        "# Проверка на русском тексте\n",
        "russian_text = \"Привет, мир! Как дела? Это - пример текста; с разными знаками пунктуации.\"\n",
        "russian_tokens = simple_tokenize(russian_text)\n",
        "print(\"Русский текст:\", russian_text)\n",
        "print(\"Токены русского текста:\", russian_tokens)\n",
        "print(\"Количество токенов:\", len(russian_tokens))\n",
        "\n",
        "# Проверка на английском тексте\n",
        "english_text = \"Hello, world! How are you? This is a sample text; with various punctuation marks.\"\n",
        "english_tokens = simple_tokenize(english_text)\n",
        "print(\"Английский текст:\", english_text)\n",
        "print(\"Токены английского текста:\", english_tokens)\n",
        "print(\"Количество токенов:\", len(english_tokens))"
      ],
      "metadata": {
        "id": "8rYkdzlnzdkp"
      },
      "execution_count": null,
      "outputs": []
    },
    {
      "cell_type": "markdown",
      "source": [
        "3.3. Токенизация предложений. Простой способ — разделение по знакам конца предложения."
      ],
      "metadata": {
        "id": "qfbRKk1S0wq_"
      }
    },
    {
      "cell_type": "code",
      "source": [
        "def simple_sentence_tokenize(text):\n",
        "    \"\"\"\n",
        "    Простая токенизация на предложения:\n",
        "    1. Заменяем знаки конца предложения на специальный маркер\n",
        "    2. Разделяем текст по маркеру\n",
        "    3. Очищаем полученные предложения\n",
        "    \"\"\"\n",
        "    # Заменяем знаки конца предложения\n",
        "    for end_mark in ['.', '!', '?']:\n",
        "        text = text.replace(end_mark, f'{end_mark}SENTENCE_END')\n",
        "\n",
        "    # Разделяем по маркеру\n",
        "    sentences = text.split('SENTENCE_END')\n",
        "\n",
        "    # Очищаем предложения и удаляем пустые\n",
        "    cleaned_sentences = [sentence.strip() for sentence in sentences if sentence.strip()]\n",
        "\n",
        "    return cleaned_sentences\n",
        "\n",
        "# Проверка на русском тексте\n",
        "russian_text = \"Привет, мир! Как дела? Это пример текста. Он состоит из нескольких предложений.\"\n",
        "russian_sentences = simple_sentence_tokenize(russian_text)\n",
        "print(\"Русский текст:\", russian_text)\n",
        "print(\"Предложения русского текста:\")\n",
        "for i, sentence in enumerate(russian_sentences, 1):\n",
        "    print(f\"{i}. {sentence}\")\n",
        "\n",
        "# Проверка на английском тексте\n",
        "english_text = \"Hello, world! How are you? This is a sample text. It consists of several sentences.\"\n",
        "english_sentences = simple_sentence_tokenize(english_text)\n",
        "print(\"\\nАнглийский текст:\", english_text)\n",
        "print(\"Предложения английского текста:\")\n",
        "for i, sentence in enumerate(english_sentences, 1):\n",
        "    print(f\"{i}. {sentence}\")"
      ],
      "metadata": {
        "id": "bw3dAKeG0-fA"
      },
      "execution_count": null,
      "outputs": []
    },
    {
      "cell_type": "markdown",
      "source": [
        "3.4. Объединение токенов обратно в текст. Метод .join() позволяет объединить токены обратно в текст, указав разделитель."
      ],
      "metadata": {
        "id": "_a-rRcLp1NnW"
      }
    },
    {
      "cell_type": "code",
      "source": [
        "# Пример токенов\n",
        "tokens = [\"Компьютерная\", \"лингвистика\", \"изучает\", \"методы\", \"обработки\", \"текста\"]\n",
        "\n",
        "# Объединение токенов с пробелом\n",
        "text = ' '.join(tokens)\n",
        "print(\"Объединенный текст:\", text)\n",
        "\n",
        "# Объединение с другими разделителями\n",
        "comma_separated = ', '.join(tokens)\n",
        "print(\"Токены через запятую:\", comma_separated)\n",
        "\n",
        "# Объединение английских токенов\n",
        "english_tokens = [\"Natural\", \"language\", \"processing\", \"studies\", \"methods\", \"of\", \"text\", \"analysis\"]\n",
        "english_text = ' '.join(english_tokens)\n",
        "print(\"Объединенный английский текст:\", english_text)"
      ],
      "metadata": {
        "id": "jCOkR50y1PYv"
      },
      "execution_count": null,
      "outputs": []
    },
    {
      "cell_type": "markdown",
      "source": [
        "**4. Практические упражнения**"
      ],
      "metadata": {
        "id": "zTAF-Lj21evo"
      }
    },
    {
      "cell_type": "markdown",
      "source": [
        "Упражнение 1: Нормализация текста. Напишите функцию, которая будет нормализовать текст следующим образом:\n",
        "\n",
        "1. Привести к нижнему регистру\n",
        "2. Удалить все цифры\n",
        "3. Заменить все символы пунктуации на пробелы\n",
        "4. Удалить лишние пробелы\n",
        "\n"
      ],
      "metadata": {
        "id": "2ffDLEVL1oiZ"
      }
    },
    {
      "cell_type": "code",
      "source": [
        "import string\n",
        "\n",
        "def normalize_text(text):\n",
        "\n",
        "    text = text.lower()\n",
        "\n",
        "    text = ''.join(char for char in text if not char.isdigit())\n",
        "\n",
        "    punctuation = string.punctuation\n",
        "    for punct in punctuation:\n",
        "        text = text.replace(punct, ' ')\n",
        "\n",
        "    text = ' '.join(text.split())\n",
        "\n",
        "    return text\n",
        "\n",
        "sample_text = \"Пример текста123, с РАЗНЫМИ символами! И 456 цифрами?!\"\n",
        "normalized = normalize_text(sample_text)\n",
        "print(\"Исходный текст:\", sample_text)\n",
        "print(\"Нормализованный текст:\", normalized)\n",
        "\n"
      ],
      "metadata": {
        "id": "rU4ZTUrd1jFX",
        "colab": {
          "base_uri": "https://localhost:8080/"
        },
        "outputId": "bfc5bb50-f8cd-46a1-f737-7a6c4635d079"
      },
      "execution_count": 19,
      "outputs": [
        {
          "output_type": "stream",
          "name": "stdout",
          "text": [
            "Исходный текст: Пример текста123, с РАЗНЫМИ символами! И 456 цифрами?!\n",
            "Нормализованный текст: пример текста с разными символами и цифрами\n"
          ]
        }
      ]
    },
    {
      "cell_type": "markdown",
      "source": [
        "Упражнение 2: Подсчет частотности слов. Напишите функцию, которая будет принимать текст, нормализовать его, токенизировать и возвращать словарь с частотностью каждого слова."
      ],
      "metadata": {
        "id": "waC9ZHWB2Kph"
      }
    },
    {
      "cell_type": "code",
      "source": [
        "import string\n",
        "\n",
        "def normalize_text(text):\n",
        "\n",
        "    text = text.lower()\n",
        "\n",
        "    text = ''.join(char for char in text if not char.isdigit())\n",
        "\n",
        "    punctuation = string.punctuation\n",
        "    for punct in punctuation:\n",
        "        text = text.replace(punct, ' ')\n",
        "\n",
        "    text = ' '.join(text.split())\n",
        "\n",
        "    return text\n",
        "\n",
        "def word_frequency(text):\n",
        "\n",
        "    normalized = normalize_text(text)\n",
        "\n",
        "    tokens = normalized.split()\n",
        "\n",
        "    frequency_dict = {}\n",
        "    for word in tokens:\n",
        "        frequency_dict[word] = frequency_dict.get(word, 0) + 1\n",
        "\n",
        "    return frequency_dict\n",
        "\n",
        "sample_text = \"Компьютерная лингвистика изучает методы обработки текста. Компьютерная лингвистика является областью искусственного интеллекта.\"\n",
        "russian_freq = word_frequency(sample_text)\n",
        "print(\"Частотность слов (русский):\", russian_freq)\n",
        "\n",
        "english_text = \"Natural language processing is a field of artificial intelligence. Natural language processing focuses on the interaction between computers and humans.\"\n",
        "english_freq = word_frequency(english_text)\n",
        "print(\"Частотность слов (английский):\", english_freq)"
      ],
      "metadata": {
        "id": "HlWO9Bpn2SQo",
        "colab": {
          "base_uri": "https://localhost:8080/"
        },
        "outputId": "dbbbde36-88bd-438c-b119-67bc52dfd383"
      },
      "execution_count": 21,
      "outputs": [
        {
          "output_type": "stream",
          "name": "stdout",
          "text": [
            "Частотность слов (русский): {'компьютерная': 2, 'лингвистика': 2, 'изучает': 1, 'методы': 1, 'обработки': 1, 'текста': 1, 'является': 1, 'областью': 1, 'искусственного': 1, 'интеллекта': 1}\n",
            "Частотность слов (английский): {'natural': 2, 'language': 2, 'processing': 2, 'is': 1, 'a': 1, 'field': 1, 'of': 1, 'artificial': 1, 'intelligence': 1, 'focuses': 1, 'on': 1, 'the': 1, 'interaction': 1, 'between': 1, 'computers': 1, 'and': 1, 'humans': 1}\n"
          ]
        }
      ]
    },
    {
      "cell_type": "markdown",
      "source": [
        "Упражнение 3: Поиск самых длинных и коротких слов. Напишите функцию, которая находит самые длинные и самые короткие слова в тексте."
      ],
      "metadata": {
        "id": "RPTWlfsD2ehu"
      }
    },
    {
      "cell_type": "code",
      "source": [
        "def find_longest_shortest_words(text):\n",
        "\n",
        "    tokens = text.split()\n",
        "\n",
        "    if not tokens:\n",
        "        return [], []\n",
        "\n",
        "    max_length = max(len(word) for word in tokens)\n",
        "    min_length = min(len(word) for word in tokens)\n",
        "\n",
        "    longest_words = [word for word in tokens if len(word) == max_length]\n",
        "    shortest_words = [word for word in tokens if len(word) == min_length]\n",
        "\n",
        "    return longest_words, shortest_words\n",
        "\n",
        "sample_text = \"Компьютерная лингвистика является междисциплинарной областью науки, которая изучает математические и компьютерные модели естественного языка, а также его применение в системах искусственного интеллекта.\"\n",
        "longest_ru, shortest_ru = find_longest_shortest_words(sample_text)\n",
        "print(\"Самые длинные слова (русский):\", longest_ru)\n",
        "print(\"Самые короткие слова (русский):\", shortest_ru)\n",
        "\n",
        "english_text = \"Computational linguistics is an interdisciplinary field of science that studies mathematical and computational models of natural language and its application in artificial intelligence systems.\"\n",
        "longest_en, shortest_en = find_longest_shortest_words(english_text)\n",
        "print(\"Самые длинные слова (английский):\", longest_en)\n",
        "print(\"Самые короткие слова (английский):\", shortest_en)"
      ],
      "metadata": {
        "id": "hizov4xW2YhX",
        "colab": {
          "base_uri": "https://localhost:8080/"
        },
        "outputId": "c28b6733-7167-4214-e19d-64284668daa7"
      },
      "execution_count": 13,
      "outputs": [
        {
          "output_type": "stream",
          "name": "stdout",
          "text": [
            "Самые длинные слова (русский): ['междисциплинарной']\n",
            "Самые короткие слова (русский): ['и', 'а', 'в']\n",
            "Самые длинные слова (английский): ['interdisciplinary']\n",
            "Самые короткие слова (английский): ['is', 'an', 'of', 'of', 'in']\n"
          ]
        }
      ]
    },
    {
      "cell_type": "markdown",
      "source": [
        "Упражнение 4: Поиск и подсчет определенных паттернов. Напишите функцию, которая находит и подсчитывает слова, начинающиеся с определенной буквы или содержащие определенную последовательность букв."
      ],
      "metadata": {
        "id": "wtQ6vmk922D6"
      }
    },
    {
      "cell_type": "code",
      "source": [
        "def find_words_with_pattern(text, pattern, mode='starts'):\n",
        "\n",
        "    normalized = text.lower()\n",
        "    tokens = normalized.split()\n",
        "\n",
        "    if mode == 'starts':\n",
        "        matching_words = [word for word in tokens if word.startswith(pattern)]\n",
        "    elif mode == 'contains':\n",
        "        matching_words = [word for word in tokens if pattern in word]\n",
        "\n",
        "    return matching_words, len(matching_words)\n",
        "\n",
        "sample_text = \"Компьютерная лингвистика изучает методы обработки текста. Математические модели и компьютерные алгоритмы используются для анализа естественных языков.\"\n",
        "words_k, count_k = find_words_with_pattern(sample_text, 'к', 'starts')\n",
        "print(\"Слова, начинающиеся с 'к':\", words_k)\n",
        "print(\"Количество:\", count_k)\n",
        "\n",
        "english_text = \"Computational linguistics studies methods of text processing. Mathematical models and computer algorithms are used to analyze natural languages.\"\n",
        "words_ing, count_ing = find_words_with_pattern(english_text, 'ing', 'contains')\n",
        "print(\"\\nСлова, содержащие 'ing':\", words_ing)\n",
        "print(\"Количество:\", count_ing)\n"
      ],
      "metadata": {
        "id": "Pv0AYXVp23vc",
        "colab": {
          "base_uri": "https://localhost:8080/"
        },
        "outputId": "20308862-8b1c-4eb5-e792-5241390c7b6d"
      },
      "execution_count": 7,
      "outputs": [
        {
          "output_type": "stream",
          "name": "stdout",
          "text": [
            "Слова, начинающиеся с 'к': ['компьютерная', 'компьютерные']\n",
            "Количество: 2\n",
            "\n",
            "Слова, содержащие 'ing': ['linguistics', 'processing.']\n",
            "Количество: 2\n"
          ]
        }
      ]
    },
    {
      "cell_type": "markdown",
      "source": [
        "Упражнение 5: Анализ предложений в тексте. Напишите функцию, которая анализирует текст на уровне предложений, подсчитывая:\n",
        "\n",
        "1. Количество предложений\n",
        "2. Среднюю длину предложения (в словах)\n",
        "3. Самое длинное и самое короткое предложение\n"
      ],
      "metadata": {
        "id": "anDhdjLG3M1A"
      }
    },
    {
      "cell_type": "code",
      "source": [
        "import string\n",
        "\n",
        "def simple_sentence_tokenize(text):\n",
        "\n",
        "    for end_mark in ['.', '!', '?']:\n",
        "        text = text.replace(end_mark, f'{end_mark}SENTENCE_END')\n",
        "\n",
        "    sentences = text.split('SENTENCE_END')\n",
        "\n",
        "    cleaned_sentences = [sentence.strip() for sentence in sentences if sentence.strip()]\n",
        "\n",
        "    return cleaned_sentences\n",
        "\n",
        "def analyze_sentences(text):\n",
        "\n",
        "    sentences = simple_sentence_tokenize(text)\n",
        "\n",
        "    if not sentences:\n",
        "        return 0, 0, \"\", \"\"\n",
        "\n",
        "    sentence_count = len(sentences)\n",
        "\n",
        "    total_words = sum(len(sentence.split()) for sentence in sentences)\n",
        "    avg_sentence_length = total_words / sentence_count\n",
        "\n",
        "    longest_sentence = max(sentences, key=lambda x: len(x.split()))\n",
        "    shortest_sentence = min(sentences, key=lambda x: len(x.split()))\n",
        "\n",
        "    return sentence_count, avg_sentence_length, longest_sentence, shortest_sentence\n",
        "\n",
        "sample_text = \"\"\"Компьютерная лингвистика — это междисциплинарная область науки.\n",
        "Она изучает математические и компьютерные модели естественного языка.\n",
        "Методы компьютерной лингвистики применяются для решения различных задач, таких как машинный перевод, автоматическое реферирование и информационный поиск.\n",
        "Современные алгоритмы позволяют анализировать большие объемы текстов.\"\"\"\n",
        "\n",
        "sent_count, avg_length, longest, shortest = analyze_sentences(sample_text)\n",
        "\n",
        "print(\"Результаты анализа предложений:\")\n",
        "print(f\"Количество предложений: {sent_count}\")\n",
        "print(f\"Средняя длина предложения (в словах): {avg_length:.2f}\")\n",
        "print(f\"Самое длинное предложение: {longest}\")\n",
        "print(f\"Самое короткое предложение: {shortest}\")\n",
        "\n",
        "english_text = \"\"\"Computational linguistics is an interdisciplinary field of science.\n",
        "It studies mathematical and computational models of natural language.\n",
        "Methods of computational linguistics are applied to solve various tasks such as machine translation, automatic summarization, and information retrieval.\n",
        "Modern algorithms allow analyzing large volumes of texts.\"\"\"\n",
        "\n",
        "sent_count_en, avg_length_en, longest_en, shortest_en = analyze_sentences(english_text)\n",
        "\n",
        "print(\"\\nРезультаты анализа предложений на английском:\")\n",
        "print(f\"Количество предложений: {sent_count_en}\")\n",
        "print(f\"Средняя длина предложения (в словах): {avg_length_en:.2f}\")\n",
        "print(f\"Самое длинное предложение: {longest_en}\")\n",
        "print(f\"Самое короткое предложение: {shortest_en}\")"
      ],
      "metadata": {
        "id": "QQd2ZgIj3YlJ",
        "colab": {
          "base_uri": "https://localhost:8080/"
        },
        "outputId": "8e0927ad-959e-4714-8472-f340d1387636"
      },
      "execution_count": 23,
      "outputs": [
        {
          "output_type": "stream",
          "name": "stdout",
          "text": [
            "Результаты анализа предложений:\n",
            "Количество предложений: 4\n",
            "Средняя длина предложения (в словах): 9.75\n",
            "Самое длинное предложение: Методы компьютерной лингвистики применяются для решения различных задач, таких как машинный перевод, автоматическое реферирование и информационный поиск.\n",
            "Самое короткое предложение: Компьютерная лингвистика — это междисциплинарная область науки.\n",
            "\n",
            "Результаты анализа предложений на английском:\n",
            "Количество предложений: 4\n",
            "Средняя длина предложения (в словах): 11.00\n",
            "Самое длинное предложение: Methods of computational linguistics are applied to solve various tasks such as machine translation, automatic summarization, and information retrieval.\n",
            "Самое короткое предложение: Computational linguistics is an interdisciplinary field of science.\n"
          ]
        }
      ]
    },
    {
      "cell_type": "markdown",
      "source": [
        "**5. Домашнее задание**"
      ],
      "metadata": {
        "id": "ZE7TEjrM37te"
      }
    },
    {
      "cell_type": "markdown",
      "source": [
        "Напишите функцию для нормализации текста, которая:\n",
        "\n",
        "1. Приводит текст к нижнему регистру\n",
        "2. Удаляет все знаки пунктуации\n",
        "3. Заменяет все цифры на символ '#'\n",
        "4. Удаляет лишние пробелы\n",
        "\n",
        "Напишите функцию, которая находит и выводит все слова из текста, содержащие гласные в определенной последовательности (например, 'о' и затем 'а').\n",
        "\n",
        "Создайте функцию, которая:\n",
        "\n",
        "1.   Токенизирует текст\n",
        "2.   Отбирает только слова длиной более 4 символов\n",
        "3. Сортирует их по алфавиту\n",
        "4. Возвращает первые 10 слов\n",
        "\n",
        "Напишите функцию для анализа частотности символов в тексте, которая возвращает 5 самых часто встречающихся символов и их количество.\n",
        "\n",
        "Напишите программу, которая разделяет текст на параграфы (по двойному переносу строки), а затем подсчитывает для каждого параграфа: количество предложений, количество слов, среднюю длину слова"
      ],
      "metadata": {
        "id": "qJtWAqaL3-od"
      }
    },
    {
      "cell_type": "code",
      "source": [
        "def normalization(text):\n",
        "\n",
        "    text = text.lower()\n",
        "\n",
        "    translator = str.maketrans('', '', string.punctuation)\n",
        "    text = text.translate(translator)\n",
        "\n",
        "    text = ''.join('#' if char.isdigit() else char for char in text)\n",
        "\n",
        "    text = ' '.join(text.split())\n",
        "\n",
        "    return text\n",
        "\n",
        "sample_text = \"Пример123 текста! С цифрами 456 и знаками пунктуации??\"\n",
        "result = normalization(sample_text)\n",
        "print(\"Исходный текст:\", sample_text)\n",
        "print(\"После нормализации:\", result)"
      ],
      "metadata": {
        "colab": {
          "base_uri": "https://localhost:8080/"
        },
        "id": "MwU4J3dVo53b",
        "outputId": "96fa6bbd-cb5a-4b03-afa1-7a7f9be6911f"
      },
      "execution_count": 33,
      "outputs": [
        {
          "output_type": "stream",
          "name": "stdout",
          "text": [
            "Исходный текст: Пример123 текста! С цифрами 456 и знаками пунктуации??\n",
            "После нормализации: пример### текста с цифрами ### и знаками пунктуации\n"
          ]
        }
      ]
    },
    {
      "cell_type": "code",
      "source": [
        "def find_vowel_sequence_words(text, vowel1='о', vowel2='а'):\n",
        "\n",
        "    normalized = text.lower()\n",
        "    tokens = normalized.split()\n",
        "\n",
        "    matching_words = []\n",
        "    for word in tokens:\n",
        "        if vowel1 in word and vowel2 in word:\n",
        "            if word.find(vowel1) < word.find(vowel2):\n",
        "                matching_words.append(word)\n",
        "\n",
        "    return matching_words\n",
        "\n",
        "sample_text = \"Компьютерная лингвистика изучает методы обработки текста. Компьютерная лингвистика является областью искусственного интеллекта.\"\n",
        "result = find_vowel_sequence_words(sample_text, 'о', 'а')\n",
        "print(\"Слова, содержащие 'о', а затем 'а':\", result)"
      ],
      "metadata": {
        "colab": {
          "base_uri": "https://localhost:8080/"
        },
        "id": "6WoT-whgp9AK",
        "outputId": "1522deb1-6c5e-4d35-ee11-79a86a83a727"
      },
      "execution_count": 35,
      "outputs": [
        {
          "output_type": "stream",
          "name": "stdout",
          "text": [
            "Слова, содержащие 'о', а затем 'а': ['компьютерная', 'обработки', 'компьютерная', 'областью']\n"
          ]
        }
      ]
    },
    {
      "cell_type": "code",
      "source": [
        "def filter_and_sort_words(text, min_length=4, top_n=10):\n",
        "\n",
        "    normalized = text.lower()\n",
        "    tokens = normalized.split()\n",
        "\n",
        "    long_words = [word for word in tokens if len(word) > min_length]\n",
        "\n",
        "    sorted_words = sorted(long_words)\n",
        "\n",
        "    return sorted_words[:top_n]\n",
        "\n",
        "sample_text = \"\"\"Компьютерная лингвистика — это междисциплинарная область науки.\n",
        "Она изучает математические и компьютерные модели естественного языка.\n",
        "Методы компьютерной лингвистики применяются для решения различных задач, таких как машинный перевод, автоматическое реферирование и информационный поиск.\n",
        "Современные алгоритмы позволяют анализировать большие объемы текстов.\"\"\"\n",
        "result = filter_and_sort_words(sample_text, 4, 10)\n",
        "print(\"Первые 10 длинных слов (отсортированные):\", result)"
      ],
      "metadata": {
        "colab": {
          "base_uri": "https://localhost:8080/"
        },
        "id": "-IMXRGSrqXjE",
        "outputId": "9ea9083b-00d0-4b7d-d5d7-09a92c416702"
      },
      "execution_count": 37,
      "outputs": [
        {
          "output_type": "stream",
          "name": "stdout",
          "text": [
            "Первые 10 длинных слов (отсортированные): ['автоматическое', 'алгоритмы', 'анализировать', 'большие', 'естественного', 'задач,', 'изучает', 'информационный', 'компьютерная', 'компьютерной']\n"
          ]
        }
      ]
    },
    {
      "cell_type": "code",
      "source": [
        "def character_frequency_analysis(text, top_n=5):\n",
        "\n",
        "    text_no_spaces = text.replace(' ', '')\n",
        "\n",
        "    char_freq = {}\n",
        "    for char in text_no_spaces:\n",
        "        char_freq[char] = char_freq.get(char, 0) + 1\n",
        "\n",
        "    sorted_chars = sorted(char_freq.items(), key=lambda x: x[1], reverse=True)\n",
        "\n",
        "    return sorted_chars[:top_n]\n",
        "\n",
        "sample_text = \"Компьютерная лингвистика изучает методы обработки текста. Математические модели и компьютерные алгоритмы используются для анализа естественных языков.\"\n",
        "result = character_frequency_analysis(sample_text, 5)\n",
        "print(\"5 самых частотных символов:\")\n",
        "for char, count in result:\n",
        "    print(f\"'{char}': {count}\")"
      ],
      "metadata": {
        "colab": {
          "base_uri": "https://localhost:8080/"
        },
        "id": "9Kp1im6trSyd",
        "outputId": "147c1d6a-c61f-4eea-8b35-7fc03ca6b390"
      },
      "execution_count": 41,
      "outputs": [
        {
          "output_type": "stream",
          "name": "stdout",
          "text": [
            "5 самых частотных символов:\n",
            "'т': 14\n",
            "'е': 13\n",
            "'и': 12\n",
            "'а': 11\n",
            "'о': 9\n"
          ]
        }
      ]
    },
    {
      "cell_type": "code",
      "source": [
        "def analyze_paragraphs(text):\n",
        "\n",
        "    paragraphs = text.split('\\n\\n')\n",
        "\n",
        "    results = []\n",
        "\n",
        "    for i, paragraph in enumerate(paragraphs, 1):\n",
        "        paragraph = paragraph.strip()\n",
        "        if paragraph:\n",
        "            sentences = simple_sentence_tokenize(paragraph)\n",
        "            sentence_count = len(sentences)\n",
        "\n",
        "            words = paragraph.split()\n",
        "            word_count = len(words)\n",
        "\n",
        "            if word_count > 0:\n",
        "                total_chars = sum(len(word) for word in words)\n",
        "                avg_word_length = total_chars / word_count\n",
        "            else:\n",
        "                avg_word_length = 0\n",
        "\n",
        "            results.append({\n",
        "                'paragraph_number': i,\n",
        "                'sentence_count': sentence_count,\n",
        "                'word_count': word_count,\n",
        "                'avg_word_length': avg_word_length\n",
        "            })\n",
        "\n",
        "    return results\n",
        "\n",
        "multi_paragraph_text = \"\"\"Компьютерная лингвистика — это междисциплинарная область науки.\n",
        "\n",
        "Она изучает математические модели языка. Методы компьютерной лингвистики применяются для решения различных задач.\n",
        "Современные алгоритмы позволяют анализировать большие объемы текстов.\n",
        "\"\"\"\n",
        "\n",
        "paragraph_analysis = analyze_paragraphs(multi_paragraph_text)\n",
        "\n",
        "print(\"Анализ параграфов:\")\n",
        "for analysis in paragraph_analysis:\n",
        "    print(f\"\\nПараграф {analysis['paragraph_number']}:\")\n",
        "    print(f\"  Количество предложений: {analysis['sentence_count']}\")\n",
        "    print(f\"  Количество слов: {analysis['word_count']}\")\n",
        "    print(f\"  Средняя длина слова: {analysis['avg_word_length']:.2f}\")"
      ],
      "metadata": {
        "colab": {
          "base_uri": "https://localhost:8080/"
        },
        "id": "GKDIytWerh7u",
        "outputId": "9e530e73-f059-4e8a-95ba-a7addce7cc57"
      },
      "execution_count": 43,
      "outputs": [
        {
          "output_type": "stream",
          "name": "stdout",
          "text": [
            "Анализ параграфов:\n",
            "\n",
            "Параграф 1:\n",
            "  Количество предложений: 1\n",
            "  Количество слов: 7\n",
            "  Средняя длина слова: 8.14\n",
            "\n",
            "Параграф 2:\n",
            "  Количество предложений: 3\n",
            "  Количество слов: 20\n",
            "  Средняя длина слова: 8.20\n"
          ]
        }
      ]
    }
  ]
}