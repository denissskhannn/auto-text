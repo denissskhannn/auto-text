{
  "cells": [
    {
      "cell_type": "markdown",
      "metadata": {
        "id": "xaCyWYJ6uGfk"
      },
      "source": [
        "В этом ноутбуке вы узнаете:\n",
        "\n",
        "1.   Как использовать встроенные методы Python для работы со строками\n",
        "2.   Как выполнять базовую нормализацию текста\n",
        "3. Как токенизировать текст с помощью простых методов\n",
        "4. Как применять эти навыки на практике\n"
      ]
    },
    {
      "cell_type": "markdown",
      "metadata": {
        "id": "T4-yFhGcy934"
      },
      "source": [
        "**1. Основные понятия и функции**"
      ]
    },
    {
      "cell_type": "markdown",
      "metadata": {
        "id": "mMYBk9PluRfs"
      },
      "source": [
        "В Python текст представлен в виде строк (тип данных str). Строки можно создавать, используя одинарные или двойные кавычки."
      ]
    },
    {
      "cell_type": "code",
      "execution_count": null,
      "metadata": {
        "id": "tXalOImZuMdk"
      },
      "outputs": [],
      "source": [
        "# Создание строк\n",
        "text1 = 'Это текст в \"одинарных\" кавычках'\n",
        "text2 = \"Это текст в 'двойных' кавычках\"\n",
        "text3 = '''Это текст в \"тройных\" кавычках'''\n",
        "text4 = '''Это\n",
        "текст\n",
        "в 'тройных'\n",
        "кавычках'''\n",
        "\n",
        "# Вывод строк\n",
        "print(text1)\n",
        "print(text2)\n",
        "print(text3)\n",
        "print(text4)"
      ]
    },
    {
      "cell_type": "markdown",
      "metadata": {
        "id": "4dVUdNKvuYvU"
      },
      "source": [
        "1.1. Индексация и срезы строк.\n",
        "Строки в Python — это последовательности символов, к которым можно обращаться по индексу. Индексация начинается с 0."
      ]
    },
    {
      "cell_type": "code",
      "execution_count": null,
      "metadata": {
        "id": "8RlZDm97uVrC"
      },
      "outputs": [],
      "source": [
        "# Строка для примеров\n",
        "sample_text = \"Компьютерная лингвистика\"\n",
        "\n",
        "# Получение отдельного символа\n",
        "print(\"Первый символ:\", sample_text[0])\n",
        "print(\"Пятый символ:\", sample_text[4])\n",
        "\n",
        "# Срезы строк\n",
        "print(\"Первые 12 символов:\", sample_text[:12])  # от начала до 12-го символа (не включая)\n",
        "print(\"С 13-го символа до конца:\", sample_text[13:])  # с 13-го символа до конца\n",
        "print(\"С 5-го по 10-й символ:\", sample_text[5:11])  # с 5-го по 10-й символ (11-й не включается)"
      ]
    },
    {
      "cell_type": "markdown",
      "metadata": {
        "id": "-oi1N22TvbQx"
      },
      "source": [
        "1.2. Основные методы строк\n",
        "Python предоставляет множество встроенных методов для работы со строками. Рассмотрим наиболее полезные для обработки текста:"
      ]
    },
    {
      "cell_type": "code",
      "execution_count": null,
      "metadata": {
        "id": "vkcKQqqgvcpk"
      },
      "outputs": [],
      "source": [
        "# Строка для примеров\n",
        "text = \"   Пример текста для анализа.   \"\n",
        "\n",
        "# Удаление пробелов в начале и конце строки\n",
        "print(\"После strip():\", text.strip())\n",
        "\n",
        "# Перевод в нижний регистр\n",
        "print(\"После lower():\", text.lower())\n",
        "\n",
        "# Перевод в верхний регистр\n",
        "print(\"После upper():\", text.upper())\n",
        "\n",
        "# Проверка, начинается ли строка с определенной подстроки\n",
        "print(\"Начинается с 'Пример'?\", text.strip().startswith(\"Пример\"))\n",
        "\n",
        "# Проверка, заканчивается ли строка определенной подстрокой\n",
        "print(\"Заканчивается на '.'?\", text.strip().endswith(\".\"))\n",
        "\n",
        "# Замена подстроки\n",
        "print(\"После replace():\", text.replace(\"анализа\", \"обработки\"))\n",
        "\n",
        "# Подсчет вхождений подстроки\n",
        "print(\"Количество пробелов:\", text.count(\" \"))"
      ]
    },
    {
      "cell_type": "markdown",
      "metadata": {
        "id": "-oEf7vLCvvzL"
      },
      "source": [
        "1.3. Конкатенация строк и форматирование.\n",
        "Существует несколько способов объединения строк в Python:"
      ]
    },
    {
      "cell_type": "code",
      "execution_count": null,
      "metadata": {
        "id": "CS50TkzKvwfk"
      },
      "outputs": [],
      "source": [
        "# Простая конкатенация с помощью оператора +\n",
        "first_name = \"Иван\"\n",
        "last_name = \"Петров\"\n",
        "full_name = first_name + \" \" + last_name\n",
        "print(\"Полное имя:\", full_name)\n",
        "\n",
        "# Форматирование строк с помощью метода format()\n",
        "age = 25\n",
        "message = \"Меня зовут {}, мне {} лет.\".format(full_name, age)\n",
        "print(message)\n",
        "\n",
        "# f-строки (начиная с Python 3.6)\n",
        "message_f = f\"Меня зовут {full_name}, мне {age} лет.\"\n",
        "print(message_f)\n",
        "\n",
        "# Использование %\n",
        "message_old = \"Меня зовут %s, мне %d лет.\" % (full_name, age)\n",
        "print(message_old)"
      ]
    },
    {
      "cell_type": "markdown",
      "metadata": {
        "id": "e0K6mt6Vv6gV"
      },
      "source": [
        "**2. Базовая нормализация текста**"
      ]
    },
    {
      "cell_type": "markdown",
      "metadata": {
        "id": "hL2BXNo8wEVY"
      },
      "source": [
        "Нормализация текста — это процесс преобразования текста к стандартному виду для облегчения его дальнейшей обработки. Рассмотрим базовые операции нормализации."
      ]
    },
    {
      "cell_type": "markdown",
      "metadata": {
        "id": "J5Gk1AnRwHK0"
      },
      "source": [
        "2.1. Приведение к нижнему регистру помогает унифицировать текст. Обычно используется нижний регистр."
      ]
    },
    {
      "cell_type": "code",
      "execution_count": null,
      "metadata": {
        "id": "vNNMpCqOv2Dz"
      },
      "outputs": [],
      "source": [
        "# Пример текста с разным регистром\n",
        "mixed_case_text = \"КомпьЮтерная ЛИНГвистика изучает Методы Автоматической Обработки Текста.\"\n",
        "\n",
        "# Приведение к нижнему регистру\n",
        "normalized_text = mixed_case_text.lower()\n",
        "print(\"Исходный текст:\", mixed_case_text)\n",
        "print(\"Нормализованный текст:\", normalized_text)\n",
        "\n",
        "# Пример на английском\n",
        "english_text = \"Natural Language Processing (NLP) is a FIELD of AI.\"\n",
        "print(\"Английский текст после нормализации:\", english_text.lower())"
      ]
    },
    {
      "cell_type": "markdown",
      "metadata": {
        "id": "Vlwzl4-bw7u9"
      },
      "source": [
        "2.2. Удаление лишних пробелов. Часто тексты содержат лишние пробелы, которые нужно удалить.\n",
        "\n",
        "\n"
      ]
    },
    {
      "cell_type": "code",
      "execution_count": null,
      "metadata": {
        "id": "AioDUYPrw-Hl"
      },
      "outputs": [],
      "source": [
        "# Текст с лишними пробелами\n",
        "text_with_spaces = \"   В  этом   тексте  есть  лишние    пробелы.   \"\n",
        "\n",
        "# Удаление пробелов в начале и конце\n",
        "trimmed_text = text_with_spaces.strip()\n",
        "print(\"После strip():\", trimmed_text)\n",
        "\n",
        "words = trimmed_text.split()  # Разбиваем текст на слова\n",
        "normalized_manually = ' '.join(words)  # Объединяем слова с одним пробелом\n",
        "print(\"Нормализация:\", normalized_manually)\n",
        "\n",
        "# Пример на английском\n",
        "english_spaces = \"  This   text   has   extra   spaces. \"\n",
        "english_normalized = ' '.join(english_spaces.strip().split())\n",
        "print(\"Английский текст после нормализации пробелов:\", english_normalized)"
      ]
    },
    {
      "cell_type": "markdown",
      "metadata": {
        "id": "M7bFiY8syfRf"
      },
      "source": [
        "2.3. Удаление пунктуации. Для многих задач обработки текста необходимо удалить знаки пунктуации."
      ]
    },
    {
      "cell_type": "code",
      "execution_count": null,
      "metadata": {
        "id": "g7M5Bna1yjB1"
      },
      "outputs": [],
      "source": [
        "# Текст с пунктуацией\n",
        "text_with_punctuation = \"Привет, мир! Как дела? Это - пример текста; с разными знаками пунктуации.\"\n",
        "\n",
        "# Определение знаков пунктуации для удаления\n",
        "import string\n",
        "punctuation = string.punctuation  # !\"#$%&'()*+,-./:;<=>?@[\\]^_`{|}~\n",
        "print(\"Знаки пунктуации:\", punctuation)\n",
        "\n",
        "# Удаление пунктуации (метод 1)\n",
        "no_punctuation = ''.join(char for char in text_with_punctuation if char not in punctuation)\n",
        "print(\"Текст без пунктуации (метод 1):\", no_punctuation)\n",
        "\n",
        "# Удаление пунктуации (метод 2)\n",
        "translator = str.maketrans('', '', punctuation)\n",
        "no_punctuation2 = text_with_punctuation.translate(translator)\n",
        "print(\"Текст без пунктуации (метод 2):\", no_punctuation2)\n",
        "\n",
        "# Пример на английском\n",
        "english_punctuation = \"Hello, world! How are you? This is a sample text; with various punctuation marks.\"\n",
        "english_no_punctuation = english_punctuation.translate(translator)\n",
        "print(\"Английский текст без пунктуации:\", english_no_punctuation)"
      ]
    },
    {
      "cell_type": "markdown",
      "metadata": {
        "id": "cCzDj3GayrSf"
      },
      "source": [
        "2.4. Комплексная нормализация текста. Объединим все изученные методы для комплексной нормализации текста."
      ]
    },
    {
      "cell_type": "code",
      "execution_count": null,
      "metadata": {
        "id": "-EQfaUxNyuOm"
      },
      "outputs": [],
      "source": [
        "def normalize_text(text):\n",
        "    \"\"\"\n",
        "    Функция для комплексной нормализации текста:\n",
        "    1. Приведение к нижнему регистру\n",
        "    2. Удаление лишних пробелов\n",
        "    3. Удаление пунктуации\n",
        "    \"\"\"\n",
        "    # Шаг 1: Приведение к нижнему регистру\n",
        "    text = text.lower()\n",
        "\n",
        "    # Шаг 2: Удаление пунктуации\n",
        "    translator = str.maketrans('', '', string.punctuation)\n",
        "    text = text.translate(translator)\n",
        "\n",
        "    # Шаг 3: Удаление лишних пробелов\n",
        "    text = ' '.join(text.split())\n",
        "\n",
        "    return text\n",
        "\n",
        "# Проверка функции на русском тексте\n",
        "russian_text = \"   Компьютерная    ЛИНГВИСТИКА - это ОБЛАСТЬ науки, изучающая   методы автоматической    обработки текста!   \"\n",
        "normalized_russian = normalize_text(russian_text)\n",
        "print(\"Исходный русский текст:\", russian_text)\n",
        "print(\"Нормализованный русский текст:\", normalized_russian)\n",
        "\n",
        "# Проверка функции на английском тексте\n",
        "english_text = \"   Natural    LANGUAGE Processing (NLP) - is a FIELD of AI, focusing   on text analysis!   \"\n",
        "normalized_english = normalize_text(english_text)\n",
        "print(\"Исходный английский текст:\", english_text)\n",
        "print(\"Нормализованный английский текст:\", normalized_english)"
      ]
    },
    {
      "cell_type": "markdown",
      "metadata": {
        "id": "H2IvHG_yy1uJ"
      },
      "source": [
        "**3. Простая токенизация текста**"
      ]
    },
    {
      "cell_type": "markdown",
      "metadata": {
        "id": "ISndfr9tzMRC"
      },
      "source": [
        "Токенизация — это процесс разделения текста на отдельные токены (обычно слова или предложения). Рассмотрим простые методы токенизации с использованием встроенных возможностей Python."
      ]
    },
    {
      "cell_type": "markdown",
      "metadata": {
        "id": "sjvNUNImzP5i"
      },
      "source": [
        "3.1. Токенизация по пробелам. Самый простой способ токенизации — разделение текста по пробелам с помощью метода .split()."
      ]
    },
    {
      "cell_type": "code",
      "execution_count": null,
      "metadata": {
        "id": "pRMRYdZfzTk2"
      },
      "outputs": [],
      "source": [
        "# Пример текста\n",
        "text = \"Компьютерная лингвистика изучает методы обработки текста\"\n",
        "\n",
        "# Токенизация по пробелам\n",
        "tokens = text.split()\n",
        "print(\"Токены:\", tokens)\n",
        "print(\"Количество токенов:\", len(tokens))\n",
        "\n",
        "# Токенизация английского текста\n",
        "english_text = \"Natural language processing studies methods of text analysis\"\n",
        "english_tokens = english_text.split()\n",
        "print(\"Английские токены:\", english_tokens)\n",
        "print(\"Количество английских токенов:\", len(english_tokens))"
      ]
    },
    {
      "cell_type": "markdown",
      "metadata": {
        "id": "Ey-4jl42zahC"
      },
      "source": [
        "3.2. Токенизация с учетом пунктуации. Токенизация по пробелам не учитывает пунктуацию. Для более точной токенизации можно сначала отделить пунктуацию от слов."
      ]
    },
    {
      "cell_type": "code",
      "execution_count": null,
      "metadata": {
        "id": "8rYkdzlnzdkp"
      },
      "outputs": [],
      "source": [
        "def simple_tokenize(text):\n",
        "    \"\"\"\n",
        "    Простая токенизация с учетом пунктуации:\n",
        "    1. Добавляем пробелы вокруг знаков пунктуации\n",
        "    2. Разделяем по пробелам\n",
        "    3. Удаляем пустые токены\n",
        "    \"\"\"\n",
        "    # Добавляем пробелы вокруг знаков пунктуации\n",
        "    for punct in string.punctuation:\n",
        "        text = text.replace(punct, f' {punct} ')\n",
        "\n",
        "    # Разделяем по пробелам и удаляем пустые токены\n",
        "    tokens = [token for token in text.split() if token]\n",
        "\n",
        "    return tokens\n",
        "\n",
        "# Проверка на русском тексте\n",
        "russian_text = \"Привет, мир! Как дела? Это - пример текста; с разными знаками пунктуации.\"\n",
        "russian_tokens = simple_tokenize(russian_text)\n",
        "print(\"Русский текст:\", russian_text)\n",
        "print(\"Токены русского текста:\", russian_tokens)\n",
        "print(\"Количество токенов:\", len(russian_tokens))\n",
        "\n",
        "# Проверка на английском тексте\n",
        "english_text = \"Hello, world! How are you? This is a sample text; with various punctuation marks.\"\n",
        "english_tokens = simple_tokenize(english_text)\n",
        "print(\"Английский текст:\", english_text)\n",
        "print(\"Токены английского текста:\", english_tokens)\n",
        "print(\"Количество токенов:\", len(english_tokens))"
      ]
    },
    {
      "cell_type": "markdown",
      "metadata": {
        "id": "qfbRKk1S0wq_"
      },
      "source": [
        "3.3. Токенизация предложений. Простой способ — разделение по знакам конца предложения."
      ]
    },
    {
      "cell_type": "code",
      "execution_count": null,
      "metadata": {
        "id": "bw3dAKeG0-fA"
      },
      "outputs": [],
      "source": [
        "def simple_sentence_tokenize(text):\n",
        "    \"\"\"\n",
        "    Простая токенизация на предложения:\n",
        "    1. Заменяем знаки конца предложения на специальный маркер\n",
        "    2. Разделяем текст по маркеру\n",
        "    3. Очищаем полученные предложения\n",
        "    \"\"\"\n",
        "    # Заменяем знаки конца предложения\n",
        "    for end_mark in ['.', '!', '?']:\n",
        "        text = text.replace(end_mark, f'{end_mark}SENTENCE_END')\n",
        "\n",
        "    # Разделяем по маркеру\n",
        "    sentences = text.split('SENTENCE_END')\n",
        "\n",
        "    # Очищаем предложения и удаляем пустые\n",
        "    cleaned_sentences = [sentence.strip() for sentence in sentences if sentence.strip()]\n",
        "\n",
        "    return cleaned_sentences\n",
        "\n",
        "# Проверка на русском тексте\n",
        "russian_text = \"Привет, мир! Как дела? Это пример текста. Он состоит из нескольких предложений.\"\n",
        "russian_sentences = simple_sentence_tokenize(russian_text)\n",
        "print(\"Русский текст:\", russian_text)\n",
        "print(\"Предложения русского текста:\")\n",
        "for i, sentence in enumerate(russian_sentences, 1):\n",
        "    print(f\"{i}. {sentence}\")\n",
        "\n",
        "# Проверка на английском тексте\n",
        "english_text = \"Hello, world! How are you? This is a sample text. It consists of several sentences.\"\n",
        "english_sentences = simple_sentence_tokenize(english_text)\n",
        "print(\"\\nАнглийский текст:\", english_text)\n",
        "print(\"Предложения английского текста:\")\n",
        "for i, sentence in enumerate(english_sentences, 1):\n",
        "    print(f\"{i}. {sentence}\")"
      ]
    },
    {
      "cell_type": "markdown",
      "metadata": {
        "id": "_a-rRcLp1NnW"
      },
      "source": [
        "3.4. Объединение токенов обратно в текст. Метод .join() позволяет объединить токены обратно в текст, указав разделитель."
      ]
    },
    {
      "cell_type": "code",
      "execution_count": null,
      "metadata": {
        "id": "jCOkR50y1PYv"
      },
      "outputs": [],
      "source": [
        "# Пример токенов\n",
        "tokens = [\"Компьютерная\", \"лингвистика\", \"изучает\", \"методы\", \"обработки\", \"текста\"]\n",
        "\n",
        "# Объединение токенов с пробелом\n",
        "text = ' '.join(tokens)\n",
        "print(\"Объединенный текст:\", text)\n",
        "\n",
        "# Объединение с другими разделителями\n",
        "comma_separated = ', '.join(tokens)\n",
        "print(\"Токены через запятую:\", comma_separated)\n",
        "\n",
        "# Объединение английских токенов\n",
        "english_tokens = [\"Natural\", \"language\", \"processing\", \"studies\", \"methods\", \"of\", \"text\", \"analysis\"]\n",
        "english_text = ' '.join(english_tokens)\n",
        "print(\"Объединенный английский текст:\", english_text)"
      ]
    },
    {
      "cell_type": "markdown",
      "metadata": {
        "id": "zTAF-Lj21evo"
      },
      "source": [
        "**4. Практические упражнения**"
      ]
    },
    {
      "cell_type": "markdown",
      "metadata": {
        "id": "2ffDLEVL1oiZ"
      },
      "source": [
        "Упражнение 1: Нормализация текста. Напишите функцию, которая будет нормализовать текст следующим образом:\n",
        "\n",
        "1. Привести к нижнему регистру\n",
        "2. Удалить все цифры\n",
        "3. Заменить все символы пунктуации на пробелы\n",
        "4. Удалить лишние пробелы\n",
        "\n"
      ]
    },
    {
      "cell_type": "code",
      "execution_count": null,
      "metadata": {
        "id": "rU4ZTUrd1jFX"
      },
      "outputs": [
        {
          "name": "stdout",
          "output_type": "stream",
          "text": [
            "пример текста с разными символами и цифрами\n"
          ]
        }
      ],
      "source": [
        "sample_text = \"Пример текста123, с РАЗНЫМИ символами! И 456 цифрами?!\"\n",
        "import string\n",
        "def normalize_text(text):\n",
        "    text = text.lower()\n",
        "    text = ''.join(char for char in text if not char.isdigit())\n",
        "    translator = str.maketrans(string.punctuation, ' ' * len(string.punctuation))\n",
        "    text = text.translate(translator)\n",
        "    text = ' '.join(text.split())\n",
        "    return text\n",
        "normalized_text = normalize_text(sample_text)\n",
        "print(normalized_text)"
      ]
    },
    {
      "cell_type": "markdown",
      "metadata": {
        "id": "waC9ZHWB2Kph"
      },
      "source": [
        "Упражнение 2: Подсчет частотности слов. Напишите функцию, которая будет принимать текст, нормализовать его, токенизировать и возвращать словарь с частотностью каждого слова."
      ]
    },
    {
      "cell_type": "code",
      "execution_count": null,
      "metadata": {
        "id": "HlWO9Bpn2SQo"
      },
      "outputs": [
        {
          "name": "stdout",
          "output_type": "stream",
          "text": [
            "Частотность слов в русском тексте:\n",
            "'компьютерная': 2\n",
            "'лингвистика': 2\n",
            "'изучает': 1\n",
            "'методы': 1\n",
            "'обработки': 1\n",
            "'текста': 1\n",
            "'является': 1\n",
            "'областью': 1\n",
            "'искусственного': 1\n",
            "'интеллекта': 1\n",
            "\n",
            "Частотность слов в английском тексте:\n",
            "'natural': 2\n",
            "'language': 2\n",
            "'processing': 2\n",
            "'is': 1\n",
            "'a': 1\n",
            "'field': 1\n",
            "'of': 1\n",
            "'artificial': 1\n",
            "'intelligence': 1\n",
            "'focuses': 1\n",
            "'on': 1\n",
            "'the': 1\n",
            "'interaction': 1\n",
            "'between': 1\n",
            "'computers': 1\n",
            "'and': 1\n",
            "'humans': 1\n"
          ]
        }
      ],
      "source": [
        "import string\n",
        "\n",
        "def normalize_text(text):\n",
        "    text = text.lower()\n",
        "    translator = str.maketrans('', '', string.punctuation)\n",
        "    text = text.translate(translator)\n",
        "    text = ' '.join(text.split())\n",
        "\n",
        "    return text\n",
        "\n",
        "def word_frequency(text):\n",
        "    normalized_text = normalize_text(text)\n",
        "    tokens = normalized_text.split()\n",
        "    \n",
        "    frequency = {}\n",
        "    for word in tokens:\n",
        "        if word in frequency:\n",
        "            frequency[word] += 1\n",
        "        else:\n",
        "            frequency[word] = 1\n",
        "    \n",
        "    return frequency\n",
        "\n",
        "sample_text = \"Компьютерная лингвистика изучает методы обработки текста. Компьютерная лингвистика является областью искусственного интеллекта.\"\n",
        "russian_freq = word_frequency(sample_text)\n",
        "print(\"Частотность слов в русском тексте:\")\n",
        "for word, count in russian_freq.items():\n",
        "    print(f\"'{word}': {count}\")\n",
        "\n",
        "english_text = \"Natural language processing is a field of artificial intelligence. Natural language processing focuses on the interaction between computers and humans.\"\n",
        "english_freq = word_frequency(english_text)\n",
        "print(\"\\nЧастотность слов в английском тексте:\")\n",
        "for word, count in english_freq.items():\n",
        "    print(f\"'{word}': {count}\")"
      ]
    },
    {
      "cell_type": "markdown",
      "metadata": {
        "id": "RPTWlfsD2ehu"
      },
      "source": [
        "Упражнение 3: Поиск самых длинных и коротких слов. Напишите функцию, которая находит самые длинные и самые короткие слова в тексте."
      ]
    },
    {
      "cell_type": "code",
      "execution_count": 2,
      "metadata": {
        "id": "hizov4xW2YhX"
      },
      "outputs": [
        {
          "name": "stdout",
          "output_type": "stream",
          "text": [
            "Русский текст:\n",
            "(17 букв): ['междисциплинарной']\n",
            "(1 букв): ['и', 'в', 'а']\n",
            "Английский текст:\n",
            "(17 букв): ['interdisciplinary']\n",
            "(2 букв): ['of', 'an', 'is', 'in']\n"
          ]
        }
      ],
      "source": [
        "sample_text = \"Компьютерная лингвистика является междисциплинарной областью науки, которая изучает математические и компьютерные модели естественного языка, а также его применение в системах искусственного интеллекта.\"\n",
        "english_text = \"Computational linguistics is an interdisciplinary field of science that studies mathematical and computational models of natural language and its application in artificial intelligence systems.\"\n",
        "import string\n",
        "\n",
        "def find_words(text):\n",
        "    text = text.lower()\n",
        "    text = ''.join(char for char in text if not char.isdigit())\n",
        "    translator = str.maketrans(string.punctuation, ' ' * len(string.punctuation))\n",
        "    text = text.translate(translator)\n",
        "    words = text.split()\n",
        "    if not words:\n",
        "        return [], []\n",
        "    max_length = max(len(word) for word in words)\n",
        "    min_length = min(len(word) for word in words)\n",
        "    longest_words = [word for word in words if len(word) == max_length]\n",
        "    shortest_words = [word for word in words if len(word) == min_length]\n",
        "    longest_words = list(set(longest_words))\n",
        "    shortest_words = list(set(shortest_words))\n",
        "    \n",
        "    return longest_words, shortest_words\n",
        "\n",
        "longest_ru, shortest_ru = find_words(sample_text)\n",
        "print(\"Русский текст:\")\n",
        "print(f\"({len(longest_ru[0])} букв): {longest_ru}\")\n",
        "print(f\"({len(shortest_ru[0])} букв): {shortest_ru}\")\n",
        "longest_en, shortest_en = find_words(english_text)\n",
        "print(\"Английский текст:\")\n",
        "print(f\"({len(longest_en[0])} букв): {longest_en}\")\n",
        "print(f\"({len(shortest_en[0])} букв): {shortest_en}\")"
      ]
    },
    {
      "cell_type": "markdown",
      "metadata": {
        "id": "wtQ6vmk922D6"
      },
      "source": [
        "Упражнение 4: Поиск и подсчет определенных паттернов. Напишите функцию, которая находит и подсчитывает слова, начинающиеся с определенной буквы или содержащие определенную последовательность букв."
      ]
    },
    {
      "cell_type": "code",
      "execution_count": null,
      "metadata": {
        "id": "Pv0AYXVp23vc"
      },
      "outputs": [
        {
          "name": "stdout",
          "output_type": "stream",
          "text": [
            "Слова, начинающиеся с 'к':\n",
            "'компьютерная': 1\n",
            "'компьютерные': 1\n"
          ]
        }
      ],
      "source": [
        "sample_text = \"Компьютерная лингвистика изучает методы обработки текста. Математические модели и компьютерные алгоритмы используются для анализа естественных языков.\"\n",
        "\n",
        "# Поиск слов, начинающихся с 'к'\n",
        "def find(text, pattern, search_type='starts_with'):\n",
        "    import string\n",
        "    text = text.lower()\n",
        "    translator = str.maketrans('', '', string.punctuation)\n",
        "    text = text.translate(translator)\n",
        "    text = ' '.join(text.split())\n",
        "\n",
        "    tokens = text.split()\n",
        " \n",
        "    words = []\n",
        "    \n",
        "    for token in tokens:\n",
        "        if search_type == 'starts_with' and token.startswith(pattern.lower()):\n",
        "            words.append(token)\n",
        "\n",
        "    frequency = {}\n",
        "    for word in words:\n",
        "        if word in frequency:\n",
        "            frequency[word] += 1\n",
        "        else:\n",
        "            frequency[word] = 1\n",
        "    \n",
        "    return frequency\n",
        "\n",
        "words_starting_with_k = find(sample_text, 'к', 'starts_with')\n",
        "print(\"Слова, начинающиеся с 'к':\")\n",
        "for word, count in words_starting_with_k.items():\n",
        "    print(f\"'{word}': {count}\")\n"
      ]
    },
    {
      "cell_type": "code",
      "execution_count": 13,
      "metadata": {
        "id": "1i4Yjoum26nz"
      },
      "outputs": [
        {
          "name": "stdout",
          "output_type": "stream",
          "text": [
            "Слова, содержащие 'ing':\n",
            "'linguistics': 1\n",
            "'processing': 1\n"
          ]
        }
      ],
      "source": [
        "english_text = \"Computational linguistics studies methods of text processing. Mathematical models and computer algorithms are used to analyze natural languages.\"\n",
        "\n",
        "# Поиск слов, содержащих 'ing'\n",
        "def find(text, pattern, search_type='starts_with'):\n",
        "    import string\n",
        "\n",
        "    text = text.lower()\n",
        "    translator = str.maketrans('', '', string.punctuation)\n",
        "    text = text.translate(translator)\n",
        "    text = ' '.join(text.split())\n",
        "\n",
        "    tokens = text.split()\n",
        "\n",
        "    words = []\n",
        "    \n",
        "    for token in tokens:\n",
        "        if search_type == 'contains' and pattern.lower() in token:\n",
        "            words.append(token)\n",
        "\n",
        "    frequency = {}\n",
        "    for word in words:\n",
        "        if word in frequency:\n",
        "            frequency[word] += 1\n",
        "        else:\n",
        "            frequency[word] = 1\n",
        "    \n",
        "    return frequency\n",
        "\n",
        "words_containing_ing = find(english_text, 'ing', 'contains')\n",
        "print(\"Слова, содержащие 'ing':\")\n",
        "for word, count in words_containing_ing.items():\n",
        "    print(f\"'{word}': {count}\")"
      ]
    },
    {
      "cell_type": "markdown",
      "metadata": {
        "id": "anDhdjLG3M1A"
      },
      "source": [
        "Упражнение 5: Анализ предложений в тексте. Напишите функцию, которая анализирует текст на уровне предложений, подсчитывая:\n",
        "\n",
        "1. Количество предложений\n",
        "2. Среднюю длину предложения (в словах)\n",
        "3. Самое длинное и самое короткое предложение\n"
      ]
    },
    {
      "cell_type": "code",
      "execution_count": null,
      "metadata": {
        "id": "QQd2ZgIj3YlJ"
      },
      "outputs": [
        {
          "name": "stdout",
          "output_type": "stream",
          "text": [
            "Результаты анализа предложений:\n",
            "Количество предложений: 4\n",
            "Средняя длина предложения (в словах): 9.8\n",
            "Самое длинное предложение: \"Методы компьютерной лингвистики применяются для решения различных задач, таких как машинный перевод, автоматическое реферирование и информационный поиск.\"\n",
            "Самое короткое предложение:\"Компьютерная лингвистика — это междисциплинарная область науки.\"\n"
          ]
        }
      ],
      "source": [
        "sample_text = \"\"\"Компьютерная лингвистика — это междисциплинарная область науки.\n",
        "Она изучает математические и компьютерные модели естественного языка.\n",
        "Методы компьютерной лингвистики применяются для решения различных задач, таких как машинный перевод, автоматическое реферирование и информационный поиск.\n",
        "Современные алгоритмы позволяют анализировать большие объемы текстов.\"\"\"\n",
        "\n",
        "def simple_sentence_tokens(text):\n",
        "\n",
        "    for end_mark in ['.', '!', '?']:\n",
        "        text = text.replace(end_mark, f'{end_mark}SENTENCE_END')\n",
        "\n",
        "    sentences = text.split('SENTENCE_END')\n",
        "\n",
        "    clear_sentences = [sentence.strip() for sentence in sentences if sentence.strip()]\n",
        "\n",
        "    return clear_sentences\n",
        "\n",
        "def analyse(text):\n",
        "\n",
        "    sentences = simple_sentence_tokens(text)\n",
        "\n",
        "    num_sentences = len(sentences)\n",
        "\n",
        "    sentence_lengths = []\n",
        "    for sentence in sentences:\n",
        "        words = sentence.split()\n",
        "        sentence_lengths.append(len(words))\n",
        "\n",
        "    avg_length = sum(sentence_lengths) / num_sentences if num_sentences > 0 else 0\n",
        "\n",
        "    if sentence_lengths:\n",
        "        longest_index = sentence_lengths.index(max(sentence_lengths))\n",
        "        shortest_index = sentence_lengths.index(min(sentence_lengths))\n",
        "        longest_sentence = sentences[longest_index]\n",
        "        shortest_sentence = sentences[shortest_index]\n",
        "    else:\n",
        "        longest_sentence = \"\"\n",
        "        shortest_sentence = \"\"\n",
        "    \n",
        "    return {\n",
        "        'num_sentences': num_sentences,\n",
        "        'avg_length': avg_length,\n",
        "        'longest_sentence': longest_sentence,\n",
        "        'shortest_sentence': shortest_sentence,\n",
        "        'sentence_lengths': sentence_lengths\n",
        "    }\n",
        "\n",
        "result = analyse(sample_text)\n",
        "print(\"Результаты анализа предложений:\")\n",
        "print(f\"Количество предложений: {result['num_sentences']}\")\n",
        "print(f\"Средняя длина предложения (в словах): {result['avg_length']:.1f}\")\n",
        "print(f\"Самое длинное предложение: \\\"{result['longest_sentence']}\\\"\")\n",
        "print(f\"Самое короткое предложение:\\\"{result['shortest_sentence']}\\\"\")\n"
      ]
    },
    {
      "cell_type": "code",
      "execution_count": null,
      "metadata": {
        "id": "N7pW-9_c3rmI"
      },
      "outputs": [
        {
          "name": "stdout",
          "output_type": "stream",
          "text": [
            "\n",
            "Результаты анализа предложений на английском:\n",
            "Количество предложений: 4\n",
            "Средняя длина предложения (в словах): 11.0\n",
            "Самое длинное предложение: \"Methods of computational linguistics are applied to solve various tasks such as machine translation, automatic summarization, and information retrieval.\"\n",
            "Самое короткое предложение: \"Computational linguistics is an interdisciplinary field of science.\"\n"
          ]
        }
      ],
      "source": [
        "english_text = \"\"\"Computational linguistics is an interdisciplinary field of science.\n",
        "It studies mathematical and computational models of natural language.\n",
        "Methods of computational linguistics are applied to solve various tasks such as machine translation, automatic summarization, and information retrieval.\n",
        "Modern algorithms allow analyzing large volumes of texts.\"\"\"\n",
        "\n",
        "# ваш код\n",
        "def simple_sentence_tokens(text):\n",
        "\n",
        "    for end_mark in ['.', '!', '?']:\n",
        "        text = text.replace(end_mark, f'{end_mark}SENTENCE_END')\n",
        "\n",
        "    sentences = text.split('SENTENCE_END')\n",
        "\n",
        "    clear_sentences = [sentence.strip() for sentence in sentences if sentence.strip()]\n",
        "\n",
        "    return clear_sentences\n",
        "\n",
        "def analyse(text):\n",
        " \n",
        "    sentences = simple_sentence_tokens(text)\n",
        "\n",
        "    num_sentences = len(sentences)\n",
        "\n",
        "    sentence_lengths = []\n",
        "    for sentence in sentences:\n",
        "        words = sentence.split()\n",
        "        sentence_lengths.append(len(words))\n",
        "\n",
        "    avg_length = sum(sentence_lengths) / num_sentences if num_sentences > 0 else 0\n",
        "\n",
        "    if sentence_lengths:\n",
        "        longest_index = sentence_lengths.index(max(sentence_lengths))\n",
        "        shortest_index = sentence_lengths.index(min(sentence_lengths))\n",
        "        longest_sentence = sentences[longest_index]\n",
        "        shortest_sentence = sentences[shortest_index]\n",
        "    else:\n",
        "        longest_sentence = \"\"\n",
        "        shortest_sentence = \"\"\n",
        "    \n",
        "    return {\n",
        "        'num_sentences': num_sentences,\n",
        "        'avg_length': avg_length,\n",
        "        'longest_sentence': longest_sentence,\n",
        "        'shortest_sentence': shortest_sentence\n",
        "    }\n",
        "\n",
        "result = analyse(english_text)\n",
        "print(\"\\nРезультаты анализа предложений на английском:\")\n",
        "print(f\"Количество предложений: {result['num_sentences']}\")\n",
        "print(f\"Средняя длина предложения (в словах): {result['avg_length']:.1f}\")\n",
        "print(f\"Самое длинное предложение: \\\"{result['longest_sentence']}\\\"\")\n",
        "print(f\"Самое короткое предложение: \\\"{result['shortest_sentence']}\\\"\")"
      ]
    },
    {
      "cell_type": "markdown",
      "metadata": {
        "id": "ZE7TEjrM37te"
      },
      "source": [
        "**5. Домашнее задание**"
      ]
    },
    {
      "cell_type": "markdown",
      "metadata": {
        "id": "qJtWAqaL3-od"
      },
      "source": [
        "Напишите функцию для нормализации текста, которая:\n",
        "\n",
        "1. Приводит текст к нижнему регистру\n",
        "2. Удаляет все знаки пунктуации\n",
        "3. Заменяет все цифры на символ '#'\n",
        "4. Удаляет лишние пробелы\n",
        "\n",
        "Напишите функцию, которая находит и выводит все слова из текста, содержащие гласные в определенной последовательности (например, 'о' и затем 'а').\n",
        "\n",
        "Создайте функцию, которая:\n",
        "\n",
        "1.   Токенизирует текст\n",
        "2.   Отбирает только слова длиной более 4 символов\n",
        "3. Сортирует их по алфавиту\n",
        "4. Возвращает первые 10 слов\n",
        "\n",
        "Напишите функцию для анализа частотности символов в тексте, которая возвращает 5 самых часто встречающихся символов и их количество.\n",
        "\n",
        "Напишите программу, которая разделяет текст на параграфы (по двойному переносу строки), а затем подсчитывает для каждого параграфа: количество предложений, количество слов, среднюю длину слова"
      ]
    },
    {
      "cell_type": "code",
      "execution_count": null,
      "metadata": {},
      "outputs": [
        {
          "name": "stdout",
          "output_type": "stream",
          "text": [
            "1. Нормализованный текст:\n",
            "первый параграф с цифрами 123 и разными символами это предложение номер два второй параграф начинается здесь в нем ненамного больше текста для анализа и еще одно предложение для примера\n",
            "\n",
            "2. Слова с последовательностью 'о' и 'а':\n",
            "['символами']\n",
            "\n",
            "3. Длинные слова (первые 10):\n",
            "['анализа', 'больше', 'второй', 'здесь', 'начинается', 'ненамного', 'номер', 'параграф', 'параграф', 'первый']\n",
            "\n",
            "4. Топ-5 символов по частотности:\n",
            "[('а', 18), ('е', 17), ('р', 13), ('и', 12), ('н', 12)]\n",
            "\n",
            "5. Анализ параграфов:\n",
            "Параграф 1:\n",
            "  Предложений: 2\n",
            "  Слов: 12\n",
            "  Средняя длина слова: 5.33\n",
            "Параграф 2:\n",
            "  Предложений: 3\n",
            "  Слов: 17\n",
            "  Средняя длина слова: 5.47\n"
          ]
        }
      ],
      "source": [
        "import string\n",
        "def normalise_text(text):\n",
        "\n",
        "    text = text.lower()\n",
        "\n",
        "    translator = str.maketrans('', '', string.punctuation)\n",
        "    text = text.translate(translator)\n",
        "\n",
        "    for digit in '0123456789':\n",
        "        text = text.replace(digit, '#')\n",
        "\n",
        "    text = ' '.join(text.split())\n",
        "    \n",
        "    return text\n",
        "\n",
        "def find_words(text, vowel1, vowel2):\n",
        "\n",
        "    normalized_text = normalise_text(text)\n",
        " \n",
        "    tokens = normalized_text.split()\n",
        "\n",
        "    right_words = []\n",
        "    for token in tokens:\n",
        "        if vowel1 in token and vowel2 in token:\n",
        "            if token.index(vowel1) < token.index(vowel2):\n",
        "                right_words.append(token)\n",
        "    \n",
        "    return right_words\n",
        "\n",
        "def get_long_words_sorted(text):\n",
        "\n",
        "    normalized_text = normalize_text(text)\n",
        "\n",
        "    tokens = normalized_text.split()\n",
        "\n",
        "    long_words = [word for word in tokens if len(word) > 4]\n",
        "\n",
        "    long_words.sort()\n",
        "\n",
        "    return long_words[:10]\n",
        "\n",
        "def analyze_character_frequency(text):\n",
        "\n",
        "    text = text.lower()\n",
        "    translator = str.maketrans('', '', string.punctuation)\n",
        "    text = text.translate(translator)\n",
        "    text = ' '.join(text.split())\n",
        "\n",
        "    char_frequency = {}\n",
        "    for char in text:\n",
        "        if char != ' ':\n",
        "            if char in char_frequency:\n",
        "                char_frequency[char] += 1\n",
        "            else:\n",
        "                char_frequency[char] = 1\n",
        "\n",
        "    sorted_chars = sorted(char_frequency.items(), key=lambda x: x[1], reverse=True)\n",
        "\n",
        "    return sorted_chars[:5]\n",
        "\n",
        "def analyse_paragraphs(text):\n",
        "\n",
        "    def simple_sentence_tokenise(paragraph):\n",
        "        \"\"\"Вспомогательная функция для токенизации предложений\"\"\"\n",
        "        for end_mark in ['.', '!', '?']:\n",
        "            paragraph = paragraph.replace(end_mark, f'{end_mark}SENTENCE_END')\n",
        "        sentences = paragraph.split('SENTENCE_END')\n",
        "        cleaned_sentences = [sentence.strip() for sentence in sentences if sentence.strip()]\n",
        "        return cleaned_sentences\n",
        "\n",
        "    paragraphs = text.split('\\n\\n')\n",
        "    \n",
        "    results = []\n",
        "    \n",
        "    for i, paragraph in enumerate(paragraphs):\n",
        "        if paragraph.strip():\n",
        "            sentences = simple_sentence_tokenise(paragraph)\n",
        "            num_sentences = len(sentences)\n",
        "\n",
        "            normalized_para = normalize_text(paragraph)\n",
        "            words = normalized_para.split()\n",
        "            num_words = len(words)\n",
        "\n",
        "            if num_words > 0:\n",
        "                total_chars = sum(len(word) for word in words)\n",
        "                avg_word_length = total_chars / num_words\n",
        "            else:\n",
        "                avg_word_length = 0\n",
        "            \n",
        "            results.append({\n",
        "                'paragraph_number': i + 1,\n",
        "                'num_sentences': num_sentences,\n",
        "                'num_words': num_words,\n",
        "                'avg_word_length': avg_word_length\n",
        "            })\n",
        "    \n",
        "    return results\n",
        "\n",
        "# Пример использования функций\n",
        "sample_text = \"\"\"Первый параграф с цифрами 123 и разными символами!\n",
        "Это предложение номер два.\n",
        "\n",
        "Второй параграф начинается здесь. В нем ненамного больше текста для анализа.\n",
        "И еще одно предложение для примера.\"\"\"\n",
        "\n",
        "print(\"1. Нормализованный текст:\")\n",
        "print(normalize_text(sample_text))\n",
        "print()\n",
        "\n",
        "print(\"2. Слова с последовательностью 'о' и 'а':\")\n",
        "print(find_words(sample_text, 'о', 'а'))\n",
        "print()\n",
        "\n",
        "print(\"3. Длинные слова (первые 10):\")\n",
        "print(get_long_words_sorted(sample_text))\n",
        "print()\n",
        "\n",
        "print(\"4. Топ-5 символов по частотности:\")\n",
        "print(analyze_character_frequency(sample_text))\n",
        "print()\n",
        "\n",
        "print(\"5. Анализ параграфов:\")\n",
        "paragraph_analysis = analyse_paragraphs(sample_text)\n",
        "for analysis in paragraph_analysis:\n",
        "    print(f\"Параграф {analysis['paragraph_number']}:\")\n",
        "    print(f\"  Предложений: {analysis['num_sentences']}\")\n",
        "    print(f\"  Слов: {analysis['num_words']}\")\n",
        "    print(f\"  Средняя длина слова: {analysis['avg_word_length']:.2f}\")"
      ]
    }
  ],
  "metadata": {
    "colab": {
      "provenance": []
    },
    "kernelspec": {
      "display_name": "base",
      "language": "python",
      "name": "python3"
    },
    "language_info": {
      "codemirror_mode": {
        "name": "ipython",
        "version": 3
      },
      "file_extension": ".py",
      "mimetype": "text/x-python",
      "name": "python",
      "nbconvert_exporter": "python",
      "pygments_lexer": "ipython3",
      "version": "3.12.3"
    }
  },
  "nbformat": 4,
  "nbformat_minor": 0
}
