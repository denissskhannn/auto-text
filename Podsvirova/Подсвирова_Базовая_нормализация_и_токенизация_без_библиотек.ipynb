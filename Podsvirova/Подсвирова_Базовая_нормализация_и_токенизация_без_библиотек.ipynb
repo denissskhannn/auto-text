{
  "nbformat": 4,
  "nbformat_minor": 0,
  "metadata": {
    "colab": {
      "provenance": []
    },
    "kernelspec": {
      "name": "python3",
      "display_name": "Python 3"
    },
    "language_info": {
      "name": "python"
    }
  },
  "cells": [
    {
      "cell_type": "markdown",
      "source": [
        "В этом ноутбуке вы узнаете:\n",
        "\n",
        "1.   Как использовать встроенные методы Python для работы со строками\n",
        "2.   Как выполнять базовую нормализацию текста\n",
        "3. Как токенизировать текст с помощью простых методов\n",
        "4. Как применять эти навыки на практике\n"
      ],
      "metadata": {
        "id": "xaCyWYJ6uGfk"
      }
    },
    {
      "cell_type": "markdown",
      "source": [
        "**1. Основные понятия и функции**"
      ],
      "metadata": {
        "id": "T4-yFhGcy934"
      }
    },
    {
      "cell_type": "markdown",
      "source": [
        "В Python текст представлен в виде строк (тип данных str). Строки можно создавать, используя одинарные или двойные кавычки."
      ],
      "metadata": {
        "id": "mMYBk9PluRfs"
      }
    },
    {
      "cell_type": "code",
      "source": [
        "# Создание строк\n",
        "text1 = 'Это текст в \"одинарных\" кавычках'\n",
        "text2 = \"Это текст в 'двойных' кавычках\"\n",
        "text3 = '''Это текст в \"тройных\" кавычках'''\n",
        "text4 = '''Это\n",
        "текст\n",
        "в 'тройных'\n",
        "кавычках'''\n",
        "\n",
        "# Вывод строк\n",
        "print(text1)\n",
        "print(text2)\n",
        "print(text3)\n",
        "print(text4)"
      ],
      "metadata": {
        "id": "tXalOImZuMdk"
      },
      "execution_count": null,
      "outputs": []
    },
    {
      "cell_type": "markdown",
      "source": [
        "1.1. Индексация и срезы строк.\n",
        "Строки в Python — это последовательности символов, к которым можно обращаться по индексу. Индексация начинается с 0."
      ],
      "metadata": {
        "id": "4dVUdNKvuYvU"
      }
    },
    {
      "cell_type": "code",
      "source": [
        "# Строка для примеров\n",
        "sample_text = \"Компьютерная лингвистика\"\n",
        "\n",
        "# Получение отдельного символа\n",
        "print(\"Первый символ:\", sample_text[0])\n",
        "print(\"Пятый символ:\", sample_text[4])\n",
        "\n",
        "# Срезы строк\n",
        "print(\"Первые 12 символов:\", sample_text[:12])  # от начала до 12-го символа (не включая)\n",
        "print(\"С 13-го символа до конца:\", sample_text[13:])  # с 13-го символа до конца\n",
        "print(\"С 5-го по 10-й символ:\", sample_text[5:11])  # с 5-го по 10-й символ (11-й не включается)"
      ],
      "metadata": {
        "id": "8RlZDm97uVrC"
      },
      "execution_count": null,
      "outputs": []
    },
    {
      "cell_type": "markdown",
      "source": [
        "1.2. Основные методы строк\n",
        "Python предоставляет множество встроенных методов для работы со строками. Рассмотрим наиболее полезные для обработки текста:"
      ],
      "metadata": {
        "id": "-oi1N22TvbQx"
      }
    },
    {
      "cell_type": "code",
      "source": [
        "# Строка для примеров\n",
        "text = \"   Пример текста для анализа.   \"\n",
        "\n",
        "# Удаление пробелов в начале и конце строки\n",
        "print(\"После strip():\", text.strip())\n",
        "\n",
        "# Перевод в нижний регистр\n",
        "print(\"После lower():\", text.lower())\n",
        "\n",
        "# Перевод в верхний регистр\n",
        "print(\"После upper():\", text.upper())\n",
        "\n",
        "# Проверка, начинается ли строка с определенной подстроки\n",
        "print(\"Начинается с 'Пример'?\", text.strip().startswith(\"Пример\"))\n",
        "\n",
        "# Проверка, заканчивается ли строка определенной подстрокой\n",
        "print(\"Заканчивается на '.'?\", text.strip().endswith(\".\"))\n",
        "\n",
        "# Замена подстроки\n",
        "print(\"После replace():\", text.replace(\"анализа\", \"обработки\"))\n",
        "\n",
        "# Подсчет вхождений подстроки\n",
        "print(\"Количество пробелов:\", text.count(\" \"))"
      ],
      "metadata": {
        "id": "vkcKQqqgvcpk"
      },
      "execution_count": null,
      "outputs": []
    },
    {
      "cell_type": "markdown",
      "source": [
        "1.3. Конкатенация строк и форматирование.\n",
        "Существует несколько способов объединения строк в Python:"
      ],
      "metadata": {
        "id": "-oEf7vLCvvzL"
      }
    },
    {
      "cell_type": "code",
      "source": [
        "# Простая конкатенация с помощью оператора +\n",
        "first_name = \"Иван\"\n",
        "last_name = \"Петров\"\n",
        "full_name = first_name + \" \" + last_name\n",
        "print(\"Полное имя:\", full_name)\n",
        "\n",
        "# Форматирование строк с помощью метода format()\n",
        "age = 25\n",
        "message = \"Меня зовут {}, мне {} лет.\".format(full_name, age)\n",
        "print(message)\n",
        "\n",
        "# f-строки (начиная с Python 3.6)\n",
        "message_f = f\"Меня зовут {full_name}, мне {age} лет.\"\n",
        "print(message_f)\n",
        "\n",
        "# Использование %\n",
        "message_old = \"Меня зовут %s, мне %d лет.\" % (full_name, age)\n",
        "print(message_old)"
      ],
      "metadata": {
        "id": "CS50TkzKvwfk"
      },
      "execution_count": null,
      "outputs": []
    },
    {
      "cell_type": "markdown",
      "source": [
        "**2. Базовая нормализация текста**"
      ],
      "metadata": {
        "id": "e0K6mt6Vv6gV"
      }
    },
    {
      "cell_type": "markdown",
      "source": [
        "Нормализация текста — это процесс преобразования текста к стандартному виду для облегчения его дальнейшей обработки. Рассмотрим базовые операции нормализации."
      ],
      "metadata": {
        "id": "hL2BXNo8wEVY"
      }
    },
    {
      "cell_type": "markdown",
      "source": [
        "2.1. Приведение к нижнему регистру помогает унифицировать текст. Обычно используется нижний регистр."
      ],
      "metadata": {
        "id": "J5Gk1AnRwHK0"
      }
    },
    {
      "cell_type": "code",
      "source": [
        "# Пример текста с разным регистром\n",
        "mixed_case_text = \"КомпьЮтерная ЛИНГвистика изучает Методы Автоматической Обработки Текста.\"\n",
        "\n",
        "# Приведение к нижнему регистру\n",
        "normalized_text = mixed_case_text.lower()\n",
        "print(\"Исходный текст:\", mixed_case_text)\n",
        "print(\"Нормализованный текст:\", normalized_text)\n",
        "\n",
        "# Пример на английском\n",
        "english_text = \"Natural Language Processing (NLP) is a FIELD of AI.\"\n",
        "print(\"Английский текст после нормализации:\", english_text.lower())"
      ],
      "metadata": {
        "id": "vNNMpCqOv2Dz"
      },
      "execution_count": null,
      "outputs": []
    },
    {
      "cell_type": "markdown",
      "source": [
        "2.2. Удаление лишних пробелов. Часто тексты содержат лишние пробелы, которые нужно удалить.\n",
        "\n",
        "\n"
      ],
      "metadata": {
        "id": "Vlwzl4-bw7u9"
      }
    },
    {
      "cell_type": "code",
      "source": [
        "# Текст с лишними пробелами\n",
        "text_with_spaces = \"   В  этом   тексте  есть  лишние    пробелы.   \"\n",
        "\n",
        "# Удаление пробелов в начале и конце\n",
        "trimmed_text = text_with_spaces.strip()\n",
        "print(\"После strip():\", trimmed_text)\n",
        "\n",
        "words = trimmed_text.split()  # Разбиваем текст на слова\n",
        "normalized_manually = ' '.join(words)  # Объединяем слова с одним пробелом\n",
        "print(\"Нормализация:\", normalized_manually)\n",
        "\n",
        "# Пример на английском\n",
        "english_spaces = \"  This   text   has   extra   spaces. \"\n",
        "english_normalized = ' '.join(english_spaces.strip().split())\n",
        "print(\"Английский текст после нормализации пробелов:\", english_normalized)"
      ],
      "metadata": {
        "id": "AioDUYPrw-Hl"
      },
      "execution_count": null,
      "outputs": []
    },
    {
      "cell_type": "markdown",
      "source": [
        "2.3. Удаление пунктуации. Для многих задач обработки текста необходимо удалить знаки пунктуации."
      ],
      "metadata": {
        "id": "M7bFiY8syfRf"
      }
    },
    {
      "cell_type": "code",
      "source": [
        "# Текст с пунктуацией\n",
        "text_with_punctuation = \"Привет, мир! Как дела? Это - пример текста; с разными знаками пунктуации.\"\n",
        "\n",
        "# Определение знаков пунктуации для удаления\n",
        "import string\n",
        "punctuation = string.punctuation  # !\"#$%&'()*+,-./:;<=>?@[\\]^_`{|}~\n",
        "print(\"Знаки пунктуации:\", punctuation)\n",
        "\n",
        "# Удаление пунктуации (метод 1)\n",
        "no_punctuation = ''.join(char for char in text_with_punctuation if char not in punctuation)\n",
        "print(\"Текст без пунктуации (метод 1):\", no_punctuation)\n",
        "\n",
        "# Удаление пунктуации (метод 2)\n",
        "translator = str.maketrans('', '', punctuation)\n",
        "no_punctuation2 = text_with_punctuation.translate(translator)\n",
        "print(\"Текст без пунктуации (метод 2):\", no_punctuation2)\n",
        "\n",
        "# Пример на английском\n",
        "english_punctuation = \"Hello, world! How are you? This is a sample text; with various punctuation marks.\"\n",
        "english_no_punctuation = english_punctuation.translate(translator)\n",
        "print(\"Английский текст без пунктуации:\", english_no_punctuation)"
      ],
      "metadata": {
        "id": "g7M5Bna1yjB1"
      },
      "execution_count": null,
      "outputs": []
    },
    {
      "cell_type": "markdown",
      "source": [
        "2.4. Комплексная нормализация текста. Объединим все изученные методы для комплексной нормализации текста."
      ],
      "metadata": {
        "id": "cCzDj3GayrSf"
      }
    },
    {
      "cell_type": "code",
      "source": [
        "def normalize_text(text):\n",
        "    \"\"\"\n",
        "    Функция для комплексной нормализации текста:\n",
        "    1. Приведение к нижнему регистру\n",
        "    2. Удаление лишних пробелов\n",
        "    3. Удаление пунктуации\n",
        "    \"\"\"\n",
        "    # Шаг 1: Приведение к нижнему регистру\n",
        "    text = text.lower()\n",
        "\n",
        "    # Шаг 2: Удаление пунктуации\n",
        "    translator = str.maketrans('', '', string.punctuation)\n",
        "    text = text.translate(translator)\n",
        "\n",
        "    # Шаг 3: Удаление лишних пробелов\n",
        "    text = ' '.join(text.split())\n",
        "\n",
        "    return text\n",
        "\n",
        "# Проверка функции на русском тексте\n",
        "russian_text = \"   Компьютерная    ЛИНГВИСТИКА - это ОБЛАСТЬ науки, изучающая   методы автоматической    обработки текста!   \"\n",
        "normalized_russian = normalize_text(russian_text)\n",
        "print(\"Исходный русский текст:\", russian_text)\n",
        "print(\"Нормализованный русский текст:\", normalized_russian)\n",
        "\n",
        "# Проверка функции на английском тексте\n",
        "english_text = \"   Natural    LANGUAGE Processing (NLP) - is a FIELD of AI, focusing   on text analysis!   \"\n",
        "normalized_english = normalize_text(english_text)\n",
        "print(\"Исходный английский текст:\", english_text)\n",
        "print(\"Нормализованный английский текст:\", normalized_english)"
      ],
      "metadata": {
        "id": "-EQfaUxNyuOm"
      },
      "execution_count": null,
      "outputs": []
    },
    {
      "cell_type": "markdown",
      "source": [
        "**3. Простая токенизация текста**"
      ],
      "metadata": {
        "id": "H2IvHG_yy1uJ"
      }
    },
    {
      "cell_type": "markdown",
      "source": [
        "Токенизация — это процесс разделения текста на отдельные токены (обычно слова или предложения). Рассмотрим простые методы токенизации с использованием встроенных возможностей Python."
      ],
      "metadata": {
        "id": "ISndfr9tzMRC"
      }
    },
    {
      "cell_type": "markdown",
      "source": [
        "3.1. Токенизация по пробелам. Самый простой способ токенизации — разделение текста по пробелам с помощью метода .split()."
      ],
      "metadata": {
        "id": "sjvNUNImzP5i"
      }
    },
    {
      "cell_type": "code",
      "source": [
        "# Пример текста\n",
        "text = \"Компьютерная лингвистика изучает методы обработки текста\"\n",
        "\n",
        "# Токенизация по пробелам\n",
        "tokens = text.split()\n",
        "print(\"Токены:\", tokens)\n",
        "print(\"Количество токенов:\", len(tokens))\n",
        "\n",
        "# Токенизация английского текста\n",
        "english_text = \"Natural language processing studies methods of text analysis\"\n",
        "english_tokens = english_text.split()\n",
        "print(\"Английские токены:\", english_tokens)\n",
        "print(\"Количество английских токенов:\", len(english_tokens))"
      ],
      "metadata": {
        "id": "pRMRYdZfzTk2"
      },
      "execution_count": null,
      "outputs": []
    },
    {
      "cell_type": "markdown",
      "source": [
        "3.2. Токенизация с учетом пунктуации. Токенизация по пробелам не учитывает пунктуацию. Для более точной токенизации можно сначала отделить пунктуацию от слов."
      ],
      "metadata": {
        "id": "Ey-4jl42zahC"
      }
    },
    {
      "cell_type": "code",
      "source": [
        "def simple_tokenize(text):\n",
        "    \"\"\"\n",
        "    Простая токенизация с учетом пунктуации:\n",
        "    1. Добавляем пробелы вокруг знаков пунктуации\n",
        "    2. Разделяем по пробелам\n",
        "    3. Удаляем пустые токены\n",
        "    \"\"\"\n",
        "    # Добавляем пробелы вокруг знаков пунктуации\n",
        "    for punct in string.punctuation:\n",
        "        text = text.replace(punct, f' {punct} ')\n",
        "\n",
        "    # Разделяем по пробелам и удаляем пустые токены\n",
        "    tokens = [token for token in text.split() if token]\n",
        "\n",
        "    return tokens\n",
        "\n",
        "# Проверка на русском тексте\n",
        "russian_text = \"Привет, мир! Как дела? Это - пример текста; с разными знаками пунктуации.\"\n",
        "russian_tokens = simple_tokenize(russian_text)\n",
        "print(\"Русский текст:\", russian_text)\n",
        "print(\"Токены русского текста:\", russian_tokens)\n",
        "print(\"Количество токенов:\", len(russian_tokens))\n",
        "\n",
        "# Проверка на английском тексте\n",
        "english_text = \"Hello, world! How are you? This is a sample text; with various punctuation marks.\"\n",
        "english_tokens = simple_tokenize(english_text)\n",
        "print(\"Английский текст:\", english_text)\n",
        "print(\"Токены английского текста:\", english_tokens)\n",
        "print(\"Количество токенов:\", len(english_tokens))"
      ],
      "metadata": {
        "id": "8rYkdzlnzdkp"
      },
      "execution_count": null,
      "outputs": []
    },
    {
      "cell_type": "markdown",
      "source": [
        "3.3. Токенизация предложений. Простой способ — разделение по знакам конца предложения."
      ],
      "metadata": {
        "id": "qfbRKk1S0wq_"
      }
    },
    {
      "cell_type": "code",
      "source": [
        "def simple_sentence_tokenize(text):\n",
        "    \"\"\"\n",
        "    Простая токенизация на предложения:\n",
        "    1. Заменяем знаки конца предложения на специальный маркер\n",
        "    2. Разделяем текст по маркеру\n",
        "    3. Очищаем полученные предложения\n",
        "    \"\"\"\n",
        "    # Заменяем знаки конца предложения\n",
        "    for end_mark in ['.', '!', '?']:\n",
        "        text = text.replace(end_mark, f'{end_mark}SENTENCE_END')\n",
        "\n",
        "    # Разделяем по маркеру\n",
        "    sentences = text.split('SENTENCE_END')\n",
        "\n",
        "    # Очищаем предложения и удаляем пустые\n",
        "    cleaned_sentences = [sentence.strip() for sentence in sentences if sentence.strip()]\n",
        "\n",
        "    return cleaned_sentences\n",
        "\n",
        "# Проверка на русском тексте\n",
        "russian_text = \"Привет, мир! Как дела? Это пример текста. Он состоит из нескольких предложений.\"\n",
        "russian_sentences = simple_sentence_tokenize(russian_text)\n",
        "print(\"Русский текст:\", russian_text)\n",
        "print(\"Предложения русского текста:\")\n",
        "for i, sentence in enumerate(russian_sentences, 1):\n",
        "    print(f\"{i}. {sentence}\")\n",
        "\n",
        "# Проверка на английском тексте\n",
        "english_text = \"Hello, world! How are you? This is a sample text. It consists of several sentences.\"\n",
        "english_sentences = simple_sentence_tokenize(english_text)\n",
        "print(\"\\nАнглийский текст:\", english_text)\n",
        "print(\"Предложения английского текста:\")\n",
        "for i, sentence in enumerate(english_sentences, 1):\n",
        "    print(f\"{i}. {sentence}\")"
      ],
      "metadata": {
        "id": "bw3dAKeG0-fA"
      },
      "execution_count": null,
      "outputs": []
    },
    {
      "cell_type": "markdown",
      "source": [
        "3.4. Объединение токенов обратно в текст. Метод .join() позволяет объединить токены обратно в текст, указав разделитель."
      ],
      "metadata": {
        "id": "_a-rRcLp1NnW"
      }
    },
    {
      "cell_type": "code",
      "source": [
        "# Пример токенов\n",
        "tokens = [\"Компьютерная\", \"лингвистика\", \"изучает\", \"методы\", \"обработки\", \"текста\"]\n",
        "\n",
        "# Объединение токенов с пробелом\n",
        "text = ' '.join(tokens)\n",
        "print(\"Объединенный текст:\", text)\n",
        "\n",
        "# Объединение с другими разделителями\n",
        "comma_separated = ', '.join(tokens)\n",
        "print(\"Токены через запятую:\", comma_separated)\n",
        "\n",
        "# Объединение английских токенов\n",
        "english_tokens = [\"Natural\", \"language\", \"processing\", \"studies\", \"methods\", \"of\", \"text\", \"analysis\"]\n",
        "english_text = ' '.join(english_tokens)\n",
        "print(\"Объединенный английский текст:\", english_text)"
      ],
      "metadata": {
        "id": "jCOkR50y1PYv"
      },
      "execution_count": null,
      "outputs": []
    },
    {
      "cell_type": "markdown",
      "source": [
        "**4. Практические упражнения**"
      ],
      "metadata": {
        "id": "zTAF-Lj21evo"
      }
    },
    {
      "cell_type": "markdown",
      "source": [
        "Упражнение 1: Нормализация текста. Напишите функцию, которая будет нормализовать текст следующим образом:\n",
        "\n",
        "1. Привести к нижнему регистру\n",
        "2. Удалить все цифры\n",
        "3. Заменить все символы пунктуации на пробелы\n",
        "4. Удалить лишние пробелы\n",
        "\n"
      ],
      "metadata": {
        "id": "2ffDLEVL1oiZ"
      }
    },
    {
      "cell_type": "code",
      "source": [
        "import string\n",
        "sample_text = \"Пример текста123, с РАЗНЫМИ символами! И 456 цифрами?!\"\n",
        "\n",
        "def normalize_text(text):\n",
        "\n",
        "    text = text.lower()\n",
        "\n",
        "    translator = str.maketrans('', '',string.digits)\n",
        "    text = text.translate(translator)\n",
        "\n",
        "    for punct in string.punctuation:\n",
        "      text = text.replace(punct, f' ')\n",
        "\n",
        "    text = text.strip()\n",
        "    text = text.split()\n",
        "    text = ' '.join(text)\n",
        "\n",
        "    return text\n",
        "\n",
        "normalized = normalize_text(sample_text)\n",
        "print(normalized)"
      ],
      "metadata": {
        "id": "rU4ZTUrd1jFX",
        "colab": {
          "base_uri": "https://localhost:8080/"
        },
        "outputId": "4808350f-99c8-4e91-dacf-c442a969e1a8"
      },
      "execution_count": 17,
      "outputs": [
        {
          "output_type": "stream",
          "name": "stdout",
          "text": [
            "пример текста с разными символами и цифрами\n"
          ]
        }
      ]
    },
    {
      "cell_type": "markdown",
      "source": [],
      "metadata": {
        "id": "JnKE85bzECsA"
      }
    },
    {
      "cell_type": "markdown",
      "source": [
        "Упражнение 2: Подсчет частотности слов. Напишите функцию, которая будет принимать текст, нормализовать его, токенизировать и возвращать словарь с частотностью каждого слова."
      ],
      "metadata": {
        "id": "waC9ZHWB2Kph"
      }
    },
    {
      "cell_type": "code",
      "source": [
        "sample_text = \"Компьютерная лингвистика изучает методы обработки текста. Компьютерная лингвистика является областью искусственного интеллекта.\"\n",
        "english_text = \"Natural language processing is a field of artificial intelligence. Natural language processing focuses on the interaction between computers and humans.\"\n",
        "\n",
        "def normalize_tokenize_count_text(text):\n",
        "\n",
        "  text = text.lower()\n",
        "\n",
        "  translator = str.maketrans('', '',string.digits)\n",
        "  text = text.translate(translator)\n",
        "\n",
        "  text = text.strip()\n",
        "  text = text.split()\n",
        "  text = ' '.join(text)\n",
        "\n",
        "  for punct in string.punctuation:\n",
        "      text = text.replace(punct, f' ')\n",
        "\n",
        "  tokens = [token for token in text.split() if token]\n",
        "\n",
        "  word_frequencies = {}\n",
        "\n",
        "  for token in tokens:\n",
        "      if token in word_frequencies:\n",
        "            word_frequencies[token] += 1\n",
        "      else:\n",
        "            word_frequencies[token] = 1\n",
        "\n",
        "  return word_frequencies\n",
        "\n",
        "word_frequencies = normalize_tokenize_count_text(sample_text)\n",
        "print(word_frequencies)\n",
        "word_frequencies = normalize_tokenize_count_text(english_text)\n",
        "print(word_frequencies)\n"
      ],
      "metadata": {
        "id": "HlWO9Bpn2SQo",
        "colab": {
          "base_uri": "https://localhost:8080/"
        },
        "outputId": "4ff96d42-0039-42c1-f673-0fd7e208c825"
      },
      "execution_count": 16,
      "outputs": [
        {
          "output_type": "stream",
          "name": "stdout",
          "text": [
            "{'компьютерная': 2, 'лингвистика': 2, 'изучает': 1, 'методы': 1, 'обработки': 1, 'текста': 1, 'является': 1, 'областью': 1, 'искусственного': 1, 'интеллекта': 1}\n",
            "{'natural': 2, 'language': 2, 'processing': 2, 'is': 1, 'a': 1, 'field': 1, 'of': 1, 'artificial': 1, 'intelligence': 1, 'focuses': 1, 'on': 1, 'the': 1, 'interaction': 1, 'between': 1, 'computers': 1, 'and': 1, 'humans': 1}\n"
          ]
        }
      ]
    },
    {
      "cell_type": "markdown",
      "source": [
        "Упражнение 3: Поиск самых длинных и коротких слов. Напишите функцию, которая находит самые длинные и самые короткие слова в тексте."
      ],
      "metadata": {
        "id": "RPTWlfsD2ehu"
      }
    },
    {
      "cell_type": "code",
      "source": [
        "sample_text = \"Компьютерная лингвистика является междисциплинарной областью науки, которая изучает математические и компьютерные модели естественного языка, а также его применение в системах искусственного интеллекта.\"\n",
        "english_text = \"Computational linguistics is an interdisciplinary field of science that studies mathematical and computational models of natural language and its application in artificial intelligence systems.\"\n",
        "\n",
        "def tokenize_find(text):\n",
        "\n",
        "    text = text.lower()\n",
        "\n",
        "    translator = str.maketrans('', '',string.digits)\n",
        "    text = text.translate(translator)\n",
        "\n",
        "    text = text.strip()\n",
        "    text = text.split()\n",
        "    text = ' '.join(text)\n",
        "\n",
        "    for punct in string.punctuation:\n",
        "        text = text.replace(punct, f' ')\n",
        "\n",
        "    tokens = [token for token in text.split() if token]\n",
        "\n",
        "    longest = ''\n",
        "    shortest = None\n",
        "\n",
        "    for token in tokens:\n",
        "        if len(token) > len(longest):\n",
        "            longest = token\n",
        "        if shortest is None or len(token) < len(shortest):\n",
        "            shortest = token\n",
        "\n",
        "    return longest, shortest\n",
        "\n",
        "longest, shortest = tokenize_find(sample_text)\n",
        "print(f\"Самое длинное слово: {longest}\")\n",
        "print(f\"Самое короткое слово: {shortest}\")\n",
        "\n",
        "longest, shortest = tokenize_find(english_text)\n",
        "print(f\"Самое длинное слово: {longest}\")\n",
        "print(f\"Самое короткое слово: {shortest}\")"
      ],
      "metadata": {
        "id": "hizov4xW2YhX",
        "colab": {
          "base_uri": "https://localhost:8080/"
        },
        "outputId": "aaf79905-bd1c-408b-ae7c-e4e3b02d9bb6"
      },
      "execution_count": 15,
      "outputs": [
        {
          "output_type": "stream",
          "name": "stdout",
          "text": [
            "Самое длинное слово: междисциплинарной\n",
            "Самое короткое слово: и\n",
            "Самое длинное слово: interdisciplinary\n",
            "Самое короткое слово: is\n"
          ]
        }
      ]
    },
    {
      "cell_type": "markdown",
      "source": [
        "Упражнение 4: Поиск и подсчет определенных паттернов. Напишите функцию, которая находит и подсчитывает слова, начинающиеся с определенной буквы или содержащие определенную последовательность букв."
      ],
      "metadata": {
        "id": "wtQ6vmk922D6"
      }
    },
    {
      "cell_type": "code",
      "source": [
        "sample_text = \"Компьютерная лингвистика изучает методы обработки текста. Математические модели и компьютерные алгоритмы используются для анализа естественных языков.\"\n",
        "# Поиск слов, начинающихся с 'к'\n",
        "\n",
        "def find(text):\n",
        "\n",
        "    text = text.lower()\n",
        "\n",
        "    translator = str.maketrans('', '',string.digits)\n",
        "    text = text.translate(translator)\n",
        "\n",
        "    for punct in string.punctuation:\n",
        "        text = text.replace(punct, f' {punct} ')\n",
        "\n",
        "    tokens = [token for token in text.split() if token]\n",
        "\n",
        "    first_letter = input(\"Введите букву для поиска: \").lower()\n",
        "    words = set()\n",
        "\n",
        "    for token in tokens:\n",
        "        if token.startswith(first_letter):\n",
        "                words.add(token)\n",
        "    return words, first_letter\n",
        "\n",
        "words, first_letter = find(sample_text)\n",
        "print(f\"Слова, начинающиеся с буквы {first_letter}:\", ', '.join(words))\n"
      ],
      "metadata": {
        "id": "Pv0AYXVp23vc",
        "colab": {
          "base_uri": "https://localhost:8080/"
        },
        "outputId": "41bc4408-855e-4435-ce8c-1fefcc79f4e1"
      },
      "execution_count": 14,
      "outputs": [
        {
          "output_type": "stream",
          "name": "stdout",
          "text": [
            "Введите букву для поиска: к\n",
            "Слова, начинающиеся с буквы к: компьютерные, компьютерная\n"
          ]
        }
      ]
    },
    {
      "cell_type": "code",
      "source": [
        "english_text = \"Computational linguistics studies methods of text processing. Mathematical models and computer algorithms are used to analyze natural languages.\"\n",
        "# Поиск слов, содержащих 'ing'\n",
        "\n",
        "def find(text):\n",
        "\n",
        "    text = text.lower()\n",
        "\n",
        "    translator = str.maketrans('', '',string.digits)\n",
        "    text = text.translate(translator)\n",
        "\n",
        "    for punct in string.punctuation:\n",
        "        text = text.replace(punct, f' {punct} ')\n",
        "\n",
        "    tokens = [token for token in text.split() if token]\n",
        "\n",
        "    comb_of_letters = input(\"Введите последовательность букв для поиска: \").lower()\n",
        "    words = set()\n",
        "\n",
        "    for token in tokens:\n",
        "        if comb_of_letters in token:\n",
        "                words.add(token)\n",
        "    return words, comb_of_letters\n",
        "\n",
        "words, comb_of_letters = find(english_text)\n",
        "print(f\"Слова, содержащие последовательность букв {comb_of_letters}:\", ', '.join(words))"
      ],
      "metadata": {
        "id": "1i4Yjoum26nz",
        "colab": {
          "base_uri": "https://localhost:8080/"
        },
        "outputId": "3a4ba73b-04a8-481d-b483-deb26ce8ac45"
      },
      "execution_count": 13,
      "outputs": [
        {
          "output_type": "stream",
          "name": "stdout",
          "text": [
            "Введите последовательность букв для поиска: ing\n",
            "Слова, содержащие последовательность букв ing: linguistics, processing\n"
          ]
        }
      ]
    },
    {
      "cell_type": "markdown",
      "source": [
        "Упражнение 5: Анализ предложений в тексте. Напишите функцию, которая анализирует текст на уровне предложений, подсчитывая:\n",
        "\n",
        "1. Количество предложений\n",
        "2. Среднюю длину предложения (в словах)\n",
        "3. Самое длинное и самое короткое предложение\n"
      ],
      "metadata": {
        "id": "anDhdjLG3M1A"
      }
    },
    {
      "cell_type": "code",
      "source": [
        "sample_text = \"\"\"Компьютерная лингвистика — это междисциплинарная область науки.\n",
        "Она изучает математические и компьютерные модели естественного языка.\n",
        "Методы компьютерной лингвистики применяются для решения различных задач, таких как машинный перевод, автоматическое реферирование и информационный поиск.\n",
        "Современные алгоритмы позволяют анализировать большие объемы текстов.\"\"\"\n",
        "\n",
        "def analysis(text):\n",
        "\n",
        "    text = text.lower()\n",
        "\n",
        "    translator = str.maketrans('', '', string.digits)\n",
        "    text = text.translate(translator)\n",
        "\n",
        "    text = text.replace('—', ' ')\n",
        "\n",
        "    for end_mark in ['.', '!', '?']:\n",
        "        text = text.replace(end_mark, f'{end_mark}SENTENCE_END')\n",
        "\n",
        "    sentences = text.split('SENTENCE_END')\n",
        "\n",
        "    sentences = [sentence.strip() for sentence in sentences if sentence.strip()]\n",
        "\n",
        "    num_sentences = len(sentences)\n",
        "\n",
        "    longest_sentence = ''\n",
        "    shortest_sentence = None\n",
        "    total_words = 0\n",
        "\n",
        "    for sentence in sentences:\n",
        "\n",
        "        tokens = [token for token in sentence.split() if token]\n",
        "\n",
        "        total_words += len(tokens)\n",
        "\n",
        "        if len(tokens) > len(longest_sentence.split()):\n",
        "            longest_sentence = sentence\n",
        "\n",
        "        if shortest_sentence is None or len(tokens) < len(shortest_sentence.split()):\n",
        "            shortest_sentence = sentence\n",
        "\n",
        "    average_length = total_words / num_sentences if num_sentences > 0 else 0\n",
        "\n",
        "    return num_sentences, average_length, longest_sentence, shortest_sentence\n",
        "\n",
        "num_sentences, average_length, longest_sentence, shortest_sentence = analysis(sample_text)\n",
        "\n",
        "print(\"Результаты анализа предложений:\")\n",
        "print(f\"Количество предложений: {num_sentences}\")\n",
        "print(f\"Средняя длина предложения (в словах): {average_length}\")\n",
        "print(f\"Самое длинное предложение: {longest_sentence}\")\n",
        "print(f\"Самое короткое предложение: {shortest_sentence}\")\n",
        "\n",
        "\n"
      ],
      "metadata": {
        "id": "QQd2ZgIj3YlJ",
        "colab": {
          "base_uri": "https://localhost:8080/"
        },
        "outputId": "c154d475-6d69-4bee-87ae-f120003813d0"
      },
      "execution_count": null,
      "outputs": [
        {
          "output_type": "stream",
          "name": "stdout",
          "text": [
            "Результаты анализа предложений:\n",
            "Количество предложений: 4\n",
            "Средняя длина предложения (в словах): 9.5\n",
            "Самое длинное предложение: методы компьютерной лингвистики применяются для решения различных задач, таких как машинный перевод, автоматическое реферирование и информационный поиск.\n",
            "Самое короткое предложение: компьютерная лингвистика   это междисциплинарная область науки.\n"
          ]
        }
      ]
    },
    {
      "cell_type": "code",
      "source": [
        "english_text = \"\"\"Computational linguistics is an interdisciplinary field of science.\n",
        "It studies mathematical and computational models of natural language.\n",
        "Methods of computational linguistics are applied to solve various tasks such as machine translation, automatic summarization, and information retrieval.\n",
        "Modern algorithms allow analyzing large volumes of texts.\"\"\"\n",
        "\n",
        "def analysis(text):\n",
        "\n",
        "    text = text.lower()\n",
        "\n",
        "    translator = str.maketrans('', '', string.digits)\n",
        "    text = text.translate(translator)\n",
        "\n",
        "    for end_mark in ['.', '!', '?']:\n",
        "        text = text.replace(end_mark, f'{end_mark}SENTENCE_END')\n",
        "\n",
        "    sentences = text.split('SENTENCE_END')\n",
        "\n",
        "    sentences = [sentence.strip() for sentence in sentences if sentence.strip()]\n",
        "\n",
        "    num_sentences = len(sentences)\n",
        "\n",
        "    longest_sentence = ''\n",
        "    shortest_sentence = None\n",
        "    total_words = 0\n",
        "\n",
        "    for sentence in sentences:\n",
        "\n",
        "        tokens = [token for token in sentence.split() if token]\n",
        "\n",
        "        total_words += len(tokens)\n",
        "\n",
        "        if len(tokens) > len(longest_sentence.split()):\n",
        "            longest_sentence = sentence\n",
        "\n",
        "        if shortest_sentence is None or len(tokens) < len(shortest_sentence.split()):\n",
        "            shortest_sentence = sentence\n",
        "\n",
        "    average_length = total_words / num_sentences if num_sentences > 0 else 0\n",
        "\n",
        "    return num_sentences, average_length, longest_sentence, shortest_sentence\n",
        "\n",
        "num_sentences, average_length, longest_sentence, shortest_sentence = analysis(english_text)\n",
        "\n",
        "print(\"\\nРезультаты анализа предложений на английском:\")\n",
        "print(f\"Количество предложений: {num_sentences}\")\n",
        "print(f\"Средняя длина предложения (в словах): {average_length}\")\n",
        "print(f\"Самое длинное предложение: {longest_sentence}\")\n",
        "print(f\"Самое короткое предложение: {shortest_sentence}\")"
      ],
      "metadata": {
        "id": "N7pW-9_c3rmI",
        "colab": {
          "base_uri": "https://localhost:8080/"
        },
        "outputId": "e8974127-1632-4f09-df4c-2d8695169d4c"
      },
      "execution_count": 12,
      "outputs": [
        {
          "output_type": "stream",
          "name": "stdout",
          "text": [
            "\n",
            "Результаты анализа предложений на английском:\n",
            "Количество предложений: 4\n",
            "Средняя длина предложения (в словах): 11.0\n",
            "Самое длинное предложение: methods of computational linguistics are applied to solve various tasks such as machine translation, automatic summarization, and information retrieval.\n",
            "Самое короткое предложение: computational linguistics is an interdisciplinary field of science.\n"
          ]
        }
      ]
    },
    {
      "cell_type": "markdown",
      "source": [
        "**5. Домашнее задание**"
      ],
      "metadata": {
        "id": "ZE7TEjrM37te"
      }
    },
    {
      "cell_type": "markdown",
      "source": [
        "Напишите функцию для нормализации текста, которая:\n",
        "\n",
        "1. Приводит текст к нижнему регистру\n",
        "2. Удаляет все знаки пунктуации\n",
        "3. Заменяет все цифры на символ '#'\n",
        "4. Удаляет лишние пробелы\n",
        "\n",
        "Напишите функцию, которая находит и выводит все слова из текста, содержащие гласные в определенной последовательности (например, 'о' и затем 'а').\n",
        "\n",
        "Создайте функцию, которая:\n",
        "\n",
        "1.   Токенизирует текст\n",
        "2.   Отбирает только слова длиной более 4 символов\n",
        "3. Сортирует их по алфавиту\n",
        "4. Возвращает первые 10 слов\n",
        "\n",
        "Напишите функцию для анализа частотности символов в тексте, которая возвращает 5 самых часто встречающихся символов и их количество.\n",
        "\n",
        "Напишите программу, которая разделяет текст на параграфы (по двойному переносу строки), а затем подсчитывает для каждого параграфа: количество предложений, количество слов, среднюю длину слова"
      ],
      "metadata": {
        "id": "qJtWAqaL3-od"
      }
    },
    {
      "cell_type": "code",
      "source": [
        "\"\"\"\n",
        "Напишите функцию для нормализации текста, которая:\n",
        "Приводит текст к нижнему регистру\n",
        "Удаляет все знаки пунктуации\n",
        "Заменяет все цифры на символ '#'\n",
        "Удаляет лишние пробелы\n",
        "\"\"\"\n",
        "\n",
        "sample_text = \"Напишите функцию для нормал44изации: текста 44!!\"\n",
        "\n",
        "def normalize_text(text):\n",
        "\n",
        "    text = text.lower()\n",
        "\n",
        "    translator = str.maketrans('', '',string.punctuation)\n",
        "    text = text.translate(translator)\n",
        "\n",
        "    for punct in string.digits:\n",
        "        text = text.replace(punct, f'#')\n",
        "\n",
        "    text = text.strip()\n",
        "    text = text.split()\n",
        "    text = ' '.join(text)\n",
        "\n",
        "    return text\n",
        "\n",
        "normalized = normalize_text(sample_text)\n",
        "print(normalized)"
      ],
      "metadata": {
        "colab": {
          "base_uri": "https://localhost:8080/"
        },
        "id": "86LiuzEA0faj",
        "outputId": "f1bbf3f0-9a91-4c7f-bb90-e6eae9913edb"
      },
      "execution_count": 11,
      "outputs": [
        {
          "output_type": "stream",
          "name": "stdout",
          "text": [
            "напишите функцию для нормал##изации текста ##\n"
          ]
        }
      ]
    },
    {
      "cell_type": "code",
      "source": [
        "\"\"\"\n",
        "Напишите функцию, которая находит и выводит все слова из текста, содержащие гласные в определенной последовательности (например, 'о' и затем 'а').\n",
        "\"\"\"\n",
        "import re\n",
        "import string\n",
        "\n",
        "text = \"Регулярные выражения - мощный инструмент для обработки текста.\"\n",
        "\n",
        "def analysis(text):\n",
        "\n",
        "    text = text.lower()\n",
        "    translator = str.maketrans('', '',string.digits)\n",
        "    text = text.translate(translator)\n",
        "\n",
        "    for punct in string.punctuation:\n",
        "        text = text.replace(punct, f' {punct} ')\n",
        "\n",
        "    tokens = [token for token in text.split() if token]\n",
        "\n",
        "    matches = [word for word in tokens if re.search('о.*а', word)]\n",
        "\n",
        "    return matches\n",
        "\n",
        "matches = analysis(text)\n",
        "print(f\"Совпадения: {matches}\")\n"
      ],
      "metadata": {
        "id": "ANdcTJgx2MYO",
        "colab": {
          "base_uri": "https://localhost:8080/"
        },
        "outputId": "b6ebb932-680f-460c-cd75-f0aa95a484d6"
      },
      "execution_count": 10,
      "outputs": [
        {
          "output_type": "stream",
          "name": "stdout",
          "text": [
            "Совпадения: ['обработки']\n"
          ]
        }
      ]
    },
    {
      "cell_type": "code",
      "source": [
        "\"\"\"\n",
        "Создайте функцию, которая:\n",
        "Токенизирует текст\n",
        "Отбирает только слова длиной более 4 символов\n",
        "Сортирует их по алфавиту\n",
        "Возвращает первые 10 слов\n",
        "\"\"\"\n",
        "sample_text = \"Напишите функцию для нормализации текста, которая: Приводит текст к нижнему регистру Удаляет всеы привкт \"\n",
        "\n",
        "def tokenize_4_alph_10(text):\n",
        "\n",
        "    text = text.lower()\n",
        "\n",
        "    translator = str.maketrans('', '',string.digits)\n",
        "    text = text.translate(translator)\n",
        "\n",
        "    for punct in string.punctuation:\n",
        "        text = text.replace(punct, '')\n",
        "\n",
        "    tokens = [token for token in text.split() if token]\n",
        "\n",
        "    words = set()\n",
        "\n",
        "    for token in tokens:\n",
        "        if len(token) > 4:\n",
        "            words.add(token)\n",
        "\n",
        "    sorted_list = sorted(words)\n",
        "\n",
        "    return sorted_list[:10]\n",
        "\n",
        "sorted_list = tokenize_4_alph_10(sample_text)\n",
        "print(f\"Первые 10 отсортированных слов длиной более 4 символов: {', '.join(sorted_list)}\")"
      ],
      "metadata": {
        "id": "Gw4EDXALjmRn",
        "colab": {
          "base_uri": "https://localhost:8080/"
        },
        "outputId": "0a561fbc-cd68-4486-e87b-5301336a06ed"
      },
      "execution_count": 9,
      "outputs": [
        {
          "output_type": "stream",
          "name": "stdout",
          "text": [
            "Первые 10 отсортированных слов длиной более 4 символов: которая, напишите, нижнему, нормализации, привкт, приводит, регистру, текст, текста, удаляет\n"
          ]
        }
      ]
    },
    {
      "cell_type": "code",
      "source": [
        "\"\"\"\n",
        "Напишите функцию для анализа частотности символов в тексте, которая возвращает 5 самых часто встречающихся символов и их количество.\n",
        "\"\"\"\n",
        "import string\n",
        "\n",
        "sample_text = \"Напишите функцию для анализа частотности символов в тексте, которая возвращает 5 самых часто встречающихся символов и их количество.\"\n",
        "\n",
        "def frequency(text):\n",
        "\n",
        "    text = text.lower()\n",
        "\n",
        "    translator = str.maketrans('', '',string.digits)\n",
        "    text = text.translate(translator)\n",
        "\n",
        "    for punct in string.punctuation:\n",
        "        text = text.replace(punct, '')\n",
        "\n",
        "    symbol_frequencies = {}\n",
        "\n",
        "    for symbol in text:\n",
        "        if symbol != ' ':\n",
        "            if symbol in symbol_frequencies:\n",
        "                symbol_frequencies[symbol] += 1\n",
        "            else:\n",
        "                symbol_frequencies[symbol] = 1\n",
        "\n",
        "    sorted_frequencies = sorted(symbol_frequencies.items(), key=lambda item: item[1], reverse=True)\n",
        "\n",
        "    return sorted_frequencies\n",
        "\n",
        "sorted_frequencies = frequency(sample_text)\n",
        "\n",
        "formatted_frequencies = [f\"'{symbol}': {freq}\" for symbol, freq in sorted_frequencies]\n",
        "\n",
        "print(f\"5 самых часто встречающихся символов: {(sorted_frequencies[:5])}\")"
      ],
      "metadata": {
        "id": "5iUzAlGFjsU4",
        "colab": {
          "base_uri": "https://localhost:8080/"
        },
        "outputId": "f536edb7-47a7-4494-c99a-9979cb364f41"
      },
      "execution_count": 7,
      "outputs": [
        {
          "output_type": "stream",
          "name": "stdout",
          "text": [
            "5 самых часто встречающихся символов: [('о', 12), ('а', 11), ('и', 11), ('т', 11), ('с', 10)]\n"
          ]
        }
      ]
    },
    {
      "cell_type": "code",
      "source": [
        "\"\"\"\n",
        "Напишите программу, которая разделяет текст на параграфы (по двойному переносу строки), а затем подсчитывает для каждого параграфа:\n",
        "количество предложений, количество слов, среднюю длину слова\n",
        "\"\"\"\n",
        "english_text = \"\"\"Computational linguistics is an interdisciplinary field of science.\n",
        "\n",
        "It studies mathematical and computational models of natural language.\n",
        "\n",
        "Methods of computational linguistics are applied to solve various tasks such as machine translation, automatic summarization, and information retrieval.\n",
        "\n",
        "Modern algorithms allow analyzing large volumes of texts.\"\"\"\n",
        "\n",
        "def analyze_paragraphs(text):\n",
        "\n",
        "    paragraphs = text.split('\\n\\n')\n",
        "\n",
        "    analysis_results = []\n",
        "\n",
        "    for paragraph in paragraphs:\n",
        "        paragraph = paragraph.strip()\n",
        "\n",
        "        paragraph = paragraph.lower()\n",
        "\n",
        "        translator = str.maketrans('', '',string.digits)\n",
        "        paragraph = paragraph.translate(translator)\n",
        "\n",
        "        for punct in string.punctuation:\n",
        "            paragraph = paragraph.replace(punct, ' ')\n",
        "\n",
        "        sentences = paragraph.split('.')\n",
        "\n",
        "        sentences = [sentence.strip() for sentence in sentences if sentence.strip()]\n",
        "\n",
        "        num_sentences = len(sentences)\n",
        "\n",
        "        words = [token for token in paragraph.split() if token]\n",
        "\n",
        "        num_words = len(words)\n",
        "\n",
        "        average_word_length = sum(len(word) for word in words) / num_words if num_words > 0 else 0\n",
        "\n",
        "        analysis_results.append({\n",
        "            'num_sentences': num_sentences,\n",
        "            'num_words': num_words,\n",
        "            'average_word_length': average_word_length\n",
        "        })\n",
        "\n",
        "    return analysis_results\n",
        "\n",
        "results = analyze_paragraphs(english_text)\n",
        "for i, result in enumerate(results, 1):\n",
        "    print(f\"Параграф {i}:\")\n",
        "    print(f\"Количество предложений в параграфе: {result['num_sentences']}\")\n",
        "    print(f\"Количество слов в параграфе: {result['num_words']}\")\n",
        "    print(f\"Средняя длина слова в каждом параграфе: {result['average_word_length']:.2f}\")"
      ],
      "metadata": {
        "id": "2BWL8ZDdjvTg",
        "colab": {
          "base_uri": "https://localhost:8080/"
        },
        "outputId": "285c6262-bd1d-4e6b-daab-32ee5398a854"
      },
      "execution_count": 8,
      "outputs": [
        {
          "output_type": "stream",
          "name": "stdout",
          "text": [
            "Параграф 1:\n",
            "Количество предложений в параграфе: 1\n",
            "Количество слов в параграфе: 8\n",
            "Средняя длина слова в каждом параграфе: 7.38\n",
            "Параграф 2:\n",
            "Количество предложений в параграфе: 1\n",
            "Количество слов в параграфе: 9\n",
            "Средняя длина слова в каждом параграфе: 6.67\n",
            "Параграф 3:\n",
            "Количество предложений в параграфе: 1\n",
            "Количество слов в параграфе: 19\n",
            "Средняя длина слова в каждом параграфе: 6.89\n",
            "Параграф 4:\n",
            "Количество предложений в параграфе: 1\n",
            "Количество слов в параграфе: 8\n",
            "Средняя длина слова в каждом параграфе: 6.12\n"
          ]
        }
      ]
    }
  ]
}