{
  "nbformat": 4,
  "nbformat_minor": 0,
  "metadata": {
    "colab": {
      "provenance": []
    },
    "kernelspec": {
      "name": "python3",
      "display_name": "Python 3"
    },
    "language_info": {
      "name": "python"
    }
  },
  "cells": [
    {
      "cell_type": "markdown",
      "source": [
        "В этой практической тетрадке мы изучим различные методы нормализации текста – стемматизацию и лемматизацию – и сравним, как работают основные библиотеки обработки естественного языка для русского и английского языков."
      ],
      "metadata": {
        "id": "qgpxdmVlmRLW"
      }
    },
    {
      "cell_type": "markdown",
      "source": [
        "Мы рассмотрим:\n",
        "\n",
        "* Разницу между стемматизацией и лемматизацией\n",
        "* Сравнение работы библиотек NLTK, spaCy, PyMorphy2 и Natasha\n",
        "* Создание комплексных пайплайнов препроцессинга для разных языков\n",
        "* Практические упражнения для закрепления материала"
      ],
      "metadata": {
        "id": "XAy7q_PxmWFd"
      }
    },
    {
      "cell_type": "code",
      "source": [
        "# Установка необходимых библиотек\n",
        "!pip install nltk spacy pymorphy2 natasha\n",
        "!python -m spacy download en_core_web_sm\n",
        "!python -m spacy download ru_core_news_sm\n",
        "\n",
        "import nltk\n",
        "nltk.download('punkt')\n",
        "nltk.download('stopwords')\n",
        "nltk.download('wordnet')\n",
        "\n",
        "import spacy\n",
        "import pymorphy2\n",
        "from natasha import Segmenter, MorphVocab, NewsEmbedding, NewsMorphTagger, Doc"
      ],
      "metadata": {
        "collapsed": true,
        "id": "XpmGCPeXmcbl",
        "colab": {
          "base_uri": "https://localhost:8080/"
        },
        "outputId": "23781ad8-351a-4f83-c5c5-c4b48cb80f5e"
      },
      "execution_count": 2,
      "outputs": [
        {
          "output_type": "stream",
          "name": "stdout",
          "text": [
            "Requirement already satisfied: nltk in /usr/local/lib/python3.12/dist-packages (3.9.1)\n",
            "Requirement already satisfied: spacy in /usr/local/lib/python3.12/dist-packages (3.8.7)\n",
            "Collecting pymorphy2\n",
            "  Downloading pymorphy2-0.9.1-py3-none-any.whl.metadata (3.6 kB)\n",
            "Collecting natasha\n",
            "  Downloading natasha-1.6.0-py3-none-any.whl.metadata (23 kB)\n",
            "Requirement already satisfied: click in /usr/local/lib/python3.12/dist-packages (from nltk) (8.3.0)\n",
            "Requirement already satisfied: joblib in /usr/local/lib/python3.12/dist-packages (from nltk) (1.5.2)\n",
            "Requirement already satisfied: regex>=2021.8.3 in /usr/local/lib/python3.12/dist-packages (from nltk) (2024.11.6)\n",
            "Requirement already satisfied: tqdm in /usr/local/lib/python3.12/dist-packages (from nltk) (4.67.1)\n",
            "Requirement already satisfied: spacy-legacy<3.1.0,>=3.0.11 in /usr/local/lib/python3.12/dist-packages (from spacy) (3.0.12)\n",
            "Requirement already satisfied: spacy-loggers<2.0.0,>=1.0.0 in /usr/local/lib/python3.12/dist-packages (from spacy) (1.0.5)\n",
            "Requirement already satisfied: murmurhash<1.1.0,>=0.28.0 in /usr/local/lib/python3.12/dist-packages (from spacy) (1.0.13)\n",
            "Requirement already satisfied: cymem<2.1.0,>=2.0.2 in /usr/local/lib/python3.12/dist-packages (from spacy) (2.0.11)\n",
            "Requirement already satisfied: preshed<3.1.0,>=3.0.2 in /usr/local/lib/python3.12/dist-packages (from spacy) (3.0.10)\n",
            "Requirement already satisfied: thinc<8.4.0,>=8.3.4 in /usr/local/lib/python3.12/dist-packages (from spacy) (8.3.6)\n",
            "Requirement already satisfied: wasabi<1.2.0,>=0.9.1 in /usr/local/lib/python3.12/dist-packages (from spacy) (1.1.3)\n",
            "Requirement already satisfied: srsly<3.0.0,>=2.4.3 in /usr/local/lib/python3.12/dist-packages (from spacy) (2.5.1)\n",
            "Requirement already satisfied: catalogue<2.1.0,>=2.0.6 in /usr/local/lib/python3.12/dist-packages (from spacy) (2.0.10)\n",
            "Requirement already satisfied: weasel<0.5.0,>=0.1.0 in /usr/local/lib/python3.12/dist-packages (from spacy) (0.4.1)\n",
            "Requirement already satisfied: typer<1.0.0,>=0.3.0 in /usr/local/lib/python3.12/dist-packages (from spacy) (0.20.0)\n",
            "Requirement already satisfied: numpy>=1.19.0 in /usr/local/lib/python3.12/dist-packages (from spacy) (2.0.2)\n",
            "Requirement already satisfied: requests<3.0.0,>=2.13.0 in /usr/local/lib/python3.12/dist-packages (from spacy) (2.32.4)\n",
            "Requirement already satisfied: pydantic!=1.8,!=1.8.1,<3.0.0,>=1.7.4 in /usr/local/lib/python3.12/dist-packages (from spacy) (2.11.10)\n",
            "Requirement already satisfied: jinja2 in /usr/local/lib/python3.12/dist-packages (from spacy) (3.1.6)\n",
            "Requirement already satisfied: setuptools in /usr/local/lib/python3.12/dist-packages (from spacy) (75.2.0)\n",
            "Requirement already satisfied: packaging>=20.0 in /usr/local/lib/python3.12/dist-packages (from spacy) (25.0)\n",
            "Requirement already satisfied: langcodes<4.0.0,>=3.2.0 in /usr/local/lib/python3.12/dist-packages (from spacy) (3.5.0)\n",
            "Collecting dawg-python>=0.7.1 (from pymorphy2)\n",
            "  Downloading DAWG_Python-0.7.2-py2.py3-none-any.whl.metadata (7.0 kB)\n",
            "Collecting pymorphy2-dicts-ru<3.0,>=2.4 (from pymorphy2)\n",
            "  Downloading pymorphy2_dicts_ru-2.4.417127.4579844-py2.py3-none-any.whl.metadata (2.1 kB)\n",
            "Collecting docopt>=0.6 (from pymorphy2)\n",
            "  Downloading docopt-0.6.2.tar.gz (25 kB)\n",
            "  Preparing metadata (setup.py) ... \u001b[?25l\u001b[?25hdone\n",
            "Collecting razdel>=0.5.0 (from natasha)\n",
            "  Downloading razdel-0.5.0-py3-none-any.whl.metadata (10.0 kB)\n",
            "Collecting navec>=0.9.0 (from natasha)\n",
            "  Downloading navec-0.10.0-py3-none-any.whl.metadata (21 kB)\n",
            "Collecting slovnet>=0.6.0 (from natasha)\n",
            "  Downloading slovnet-0.6.0-py3-none-any.whl.metadata (34 kB)\n",
            "Collecting yargy>=0.16.0 (from natasha)\n",
            "  Downloading yargy-0.16.0-py3-none-any.whl.metadata (3.5 kB)\n",
            "Collecting ipymarkup>=0.8.0 (from natasha)\n",
            "  Downloading ipymarkup-0.9.0-py3-none-any.whl.metadata (5.6 kB)\n",
            "Collecting intervaltree>=3 (from ipymarkup>=0.8.0->natasha)\n",
            "  Downloading intervaltree-3.1.0.tar.gz (32 kB)\n",
            "  Preparing metadata (setup.py) ... \u001b[?25l\u001b[?25hdone\n",
            "Requirement already satisfied: language-data>=1.2 in /usr/local/lib/python3.12/dist-packages (from langcodes<4.0.0,>=3.2.0->spacy) (1.3.0)\n",
            "Requirement already satisfied: annotated-types>=0.6.0 in /usr/local/lib/python3.12/dist-packages (from pydantic!=1.8,!=1.8.1,<3.0.0,>=1.7.4->spacy) (0.7.0)\n",
            "Requirement already satisfied: pydantic-core==2.33.2 in /usr/local/lib/python3.12/dist-packages (from pydantic!=1.8,!=1.8.1,<3.0.0,>=1.7.4->spacy) (2.33.2)\n",
            "Requirement already satisfied: typing-extensions>=4.12.2 in /usr/local/lib/python3.12/dist-packages (from pydantic!=1.8,!=1.8.1,<3.0.0,>=1.7.4->spacy) (4.15.0)\n",
            "Requirement already satisfied: typing-inspection>=0.4.0 in /usr/local/lib/python3.12/dist-packages (from pydantic!=1.8,!=1.8.1,<3.0.0,>=1.7.4->spacy) (0.4.2)\n",
            "Requirement already satisfied: charset_normalizer<4,>=2 in /usr/local/lib/python3.12/dist-packages (from requests<3.0.0,>=2.13.0->spacy) (3.4.4)\n",
            "Requirement already satisfied: idna<4,>=2.5 in /usr/local/lib/python3.12/dist-packages (from requests<3.0.0,>=2.13.0->spacy) (3.11)\n",
            "Requirement already satisfied: urllib3<3,>=1.21.1 in /usr/local/lib/python3.12/dist-packages (from requests<3.0.0,>=2.13.0->spacy) (2.5.0)\n",
            "Requirement already satisfied: certifi>=2017.4.17 in /usr/local/lib/python3.12/dist-packages (from requests<3.0.0,>=2.13.0->spacy) (2025.10.5)\n",
            "Requirement already satisfied: blis<1.4.0,>=1.3.0 in /usr/local/lib/python3.12/dist-packages (from thinc<8.4.0,>=8.3.4->spacy) (1.3.0)\n",
            "Requirement already satisfied: confection<1.0.0,>=0.0.1 in /usr/local/lib/python3.12/dist-packages (from thinc<8.4.0,>=8.3.4->spacy) (0.1.5)\n",
            "Requirement already satisfied: shellingham>=1.3.0 in /usr/local/lib/python3.12/dist-packages (from typer<1.0.0,>=0.3.0->spacy) (1.5.4)\n",
            "Requirement already satisfied: rich>=10.11.0 in /usr/local/lib/python3.12/dist-packages (from typer<1.0.0,>=0.3.0->spacy) (13.9.4)\n",
            "Requirement already satisfied: cloudpathlib<1.0.0,>=0.7.0 in /usr/local/lib/python3.12/dist-packages (from weasel<0.5.0,>=0.1.0->spacy) (0.23.0)\n",
            "Requirement already satisfied: smart-open<8.0.0,>=5.2.1 in /usr/local/lib/python3.12/dist-packages (from weasel<0.5.0,>=0.1.0->spacy) (7.4.0)\n",
            "Requirement already satisfied: MarkupSafe>=2.0 in /usr/local/lib/python3.12/dist-packages (from jinja2->spacy) (3.0.3)\n",
            "Requirement already satisfied: sortedcontainers<3.0,>=2.0 in /usr/local/lib/python3.12/dist-packages (from intervaltree>=3->ipymarkup>=0.8.0->natasha) (2.4.0)\n",
            "Requirement already satisfied: marisa-trie>=1.1.0 in /usr/local/lib/python3.12/dist-packages (from language-data>=1.2->langcodes<4.0.0,>=3.2.0->spacy) (1.3.1)\n",
            "Requirement already satisfied: markdown-it-py>=2.2.0 in /usr/local/lib/python3.12/dist-packages (from rich>=10.11.0->typer<1.0.0,>=0.3.0->spacy) (4.0.0)\n",
            "Requirement already satisfied: pygments<3.0.0,>=2.13.0 in /usr/local/lib/python3.12/dist-packages (from rich>=10.11.0->typer<1.0.0,>=0.3.0->spacy) (2.19.2)\n",
            "Requirement already satisfied: wrapt in /usr/local/lib/python3.12/dist-packages (from smart-open<8.0.0,>=5.2.1->weasel<0.5.0,>=0.1.0->spacy) (2.0.0)\n",
            "Requirement already satisfied: mdurl~=0.1 in /usr/local/lib/python3.12/dist-packages (from markdown-it-py>=2.2.0->rich>=10.11.0->typer<1.0.0,>=0.3.0->spacy) (0.1.2)\n",
            "Downloading pymorphy2-0.9.1-py3-none-any.whl (55 kB)\n",
            "\u001b[2K   \u001b[90m━━━━━━━━━━━━━━━━━━━━━━━━━━━━━━━━━━━━━━━━\u001b[0m \u001b[32m55.5/55.5 kB\u001b[0m \u001b[31m3.2 MB/s\u001b[0m eta \u001b[36m0:00:00\u001b[0m\n",
            "\u001b[?25hDownloading natasha-1.6.0-py3-none-any.whl (34.4 MB)\n",
            "\u001b[2K   \u001b[90m━━━━━━━━━━━━━━━━━━━━━━━━━━━━━━━━━━━━━━━━\u001b[0m \u001b[32m34.4/34.4 MB\u001b[0m \u001b[31m53.2 MB/s\u001b[0m eta \u001b[36m0:00:00\u001b[0m\n",
            "\u001b[?25hDownloading DAWG_Python-0.7.2-py2.py3-none-any.whl (11 kB)\n",
            "Downloading ipymarkup-0.9.0-py3-none-any.whl (14 kB)\n",
            "Downloading navec-0.10.0-py3-none-any.whl (23 kB)\n",
            "Downloading pymorphy2_dicts_ru-2.4.417127.4579844-py2.py3-none-any.whl (8.2 MB)\n",
            "\u001b[2K   \u001b[90m━━━━━━━━━━━━━━━━━━━━━━━━━━━━━━━━━━━━━━━━\u001b[0m \u001b[32m8.2/8.2 MB\u001b[0m \u001b[31m91.3 MB/s\u001b[0m eta \u001b[36m0:00:00\u001b[0m\n",
            "\u001b[?25hDownloading razdel-0.5.0-py3-none-any.whl (21 kB)\n",
            "Downloading slovnet-0.6.0-py3-none-any.whl (46 kB)\n",
            "\u001b[2K   \u001b[90m━━━━━━━━━━━━━━━━━━━━━━━━━━━━━━━━━━━━━━━━\u001b[0m \u001b[32m46.7/46.7 kB\u001b[0m \u001b[31m3.2 MB/s\u001b[0m eta \u001b[36m0:00:00\u001b[0m\n",
            "\u001b[?25hDownloading yargy-0.16.0-py3-none-any.whl (33 kB)\n",
            "Building wheels for collected packages: docopt, intervaltree\n",
            "  Building wheel for docopt (setup.py) ... \u001b[?25l\u001b[?25hdone\n",
            "  Created wheel for docopt: filename=docopt-0.6.2-py2.py3-none-any.whl size=13706 sha256=85a03849213bef7608e8d359a5df6dad22349a5eb0c377eb4dde5d98486ebb53\n",
            "  Stored in directory: /root/.cache/pip/wheels/1a/bf/a1/4cee4f7678c68c5875ca89eaccf460593539805c3906722228\n",
            "  Building wheel for intervaltree (setup.py) ... \u001b[?25l\u001b[?25hdone\n",
            "  Created wheel for intervaltree: filename=intervaltree-3.1.0-py2.py3-none-any.whl size=26098 sha256=50fc3e874f84879c2b152620edc53953bf2834d5b86f8d418f40064e531cb1b6\n",
            "  Stored in directory: /root/.cache/pip/wheels/65/c3/c3/238bf93c243597857edd94ddb0577faa74a8e16e9585896e83\n",
            "Successfully built docopt intervaltree\n",
            "Installing collected packages: razdel, pymorphy2-dicts-ru, docopt, dawg-python, pymorphy2, navec, intervaltree, yargy, slovnet, ipymarkup, natasha\n",
            "Successfully installed dawg-python-0.7.2 docopt-0.6.2 intervaltree-3.1.0 ipymarkup-0.9.0 natasha-1.6.0 navec-0.10.0 pymorphy2-0.9.1 pymorphy2-dicts-ru-2.4.417127.4579844 razdel-0.5.0 slovnet-0.6.0 yargy-0.16.0\n",
            "Collecting en-core-web-sm==3.8.0\n",
            "  Downloading https://github.com/explosion/spacy-models/releases/download/en_core_web_sm-3.8.0/en_core_web_sm-3.8.0-py3-none-any.whl (12.8 MB)\n",
            "\u001b[2K     \u001b[90m━━━━━━━━━━━━━━━━━━━━━━━━━━━━━━━━━━━━━━━━\u001b[0m \u001b[32m12.8/12.8 MB\u001b[0m \u001b[31m87.4 MB/s\u001b[0m eta \u001b[36m0:00:00\u001b[0m\n",
            "\u001b[?25h\u001b[38;5;2m✔ Download and installation successful\u001b[0m\n",
            "You can now load the package via spacy.load('en_core_web_sm')\n",
            "\u001b[38;5;3m⚠ Restart to reload dependencies\u001b[0m\n",
            "If you are in a Jupyter or Colab notebook, you may need to restart Python in\n",
            "order to load all the package's dependencies. You can do this by selecting the\n",
            "'Restart kernel' or 'Restart runtime' option.\n",
            "Collecting ru-core-news-sm==3.8.0\n",
            "  Downloading https://github.com/explosion/spacy-models/releases/download/ru_core_news_sm-3.8.0/ru_core_news_sm-3.8.0-py3-none-any.whl (15.3 MB)\n",
            "\u001b[2K     \u001b[90m━━━━━━━━━━━━━━━━━━━━━━━━━━━━━━━━━━━━━━━━\u001b[0m \u001b[32m15.3/15.3 MB\u001b[0m \u001b[31m97.3 MB/s\u001b[0m eta \u001b[36m0:00:00\u001b[0m\n",
            "\u001b[?25hCollecting pymorphy3>=1.0.0 (from ru-core-news-sm==3.8.0)\n",
            "  Downloading pymorphy3-2.0.6-py3-none-any.whl.metadata (2.4 kB)\n",
            "Collecting dawg2-python>=0.8.0 (from pymorphy3>=1.0.0->ru-core-news-sm==3.8.0)\n",
            "  Downloading dawg2_python-0.9.0-py3-none-any.whl.metadata (7.5 kB)\n",
            "Collecting pymorphy3-dicts-ru (from pymorphy3>=1.0.0->ru-core-news-sm==3.8.0)\n",
            "  Downloading pymorphy3_dicts_ru-2.4.417150.4580142-py2.py3-none-any.whl.metadata (2.0 kB)\n",
            "Requirement already satisfied: setuptools>=68.2.2 in /usr/local/lib/python3.12/dist-packages (from pymorphy3>=1.0.0->ru-core-news-sm==3.8.0) (75.2.0)\n",
            "Downloading pymorphy3-2.0.6-py3-none-any.whl (53 kB)\n",
            "\u001b[2K   \u001b[90m━━━━━━━━━━━━━━━━━━━━━━━━━━━━━━━━━━━━━━━━\u001b[0m \u001b[32m53.9/53.9 kB\u001b[0m \u001b[31m2.2 MB/s\u001b[0m eta \u001b[36m0:00:00\u001b[0m\n",
            "\u001b[?25hDownloading dawg2_python-0.9.0-py3-none-any.whl (9.3 kB)\n",
            "Downloading pymorphy3_dicts_ru-2.4.417150.4580142-py2.py3-none-any.whl (8.4 MB)\n",
            "\u001b[2K   \u001b[90m━━━━━━━━━━━━━━━━━━━━━━━━━━━━━━━━━━━━━━━━\u001b[0m \u001b[32m8.4/8.4 MB\u001b[0m \u001b[31m55.5 MB/s\u001b[0m eta \u001b[36m0:00:00\u001b[0m\n",
            "\u001b[?25hInstalling collected packages: pymorphy3-dicts-ru, dawg2-python, pymorphy3, ru-core-news-sm\n",
            "Successfully installed dawg2-python-0.9.0 pymorphy3-2.0.6 pymorphy3-dicts-ru-2.4.417150.4580142 ru-core-news-sm-3.8.0\n",
            "\u001b[38;5;2m✔ Download and installation successful\u001b[0m\n",
            "You can now load the package via spacy.load('ru_core_news_sm')\n",
            "\u001b[38;5;3m⚠ Restart to reload dependencies\u001b[0m\n",
            "If you are in a Jupyter or Colab notebook, you may need to restart Python in\n",
            "order to load all the package's dependencies. You can do this by selecting the\n",
            "'Restart kernel' or 'Restart runtime' option.\n"
          ]
        },
        {
          "output_type": "stream",
          "name": "stderr",
          "text": [
            "[nltk_data] Downloading package punkt to /root/nltk_data...\n",
            "[nltk_data]   Unzipping tokenizers/punkt.zip.\n",
            "[nltk_data] Downloading package stopwords to /root/nltk_data...\n",
            "[nltk_data]   Unzipping corpora/stopwords.zip.\n",
            "[nltk_data] Downloading package wordnet to /root/nltk_data...\n"
          ]
        }
      ]
    },
    {
      "cell_type": "markdown",
      "source": [
        "**1. Сравнение стемматизации и лемматизации**"
      ],
      "metadata": {
        "id": "ORdenrTamgWN"
      }
    },
    {
      "cell_type": "code",
      "source": [
        "# Тестовые тексты\n",
        "russian_text = \"\"\"\n",
        "В России проживают народы с разными традициями и верованиями.\n",
        "Русские люди всегда с интересом относились к культуре соседних народов.\n",
        "Петр Первый ввел многие европейские обычаи.\n",
        "Екатерина Великая переписывалась с французскими просветителями.\n",
        "Современные россияне любят путешествовать по разным странам мира.\n",
        "\"\"\"\n",
        "\n",
        "english_text = \"\"\"\n",
        "The United States is home to people with diverse traditions and beliefs.\n",
        "Americans have always been interested in the cultures of neighboring countries.\n",
        "George Washington established many governmental customs.\n",
        "Thomas Jefferson corresponded with French intellectuals.\n",
        "Modern Americans enjoy traveling to different countries around the world.\n",
        "\"\"\""
      ],
      "metadata": {
        "id": "qqJqaLM6mprF"
      },
      "execution_count": 10,
      "outputs": []
    },
    {
      "cell_type": "markdown",
      "source": [
        "1.1 Стемматизация с помощью NLTK. Стемматизация - это процесс нахождения основы слова путем отбрасывания аффиксов (окончаний, суффиксов). Стемматизаторы используют набор правил без словарей.\n",
        "\n",
        "\n"
      ],
      "metadata": {
        "id": "x07ZPxQImzj9"
      }
    },
    {
      "cell_type": "code",
      "source": [
        "from nltk.stem import SnowballStemmer\n",
        "import re\n",
        "\n",
        "# Создаем стемматизаторы для английского и русского языков\n",
        "english_stemmer = SnowballStemmer(\"english\")\n",
        "russian_stemmer = SnowballStemmer(\"russian\")\n",
        "\n",
        "# Функция для токенизации и стемматизации\n",
        "def stem_text(text, stemmer):\n",
        "    # Приводим к нижнему регистру и токенизируем\n",
        "    words = re.findall(r'\\b\\w+\\b', text.lower())\n",
        "    # Применяем стемматизацию\n",
        "    stemmed_words = [stemmer.stem(word) for word in words]\n",
        "    return stemmed_words\n",
        "\n",
        "# Стемматизация русского текста\n",
        "russian_stemmed = stem_text(russian_text, russian_stemmer)\n",
        "print(\"Стемматизированные русские слова:\")\n",
        "for i, word in enumerate(russian_stemmed[:15]):  # Выводим первые 15 слов\n",
        "    print(f\"{i+1}. {word}\")\n",
        "\n",
        "# Стемматизация английского текста\n",
        "english_stemmed = stem_text(english_text, english_stemmer)\n",
        "print(\"\\nСтемматизированные английские слова:\")\n",
        "for i, word in enumerate(english_stemmed[:15]):  # Выводим первые 15 слов\n",
        "    print(f\"{i+1}. {word}\")"
      ],
      "metadata": {
        "id": "D9_rxdQAm46d",
        "colab": {
          "base_uri": "https://localhost:8080/"
        },
        "outputId": "79bef5b8-ff43-4c7d-9c95-4ab991d8f470"
      },
      "execution_count": null,
      "outputs": [
        {
          "output_type": "stream",
          "name": "stdout",
          "text": [
            "Стемматизированные русские слова:\n",
            "1. машин\n",
            "2. обучен\n",
            "3. станов\n",
            "4. все\n",
            "5. бол\n",
            "6. популярн\n",
            "7. в\n",
            "8. современ\n",
            "9. мир\n",
            "10. компан\n",
            "11. использ\n",
            "12. алгоритм\n",
            "13. машин\n",
            "14. обучен\n",
            "15. для\n",
            "\n",
            "Стемматизированные английские слова:\n",
            "1. natur\n",
            "2. languag\n",
            "3. process\n",
            "4. help\n",
            "5. comput\n",
            "6. understand\n",
            "7. and\n",
            "8. generat\n",
            "9. human\n",
            "10. languag\n",
            "11. research\n",
            "12. are\n",
            "13. develop\n",
            "14. better\n",
            "15. model\n"
          ]
        }
      ]
    },
    {
      "cell_type": "markdown",
      "source": [
        "1.2 Лемматизация с помощью разных библиотек. Лемматизация - это процесс приведения слова к его словарной (нормальной) форме. Лемматизаторы используют словари и учитывают грамматические особенности."
      ],
      "metadata": {
        "id": "5RQGjFJ-nBEk"
      }
    },
    {
      "cell_type": "markdown",
      "source": [
        "1.2.1 NLTK (только для английского)"
      ],
      "metadata": {
        "id": "sUhOl_A9nFIE"
      }
    },
    {
      "cell_type": "code",
      "source": [
        "from nltk.stem import WordNetLemmatizer\n",
        "from nltk import word_tokenize, pos_tag\n",
        "from nltk.corpus import wordnet\n",
        "nltk.download('punkt_tab')\n",
        "nltk.download('averaged_perceptron_tagger_eng')"
      ],
      "metadata": {
        "id": "QMz6k24ynhut"
      },
      "execution_count": null,
      "outputs": []
    },
    {
      "cell_type": "code",
      "source": [
        "# Инициализация лемматизатора\n",
        "lemmatizer = WordNetLemmatizer()\n",
        "\n",
        "# Функция для конвертации POS-тегов NLTK в формат WordNet\n",
        "def get_wordnet_pos(tag):\n",
        "    if tag.startswith('J'):\n",
        "        return wordnet.ADJ\n",
        "    elif tag.startswith('V'):\n",
        "        return wordnet.VERB\n",
        "    elif tag.startswith('N'):\n",
        "        return wordnet.NOUN\n",
        "    elif tag.startswith('R'):\n",
        "        return wordnet.ADV\n",
        "    else:\n",
        "        return wordnet.NOUN  # По умолчанию существительное\n",
        "\n",
        "# Функция для лемматизации с учетом части речи\n",
        "def lemmatize_with_pos(text):\n",
        "    # Токенизация и определение части речи\n",
        "    tokens = word_tokenize(text.lower())\n",
        "    tagged = pos_tag(tokens)\n",
        "\n",
        "    # Лемматизация с учетом части речи\n",
        "    lemmas = []\n",
        "    for word, tag in tagged:\n",
        "        if word.isalpha():  # Исключаем числа и знаки препинания\n",
        "            wordnet_pos = get_wordnet_pos(tag)\n",
        "            lemmas.append(lemmatizer.lemmatize(word, wordnet_pos))\n",
        "\n",
        "    return lemmas\n",
        "\n",
        "# Лемматизация английского текста\n",
        "english_lemmas_nltk = lemmatize_with_pos(english_text)\n",
        "print(\"Лемматизированные английские слова (NLTK):\")\n",
        "for i, word in enumerate(english_lemmas_nltk[:15]):\n",
        "    print(f\"{i+1}. {word}\")\n",
        "\n",
        "# Примечание: NLTK не имеет встроенного лемматизатора для русского языка\n",
        "print(\"\\nNLTK не поддерживает лемматизацию русского языка напрямую.\")"
      ],
      "metadata": {
        "id": "cplx5w3znCe1",
        "colab": {
          "base_uri": "https://localhost:8080/"
        },
        "outputId": "25d2ff83-835a-4fbf-b475-a02ea5d08986"
      },
      "execution_count": null,
      "outputs": [
        {
          "output_type": "stream",
          "name": "stdout",
          "text": [
            "Лемматизированные английские слова (NLTK):\n",
            "1. natural\n",
            "2. language\n",
            "3. processing\n",
            "4. help\n",
            "5. computer\n",
            "6. understand\n",
            "7. and\n",
            "8. generate\n",
            "9. human\n",
            "10. language\n",
            "11. researcher\n",
            "12. be\n",
            "13. develop\n",
            "14. good\n",
            "15. model\n",
            "\n",
            "NLTK не поддерживает лемматизацию русского языка напрямую.\n"
          ]
        }
      ]
    },
    {
      "cell_type": "markdown",
      "source": [
        "1.2.2 spaCy (для обоих языков)"
      ],
      "metadata": {
        "id": "EC1ibf9HoP0E"
      }
    },
    {
      "cell_type": "code",
      "source": [
        "# Загрузка моделей spaCy\n",
        "nlp_en = spacy.load(\"en_core_web_sm\")\n",
        "nlp_ru = spacy.load(\"ru_core_news_sm\")\n",
        "\n",
        "# Функция для лемматизации с помощью spaCy\n",
        "def lemmatize_with_spacy(text, nlp):\n",
        "    doc = nlp(text)\n",
        "    lemmas = [token.lemma_ for token in doc if token.is_alpha]\n",
        "    return lemmas\n",
        "\n",
        "# Лемматизация английского текста\n",
        "english_lemmas_spacy = lemmatize_with_spacy(english_text, nlp_en)\n",
        "print(\"Лемматизированные английские слова (spaCy):\")\n",
        "for i, word in enumerate(english_lemmas_spacy[:15]):\n",
        "    print(f\"{i+1}. {word}\")\n",
        "\n",
        "# Лемматизация русского текста\n",
        "russian_lemmas_spacy = lemmatize_with_spacy(russian_text, nlp_ru)\n",
        "print(\"\\nЛемматизированные русские слова (spaCy):\")\n",
        "for i, word in enumerate(russian_lemmas_spacy[:15]):\n",
        "    print(f\"{i+1}. {word}\")"
      ],
      "metadata": {
        "id": "NEAcyouloRVU",
        "colab": {
          "base_uri": "https://localhost:8080/"
        },
        "outputId": "0553d700-8fd7-4db4-aa7e-aae04f783232"
      },
      "execution_count": null,
      "outputs": [
        {
          "output_type": "stream",
          "name": "stdout",
          "text": [
            "Лемматизированные английские слова (spaCy):\n",
            "1. natural\n",
            "2. language\n",
            "3. processing\n",
            "4. help\n",
            "5. computer\n",
            "6. understand\n",
            "7. and\n",
            "8. generate\n",
            "9. human\n",
            "10. language\n",
            "11. researcher\n",
            "12. be\n",
            "13. develop\n",
            "14. well\n",
            "15. model\n",
            "\n",
            "Лемматизированные русские слова (spaCy):\n",
            "1. машинный\n",
            "2. обучение\n",
            "3. становиться\n",
            "4. всё\n",
            "5. более\n",
            "6. популярный\n",
            "7. в\n",
            "8. современный\n",
            "9. мир\n",
            "10. компания\n",
            "11. использовать\n",
            "12. алгоритм\n",
            "13. машинный\n",
            "14. обучение\n",
            "15. для\n"
          ]
        }
      ]
    },
    {
      "cell_type": "markdown",
      "source": [
        "1.2.3 PyMorphy2 (для русского языка)"
      ],
      "metadata": {
        "id": "n-0rEI35pz4j"
      }
    },
    {
      "cell_type": "code",
      "source": [
        "# Инициализация анализатора\n",
        "morph = pymorphy2.MorphAnalyzer()\n",
        "\n",
        "# Функция для лемматизации с помощью PyMorphy2\n",
        "def lemmatize_with_pymorphy(text):\n",
        "    # Токенизация\n",
        "    words = re.findall(r'\\b\\w+\\b', text.lower())\n",
        "\n",
        "    # Лемматизация\n",
        "    lemmas = [morph.parse(word)[0].normal_form for word in words]\n",
        "    return lemmas\n",
        "\n",
        "# Лемматизация русского текста\n",
        "russian_lemmas_pymorphy = lemmatize_with_pymorphy(russian_text)\n",
        "print(\"Лемматизированные русские слова (PyMorphy2):\")\n",
        "for i, word in enumerate(russian_lemmas_pymorphy[:15]):\n",
        "    print(f\"{i+1}. {word}\")"
      ],
      "metadata": {
        "id": "JskPV0C3p0UT"
      },
      "execution_count": null,
      "outputs": []
    },
    {
      "cell_type": "markdown",
      "source": [
        "1.2.4 Natasha (для русского языка)"
      ],
      "metadata": {
        "id": "cAdupAM1qYi7"
      }
    },
    {
      "cell_type": "code",
      "source": [
        "# Инициализация компонентов Natasha\n",
        "segmenter = Segmenter()\n",
        "morph_vocab = MorphVocab()\n",
        "emb = NewsEmbedding()\n",
        "morph_tagger = NewsMorphTagger(emb)\n",
        "\n",
        "# Функция для лемматизации с помощью Natasha\n",
        "def lemmatize_with_natasha(text):\n",
        "    doc = Doc(text)\n",
        "    doc.segment(segmenter)\n",
        "    doc.tag_morph(morph_tagger)\n",
        "\n",
        "    lemmas = []\n",
        "    for token in doc.tokens:\n",
        "        if token.text.isalpha():  # Исключаем числа и знаки препинания\n",
        "            token.lemmatize(morph_vocab)\n",
        "            lemmas.append(token.lemma)\n",
        "\n",
        "    return lemmas\n",
        "\n",
        "# Лемматизация русского текста\n",
        "russian_lemmas_natasha = lemmatize_with_natasha(russian_text)\n",
        "print(\"Лемматизированные русские слова (Natasha):\")\n",
        "for i, word in enumerate(russian_lemmas_natasha[:15]):\n",
        "    print(f\"{i+1}. {word}\")"
      ],
      "metadata": {
        "id": "JFPv5xZFqaAz"
      },
      "execution_count": null,
      "outputs": []
    },
    {
      "cell_type": "markdown",
      "source": [
        "1.3 Сравнительная таблица результатов"
      ],
      "metadata": {
        "id": "6LjqZiOKqi4r"
      }
    },
    {
      "cell_type": "markdown",
      "source": [
        "Для наглядности сравним результаты обработки одних и тех же слов разными методами."
      ],
      "metadata": {
        "id": "U9vTvNd9qjbT"
      }
    },
    {
      "cell_type": "code",
      "source": [
        "import pandas as pd\n",
        "\n",
        "# Выбираем несколько интересных слов из русского текста для сравнения\n",
        "russian_words = [\"России\", \"проживают\", \"народы\", \"традициями\", \"верованиями\",\n",
        "                \"русские\", \"людей\", \"относились\", \"культуре\", \"Петр\", \"ввел\", \"обычаи\"]\n",
        "\n",
        "# Создаем DataFrame для сравнения\n",
        "comparison_ru = []\n",
        "for word in russian_words:\n",
        "    stem = russian_stemmer.stem(word.lower())\n",
        "    lemma_spacy = None\n",
        "\n",
        "    # Находим лемму в spaCy\n",
        "    doc = nlp_ru(word)\n",
        "    for token in doc:\n",
        "        lemma_spacy = token.lemma_\n",
        "\n",
        "    lemma_pymorphy = morph.parse(word.lower())[0].normal_form\n",
        "\n",
        "    # Находим лемму в Natasha\n",
        "    doc = Doc(word)\n",
        "    doc.segment(segmenter)\n",
        "    doc.tag_morph(morph_tagger)\n",
        "    for token in doc.tokens:\n",
        "        token.lemmatize(morph_vocab)\n",
        "        lemma_natasha = token.lemma\n",
        "\n",
        "    comparison_ru.append({\n",
        "        \"Слово\": word,\n",
        "        \"Стем (NLTK)\": stem,\n",
        "        \"Лемма (spaCy)\": lemma_spacy,\n",
        "        \"Лемма (PyMorphy2)\": lemma_pymorphy,\n",
        "        \"Лемма (Natasha)\": lemma_natasha\n",
        "    })\n",
        "\n",
        "# Создаем таблицу для русских слов\n",
        "comparison_ru_df = pd.DataFrame(comparison_ru)\n",
        "print(\"Сравнение методов для русского языка:\")\n",
        "comparison_ru_df"
      ],
      "metadata": {
        "id": "MBJxuEUlqlkr",
        "colab": {
          "base_uri": "https://localhost:8080/",
          "height": 211
        },
        "outputId": "ca93aeb1-c40a-48a6-fff6-fbdc9b4bec84"
      },
      "execution_count": 15,
      "outputs": [
        {
          "output_type": "error",
          "ename": "NameError",
          "evalue": "name 'nlp_ru' is not defined",
          "traceback": [
            "\u001b[0;31m---------------------------------------------------------------------------\u001b[0m",
            "\u001b[0;31mNameError\u001b[0m                                 Traceback (most recent call last)",
            "\u001b[0;32m/tmp/ipython-input-126691897.py\u001b[0m in \u001b[0;36m<cell line: 0>\u001b[0;34m()\u001b[0m\n\u001b[1;32m     12\u001b[0m \u001b[0;34m\u001b[0m\u001b[0m\n\u001b[1;32m     13\u001b[0m     \u001b[0;31m# Находим лемму в spaCy\u001b[0m\u001b[0;34m\u001b[0m\u001b[0;34m\u001b[0m\u001b[0m\n\u001b[0;32m---> 14\u001b[0;31m     \u001b[0mdoc\u001b[0m \u001b[0;34m=\u001b[0m \u001b[0mnlp_ru\u001b[0m\u001b[0;34m(\u001b[0m\u001b[0mword\u001b[0m\u001b[0;34m)\u001b[0m\u001b[0;34m\u001b[0m\u001b[0;34m\u001b[0m\u001b[0m\n\u001b[0m\u001b[1;32m     15\u001b[0m     \u001b[0;32mfor\u001b[0m \u001b[0mtoken\u001b[0m \u001b[0;32min\u001b[0m \u001b[0mdoc\u001b[0m\u001b[0;34m:\u001b[0m\u001b[0;34m\u001b[0m\u001b[0;34m\u001b[0m\u001b[0m\n\u001b[1;32m     16\u001b[0m         \u001b[0mlemma_spacy\u001b[0m \u001b[0;34m=\u001b[0m \u001b[0mtoken\u001b[0m\u001b[0;34m.\u001b[0m\u001b[0mlemma_\u001b[0m\u001b[0;34m\u001b[0m\u001b[0;34m\u001b[0m\u001b[0m\n",
            "\u001b[0;31mNameError\u001b[0m: name 'nlp_ru' is not defined"
          ]
        }
      ]
    },
    {
      "cell_type": "code",
      "source": [
        "# Выбираем несколько интересных слов из английского текста для сравнения\n",
        "english_words = [\"States\", \"people\", \"diverse\", \"traditions\", \"beliefs\",\n",
        "                \"Americans\", \"interested\", \"cultures\", \"neighboring\", \"established\", \"corresponded\", \"traveling\"]\n",
        "\n",
        "# Создаем DataFrame для сравнения\n",
        "comparison_en = []\n",
        "for word in english_words:\n",
        "    stem = english_stemmer.stem(word.lower())\n",
        "\n",
        "    # Находим лемму в NLTK\n",
        "    pos = pos_tag([word.lower()])[0][1]\n",
        "    wordnet_pos = get_wordnet_pos(pos)\n",
        "    lemma_nltk = lemmatizer.lemmatize(word.lower(), wordnet_pos)\n",
        "\n",
        "    # Находим лемму в spaCy\n",
        "    doc = nlp_en(word)\n",
        "    for token in doc:\n",
        "        lemma_spacy = token.lemma_\n",
        "\n",
        "    comparison_en.append({\n",
        "        \"Слово\": word,\n",
        "        \"Стем (NLTK)\": stem,\n",
        "        \"Лемма (NLTK)\": lemma_nltk,\n",
        "        \"Лемма (spaCy)\": lemma_spacy\n",
        "    })\n",
        "\n",
        "# Создаем таблицу для английских слов\n",
        "comparison_en_df = pd.DataFrame(comparison_en)\n",
        "print(\"Сравнение методов для английского языка:\")\n",
        "comparison_en_df"
      ],
      "metadata": {
        "id": "dHPkDhnlqyAz",
        "colab": {
          "base_uri": "https://localhost:8080/",
          "height": 211
        },
        "outputId": "d9a3cdb5-c139-45c7-8e6f-99f242e553e0"
      },
      "execution_count": 16,
      "outputs": [
        {
          "output_type": "error",
          "ename": "NameError",
          "evalue": "name 'english_stemmer' is not defined",
          "traceback": [
            "\u001b[0;31m---------------------------------------------------------------------------\u001b[0m",
            "\u001b[0;31mNameError\u001b[0m                                 Traceback (most recent call last)",
            "\u001b[0;32m/tmp/ipython-input-2120721452.py\u001b[0m in \u001b[0;36m<cell line: 0>\u001b[0;34m()\u001b[0m\n\u001b[1;32m      6\u001b[0m \u001b[0mcomparison_en\u001b[0m \u001b[0;34m=\u001b[0m \u001b[0;34m[\u001b[0m\u001b[0;34m]\u001b[0m\u001b[0;34m\u001b[0m\u001b[0;34m\u001b[0m\u001b[0m\n\u001b[1;32m      7\u001b[0m \u001b[0;32mfor\u001b[0m \u001b[0mword\u001b[0m \u001b[0;32min\u001b[0m \u001b[0menglish_words\u001b[0m\u001b[0;34m:\u001b[0m\u001b[0;34m\u001b[0m\u001b[0;34m\u001b[0m\u001b[0m\n\u001b[0;32m----> 8\u001b[0;31m     \u001b[0mstem\u001b[0m \u001b[0;34m=\u001b[0m \u001b[0menglish_stemmer\u001b[0m\u001b[0;34m.\u001b[0m\u001b[0mstem\u001b[0m\u001b[0;34m(\u001b[0m\u001b[0mword\u001b[0m\u001b[0;34m.\u001b[0m\u001b[0mlower\u001b[0m\u001b[0;34m(\u001b[0m\u001b[0;34m)\u001b[0m\u001b[0;34m)\u001b[0m\u001b[0;34m\u001b[0m\u001b[0;34m\u001b[0m\u001b[0m\n\u001b[0m\u001b[1;32m      9\u001b[0m \u001b[0;34m\u001b[0m\u001b[0m\n\u001b[1;32m     10\u001b[0m     \u001b[0;31m# Находим лемму в NLTK\u001b[0m\u001b[0;34m\u001b[0m\u001b[0;34m\u001b[0m\u001b[0m\n",
            "\u001b[0;31mNameError\u001b[0m: name 'english_stemmer' is not defined"
          ]
        }
      ]
    },
    {
      "cell_type": "markdown",
      "source": [
        "**2. Комплексные пайплайны препроцессинга текста**"
      ],
      "metadata": {
        "id": "L6ti34MVq4xS"
      }
    },
    {
      "cell_type": "markdown",
      "source": [
        "2.1 Пайплайн для русского языка с PyMorphy2"
      ],
      "metadata": {
        "id": "jqmpnF2Tq7jy"
      }
    },
    {
      "cell_type": "code",
      "source": [
        "import re\n",
        "import pymorphy2\n",
        "from nltk.corpus import stopwords"
      ],
      "metadata": {
        "id": "EiCoa-CmrFa7"
      },
      "execution_count": 8,
      "outputs": []
    },
    {
      "cell_type": "code",
      "source": [
        "# Загрузка стоп-слов\n",
        "nltk.download('stopwords')\n",
        "russian_stopwords = set(stopwords.words('russian'))\n",
        "\n",
        "# Инициализация анализатора\n",
        "morph = pymorphy2.MorphAnalyzer()\n",
        "\n",
        "def preprocess_russian_text(text):\n",
        "    \"\"\"\n",
        "    Полный пайплайн предобработки русского текста с использованием PyMorphy2\n",
        "    \"\"\"\n",
        "    # Шаг 1: Приведение текста к нижнему регистру\n",
        "    text = text.lower()\n",
        "    print(f\"1. Приведение к нижнему регистру: {text[:50]}...\")\n",
        "\n",
        "    # Шаг 2: Замена 'ё' на 'е'\n",
        "    text = text.replace('ё', 'е')\n",
        "    print(f\"2. Замена 'ё' на 'е': {text[:50]}...\")\n",
        "\n",
        "    # Шаг 3: Удаление цифр, знаков препинания и лишних пробелов\n",
        "    text = re.sub(r'[^\\w\\s]', ' ', text)  # Удаление знаков препинания\n",
        "    text = re.sub(r'\\d+', ' ', text)      # Удаление цифр\n",
        "    text = re.sub(r'\\s+', ' ', text)      # Удаление лишних пробелов\n",
        "    text = text.strip()                    # Удаление пробелов в начале и конце\n",
        "    print(f\"3. Очистка текста: {text[:50]}...\")\n",
        "\n",
        "    # Шаг 4: Токенизация\n",
        "    tokens = text.split()\n",
        "    print(f\"4. Токенизация: получено {len(tokens)} токенов\")\n",
        "\n",
        "    # Шаг 5: Удаление стоп-слов\n",
        "    filtered_tokens = [token for token in tokens if token not in russian_stopwords]\n",
        "    print(f\"5. Удаление стоп-слов: осталось {len(filtered_tokens)} токенов\")\n",
        "\n",
        "    # Шаг 6: Лемматизация с PyMorphy2\n",
        "    lemmas = []\n",
        "    for token in filtered_tokens:\n",
        "        parsed = morph.parse(token)[0]\n",
        "        lemmas.append(parsed.normal_form)\n",
        "\n",
        "    print(f\"6. Лемматизация: получено {len(lemmas)} лемм\")\n",
        "\n",
        "    # Шаг 7: Удаление слишком коротких слов\n",
        "    final_lemmas = [lemma for lemma in lemmas if len(lemma) > 2]\n",
        "    print(f\"7. Фильтрация коротких слов: итоговое количество {len(final_lemmas)} лемм\")\n",
        "\n",
        "    return final_lemmas\n",
        "\n",
        "# Применение пайплайна к русскому тексту\n",
        "print(\"Комплексный пайплайн для русского текста:\")\n",
        "preprocessed_russian = preprocess_russian_text(russian_text)\n",
        "print(\"\\nРезультат:\")\n",
        "print(preprocessed_russian)"
      ],
      "metadata": {
        "id": "uOLOXZbLq-Xz",
        "colab": {
          "base_uri": "https://localhost:8080/"
        },
        "outputId": "f410a7a2-92b9-4bef-fbef-2de1a9159939"
      },
      "execution_count": 13,
      "outputs": [
        {
          "output_type": "stream",
          "name": "stdout",
          "text": [
            "Комплексный пайплайн для русского текста:\n",
            "1. Приведение к нижнему регистру: \n",
            "в россии проживают народы с разными традициями и ...\n",
            "2. Замена 'ё' на 'е': \n",
            "в россии проживают народы с разными традициями и ...\n",
            "3. Очистка текста: в россии проживают народы с разными традициями и в...\n",
            "4. Токенизация: получено 39 токенов\n",
            "5. Удаление стоп-слов: осталось 31 токенов\n",
            "6. Лемматизация: получено 31 лемм\n",
            "7. Фильтрация коротких слов: итоговое количество 31 лемм\n",
            "\n",
            "Результат:\n",
            "['россия', 'проживать', 'народ', 'разный', 'традиция', 'верование', 'русский', 'человек', 'интерес', 'относиться', 'культура', 'соседний', 'народ', 'пётр', 'первый', 'ввести', 'многие', 'европейский', 'обычай', 'екатерина', 'великий', 'переписываться', 'французский', 'просветитель', 'современный', 'россиянин', 'любить', 'путешествовать', 'разный', 'страна', 'мир']\n"
          ]
        },
        {
          "output_type": "stream",
          "name": "stderr",
          "text": [
            "[nltk_data] Downloading package stopwords to /root/nltk_data...\n",
            "[nltk_data]   Package stopwords is already up-to-date!\n"
          ]
        }
      ]
    },
    {
      "cell_type": "markdown",
      "source": [
        "2.2 Пайплайн для английского языка с spaCy"
      ],
      "metadata": {
        "id": "SiC4PNPlrQAy"
      }
    },
    {
      "cell_type": "code",
      "source": [
        "import spacy\n",
        "from nltk.corpus import stopwords"
      ],
      "metadata": {
        "id": "avOTgnkUrRBj"
      },
      "execution_count": null,
      "outputs": []
    },
    {
      "cell_type": "code",
      "source": [
        "# Загрузка стоп-слов и модели spaCy\n",
        "english_stopwords = set(stopwords.words('english'))\n",
        "nlp_en = spacy.load(\"en_core_web_sm\")\n",
        "\n",
        "def preprocess_english_text(text):\n",
        "    \"\"\"\n",
        "    Полный пайплайн предобработки английского текста с использованием spaCy\n",
        "    \"\"\"\n",
        "    # Шаг 1: Приведение текста к нижнему регистру\n",
        "    text = text.lower()\n",
        "    print(f\"1. Приведение к нижнему регистру: {text[:50]}...\")\n",
        "\n",
        "    # Шаг 2: Расширение сокращений (контракций)\n",
        "    text = re.sub(r\"n't\", \" not\", text)\n",
        "    text = re.sub(r\"'ve\", \" have\", text)\n",
        "    text = re.sub(r\"'re\", \" are\", text)\n",
        "    text = re.sub(r\"'m\", \" am\", text)\n",
        "    text = re.sub(r\"'ll\", \" will\", text)\n",
        "    text = re.sub(r\"'d\", \" would\", text)\n",
        "    print(f\"2. Расширение контракций: {text[:50]}...\")\n",
        "\n",
        "    # Шаг 3: Обработка текста с помощью spaCy\n",
        "    doc = nlp_en(text)\n",
        "    print(f\"3. Обработка с spaCy: получено {len(doc)} токенов\")\n",
        "\n",
        "    # Шаг 4: Фильтрация и лемматизация\n",
        "    lemmas = []\n",
        "    for token in doc:\n",
        "        # Проверяем, что токен не является стоп-словом, пунктуацией или числом\n",
        "        if (not token.is_stop and\n",
        "            not token.is_punct and\n",
        "            not token.is_digit and\n",
        "            token.is_alpha):  # Только буквенные токены\n",
        "\n",
        "            # Получаем лемму и проверяем, что она не является специальным токеном spaCy\n",
        "            lemma = token.lemma_\n",
        "            if lemma != '-PRON-':  # spaCy иногда использует -PRON- для местоимений\n",
        "                lemmas.append(lemma)\n",
        "\n",
        "    print(f\"4. Фильтрация и лемматизация: получено {len(lemmas)} лемм\")\n",
        "\n",
        "    # Шаг 5: Удаление слишком коротких слов\n",
        "    final_lemmas = [lemma for lemma in lemmas if len(lemma) > 2]\n",
        "    print(f\"5. Фильтрация коротких слов: итоговое количество {len(final_lemmas)} лемм\")\n",
        "\n",
        "    return final_lemmas\n",
        "\n",
        "# Применение пайплайна к английскому тексту\n",
        "print(\"Комплексный пайплайн для английского текста:\")\n",
        "preprocessed_english = preprocess_english_text(english_text)\n",
        "print(\"\\nРезультат:\")\n",
        "print(preprocessed_english)"
      ],
      "metadata": {
        "id": "7cbkaplkrVCq"
      },
      "execution_count": null,
      "outputs": []
    },
    {
      "cell_type": "markdown",
      "source": [
        "2.3 Пайплайн для смешанного текста (русский + английский)"
      ],
      "metadata": {
        "id": "EViy6ISyraCK"
      }
    },
    {
      "cell_type": "markdown",
      "source": [
        "Блок 1: Импорт необходимых библиотек и инициализация"
      ],
      "metadata": {
        "id": "UIbjAyRlCFmY"
      }
    },
    {
      "cell_type": "code",
      "source": [
        "import re\n",
        "import nltk\n",
        "from nltk.tokenize import word_tokenize\n",
        "from nltk.corpus import stopwords\n",
        "from nltk.stem import SnowballStemmer\n",
        "import pymorphy2\n",
        "\n",
        "# Загрузим необходимые ресурсы\n",
        "nltk.download('stopwords')\n",
        "nltk.download('punkt')\n",
        "\n",
        "# Инициализация анализаторов\n",
        "morph = pymorphy2.MorphAnalyzer()\n",
        "russian_stemmer = SnowballStemmer(\"russian\")\n",
        "english_stemmer = SnowballStemmer(\"english\")\n",
        "\n",
        "# Списки стоп-слов\n",
        "russian_stop_words = set(stopwords.words('russian'))\n",
        "english_stop_words = set(stopwords.words('english'))\n"
      ],
      "metadata": {
        "id": "cS3MzLG0BNSz"
      },
      "execution_count": null,
      "outputs": []
    },
    {
      "cell_type": "code",
      "source": [
        "# Исходный текст\n",
        "mixed_text = \"\"\"\n",
        "<p>В современном мире digital-технологии стали неотъемлемой частью жизни.</p>\n",
        "<strong>Information technologies</strong> изменили способы коммуникации между людьми в 2023 году.\n",
        "CEO крупных IT-компаний (более 500 сотрудников) регулярно проводят online-конференции.\n",
        "<a href=\"https://example.com\">Developers</a> из разных стран сотрудничают в open-source проектах.\n",
        "Искусственный интеллект и <em>machine learning</em> находят применение в разных сферах.\n",
        "Для связи: contact@tech-info.com или посетите https://tech-conference.org.\n",
        "<div class=\"footer\">\n",
        "  © 2023 AI-News. Телефон: +7 (123) 456-78-90. #искусственныйинтеллект #bigdata\n",
        "</div>\n",
        "Data-scientists и ML-инженеры работают с web-приложениями и AI-моделями.\n",
        "Кибер-безопасность и e-commerce — важные направления IT-индустрии.\n",
        "\"\"\""
      ],
      "metadata": {
        "id": "M2gIZ8yTCr9-"
      },
      "execution_count": null,
      "outputs": []
    },
    {
      "cell_type": "markdown",
      "source": [
        "Блок 2: Нормализация текста"
      ],
      "metadata": {
        "id": "HWkQF_PhCMk3"
      }
    },
    {
      "cell_type": "code",
      "source": [
        "def normalize_mixed_text(text):\n",
        "    \"\"\"\n",
        "    Нормализует смешанный текст, удаляя HTML-теги, URL, email, специальные символы\n",
        "    и выполняя базовые преобразования для стандартизации текста.\n",
        "\n",
        "    Args:\n",
        "        text (str): Исходный смешанный текст с \"шумом\"\n",
        "\n",
        "    Returns:\n",
        "        str: Нормализованный текст\n",
        "    \"\"\"\n",
        "    # Шаг 1: Удаление HTML-тегов\n",
        "    # Находит и удаляет всё между < и >, включая скрипты и стили\n",
        "    text = re.sub(r'<[^>]+>', ' ', text)\n",
        "\n",
        "    # Шаг 2: Удаление URL-адресов\n",
        "    text = re.sub(r'https?://\\S+|www\\.\\S+', ' ', text)\n",
        "\n",
        "    # Шаг 3: Удаление email-адресов\n",
        "    text = re.sub(r'\\S+@\\S+\\.\\S+', ' ', text)\n",
        "\n",
        "    # Шаг 4: Удаление хештегов\n",
        "    text = re.sub(r'#\\S+', ' ', text)\n",
        "\n",
        "    # Шаг 5: Удаление номеров телефонов (различные форматы)\n",
        "    text = re.sub(r'\\+\\d+\\s*[\\(\\)]*\\s*\\d+[\\s\\-\\(\\)]*\\d+[\\s\\-\\(\\)]*\\d+', ' ', text)\n",
        "\n",
        "    # Шаг 6: Удаление символов копирайта, специальных символов\n",
        "    text = re.sub(r'[©®™℠]+', ' ', text)\n",
        "\n",
        "    # Шаг 7: Замена скобок и их содержимого на пробел\n",
        "    text = re.sub(r'\\([^)]*\\)', ' ', text)\n",
        "\n",
        "    # Шаг 8: Приведение к нижнему регистру\n",
        "    text = text.lower()\n",
        "\n",
        "    # Шаг 9: Замена буквы \"ё\" на \"е\" для унификации русского текста\n",
        "    text = text.replace('ё', 'е')\n",
        "\n",
        "    # Шаг 10: Обработка пунктуации\n",
        "    # Сохраняем дефисы внутри слов, но удаляем остальную пунктуацию\n",
        "    # Сначала заменим дефисы временным маркером\n",
        "    text = re.sub(r'(\\w)-(\\w)', r'\\1HYPHEN\\2', text)\n",
        "\n",
        "    # Удаляем пунктуацию кроме временных маркеров дефисов\n",
        "    text = re.sub(r'[^\\w\\sHYPHEN]', ' ', text)\n",
        "\n",
        "    # Возвращаем дефисы\n",
        "    text = re.sub(r'HYPHEN', '-', text)\n",
        "\n",
        "    # Шаг 11: Удаление цифр, но сохранение слов с цифрами (например, ML-инженеры5)\n",
        "    text = re.sub(r'\\b\\d+\\b', ' ', text)\n",
        "\n",
        "    # Шаг 12: Удаление избыточных пробелов (в том числе в начале и конце строк)\n",
        "    text = re.sub(r'\\s+', ' ', text).strip()\n",
        "\n",
        "    return text\n",
        "\n",
        "# Тест функции\n",
        "normalized_text = normalize_mixed_text(mixed_text)\n",
        "print(\"Нормализованный текст:\")\n",
        "print(normalized_text)"
      ],
      "metadata": {
        "id": "cfC2GfQ2Br8k"
      },
      "execution_count": null,
      "outputs": []
    },
    {
      "cell_type": "markdown",
      "source": [
        "Блок 3: Определение алфавита символа и токенизация"
      ],
      "metadata": {
        "id": "vMtLsyCMDZ9G"
      }
    },
    {
      "cell_type": "code",
      "source": [
        "def is_cyrillic(char):\n",
        "    \"\"\"Проверяет, является ли символ кириллическим.\"\"\"\n",
        "    return 'а' <= char <= 'я' or char == 'ё'\n",
        "\n",
        "def is_latin(char):\n",
        "    \"\"\"Проверяет, является ли символ латинским.\"\"\"\n",
        "    return 'a' <= char <= 'z'\n",
        "\n",
        "def classify_token(token):\n",
        "    \"\"\"Определяет язык токена: 'russian', 'english' или 'mixed'.\"\"\"\n",
        "    if not token:\n",
        "        return None\n",
        "\n",
        "    # Удаляем все не-буквенные символы для определения языка\n",
        "    letters = [c for c in token.lower() if c.isalpha()]\n",
        "    if not letters:\n",
        "        return None\n",
        "\n",
        "    cyrillic_count = sum(1 for c in letters if is_cyrillic(c))\n",
        "    latin_count = sum(1 for c in letters if is_latin(c))\n",
        "\n",
        "    if cyrillic_count > 0 and latin_count == 0:\n",
        "        return 'russian'\n",
        "    elif latin_count > 0 and cyrillic_count == 0:\n",
        "        return 'english'\n",
        "    elif cyrillic_count > 0 and latin_count > 0:\n",
        "        return 'mixed'\n",
        "    else:\n",
        "        return None\n",
        "\n",
        "def split_hyphenated_words(token):\n",
        "    \"\"\"Разбивает слова с дефисом, если они состоят из смешанных символов.\"\"\"\n",
        "    if '-' not in token:\n",
        "        return [token]\n",
        "\n",
        "    # Проверяем, есть ли смешанные символы в токене\n",
        "    if classify_token(token) != 'mixed':\n",
        "        return [token]\n",
        "\n",
        "    # Разбиваем по дефису\n",
        "    parts = token.split('-')\n",
        "    result = []\n",
        "\n",
        "    for part in parts:\n",
        "        if part:  # Игнорируем пустые части\n",
        "            result.append(part)\n",
        "\n",
        "    return result\n",
        "\n",
        "def tokenize_and_classify(text):\n",
        "    \"\"\"Токенизирует текст и классифицирует токены по языку.\"\"\"\n",
        "    # Сначала разделим текст на слова, сохраняя дефисы внутри слов\n",
        "    raw_tokens = re.findall(r'\\b[\\w\\-]+\\b', text)\n",
        "\n",
        "    russian_tokens = []\n",
        "    english_tokens = []\n",
        "\n",
        "    for token in raw_tokens:\n",
        "        # Проверяем, нужно ли разделить слово с дефисом\n",
        "        split_tokens = split_hyphenated_words(token)\n",
        "\n",
        "        for t in split_tokens:\n",
        "            lang = classify_token(t)\n",
        "            if lang == 'russian':\n",
        "                russian_tokens.append(t)\n",
        "            elif lang == 'english':\n",
        "                english_tokens.append(t)\n",
        "\n",
        "    return russian_tokens, english_tokens\n",
        "\n",
        "# Применяем токенизацию и классификацию\n",
        "russian_tokens, english_tokens = tokenize_and_classify(normalized_text)\n",
        "\n",
        "print(\"\\nРусские токены:\")\n",
        "print(russian_tokens)\n",
        "print(\"\\nАнглийские токены:\")\n",
        "print(english_tokens)"
      ],
      "metadata": {
        "id": "0fKwh812DcQO"
      },
      "execution_count": null,
      "outputs": []
    },
    {
      "cell_type": "markdown",
      "source": [
        "Блок 4: Обработка токенов по языковым правилам"
      ],
      "metadata": {
        "id": "GaZMugJFDtHQ"
      }
    },
    {
      "cell_type": "code",
      "source": [
        "def process_russian_tokens(tokens):\n",
        "    \"\"\"Обрабатывает русские токены по пайплайну для русского языка.\"\"\"\n",
        "    # Фильтрация стоп-слов\n",
        "    filtered_tokens = [token for token in tokens if token not in russian_stop_words]\n",
        "\n",
        "    # Лемматизация с помощью pymorphy2\n",
        "    lemmatized_tokens = []\n",
        "    for token in filtered_tokens:\n",
        "        # Получаем нормальную форму\n",
        "        lemma = morph.parse(token)[0].normal_form\n",
        "        lemmatized_tokens.append(lemma)\n",
        "\n",
        "    return lemmatized_tokens\n",
        "\n",
        "def process_english_tokens(tokens):\n",
        "    \"\"\"Обрабатывает английские токены по пайплайну для английского языка.\"\"\"\n",
        "    # Обработка сокращений и апострофов\n",
        "    expanded_tokens = []\n",
        "    for token in tokens:\n",
        "        # Обработка притяжательных форм и сокращений\n",
        "        token = re.sub(r'\\'s$|\\'$', '', token)  # Удаляем 's и '\n",
        "        expanded_tokens.append(token)\n",
        "\n",
        "    # Фильтрация стоп-слов\n",
        "    filtered_tokens = [token for token in expanded_tokens if token not in english_stop_words]\n",
        "\n",
        "    # Стемматизация\n",
        "    stemmed_tokens = [english_stemmer.stem(token) for token in filtered_tokens]\n",
        "\n",
        "    return stemmed_tokens\n",
        "\n",
        "# Обработка токенов по языковым правилам\n",
        "processed_russian = process_russian_tokens(russian_tokens)\n",
        "processed_english = process_english_tokens(english_tokens)\n",
        "\n",
        "print(\"\\nОбработанные русские токены:\")\n",
        "print(processed_russian)\n",
        "print(\"\\nОбработанные английские токены:\")\n",
        "print(processed_english)"
      ],
      "metadata": {
        "id": "_Fon7yaBDtuL"
      },
      "execution_count": null,
      "outputs": []
    },
    {
      "cell_type": "markdown",
      "source": [
        "Блок 5: Финальная обработка и объединение результатов"
      ],
      "metadata": {
        "id": "RrZFA-rID2XX"
      }
    },
    {
      "cell_type": "code",
      "source": [
        "def final_processing(russian_tokens, english_tokens):\n",
        "    \"\"\"Выполняет постобработку и объединяет результаты.\"\"\"\n",
        "    # Фильтрация коротких слов (менее 3 символов)\n",
        "    filtered_russian = [token for token in russian_tokens if len(token) >= 3]\n",
        "    filtered_english = [token for token in english_tokens if len(token) >= 3]\n",
        "\n",
        "    # Удаление дубликатов\n",
        "    unique_russian = list(dict.fromkeys(filtered_russian))\n",
        "    unique_english = list(dict.fromkeys(filtered_english))\n",
        "\n",
        "    return {\n",
        "        'russian_tokens': unique_russian,\n",
        "        'english_tokens': unique_english,\n",
        "        'stats': {\n",
        "            'russian_count': len(unique_russian),\n",
        "            'english_count': len(unique_english),\n",
        "            'total_unique': len(unique_russian) + len(unique_english)\n",
        "        }\n",
        "    }\n",
        "\n",
        "# Финальная обработка\n",
        "result = final_processing(processed_russian, processed_english)\n",
        "\n",
        "print(\"\\nФинальный результат:\")\n",
        "print(\"Русские слова:\", result['russian_tokens'])\n",
        "print(\"Английские слова:\", result['english_tokens'])\n",
        "print(\"\\nСтатистика:\")\n",
        "print(f\"Количество русских слов: {result['stats']['russian_count']}\")\n",
        "print(f\"Количество английских слов: {result['stats']['english_count']}\")\n",
        "print(f\"Общее количество уникальных слов: {result['stats']['total_unique']}\")"
      ],
      "metadata": {
        "id": "ulvjX8hDD4LJ"
      },
      "execution_count": null,
      "outputs": []
    },
    {
      "cell_type": "markdown",
      "source": [
        "**Практические упражнения:**"
      ],
      "metadata": {
        "id": "JwJWCho_Eebo"
      }
    },
    {
      "cell_type": "markdown",
      "source": [
        "Упражнение 1: Базовая стемматизация русского текста с помощью NLTK"
      ],
      "metadata": {
        "id": "xThTr52IEvhr"
      }
    },
    {
      "cell_type": "markdown",
      "source": [
        "Задание:\n",
        "Напишите функцию, которая принимает русский текст, выполняет токенизацию и применяет стемматизацию с использованием SnowballStemmer из библиотеки NLTK. Функция должна возвращать список стемматизированных слов.\n",
        "\n",
        "Требования:\n",
        "\n",
        "* Используйте SnowballStemmer(\"russian\") из NLTK\n",
        "* Удалите все знаки препинания перед стемматизацией\n",
        "* Приведите слова к нижнему регистру\n",
        "* Выведите исходные слова и их стеммы в виде таблицы для сравнения"
      ],
      "metadata": {
        "id": "8b-U9dWlEyUB"
      }
    },
    {
      "cell_type": "code",
      "source": [
        "from nltk.stem import SnowballStemmer\n",
        "import re\n",
        "import pandas as pd\n",
        "\n",
        "russian_stemmer = SnowballStemmer(\"russian\")\n",
        "\n",
        "russian_text = \"\"\"\n",
        "Программирование - это искусство создания программ для компьютеров.\n",
        "Программисты разрабатывают различные приложения, которые используются миллионами людей.\n",
        "Хорошие разработчики всегда учатся новому и совершенствуют свои навыки программирования.\n",
        "\"\"\"\n",
        "\n",
        "def stem_russian_text(text):\n",
        "    words = re.findall(r'\\b\\w+\\b', text.lower())\n",
        "\n",
        "    stemmed_words = [russian_stemmer.stem(word) for word in words]\n",
        "\n",
        "    comparison = []\n",
        "    for i, (original, stem) in enumerate(zip(words, stemmed_words)):\n",
        "        comparison.append({\n",
        "            '№': i+1,\n",
        "            'Исходное слово': original,\n",
        "            'Стемма': stem\n",
        "        })\n",
        "\n",
        "    comparison_df = pd.DataFrame(comparison)\n",
        "    print(\"Сравнение исходных слов и стемм:\")\n",
        "    print(comparison_df.head(15))\n",
        "\n",
        "    return comparison_df\n",
        "\n",
        "result_df = stem_russian_text(russian_text)\n"
      ],
      "metadata": {
        "id": "kG7vf-0jE6US",
        "colab": {
          "base_uri": "https://localhost:8080/"
        },
        "outputId": "0ff411db-63ab-4190-9dd5-3710605d4ae3"
      },
      "execution_count": 17,
      "outputs": [
        {
          "output_type": "stream",
          "name": "stdout",
          "text": [
            "Сравнение исходных слов и стемм:\n",
            "     №    Исходное слово          Стемма\n",
            "0    1  программирование  программирован\n",
            "1    2               это              эт\n",
            "2    3         искусство        искусств\n",
            "3    4          создания          создан\n",
            "4    5          программ        программ\n",
            "5    6               для             для\n",
            "6    7       компьютеров       компьютер\n",
            "7    8      программисты     программист\n",
            "8    9     разрабатывают     разрабатыва\n",
            "9   10         различные         различн\n",
            "10  11        приложения        приложен\n",
            "11  12           которые           котор\n",
            "12  13      используются         использ\n",
            "13  14        миллионами         миллион\n",
            "14  15             людей             люд\n"
          ]
        }
      ]
    },
    {
      "cell_type": "markdown",
      "source": [
        "Упражнение 2: Сравнение стемматизации и лемматизации английского текста"
      ],
      "metadata": {
        "id": "rHBKG099FGa5"
      }
    },
    {
      "cell_type": "markdown",
      "source": [
        "Задание: Реализуйте две функции, которые обрабатывают один и тот же английский текст с использованием PorterStemmer и WordNetLemmatizer из NLTK соответственно. Сравните результаты и определите, какой метод лучше сохраняет семантику слов.\n",
        "\n",
        "Требования:\n",
        "\n",
        "* Для стемматизации используйте PorterStemmer из NLTK\n",
        "* Для лемматизации используйте WordNetLemmatizer с определением части речи\n",
        "* Создайте таблицу сравнения из трех колонок: исходное слово, стемма, лемма\n",
        "* Выделите случаи, где результаты стемматизации и лемматизации существенно различаются"
      ],
      "metadata": {
        "id": "bRCilNwJFJKu"
      }
    },
    {
      "cell_type": "code",
      "source": [
        "from nltk.stem import PorterStemmer, WordNetLemmatizer\n",
        "from nltk import pos_tag, word_tokenize\n",
        "from nltk.corpus import wordnet\n",
        "import nltk\n",
        "import pandas as pd\n",
        "\n",
        "nltk.download('punkt_tab')\n",
        "nltk.download('averaged_perceptron_tagger_eng')\n",
        "nltk.download('wordnet')\n",
        "\n",
        "stemmer = PorterStemmer()\n",
        "lemmatizer = WordNetLemmatizer()\n",
        "\n",
        "english_text = \"\"\"\n",
        "Natural language processing helps computers understand and generate human language.\n",
        "Researchers are developing better models that can recognize patterns in texts.\n",
        "The running applications are processing huge amounts of data daily.\n",
        "Many universities are teaching students how to build better language models.\n",
        "\"\"\"\n",
        "\n",
        "def get_wordnet_pos(tag):\n",
        "    if tag.startswith('J'):\n",
        "        return wordnet.ADJ\n",
        "    elif tag.startswith('V'):\n",
        "        return wordnet.VERB\n",
        "    elif tag.startswith('N'):\n",
        "        return wordnet.NOUN\n",
        "    elif tag.startswith('R'):\n",
        "        return wordnet.ADV\n",
        "    else:\n",
        "        return wordnet.NOUN\n",
        "\n",
        "def compare_stemming_lemmatization(text):\n",
        "    tokens = word_tokenize(text.lower())\n",
        "    tagged = pos_tag(tokens)\n",
        "\n",
        "    comparison = []\n",
        "    different_count = 0\n",
        "\n",
        "    for word, tag in tagged:\n",
        "        if word.isalpha():\n",
        "            stem = stemmer.stem(word)\n",
        "            wordnet_pos = get_wordnet_pos(tag)\n",
        "            lemma = lemmatizer.lemmatize(word, wordnet_pos)\n",
        "\n",
        "            is_different = stem != lemma\n",
        "\n",
        "            comparison.append({\n",
        "                'Слово': word,\n",
        "                'Стемма': stem,\n",
        "                'Лемма': lemma,\n",
        "                'Различаются': 'Да' if is_different else 'Нет'\n",
        "            })\n",
        "\n",
        "            if is_different:\n",
        "                different_count += 1\n",
        "\n",
        "    comparison_df = pd.DataFrame(comparison)\n",
        "\n",
        "    print(\"Сравнение стемматизации и лемматизации:\")\n",
        "    print(comparison_df.head(20))\n",
        "\n",
        "    print(f\"\\nКоличество слов с разными стеммами и леммами: {different_count}\")\n",
        "\n",
        "    different_df = comparison_df[comparison_df['Различаются'] == 'Да']\n",
        "    if len(different_df) > 0:\n",
        "        print(\"\\nСлова с разными стеммами и леммами:\")\n",
        "        print(different_df.head(10))\n",
        "\n",
        "    return comparison_df\n",
        "\n",
        "results_df = compare_stemming_lemmatization(english_text)"
      ],
      "metadata": {
        "id": "uuAXLHprFaqW",
        "colab": {
          "base_uri": "https://localhost:8080/"
        },
        "outputId": "84ba7d34-4144-4099-add1-25f42ed6c946"
      },
      "execution_count": 21,
      "outputs": [
        {
          "output_type": "stream",
          "name": "stdout",
          "text": [
            "Сравнение стемматизации и лемматизации:\n",
            "          Слово      Стемма       Лемма Различаются\n",
            "0       natural       natur     natural          Да\n",
            "1      language     languag    language          Да\n",
            "2    processing     process  processing          Да\n",
            "3         helps        help        help         Нет\n",
            "4     computers      comput    computer          Да\n",
            "5    understand  understand  understand         Нет\n",
            "6           and         and         and         Нет\n",
            "7      generate       gener    generate          Да\n",
            "8         human       human       human         Нет\n",
            "9      language     languag    language          Да\n",
            "10  researchers    research  researcher          Да\n",
            "11          are         are          be          Да\n",
            "12   developing     develop     develop         Нет\n",
            "13       better      better        good          Да\n",
            "14       models       model       model         Нет\n",
            "15         that        that        that         Нет\n",
            "16          can         can         can         Нет\n",
            "17    recognize      recogn   recognize          Да\n",
            "18     patterns     pattern     pattern         Нет\n",
            "19           in          in          in         Нет\n",
            "\n",
            "Количество слов с разными стеммами и леммами: 19\n",
            "\n",
            "Слова с разными стеммами и леммами:\n",
            "          Слово    Стемма       Лемма Различаются\n",
            "0       natural     natur     natural          Да\n",
            "1      language   languag    language          Да\n",
            "2    processing   process  processing          Да\n",
            "4     computers    comput    computer          Да\n",
            "7      generate     gener    generate          Да\n",
            "9      language   languag    language          Да\n",
            "10  researchers  research  researcher          Да\n",
            "11          are       are          be          Да\n",
            "13       better    better        good          Да\n",
            "17    recognize    recogn   recognize          Да\n"
          ]
        },
        {
          "output_type": "stream",
          "name": "stderr",
          "text": [
            "[nltk_data] Downloading package punkt_tab to /root/nltk_data...\n",
            "[nltk_data]   Package punkt_tab is already up-to-date!\n",
            "[nltk_data] Downloading package averaged_perceptron_tagger_eng to\n",
            "[nltk_data]     /root/nltk_data...\n",
            "[nltk_data]   Package averaged_perceptron_tagger_eng is already up-to-\n",
            "[nltk_data]       date!\n",
            "[nltk_data] Downloading package wordnet to /root/nltk_data...\n",
            "[nltk_data]   Package wordnet is already up-to-date!\n"
          ]
        }
      ]
    },
    {
      "cell_type": "markdown",
      "source": [
        "Упражнение 3: Лемматизация русского текста с использованием pymorphy2 и определение частей речи"
      ],
      "metadata": {
        "id": "JS5vnJXZFhPl"
      }
    },
    {
      "cell_type": "markdown",
      "source": [
        "Задание: Напишите функцию, которая выполняет морфологический анализ русского текста с помощью библиотеки pymorphy2. Функция должна возвращать для каждого слова его лемму (нормальную форму) и часть речи.\n",
        "\n",
        "Требования:\n",
        "\n",
        "* Используйте pymorphy2.MorphAnalyzer()\n",
        "* Обработайте токенизированный текст, игнорируя пунктуацию и числа\n",
        "* Для каждого слова определите нормальную форму и часть речи\n",
        "* Посчитайте частоту встречаемости каждой части речи в тексте\n",
        "* Найдите слова, имеющие омонимичные разборы, и предложите способ разрешения неоднозначности"
      ],
      "metadata": {
        "id": "EW0VZZMaFiBQ"
      }
    },
    {
      "cell_type": "code",
      "source": [
        "import pymorphy2\n",
        "import re\n",
        "import pandas as pd\n",
        "\n",
        "morph = pymorphy2.MorphAnalyzer()\n",
        "\n",
        "russian_text = \"\"\"\n",
        "Машинное обучение становится всё более популярным в современном мире.\n",
        "Компании используют алгоритмы машинного обучения для анализа данных и принятия решений.\n",
        "Инженеры по данным обучают модели на больших наборах данных, чтобы повысить их точность.\n",
        "Эти технологии меняют нашу жизнь, делая её более удобной и эффективной.\n",
        "\"\"\"\n",
        "\n",
        "def analyze_russian_text(text):\n",
        "    words = re.findall(r'\\b\\w+\\b', text.lower())\n",
        "\n",
        "    comparison = []\n",
        "    pos_dict = {}\n",
        "    ambiguous_words = []\n",
        "\n",
        "    for i, word in enumerate(words):\n",
        "        if word.isalpha():\n",
        "            parsed = morph.parse(word)[0]\n",
        "            normal_form = parsed.normal_form\n",
        "            pos = parsed.tag.POS if parsed.tag.POS else 'UNKN'\n",
        "\n",
        "            is_ambiguous = len(morph.parse(word)) > 1\n",
        "\n",
        "            comparison.append({\n",
        "                '№': i+1,\n",
        "                'Слово': word,\n",
        "                'Лемма': normal_form,\n",
        "                'Часть речи': pos,\n",
        "                'Омонимия': 'Да' if is_ambiguous else 'Нет'\n",
        "            })\n",
        "\n",
        "            if pos in pos_dict:\n",
        "                pos_dict[pos] += 1\n",
        "            else:\n",
        "                pos_dict[pos] = 1\n",
        "\n",
        "            if is_ambiguous:\n",
        "                ambiguous_words.append(word)\n",
        "\n",
        "    comparison_df = pd.DataFrame(comparison)\n",
        "\n",
        "    print(\"Лемматизация и части речи:\")\n",
        "    print(comparison_df.head(20))\n",
        "\n",
        "    print(f\"\\nСтатистика частей речи:\")\n",
        "    pos_stats = []\n",
        "    for pos, count in pos_dict.items():\n",
        "        pos_stats.append({'Часть речи': pos, 'Количество': count})\n",
        "\n",
        "    def sort_by_count(item):\n",
        "        return item['Количество']\n",
        "\n",
        "    pos_stats.sort(key=sort_by_count, reverse=True)\n",
        "    pos_df = pd.DataFrame(pos_stats)\n",
        "    print(pos_df)\n",
        "\n",
        "    if ambiguous_words:\n",
        "        print(f\"\\nСлова с омонимией ({len(ambiguous_words)}):\")\n",
        "        ambiguous_data = []\n",
        "        for i, word in enumerate(ambiguous_words[:10]):\n",
        "            ambiguous_data.append({'№': i+1, 'Слово': word})\n",
        "\n",
        "        ambiguous_df = pd.DataFrame(ambiguous_data)\n",
        "        print(ambiguous_df)\n",
        "\n",
        "    return comparison_df, pos_df\n",
        "\n",
        "results_df, pos_stats_df = analyze_russian_text(russian_text)"
      ],
      "metadata": {
        "id": "e9TfNGJrFtDl",
        "colab": {
          "base_uri": "https://localhost:8080/"
        },
        "outputId": "4454dfc6-3abf-4006-fbf1-8d8f3b3849b7"
      },
      "execution_count": 28,
      "outputs": [
        {
          "output_type": "stream",
          "name": "stdout",
          "text": [
            "Лемматизация и части речи:\n",
            "     №        Слово         Лемма Часть речи Омонимия\n",
            "0    1     машинное      машинный       ADJF       Да\n",
            "1    2     обучение      обучение       NOUN       Да\n",
            "2    3   становится   становиться       VERB      Нет\n",
            "3    4          всё           всё       PRCL       Да\n",
            "4    5        более         более       ADVB      Нет\n",
            "5    6   популярным    популярный       ADJF       Да\n",
            "6    7            в             в       PREP       Да\n",
            "7    8  современном   современный       ADJF       Да\n",
            "8    9         мире           мир       NOUN       Да\n",
            "9   10     компании      компания       NOUN       Да\n",
            "10  11   используют  использовать       VERB       Да\n",
            "11  12    алгоритмы      алгоритм       NOUN       Да\n",
            "12  13    машинного      машинный       ADJF       Да\n",
            "13  14     обучения      обучение       NOUN       Да\n",
            "14  15          для           для       PREP       Да\n",
            "15  16      анализа        анализ       NOUN      Нет\n",
            "16  17       данных        данные       NOUN       Да\n",
            "17  18            и             и       CONJ       Да\n",
            "18  19     принятия      принятие       NOUN       Да\n",
            "19  20      решений       решение       NOUN      Нет\n",
            "\n",
            "Статистика частей речи:\n",
            "  Часть речи  Количество\n",
            "0       NOUN          17\n",
            "1       ADJF          10\n",
            "2       VERB           4\n",
            "3       PREP           4\n",
            "4       CONJ           3\n",
            "5       ADVB           2\n",
            "6       PRCL           1\n",
            "7       INFN           1\n",
            "8       NPRO           1\n",
            "9       GRND           1\n",
            "\n",
            "Слова с омонимией (32):\n",
            "    №        Слово\n",
            "0   1     машинное\n",
            "1   2     обучение\n",
            "2   3          всё\n",
            "3   4   популярным\n",
            "4   5            в\n",
            "5   6  современном\n",
            "6   7         мире\n",
            "7   8     компании\n",
            "8   9   используют\n",
            "9  10    алгоритмы\n"
          ]
        }
      ]
    },
    {
      "cell_type": "markdown",
      "source": [
        "Упражнение 4: Обработка смешанного русско-английского текста с использованием spaCy"
      ],
      "metadata": {
        "id": "3Gh_zSekF1EL"
      }
    },
    {
      "cell_type": "markdown",
      "source": [
        "Задание: Разработайте систему для обработки смешанного русско-английского текста с использованием библиотеки spaCy. Ваша программа должна определять язык каждого слова, применять соответствующую модель для лемматизации и выполнять частеречную разметку.\n",
        "\n",
        "Требования:\n",
        "\n",
        "* Загрузите модели en_core_web_sm и ru_core_news_sm из spaCy\n",
        "* Реализуйте алгоритм определения языка для каждого токена (можно использовать множества символов кириллицы и латиницы)\n",
        "* Обработайте каждый токен соответствующей языковой моделью\n",
        "* Сформируйте два отдельных набора данных: лемматизированный русский и английский текст\n",
        "* Определите наиболее часто встречающиеся леммы для каждого языка"
      ],
      "metadata": {
        "id": "fHzPZi7bF1sB"
      }
    },
    {
      "cell_type": "code",
      "source": [
        "import spacy\n",
        "import re\n",
        "import pandas as pd\n",
        "\n",
        "nlp_en = spacy.load(\"en_core_web_sm\")\n",
        "nlp_ru = spacy.load(\"ru_core_news_sm\")\n",
        "\n",
        "mixed_text = \"\"\"\n",
        "Data science становится ключевой компетенцией в современном IT-мире.\n",
        "Machine learning инженеры и аналитики данных востребованы на рынке труда.\n",
        "Компании активно внедряют artificial intelligence решения для оптимизации бизнес-процессов.\n",
        "Работодатели ищут специалистов, владеющих языком программирования Python и имеющих опыт работы с big data.\n",
        "\"\"\"\n",
        "\n",
        "def process_mixed_text(text):\n",
        "    def is_cyrillic(char):\n",
        "        return 'а' <= char <= 'я' or char == 'ё'\n",
        "\n",
        "    def is_latin(char):\n",
        "        return 'a' <= char <= 'z'\n",
        "\n",
        "    def classify_token(token):\n",
        "        if not token or not token.isalpha():\n",
        "            return None\n",
        "\n",
        "        cyrillic_count = 0\n",
        "        latin_count = 0\n",
        "\n",
        "        for c in token:\n",
        "            char_lower = c.lower()\n",
        "            if is_cyrillic(char_lower):\n",
        "                cyrillic_count += 1\n",
        "            elif is_latin(char_lower):\n",
        "                latin_count += 1\n",
        "\n",
        "        if cyrillic_count > 0 and latin_count == 0:\n",
        "            return 'russian'\n",
        "        elif latin_count > 0 and cyrillic_count == 0:\n",
        "            return 'english'\n",
        "        else:\n",
        "            return 'mixed'\n",
        "\n",
        "    tokens = re.findall(r'\\b\\w+\\b', text.lower())\n",
        "\n",
        "    comparison = []\n",
        "    russian_lemmas = []\n",
        "    english_lemmas = []\n",
        "\n",
        "    for i, token in enumerate(tokens):\n",
        "        lang = classify_token(token)\n",
        "        lemma = None\n",
        "\n",
        "        if lang == 'russian':\n",
        "            doc = nlp_ru(token)\n",
        "            for tok in doc:\n",
        "                if tok.is_alpha:\n",
        "                    lemma = tok.lemma_\n",
        "                    russian_lemmas.append(lemma)\n",
        "\n",
        "        elif lang == 'english':\n",
        "            doc = nlp_en(token)\n",
        "            for tok in doc:\n",
        "                if tok.is_alpha:\n",
        "                    lemma = tok.lemma_\n",
        "                    english_lemmas.append(lemma)\n",
        "\n",
        "        comparison.append({\n",
        "            '№': i+1,\n",
        "            'Токен': token,\n",
        "            'Язык': lang or 'mixed',\n",
        "            'Лемма': lemma or token\n",
        "        })\n",
        "\n",
        "    comparison_df = pd.DataFrame(comparison)\n",
        "\n",
        "    print(\"Анализ смешанного текста:\")\n",
        "    print(comparison_df.head(20))\n",
        "\n",
        "    lang_dict = {}\n",
        "    for item in comparison:\n",
        "        lang = item['Язык']\n",
        "        if lang in lang_dict:\n",
        "            lang_dict[lang] += 1\n",
        "        else:\n",
        "            lang_dict[lang] = 1\n",
        "\n",
        "    lang_stats = []\n",
        "    for lang, count in lang_dict.items():\n",
        "        lang_stats.append({'Язык': lang, 'Количество': count})\n",
        "\n",
        "    lang_stats_df = pd.DataFrame(lang_stats)\n",
        "    print(f\"\\nРаспределение по языкам:\")\n",
        "    print(lang_stats_df)\n",
        "\n",
        "    def get_top_lemmas(lemmas_list, top_n=10):\n",
        "        lemma_dict = {}\n",
        "        for lemma in lemmas_list:\n",
        "            if lemma in lemma_dict:\n",
        "                lemma_dict[lemma] += 1\n",
        "            else:\n",
        "                lemma_dict[lemma] = 1\n",
        "\n",
        "        lemma_items = list(lemma_dict.items())\n",
        "\n",
        "        def get_frequency(item):\n",
        "            return item[1]\n",
        "\n",
        "        sorted_lemmas = sorted(lemma_items, key=get_frequency, reverse=True)\n",
        "        return sorted_lemmas[:top_n]\n",
        "\n",
        "    russian_top = get_top_lemmas(russian_lemmas)\n",
        "    english_top = get_top_lemmas(english_lemmas)\n",
        "\n",
        "    russian_freq_df = pd.DataFrame(russian_top, columns=['Лемма', 'Частота'])\n",
        "    english_freq_df = pd.DataFrame(english_top, columns=['Лемма', 'Частота'])\n",
        "\n",
        "    print(f\"\\nТоп-10 русских лемм:\")\n",
        "    print(russian_freq_df)\n",
        "\n",
        "    print(f\"\\nТоп-10 английских лемм:\")\n",
        "    print(english_freq_df)\n",
        "\n",
        "    return comparison_df, lang_stats_df, russian_freq_df, english_freq_df\n",
        "\n",
        "results_df, lang_stats_df, ru_freq_df, en_freq_df = process_mixed_text(mixed_text)"
      ],
      "metadata": {
        "id": "0g_p-Y8KF-fh",
        "colab": {
          "base_uri": "https://localhost:8080/"
        },
        "outputId": "5b4f30f8-0ef6-408d-f26e-83747c2a4c46"
      },
      "execution_count": 26,
      "outputs": [
        {
          "output_type": "stream",
          "name": "stdout",
          "text": [
            "Анализ смешанного текста:\n",
            "     №         Токен     Язык         Лемма\n",
            "0    1          data  english         datum\n",
            "1    2       science  english       science\n",
            "2    3    становится  russian   становиться\n",
            "3    4      ключевой  russian      ключевой\n",
            "4    5  компетенцией  russian   компетенция\n",
            "5    6             в  russian             в\n",
            "6    7   современном  russian   современном\n",
            "7    8            it  english            it\n",
            "8    9          мире  russian           мир\n",
            "9   10       machine  english       machine\n",
            "10  11      learning  english         learn\n",
            "11  12      инженеры  russian       инженер\n",
            "12  13             и  russian             и\n",
            "13  14     аналитики  russian      аналитик\n",
            "14  15        данных  russian        данных\n",
            "15  16  востребованы  russian  востребовать\n",
            "16  17            на  russian            на\n",
            "17  18         рынке  russian         рынок\n",
            "18  19         труда  russian          труд\n",
            "19  20      компании  russian      компания\n",
            "\n",
            "Распределение по языкам:\n",
            "      Язык  Количество\n",
            "0  english          10\n",
            "1  russian          33\n",
            "\n",
            "Топ-10 русских лемм:\n",
            "         Лемма  Частота\n",
            "0            и        2\n",
            "1  становиться        1\n",
            "2     ключевой        1\n",
            "3  компетенция        1\n",
            "4            в        1\n",
            "5  современном        1\n",
            "6          мир        1\n",
            "7      инженер        1\n",
            "8     аналитик        1\n",
            "9       данных        1\n",
            "\n",
            "Топ-10 английских лемм:\n",
            "          Лемма  Частота\n",
            "0         datum        2\n",
            "1       science        1\n",
            "2            it        1\n",
            "3       machine        1\n",
            "4         learn        1\n",
            "5    artificial        1\n",
            "6  intelligence        1\n",
            "7        python        1\n",
            "8           big        1\n"
          ]
        }
      ]
    },
    {
      "cell_type": "markdown",
      "source": [
        "Упражнение 5*: Применение библиотеки Natasha для анализа именованных сущностей и лемматизации русского текста"
      ],
      "metadata": {
        "id": "sLVbeZHcGGK7"
      }
    },
    {
      "cell_type": "markdown",
      "source": [
        "Задание: Используйте библиотеку Natasha для выделения именованных сущностей (NER) и лемматизации русского текста. Создайте функцию, которая принимает текст, выделяет и классифицирует в нём именованные сущности (имена людей, организации, локации и т.д.), а также выполняет лемматизацию всех слов.\n",
        "\n",
        "Требования:\n",
        "\n",
        "* Используйте Segmenter, MorphVocab, NewsEmbedding, NewsMorphTagger, NewsSyntaxParser, NewsNERTagger из библиотеки Natasha\n",
        "* Выделите все именованные сущности в тексте и определите их тип\n",
        "* Выполните лемматизацию всех слов, учитывая контекст (используя синтаксический анализ)\n",
        "* Сформируйте структурированный результат, включающий: список всех именованных сущностей с указанием их типа, список всех слов с их леммами, статистику по типам найденных сущностей"
      ],
      "metadata": {
        "id": "fs2q0cZOGLR7"
      }
    },
    {
      "cell_type": "code",
      "source": [
        "# ваш код\n",
        "\n",
        "# Текст для проверки\n",
        "\n",
        "russian_ner_text = \"\"\"\n",
        "Президент России Владимир Путин провел совещание с правительством в Москве.\n",
        "Компания Яндекс представила новую технологию для анализа данных.\n",
        "Сотрудники Московского государственного университета и Института проблем искусственного интеллекта РАН\n",
        "разработали алгоритм для обработки естественного языка.\n",
        "Исследователи из Санкт-Петербурга и их коллеги из Казани опубликовали результаты исследований\n",
        "в журнале \"Компьютерная лингвистика и интеллектуальные технологии\".\n",
        "\"\"\""
      ],
      "metadata": {
        "id": "vkD1Mfj-GdAX"
      },
      "execution_count": null,
      "outputs": []
    }
  ]
}