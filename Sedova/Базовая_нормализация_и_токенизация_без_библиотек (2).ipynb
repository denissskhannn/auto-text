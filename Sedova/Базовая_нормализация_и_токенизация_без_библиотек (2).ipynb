{
  "cells": [
    {
      "cell_type": "markdown",
      "metadata": {
        "id": "xaCyWYJ6uGfk"
      },
      "source": [
        "В этом ноутбуке вы узнаете:\n",
        "\n",
        "1.   Как использовать встроенные методы Python для работы со строками\n",
        "2.   Как выполнять базовую нормализацию текста\n",
        "3. Как токенизировать текст с помощью простых методов\n",
        "4. Как применять эти навыки на практике\n"
      ]
    },
    {
      "cell_type": "markdown",
      "metadata": {
        "id": "T4-yFhGcy934"
      },
      "source": [
        "**1. Основные понятия и функции**"
      ]
    },
    {
      "cell_type": "markdown",
      "metadata": {
        "id": "mMYBk9PluRfs"
      },
      "source": [
        "В Python текст представлен в виде строк (тип данных str). Строки можно создавать, используя одинарные или двойные кавычки."
      ]
    },
    {
      "cell_type": "code",
      "execution_count": null,
      "metadata": {
        "id": "tXalOImZuMdk"
      },
      "outputs": [],
      "source": [
        "# Создание строк\n",
        "text1 = 'Это текст в \"одинарных\" кавычках'\n",
        "text2 = \"Это текст в 'двойных' кавычках\"\n",
        "text3 = '''Это текст в \"тройных\" кавычках'''\n",
        "text4 = '''Это\n",
        "текст\n",
        "в 'тройных'\n",
        "кавычках'''\n",
        "\n",
        "# Вывод строк\n",
        "print(text1)\n",
        "print(text2)\n",
        "print(text3)\n",
        "print(text4)"
      ]
    },
    {
      "cell_type": "markdown",
      "metadata": {
        "id": "4dVUdNKvuYvU"
      },
      "source": [
        "1.1. Индексация и срезы строк.\n",
        "Строки в Python — это последовательности символов, к которым можно обращаться по индексу. Индексация начинается с 0."
      ]
    },
    {
      "cell_type": "code",
      "execution_count": null,
      "metadata": {
        "id": "8RlZDm97uVrC"
      },
      "outputs": [],
      "source": [
        "# Строка для примеров\n",
        "sample_text = \"Компьютерная лингвистика\"\n",
        "\n",
        "# Получение отдельного символа\n",
        "print(\"Первый символ:\", sample_text[0])\n",
        "print(\"Пятый символ:\", sample_text[4])\n",
        "\n",
        "# Срезы строк\n",
        "print(\"Первые 12 символов:\", sample_text[:12])  # от начала до 12-го символа (не включая)\n",
        "print(\"С 13-го символа до конца:\", sample_text[13:])  # с 13-го символа до конца\n",
        "print(\"С 5-го по 10-й символ:\", sample_text[5:11])  # с 5-го по 10-й символ (11-й не включается)"
      ]
    },
    {
      "cell_type": "markdown",
      "metadata": {
        "id": "-oi1N22TvbQx"
      },
      "source": [
        "1.2. Основные методы строк\n",
        "Python предоставляет множество встроенных методов для работы со строками. Рассмотрим наиболее полезные для обработки текста:"
      ]
    },
    {
      "cell_type": "code",
      "execution_count": null,
      "metadata": {
        "id": "vkcKQqqgvcpk"
      },
      "outputs": [],
      "source": [
        "# Строка для примеров\n",
        "text = \"   Пример текста для анализа.   \"\n",
        "\n",
        "# Удаление пробелов в начале и конце строки\n",
        "print(\"После strip():\", text.strip())\n",
        "\n",
        "# Перевод в нижний регистр\n",
        "print(\"После lower():\", text.lower())\n",
        "\n",
        "# Перевод в верхний регистр\n",
        "print(\"После upper():\", text.upper())\n",
        "\n",
        "# Проверка, начинается ли строка с определенной подстроки\n",
        "print(\"Начинается с 'Пример'?\", text.strip().startswith(\"Пример\"))\n",
        "\n",
        "# Проверка, заканчивается ли строка определенной подстрокой\n",
        "print(\"Заканчивается на '.'?\", text.strip().endswith(\".\"))\n",
        "\n",
        "# Замена подстроки\n",
        "print(\"После replace():\", text.replace(\"анализа\", \"обработки\"))\n",
        "\n",
        "# Подсчет вхождений подстроки\n",
        "print(\"Количество пробелов:\", text.count(\" \"))"
      ]
    },
    {
      "cell_type": "markdown",
      "metadata": {
        "id": "-oEf7vLCvvzL"
      },
      "source": [
        "1.3. Конкатенация строк и форматирование.\n",
        "Существует несколько способов объединения строк в Python:"
      ]
    },
    {
      "cell_type": "code",
      "execution_count": null,
      "metadata": {
        "id": "CS50TkzKvwfk"
      },
      "outputs": [],
      "source": [
        "# Простая конкатенация с помощью оператора +\n",
        "first_name = \"Иван\"\n",
        "last_name = \"Петров\"\n",
        "full_name = first_name + \" \" + last_name\n",
        "print(\"Полное имя:\", full_name)\n",
        "\n",
        "# Форматирование строк с помощью метода format()\n",
        "age = 25\n",
        "message = \"Меня зовут {}, мне {} лет.\".format(full_name, age)\n",
        "print(message)\n",
        "\n",
        "# f-строки (начиная с Python 3.6)\n",
        "message_f = f\"Меня зовут {full_name}, мне {age} лет.\"\n",
        "print(message_f)\n",
        "\n",
        "# Использование %\n",
        "message_old = \"Меня зовут %s, мне %d лет.\" % (full_name, age)\n",
        "print(message_old)"
      ]
    },
    {
      "cell_type": "markdown",
      "metadata": {
        "id": "e0K6mt6Vv6gV"
      },
      "source": [
        "**2. Базовая нормализация текста**"
      ]
    },
    {
      "cell_type": "markdown",
      "metadata": {
        "id": "hL2BXNo8wEVY"
      },
      "source": [
        "Нормализация текста — это процесс преобразования текста к стандартному виду для облегчения его дальнейшей обработки. Рассмотрим базовые операции нормализации."
      ]
    },
    {
      "cell_type": "markdown",
      "metadata": {
        "id": "J5Gk1AnRwHK0"
      },
      "source": [
        "2.1. Приведение к нижнему регистру помогает унифицировать текст. Обычно используется нижний регистр."
      ]
    },
    {
      "cell_type": "code",
      "execution_count": null,
      "metadata": {
        "id": "vNNMpCqOv2Dz"
      },
      "outputs": [],
      "source": [
        "# Пример текста с разным регистром\n",
        "mixed_case_text = \"КомпьЮтерная ЛИНГвистика изучает Методы Автоматической Обработки Текста.\"\n",
        "\n",
        "# Приведение к нижнему регистру\n",
        "normalized_text = mixed_case_text.lower()\n",
        "print(\"Исходный текст:\", mixed_case_text)\n",
        "print(\"Нормализованный текст:\", normalized_text)\n",
        "\n",
        "# Пример на английском\n",
        "english_text = \"Natural Language Processing (NLP) is a FIELD of AI.\"\n",
        "print(\"Английский текст после нормализации:\", english_text.lower())"
      ]
    },
    {
      "cell_type": "markdown",
      "metadata": {
        "id": "Vlwzl4-bw7u9"
      },
      "source": [
        "2.2. Удаление лишних пробелов. Часто тексты содержат лишние пробелы, которые нужно удалить.\n",
        "\n",
        "\n"
      ]
    },
    {
      "cell_type": "code",
      "execution_count": null,
      "metadata": {
        "id": "AioDUYPrw-Hl"
      },
      "outputs": [],
      "source": [
        "# Текст с лишними пробелами\n",
        "text_with_spaces = \"   В  этом   тексте  есть  лишние    пробелы.   \"\n",
        "\n",
        "# Удаление пробелов в начале и конце\n",
        "trimmed_text = text_with_spaces.strip()\n",
        "print(\"После strip():\", trimmed_text)\n",
        "\n",
        "words = trimmed_text.split()  # Разбиваем текст на слова\n",
        "normalized_manually = ' '.join(words)  # Объединяем слова с одним пробелом\n",
        "print(\"Нормализация:\", normalized_manually)\n",
        "\n",
        "# Пример на английском\n",
        "english_spaces = \"  This   text   has   extra   spaces. \"\n",
        "english_normalized = ' '.join(english_spaces.strip().split())\n",
        "print(\"Английский текст после нормализации пробелов:\", english_normalized)"
      ]
    },
    {
      "cell_type": "markdown",
      "metadata": {
        "id": "M7bFiY8syfRf"
      },
      "source": [
        "2.3. Удаление пунктуации. Для многих задач обработки текста необходимо удалить знаки пунктуации."
      ]
    },
    {
      "cell_type": "code",
      "execution_count": null,
      "metadata": {
        "id": "g7M5Bna1yjB1"
      },
      "outputs": [],
      "source": [
        "# Текст с пунктуацией\n",
        "text_with_punctuation = \"Привет, мир! Как дела? Это - пример текста; с разными знаками пунктуации.\"\n",
        "\n",
        "# Определение знаков пунктуации для удаления\n",
        "import string\n",
        "punctuation = string.punctuation  # !\"#$%&'()*+,-./:;<=>?@[\\]^_`{|}~\n",
        "print(\"Знаки пунктуации:\", punctuation)\n",
        "\n",
        "# Удаление пунктуации (метод 1)\n",
        "no_punctuation = ''.join(char for char in text_with_punctuation if char not in punctuation)\n",
        "print(\"Текст без пунктуации (метод 1):\", no_punctuation)\n",
        "\n",
        "# Удаление пунктуации (метод 2)\n",
        "translator = str.maketrans('', '', punctuation)\n",
        "no_punctuation2 = text_with_punctuation.translate(translator)\n",
        "print(\"Текст без пунктуации (метод 2):\", no_punctuation2)\n",
        "\n",
        "# Пример на английском\n",
        "english_punctuation = \"Hello, world! How are you? This is a sample text; with various punctuation marks.\"\n",
        "english_no_punctuation = english_punctuation.translate(translator)\n",
        "print(\"Английский текст без пунктуации:\", english_no_punctuation)"
      ]
    },
    {
      "cell_type": "markdown",
      "metadata": {
        "id": "cCzDj3GayrSf"
      },
      "source": [
        "2.4. Комплексная нормализация текста. Объединим все изученные методы для комплексной нормализации текста."
      ]
    },
    {
      "cell_type": "code",
      "execution_count": null,
      "metadata": {
        "id": "-EQfaUxNyuOm"
      },
      "outputs": [],
      "source": [
        "def normalize_text(text):\n",
        "    \"\"\"\n",
        "    Функция для комплексной нормализации текста:\n",
        "    1. Приведение к нижнему регистру\n",
        "    2. Удаление лишних пробелов\n",
        "    3. Удаление пунктуации\n",
        "    \"\"\"\n",
        "    # Шаг 1: Приведение к нижнему регистру\n",
        "    text = text.lower()\n",
        "\n",
        "    # Шаг 2: Удаление пунктуации\n",
        "    translator = str.maketrans('', '', string.punctuation)\n",
        "    text = text.translate(translator)\n",
        "\n",
        "    # Шаг 3: Удаление лишних пробелов\n",
        "    text = ' '.join(text.split())\n",
        "\n",
        "    return text\n",
        "\n",
        "# Проверка функции на русском тексте\n",
        "russian_text = \"   Компьютерная    ЛИНГВИСТИКА - это ОБЛАСТЬ науки, изучающая   методы автоматической    обработки текста!   \"\n",
        "normalized_russian = normalize_text(russian_text)\n",
        "print(\"Исходный русский текст:\", russian_text)\n",
        "print(\"Нормализованный русский текст:\", normalized_russian)\n",
        "\n",
        "# Проверка функции на английском тексте\n",
        "english_text = \"   Natural    LANGUAGE Processing (NLP) - is a FIELD of AI, focusing   on text analysis!   \"\n",
        "normalized_english = normalize_text(english_text)\n",
        "print(\"Исходный английский текст:\", english_text)\n",
        "print(\"Нормализованный английский текст:\", normalized_english)"
      ]
    },
    {
      "cell_type": "markdown",
      "metadata": {
        "id": "H2IvHG_yy1uJ"
      },
      "source": [
        "**3. Простая токенизация текста**"
      ]
    },
    {
      "cell_type": "markdown",
      "metadata": {
        "id": "ISndfr9tzMRC"
      },
      "source": [
        "Токенизация — это процесс разделения текста на отдельные токены (обычно слова или предложения). Рассмотрим простые методы токенизации с использованием встроенных возможностей Python."
      ]
    },
    {
      "cell_type": "markdown",
      "metadata": {
        "id": "sjvNUNImzP5i"
      },
      "source": [
        "3.1. Токенизация по пробелам. Самый простой способ токенизации — разделение текста по пробелам с помощью метода .split()."
      ]
    },
    {
      "cell_type": "code",
      "execution_count": null,
      "metadata": {
        "id": "pRMRYdZfzTk2"
      },
      "outputs": [],
      "source": [
        "# Пример текста\n",
        "text = \"Компьютерная лингвистика изучает методы обработки текста\"\n",
        "\n",
        "# Токенизация по пробелам\n",
        "tokens = text.split()\n",
        "print(\"Токены:\", tokens)\n",
        "print(\"Количество токенов:\", len(tokens))\n",
        "\n",
        "# Токенизация английского текста\n",
        "english_text = \"Natural language processing studies methods of text analysis\"\n",
        "english_tokens = english_text.split()\n",
        "print(\"Английские токены:\", english_tokens)\n",
        "print(\"Количество английских токенов:\", len(english_tokens))"
      ]
    },
    {
      "cell_type": "markdown",
      "metadata": {
        "id": "Ey-4jl42zahC"
      },
      "source": [
        "3.2. Токенизация с учетом пунктуации. Токенизация по пробелам не учитывает пунктуацию. Для более точной токенизации можно сначала отделить пунктуацию от слов."
      ]
    },
    {
      "cell_type": "code",
      "execution_count": null,
      "metadata": {
        "id": "8rYkdzlnzdkp"
      },
      "outputs": [],
      "source": [
        "def simple_tokenize(text):\n",
        "    \"\"\"\n",
        "    Простая токенизация с учетом пунктуации:\n",
        "    1. Добавляем пробелы вокруг знаков пунктуации\n",
        "    2. Разделяем по пробелам\n",
        "    3. Удаляем пустые токены\n",
        "    \"\"\"\n",
        "    # Добавляем пробелы вокруг знаков пунктуации\n",
        "    for punct in string.punctuation:\n",
        "        text = text.replace(punct, f' {punct} ')\n",
        "\n",
        "    # Разделяем по пробелам и удаляем пустые токены\n",
        "    tokens = [token for token in text.split() if token]\n",
        "\n",
        "    return tokens\n",
        "\n",
        "# Проверка на русском тексте\n",
        "russian_text = \"Привет, мир! Как дела? Это - пример текста; с разными знаками пунктуации.\"\n",
        "russian_tokens = simple_tokenize(russian_text)\n",
        "print(\"Русский текст:\", russian_text)\n",
        "print(\"Токены русского текста:\", russian_tokens)\n",
        "print(\"Количество токенов:\", len(russian_tokens))\n",
        "\n",
        "# Проверка на английском тексте\n",
        "english_text = \"Hello, world! How are you? This is a sample text; with various punctuation marks.\"\n",
        "english_tokens = simple_tokenize(english_text)\n",
        "print(\"Английский текст:\", english_text)\n",
        "print(\"Токены английского текста:\", english_tokens)\n",
        "print(\"Количество токенов:\", len(english_tokens))"
      ]
    },
    {
      "cell_type": "markdown",
      "metadata": {
        "id": "qfbRKk1S0wq_"
      },
      "source": [
        "3.3. Токенизация предложений. Простой способ — разделение по знакам конца предложения."
      ]
    },
    {
      "cell_type": "code",
      "execution_count": null,
      "metadata": {
        "id": "bw3dAKeG0-fA",
        "colab": {
          "base_uri": "https://localhost:8080/"
        },
        "outputId": "291b87e6-28a9-4079-d3a0-0246afda452d"
      },
      "outputs": [
        {
          "output_type": "stream",
          "name": "stdout",
          "text": [
            "Русский текст: Привет, мир! Как дела? Это пример текста. Он состоит из нескольких предложений.\n",
            "Предложения русского текста:\n",
            "1. Привет, мир!\n",
            "2. Как дела?\n",
            "3. Это пример текста.\n",
            "4. Он состоит из нескольких предложений.\n",
            "\n",
            "Английский текст: Hello, world! How are you? This is a sample text. It consists of several sentences.\n",
            "Предложения английского текста:\n",
            "1. Hello, world!\n",
            "2. How are you?\n",
            "3. This is a sample text.\n",
            "4. It consists of several sentences.\n"
          ]
        }
      ],
      "source": [
        "def simple_sentence_tokenize(text):\n",
        "    \"\"\"\n",
        "    Простая токенизация на предложения:\n",
        "    1. Заменяем знаки конца предложения на специальный маркер\n",
        "    2. Разделяем текст по маркеру\n",
        "    3. Очищаем полученные предложения\n",
        "    \"\"\"\n",
        "    # Заменяем знаки конца предложения\n",
        "    for end_mark in ['.', '!', '?']:\n",
        "        text = text.replace(end_mark, f'{end_mark}SENTENCE_END')\n",
        "\n",
        "    # Разделяем по маркеру\n",
        "    sentences = text.split('SENTENCE_END')\n",
        "\n",
        "    # Очищаем предложения и удаляем пустые\n",
        "    cleaned_sentences = [sentence.strip() for sentence in sentences if sentence.strip()]\n",
        "\n",
        "    return cleaned_sentences\n",
        "\n",
        "# Проверка на русском тексте\n",
        "russian_text = \"Привет, мир! Как дела? Это пример текста. Он состоит из нескольких предложений.\"\n",
        "russian_sentences = simple_sentence_tokenize(russian_text)\n",
        "print(\"Русский текст:\", russian_text)\n",
        "print(\"Предложения русского текста:\")\n",
        "for i, sentence in enumerate(russian_sentences, 1):\n",
        "    print(f\"{i}. {sentence}\")\n",
        "\n",
        "# Проверка на английском тексте\n",
        "english_text = \"Hello, world! How are you? This is a sample text. It consists of several sentences.\"\n",
        "english_sentences = simple_sentence_tokenize(english_text)\n",
        "print(\"\\nАнглийский текст:\", english_text)\n",
        "print(\"Предложения английского текста:\")\n",
        "for i, sentence in enumerate(english_sentences, 1):\n",
        "    print(f\"{i}. {sentence}\")"
      ]
    },
    {
      "cell_type": "markdown",
      "metadata": {
        "id": "_a-rRcLp1NnW"
      },
      "source": [
        "3.4. Объединение токенов обратно в текст. Метод .join() позволяет объединить токены обратно в текст, указав разделитель."
      ]
    },
    {
      "cell_type": "code",
      "execution_count": null,
      "metadata": {
        "id": "jCOkR50y1PYv"
      },
      "outputs": [],
      "source": [
        "# Пример токенов\n",
        "tokens = [\"Компьютерная\", \"лингвистика\", \"изучает\", \"методы\", \"обработки\", \"текста\"]\n",
        "\n",
        "# Объединение токенов с пробелом\n",
        "text = ' '.join(tokens)\n",
        "print(\"Объединенный текст:\", text)\n",
        "\n",
        "# Объединение с другими разделителями\n",
        "comma_separated = ', '.join(tokens)\n",
        "print(\"Токены через запятую:\", comma_separated)\n",
        "\n",
        "# Объединение английских токенов\n",
        "english_tokens = [\"Natural\", \"language\", \"processing\", \"studies\", \"methods\", \"of\", \"text\", \"analysis\"]\n",
        "english_text = ' '.join(english_tokens)\n",
        "print(\"Объединенный английский текст:\", english_text)"
      ]
    },
    {
      "cell_type": "markdown",
      "metadata": {
        "id": "zTAF-Lj21evo"
      },
      "source": [
        "**4. Практические упражнения**"
      ]
    },
    {
      "cell_type": "markdown",
      "metadata": {
        "id": "2ffDLEVL1oiZ"
      },
      "source": [
        "Упражнение 1: Нормализация текста. Напишите функцию, которая будет нормализовать текст следующим образом:\n",
        "\n",
        "1. Привести к нижнему регистру\n",
        "2. Удалить все цифры\n",
        "3. Заменить все символы пунктуации на пробелы\n",
        "4. Удалить лишние пробелы\n",
        "\n"
      ]
    },
    {
      "cell_type": "code",
      "execution_count": null,
      "metadata": {
        "id": "rU4ZTUrd1jFX"
      },
      "outputs": [],
      "source": [
        "import string\n",
        "\n",
        "def normalize(text):\n",
        "    text = text.lower()\n",
        "    text = ''.join(char for char in text if not char.isdigit())\n",
        "    for char in string.punctuation:\n",
        "        text = text.replace(char, ' ')\n",
        "    text = ' '.join(text.split())\n",
        "    return text\n",
        "text = \"Пример текста123, с РАЗНЫМИ символами! И 456 цифрами?!\"\n",
        "result = normalize(text)\n",
        "print(result)"
      ]
    },
    {
      "cell_type": "markdown",
      "metadata": {
        "id": "waC9ZHWB2Kph"
      },
      "source": [
        "Упражнение 2: Подсчет частотности слов. Напишите функцию, которая будет принимать текст, нормализовать его, токенизировать и возвращать словарь с частотностью каждого слова."
      ]
    },
    {
      "cell_type": "code",
      "execution_count": null,
      "metadata": {
        "id": "HlWO9Bpn2SQo",
        "colab": {
          "base_uri": "https://localhost:8080/"
        },
        "outputId": "2c4c3cfe-4624-4715-a0fc-74e5d104f28e"
      },
      "outputs": [
        {
          "output_type": "stream",
          "name": "stdout",
          "text": [
            "Русский текст:\n",
            "{'компьютерная': 2, 'лингвистика': 2, 'изучает': 1, 'методы': 1, 'обработки': 1, 'текста': 1, 'является': 1, 'областью': 1, 'искусственного': 1, 'интеллекта': 1}\n",
            "\n",
            "Английский текст:\n",
            "{'natural': 2, 'language': 2, 'processing': 2, 'is': 1, 'a': 1, 'field': 1, 'of': 1, 'artificial': 1, 'intelligence': 1, 'focuses': 1, 'on': 1, 'the': 1, 'interaction': 1, 'between': 1, 'computers': 1, 'and': 1, 'humans': 1}\n"
          ]
        }
      ],
      "source": [
        "sample_text = \"Компьютерная лингвистика изучает методы обработки текста. Компьютерная лингвистика является областью искусственного интеллекта.\"\n",
        "english_text = \"Natural language processing is a field of artificial intelligence. Natural language processing focuses on the interaction between computers and humans.\"\n",
        "import string\n",
        "\n",
        "def word_frequency(text):\n",
        "    text = text.lower()\n",
        "    text = ''.join(char for char in text if not char.isdigit())\n",
        "    for char in string.punctuation:\n",
        "        text = text.replace(char, ' ')\n",
        "    text = ' '.join(text.split())\n",
        "\n",
        "    tokens = text.split()\n",
        "    frequency = {}\n",
        "    for token in tokens:\n",
        "        frequency[token] = frequency.get(token, 0) + 1\n",
        "\n",
        "    return frequency\n",
        "\n",
        "print(\"Русский текст:\")\n",
        "result_ru = word_frequency(sample_text)\n",
        "print(result_ru)\n",
        "\n",
        "print(\"\\nАнглийский текст:\")\n",
        "result_en = word_frequency(english_text)\n",
        "print(result_en)"
      ]
    },
    {
      "cell_type": "markdown",
      "metadata": {
        "id": "RPTWlfsD2ehu"
      },
      "source": [
        "Упражнение 3: Поиск самых длинных и коротких слов. Напишите функцию, которая находит самые длинные и самые короткие слова в тексте."
      ]
    },
    {
      "cell_type": "code",
      "execution_count": null,
      "metadata": {
        "id": "hizov4xW2YhX",
        "colab": {
          "base_uri": "https://localhost:8080/"
        },
        "outputId": "7524bd58-84c4-42a4-cfc5-58f7d8c7e7e0"
      },
      "outputs": [
        {
          "output_type": "stream",
          "name": "stdout",
          "text": [
            "Русский текст:\n",
            "Самое длинное слово: 'междисциплинарной'\n",
            "Самое короткое слово: 'и'\n",
            "\n",
            "Английский текст:\n",
            "Самое длинное слово: 'interdisciplinary'\n",
            "Самое короткое слово: 'is'\n"
          ]
        }
      ],
      "source": [
        "sample_text = \"Компьютерная лингвистика является междисциплинарной областью науки, которая изучает математические и компьютерные модели естественного языка, а также его применение в системах искусственного интеллекта.\"\n",
        "english_text = \"Computational linguistics is an interdisciplinary field of science that studies mathematical and computational models of natural language and its application in artificial intelligence systems.\"\n",
        "import string\n",
        "\n",
        "def find_words(text):\n",
        "    translator = str.maketrans('', '', string.punctuation)\n",
        "    text = text.translate(translator)\n",
        "\n",
        "    words = text.split()\n",
        "\n",
        "    longest_word = max(words, key=len)\n",
        "    shortest_word = min(words, key=len)\n",
        "\n",
        "    return longest_word, shortest_word\n",
        "\n",
        "print(\"Русский текст:\")\n",
        "longest_ru, shortest_ru = find_words(sample_text)\n",
        "print(f\"Самое длинное слово: '{longest_ru}'\")\n",
        "print(f\"Самое короткое слово: '{shortest_ru}'\")\n",
        "\n",
        "print(\"\\nАнглийский текст:\")\n",
        "longest_en, shortest_en = find_words(english_text)\n",
        "print(f\"Самое длинное слово: '{longest_en}'\")\n",
        "print(f\"Самое короткое слово: '{shortest_en}'\")"
      ]
    },
    {
      "cell_type": "markdown",
      "metadata": {
        "id": "wtQ6vmk922D6"
      },
      "source": [
        "Упражнение 4: Поиск и подсчет определенных паттернов. Напишите функцию, которая находит и подсчитывает слова, начинающиеся с определенной буквы или содержащие определенную последовательность букв."
      ]
    },
    {
      "cell_type": "code",
      "execution_count": null,
      "metadata": {
        "id": "Pv0AYXVp23vc",
        "colab": {
          "base_uri": "https://localhost:8080/"
        },
        "outputId": "4570c48a-7f85-4910-93ba-d9c405e1aa39"
      },
      "outputs": [
        {
          "output_type": "stream",
          "name": "stdout",
          "text": [
            "Слова, начинающиеся с 'к':\n",
            "  'компьютерная'\n",
            "  'компьютерные'\n",
            "\n"
          ]
        }
      ],
      "source": [
        "sample_text = \"Компьютерная лингвистика изучает методы обработки текста. Математические модели и компьютерные алгоритмы используются для анализа естественных языков.\"\n",
        "import string\n",
        "\n",
        "def count_words_by_pattern(text, start_letter=None):\n",
        "\n",
        "    translator = str.maketrans('', '', string.punctuation)\n",
        "    text = text.translate(translator).lower()\n",
        "\n",
        "    words = text.split()\n",
        "\n",
        "    result = {}\n",
        "\n",
        "    for word in words:\n",
        "        if start_letter and word.startswith(start_letter.lower()):\n",
        "            result[word] = result.get(word, 0) + 1\n",
        "\n",
        "    return result\n",
        "\n",
        "words_starting_with_k = count_words_by_pattern(sample_text, start_letter=\"к\")\n",
        "print(\"Слова, начинающиеся с 'к':\")\n",
        "for word, count in words_starting_with_k.items():\n",
        "    print(f\"  '{word}'\")\n",
        "\n",
        "print()\n"
      ]
    },
    {
      "cell_type": "code",
      "execution_count": null,
      "metadata": {
        "id": "1i4Yjoum26nz",
        "colab": {
          "base_uri": "https://localhost:8080/"
        },
        "outputId": "dfc6af9c-4d77-48dc-85f1-e6e632598650"
      },
      "outputs": [
        {
          "output_type": "stream",
          "name": "stdout",
          "text": [
            "Слова, содержащие 'ing':\n",
            "  'linguistics'\n",
            "  'processing'\n",
            "\n"
          ]
        }
      ],
      "source": [
        "english_text = \"Computational linguistics studies methods of text processing. Mathematical models and computer algorithms are used to analyze natural languages.\"\n",
        "import string\n",
        "\n",
        "def count_words_by_pattern(text, contains_sequence=None):\n",
        "\n",
        "    translator = str.maketrans('', '', string.punctuation)\n",
        "    text = text.translate(translator).lower()\n",
        "\n",
        "    words = text.split()\n",
        "\n",
        "    result = {}\n",
        "\n",
        "    for word in words:\n",
        "          if contains_sequence and contains_sequence.lower() in word:\n",
        "            result[word] = result.get(word, 0) + 1\n",
        "\n",
        "    return result\n",
        "\n",
        "\n",
        "words_containing_ing = count_words_by_pattern(english_text, contains_sequence=\"ing\")\n",
        "print(\"Слова, содержащие 'ing':\")\n",
        "for word, count in words_containing_ing.items():\n",
        "    print(f\"  '{word}'\")\n",
        "\n",
        "print()"
      ]
    },
    {
      "cell_type": "markdown",
      "metadata": {
        "id": "anDhdjLG3M1A"
      },
      "source": [
        "Упражнение 5: Анализ предложений в тексте. Напишите функцию, которая анализирует текст на уровне предложений, подсчитывая:\n",
        "\n",
        "1. Количество предложений\n",
        "2. Среднюю длину предложения (в словах)\n",
        "3. Самое длинное и самое короткое предложение\n"
      ]
    },
    {
      "cell_type": "code",
      "execution_count": null,
      "metadata": {
        "id": "QQd2ZgIj3YlJ",
        "colab": {
          "base_uri": "https://localhost:8080/"
        },
        "outputId": "00a895d0-90f5-4fd3-d6db-76ce96656675"
      },
      "outputs": [
        {
          "output_type": "stream",
          "name": "stdout",
          "text": [
            "Результаты анализа предложений:\n",
            "Количество предложений: 4\n",
            "Средняя длина предложения (в словах): 9.8\n",
            "Самое длинное предложение: \"Методы компьютерной лингвистики применяются для решения различных задач, таких как машинный перевод, автоматическое реферирование и информационный поиск.\"\n",
            "Самое короткое предложение: \"Компьютерная лингвистика — это междисциплинарная область науки.\"\n"
          ]
        }
      ],
      "source": [
        "sample_text = \"\"\"Компьютерная лингвистика — это междисциплинарная область науки.\n",
        "Она изучает математические и компьютерные модели естественного языка.\n",
        "Методы компьютерной лингвистики применяются для решения различных задач, таких как машинный перевод, автоматическое реферирование и информационный поиск.\n",
        "Современные алгоритмы позволяют анализировать большие объемы текстов.\"\"\"\n",
        "\n",
        "import string\n",
        "\n",
        "def analyze_sentences(text):\n",
        "\n",
        "    for end_mark in ['.', '!', '?']:\n",
        "        text = text.replace(end_mark, f'{end_mark}SENTENCE_END')\n",
        "    sentences = text.split('SENTENCE_END')\n",
        "    sentences = [sentence.strip() for sentence in sentences if sentence.strip()]\n",
        "\n",
        "    num_sentences = len(sentences)\n",
        "\n",
        "    translator = str.maketrans('', '', string.punctuation)\n",
        "\n",
        "    sentence_lengths = []\n",
        "    for sentence in sentences:\n",
        "        clean_sentence = sentence.translate(translator)\n",
        "        words = clean_sentence.split()\n",
        "        sentence_lengths.append(len(words))\n",
        "\n",
        "    avg_length = sum(sentence_lengths) / num_sentences if num_sentences > 0 else 0\n",
        "\n",
        "    longest_index = sentence_lengths.index(max(sentence_lengths))\n",
        "    shortest_index = sentence_lengths.index(min(sentence_lengths))\n",
        "\n",
        "    longest_sentence = sentences[longest_index]\n",
        "    shortest_sentence = sentences[shortest_index]\n",
        "\n",
        "    return {\n",
        "        'num_sentences': num_sentences,\n",
        "        'avg_length': avg_length,\n",
        "        'longest_sentence': longest_sentence,\n",
        "        'shortest_sentence': shortest_sentence\n",
        "    }\n",
        "\n",
        "results = analyze_sentences(sample_text)\n",
        "\n",
        "print(\"Результаты анализа предложений:\")\n",
        "print(f\"Количество предложений: {results['num_sentences']}\")\n",
        "print(f\"Средняя длина предложения (в словах): {results['avg_length']:.1f}\")\n",
        "print(f\"Самое длинное предложение: \\\"{results['longest_sentence']}\\\"\")\n",
        "print(f\"Самое короткое предложение: \\\"{results['shortest_sentence']}\\\"\")\n"
      ]
    },
    {
      "cell_type": "code",
      "execution_count": null,
      "metadata": {
        "id": "N7pW-9_c3rmI",
        "colab": {
          "base_uri": "https://localhost:8080/"
        },
        "outputId": "7493ad65-6e1e-427e-aa09-fc0025f844c4"
      },
      "outputs": [
        {
          "output_type": "stream",
          "name": "stdout",
          "text": [
            "Результаты анализа предложений:\n",
            "Количество предложений: 4\n",
            "Средняя длина предложения (в словах): 11.0\n",
            "Самое длинное предложение: \"Methods of computational linguistics are applied to solve various tasks such as machine translation, automatic summarization, and information retrieval.\"\n",
            "Самое короткое предложение: \"Computational linguistics is an interdisciplinary field of science.\"\n"
          ]
        }
      ],
      "source": [
        "english_text = \"\"\"Computational linguistics is an interdisciplinary field of science.\n",
        "It studies mathematical and computational models of natural language.\n",
        "Methods of computational linguistics are applied to solve various tasks such as machine translation, automatic summarization, and information retrieval.\n",
        "Modern algorithms allow analyzing large volumes of texts.\"\"\"\n",
        "\n",
        "import string\n",
        "\n",
        "def analyze_sentencesEn(text):\n",
        "\n",
        "    for end_mark in ['.', '!', '?']:\n",
        "        text = text.replace(end_mark, f'{end_mark}SENTENCE_END')\n",
        "    sentences = text.split('SENTENCE_END')\n",
        "    sentences = [sentence.strip() for sentence in sentences if sentence.strip()]\n",
        "\n",
        "    num_sentences = len(sentences)\n",
        "\n",
        "    translator = str.maketrans('', '', string.punctuation)\n",
        "\n",
        "    sentence_lengths = []\n",
        "    for sentence in sentences:\n",
        "        clean_sentence = sentence.translate(translator)\n",
        "        words = clean_sentence.split()\n",
        "        sentence_lengths.append(len(words))\n",
        "\n",
        "    avg_length = sum(sentence_lengths) / num_sentences if num_sentences > 0 else 0\n",
        "\n",
        "    longest_index = sentence_lengths.index(max(sentence_lengths))\n",
        "    shortest_index = sentence_lengths.index(min(sentence_lengths))\n",
        "\n",
        "    longest_sentence = sentences[longest_index]\n",
        "    shortest_sentence = sentences[shortest_index]\n",
        "\n",
        "    return {\n",
        "        'num_sentences': num_sentences,\n",
        "        'avg_length': avg_length,\n",
        "        'longest_sentence': longest_sentence,\n",
        "        'shortest_sentence': shortest_sentence\n",
        "    }\n",
        "\n",
        "results = analyze_sentencesEn(english_text)\n",
        "\n",
        "print(\"Результаты анализа предложений:\")\n",
        "print(f\"Количество предложений: {results['num_sentences']}\")\n",
        "print(f\"Средняя длина предложения (в словах): {results['avg_length']:.1f}\")\n",
        "print(f\"Самое длинное предложение: \\\"{results['longest_sentence']}\\\"\")\n",
        "print(f\"Самое короткое предложение: \\\"{results['shortest_sentence']}\\\"\")\n"
      ]
    },
    {
      "cell_type": "markdown",
      "metadata": {
        "id": "ZE7TEjrM37te"
      },
      "source": [
        "**5. Домашнее задание**"
      ]
    },
    {
      "cell_type": "markdown",
      "metadata": {
        "id": "qJtWAqaL3-od"
      },
      "source": [
        "Напишите функцию для нормализации текста, которая:\n",
        "\n",
        "1. Приводит текст к нижнему регистру\n",
        "2. Удаляет все знаки пунктуации\n",
        "3. Заменяет все цифры на символ '#'\n",
        "4. Удаляет лишние пробелы\n",
        "\n",
        "Напишите функцию, которая находит и выводит все слова из текста, содержащие гласные в определенной последовательности (например, 'о' и затем 'а').\n",
        "\n",
        "Создайте функцию, которая:\n",
        "\n",
        "1.   Токенизирует текст\n",
        "2.   Отбирает только слова длиной более 4 символов\n",
        "3. Сортирует их по алфавиту\n",
        "4. Возвращает первые 10 слов\n",
        "\n",
        "Напишите функцию для анализа частотности символов в тексте, которая возвращает 5 самых часто встречающихся символов и их количество.\n",
        "\n",
        "Напишите программу, которая разделяет текст на параграфы (по двойному переносу строки), а затем подсчитывает для каждого параграфа: количество предложений, количество слов, среднюю длину слова"
      ]
    },
    {
      "cell_type": "code",
      "source": [
        "#1\n",
        "sample_text = \"Напишите функцию для нормализации текста, которая: 1) Приводит текст к нижнему регистру. 2)Удаляет все знаки пунктуации.3)Заменяет все цифры на символ '#'. 4)Удаляет лишние пробелы\"\n",
        "\n",
        "import string\n",
        "\n",
        "def normalize_text(text):\n",
        "    text = text.lower()\n",
        "\n",
        "    translator = str.maketrans('', '', string.punctuation)\n",
        "    text = text.translate(translator)\n",
        "\n",
        "    text = ''.join('#' if char.isdigit() else char for char in text)\n",
        "\n",
        "    text = ' '.join(text.split())\n",
        "\n",
        "    return text\n",
        "\n",
        "result = normalize_text(sample_text)\n",
        "print(result)"
      ],
      "metadata": {
        "colab": {
          "base_uri": "https://localhost:8080/"
        },
        "id": "5zsagkZJWiVL",
        "outputId": "bff81409-3cc8-44e2-fcbf-fac0cff7d133"
      },
      "execution_count": 8,
      "outputs": [
        {
          "output_type": "stream",
          "name": "stdout",
          "text": [
            "напишите функцию для нормализации текста которая # приводит текст к нижнему регистру #удаляет все знаки пунктуации#заменяет все цифры на символ #удаляет лишние пробелы\n"
          ]
        }
      ]
    },
    {
      "cell_type": "code",
      "source": [
        "#2\n",
        "sample_text = \"\"\"Компьютерная лингвистика является междисциплинарной областью науки, которая изучает математические и компьютерные модели естественного языка, а также его применение в системах искусственного интеллекта.\"\"\"\n",
        "\n",
        "import string\n",
        "\n",
        "def find_words_with_vowel_sequence(text, vowel_sequence):\n",
        "\n",
        "    translator = str.maketrans('', '', string.punctuation)\n",
        "    text = text.translate(translator).lower()\n",
        "\n",
        "    words = text.split()\n",
        "\n",
        "    vowels = 'аеёиоуыэюя'\n",
        "\n",
        "    def get_vowel_sequence(word):\n",
        "        return ''.join(char for char in word if char in vowels)\n",
        "\n",
        "    result = []\n",
        "    for word in words:\n",
        "        word_vowels = get_vowel_sequence(word)\n",
        "        if vowel_sequence in word_vowels:\n",
        "            result.append(word)\n",
        "\n",
        "    return result\n",
        "\n",
        "\n",
        "words_with_oa = find_words_with_vowel_sequence(sample_text, 'оа')\n",
        "print(\"Слова с последовательностью 'оа':\", words_with_oa)"
      ],
      "metadata": {
        "colab": {
          "base_uri": "https://localhost:8080/"
        },
        "id": "TLrdusyfVIXW",
        "outputId": "b50f5a93-2216-4fbd-8b04-54afe8b469e5"
      },
      "execution_count": 15,
      "outputs": [
        {
          "output_type": "stream",
          "name": "stdout",
          "text": [
            "Слова с последовательностью 'оа': ['областью', 'которая']\n"
          ]
        }
      ]
    },
    {
      "cell_type": "code",
      "source": [
        "#3\n",
        "sample_text = \"\"\"Компьютерная лингвистика является междисциплинарной областью науки, которая изучает математические и компьютерные модели естественного языка, а также его применение в системах искусственного интеллекта.\"\"\"\n",
        "import string\n",
        "\n",
        "def process_text(text):\n",
        "\n",
        "    translator = str.maketrans('', '', string.punctuation)\n",
        "    text = text.translate(translator)\n",
        "\n",
        "    words = text.split()\n",
        "\n",
        "    long_words = [word for word in words if len(word) > 4]\n",
        "\n",
        "    sorted_words = sorted(long_words)\n",
        "\n",
        "    return sorted_words[:10]\n",
        "\n",
        "result = process_text(sample_text)\n",
        "print(\"Первые 10 слов длиной >4 символов:\")\n",
        "for i, word in enumerate(result, 1):\n",
        "    print(f\"{i}. {word}\")"
      ],
      "metadata": {
        "colab": {
          "base_uri": "https://localhost:8080/"
        },
        "id": "pN9IWmXTYYOG",
        "outputId": "0664a0d5-2dd3-4198-a1eb-d538358fda4d"
      },
      "execution_count": 16,
      "outputs": [
        {
          "output_type": "stream",
          "name": "stdout",
          "text": [
            "Первые 10 слов длиной >4 символов:\n",
            "1. Компьютерная\n",
            "2. естественного\n",
            "3. изучает\n",
            "4. интеллекта\n",
            "5. искусственного\n",
            "6. компьютерные\n",
            "7. которая\n",
            "8. лингвистика\n",
            "9. математические\n",
            "10. междисциплинарной\n"
          ]
        }
      ]
    },
    {
      "cell_type": "code",
      "source": [
        "#4\n",
        "sample_text = \"\"\"Компьютерная лингвистика является междисциплинарной областью науки, которая изучает математические и компьютерные модели естественного языка, а также его применение в системах искусственного интеллекта.\"\"\"\n",
        "import string\n",
        "\n",
        "def analyze_frequency(text):\n",
        "\n",
        "    trimmed_text = text.strip()\n",
        "    translator = str.maketrans('', '', string.punctuation)\n",
        "    no_punctuation = trimmed_text.translate(translator)\n",
        "\n",
        "    text_without_spaces = no_punctuation.replace(' ', '')\n",
        "\n",
        "    char_count = {}\n",
        "    for char in text_without_spaces:\n",
        "        if char in char_count:\n",
        "            char_count[char] += 1\n",
        "        else:\n",
        "            char_count[char] = 1\n",
        "\n",
        "    most_common_chars = []\n",
        "    most_common_counts = []\n",
        "\n",
        "    for char, count in char_count.items():\n",
        "        if len(most_common_chars) < 5:\n",
        "            most_common_chars.append(char)\n",
        "            most_common_counts.append(count)\n",
        "        else:\n",
        "            min_count = min(most_common_counts)\n",
        "            min_index = most_common_counts.index(min_count)\n",
        "\n",
        "            if count > min_count:\n",
        "                most_common_chars[min_index] = char\n",
        "                most_common_counts[min_index] = count\n",
        "\n",
        "    return most_common_chars, most_common_counts\n",
        "\n",
        "chars, counts = analyze_frequency(sample_text)\n",
        "\n",
        "print(\"5 самых частых символов:\")\n",
        "for i in range(len(chars)):\n",
        "    print(f\"'{chars[i]}': {counts[i]} раз\")"
      ],
      "metadata": {
        "colab": {
          "base_uri": "https://localhost:8080/"
        },
        "id": "W9fg6oOObFZd",
        "outputId": "f6c6bfbd-c073-42bf-888c-17ab16247934"
      },
      "execution_count": 20,
      "outputs": [
        {
          "output_type": "stream",
          "name": "stdout",
          "text": [
            "5 самых частых символов:\n",
            "'т': 16 раз\n",
            "'и': 17 раз\n",
            "'а': 14 раз\n",
            "'н': 13 раз\n",
            "'е': 22 раз\n"
          ]
        }
      ]
    },
    {
      "cell_type": "code",
      "source": [
        "#5\n",
        "sample_text = \"\"\"Компьютерная лингвистика является междисциплинарной областью науки, которая изучает математические и компьютерные модели естественного языка, а также его применение в системах искусственного интеллекта.\n",
        "\n",
        "Компьютерная лингвистика изучает методы обработки текста.\n",
        "\n",
        "Компьютерная лингвистика является областью искусственного интеллекта.\"\"\"\n",
        "import string\n",
        "\n",
        "def analyze_paragraphs(text):\n",
        "\n",
        "    paragraphs = text.split('\\n\\n')\n",
        "    paragraphs = [p.strip() for p in paragraphs if p.strip()]\n",
        "\n",
        "    for i, paragraph in enumerate(paragraphs, 1):\n",
        "\n",
        "        for end_mark in ['.', '!', '?']:\n",
        "            paragraph_text = paragraph.replace(end_mark, f'{end_mark}SENTENCE_END')\n",
        "        sentences = paragraph_text.split('SENTENCE_END')\n",
        "        sentences = [s.strip() for s in sentences if s.strip()]\n",
        "        num_sentences = len(sentences)\n",
        "\n",
        "        translator = str.maketrans('', '', string.punctuation)\n",
        "        clean_paragraph = paragraph.translate(translator)\n",
        "        words = clean_paragraph.split()\n",
        "        num_words = len(words)\n",
        "\n",
        "        if num_words > 0:\n",
        "            total_chars = sum(len(word) for word in words)\n",
        "            avg_word_length = total_chars / num_words\n",
        "        else:\n",
        "            avg_word_length = 0\n",
        "\n",
        "        print(f\"\\nПараграф {i}:\")\n",
        "        print(f\"Текст: {paragraph[:50]}...\")\n",
        "        print(f\"Количество предложений: {num_sentences}\")\n",
        "        print(f\"Количество слов: {num_words}\")\n",
        "        print(f\"Средняя длина слова: {avg_word_length:.1f} символов\")\n",
        "\n",
        "analyze_paragraphs(sample_text)"
      ],
      "metadata": {
        "colab": {
          "base_uri": "https://localhost:8080/"
        },
        "id": "cdvbXxjHeZGF",
        "outputId": "c06717ad-5c34-44a4-8755-82743fbbda85"
      },
      "execution_count": 22,
      "outputs": [
        {
          "output_type": "stream",
          "name": "stdout",
          "text": [
            "\n",
            "Параграф 1:\n",
            "Текст: Компьютерная лингвистика является междисциплинарно...\n",
            "Количество предложений: 1\n",
            "Количество слов: 22\n",
            "Средняя длина слова: 8.1 символов\n",
            "\n",
            "Параграф 2:\n",
            "Текст: Компьютерная лингвистика изучает методы обработки ...\n",
            "Количество предложений: 1\n",
            "Количество слов: 6\n",
            "Средняя длина слова: 8.5 символов\n",
            "\n",
            "Параграф 3:\n",
            "Текст: Компьютерная лингвистика является областью искусст...\n",
            "Количество предложений: 1\n",
            "Количество слов: 6\n",
            "Средняя длина слова: 10.5 символов\n"
          ]
        }
      ]
    }
  ],
  "metadata": {
    "colab": {
      "provenance": []
    },
    "kernelspec": {
      "display_name": "Python 3",
      "name": "python3"
    },
    "language_info": {
      "name": "python"
    }
  },
  "nbformat": 4,
  "nbformat_minor": 0
}