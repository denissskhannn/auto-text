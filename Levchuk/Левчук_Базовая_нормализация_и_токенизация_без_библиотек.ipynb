{
  "cells": [
    {
      "cell_type": "markdown",
      "metadata": {
        "id": "xaCyWYJ6uGfk"
      },
      "source": [
        "В этом ноутбуке вы узнаете:\n",
        "\n",
        "1.   Как использовать встроенные методы Python для работы со строками\n",
        "2.   Как выполнять базовую нормализацию текста\n",
        "3. Как токенизировать текст с помощью простых методов\n",
        "4. Как применять эти навыки на практике\n"
      ]
    },
    {
      "cell_type": "markdown",
      "metadata": {
        "id": "T4-yFhGcy934"
      },
      "source": [
        "**1. Основные понятия и функции**"
      ]
    },
    {
      "cell_type": "markdown",
      "metadata": {
        "id": "mMYBk9PluRfs"
      },
      "source": [
        "В Python текст представлен в виде строк (тип данных str). Строки можно создавать, используя одинарные или двойные кавычки."
      ]
    },
    {
      "cell_type": "code",
      "execution_count": 125,
      "metadata": {
        "id": "tXalOImZuMdk",
        "colab": {
          "base_uri": "https://localhost:8080/"
        },
        "outputId": "b7b8a173-8c45-4f32-daee-fe948f3929bc"
      },
      "outputs": [
        {
          "output_type": "stream",
          "name": "stdout",
          "text": [
            "Это текст в \"одинарных\" кавычках\n",
            "Это текст в 'двойных' кавычках\n",
            "Это текст в \"тройных\" кавычках\n",
            "Это\n",
            "текст\n",
            "в 'тройных'\n",
            "кавычках\n"
          ]
        }
      ],
      "source": [
        "# Создание строк\n",
        "text1 = 'Это текст в \"одинарных\" кавычках'\n",
        "text2 = \"Это текст в 'двойных' кавычках\"\n",
        "text3 = '''Это текст в \"тройных\" кавычках'''\n",
        "text4 = '''Это\n",
        "текст\n",
        "в 'тройных'\n",
        "кавычках'''\n",
        "\n",
        "# Вывод строк\n",
        "print(text1)\n",
        "print(text2)\n",
        "print(text3)\n",
        "print(text4)"
      ]
    },
    {
      "cell_type": "markdown",
      "metadata": {
        "id": "4dVUdNKvuYvU"
      },
      "source": [
        "1.1. Индексация и срезы строк.\n",
        "Строки в Python — это последовательности символов, к которым можно обращаться по индексу. Индексация начинается с 0."
      ]
    },
    {
      "cell_type": "code",
      "execution_count": 126,
      "metadata": {
        "id": "8RlZDm97uVrC",
        "colab": {
          "base_uri": "https://localhost:8080/"
        },
        "outputId": "7dec0342-3dd5-4cae-cf10-74200dadf815"
      },
      "outputs": [
        {
          "output_type": "stream",
          "name": "stdout",
          "text": [
            "Первый символ: К\n",
            "Пятый символ: ь\n",
            "Первые 12 символов: Компьютерная\n",
            "С 13-го символа до конца: лингвистика\n",
            "С 5-го по 10-й символ: ютерна\n"
          ]
        }
      ],
      "source": [
        "# Строка для примеров\n",
        "sample_text = \"Компьютерная лингвистика\"\n",
        "\n",
        "# Получение отдельного символа\n",
        "print(\"Первый символ:\", sample_text[0])\n",
        "print(\"Пятый символ:\", sample_text[4])\n",
        "\n",
        "# Срезы строк\n",
        "print(\"Первые 12 символов:\", sample_text[:12])  # от начала до 12-го символа (не включая)\n",
        "print(\"С 13-го символа до конца:\", sample_text[13:])  # с 13-го символа до конца\n",
        "print(\"С 5-го по 10-й символ:\", sample_text[5:11])  # с 5-го по 10-й символ (11-й не включается)"
      ]
    },
    {
      "cell_type": "markdown",
      "metadata": {
        "id": "-oi1N22TvbQx"
      },
      "source": [
        "1.2. Основные методы строк\n",
        "Python предоставляет множество встроенных методов для работы со строками. Рассмотрим наиболее полезные для обработки текста:"
      ]
    },
    {
      "cell_type": "code",
      "execution_count": 127,
      "metadata": {
        "id": "vkcKQqqgvcpk",
        "colab": {
          "base_uri": "https://localhost:8080/"
        },
        "outputId": "b9fd5063-91d4-4466-d2f2-5edf24e5659e"
      },
      "outputs": [
        {
          "output_type": "stream",
          "name": "stdout",
          "text": [
            "После strip(): Пример текста для анализа.\n",
            "После lower():    пример текста для анализа.   \n",
            "После upper():    ПРИМЕР ТЕКСТА ДЛЯ АНАЛИЗА.   \n",
            "Начинается с 'Пример'? True\n",
            "Заканчивается на '.'? True\n",
            "После replace():    Пример текста для обработки.   \n",
            "Количество пробелов: 9\n"
          ]
        }
      ],
      "source": [
        "# Строка для примеров\n",
        "text = \"   Пример текста для анализа.   \"\n",
        "\n",
        "# Удаление пробелов в начале и конце строки\n",
        "print(\"После strip():\", text.strip())\n",
        "\n",
        "# Перевод в нижний регистр\n",
        "print(\"После lower():\", text.lower())\n",
        "\n",
        "# Перевод в верхний регистр\n",
        "print(\"После upper():\", text.upper())\n",
        "\n",
        "# Проверка, начинается ли строка с определенной подстроки\n",
        "print(\"Начинается с 'Пример'?\", text.strip().startswith(\"Пример\"))\n",
        "\n",
        "# Проверка, заканчивается ли строка определенной подстрокой\n",
        "print(\"Заканчивается на '.'?\", text.strip().endswith(\".\"))\n",
        "\n",
        "# Замена подстроки\n",
        "print(\"После replace():\", text.replace(\"анализа\", \"обработки\"))\n",
        "\n",
        "# Подсчет вхождений подстроки\n",
        "print(\"Количество пробелов:\", text.count(\" \"))"
      ]
    },
    {
      "cell_type": "markdown",
      "metadata": {
        "id": "-oEf7vLCvvzL"
      },
      "source": [
        "1.3. Конкатенация строк и форматирование.\n",
        "Существует несколько способов объединения строк в Python:"
      ]
    },
    {
      "cell_type": "code",
      "execution_count": 128,
      "metadata": {
        "id": "CS50TkzKvwfk",
        "colab": {
          "base_uri": "https://localhost:8080/"
        },
        "outputId": "e0a14ac3-bc2b-40a8-b9ce-88f32a63cc72"
      },
      "outputs": [
        {
          "output_type": "stream",
          "name": "stdout",
          "text": [
            "Полное имя: Иван Петров\n",
            "Меня зовут Иван Петров, мне 25 лет.\n",
            "Меня зовут Иван Петров, мне 25 лет.\n",
            "Меня зовут Иван Петров, мне 25 лет.\n"
          ]
        }
      ],
      "source": [
        "# Простая конкатенация с помощью оператора +\n",
        "first_name = \"Иван\"\n",
        "last_name = \"Петров\"\n",
        "full_name = first_name + \" \" + last_name\n",
        "print(\"Полное имя:\", full_name)\n",
        "\n",
        "# Форматирование строк с помощью метода format()\n",
        "age = 25\n",
        "message = \"Меня зовут {}, мне {} лет.\".format(full_name, age)\n",
        "print(message)\n",
        "\n",
        "# f-строки (начиная с Python 3.6)\n",
        "message_f = f\"Меня зовут {full_name}, мне {age} лет.\"\n",
        "print(message_f)\n",
        "\n",
        "# Использование %\n",
        "message_old = \"Меня зовут %s, мне %d лет.\" % (full_name, age)\n",
        "print(message_old)"
      ]
    },
    {
      "cell_type": "markdown",
      "metadata": {
        "id": "e0K6mt6Vv6gV"
      },
      "source": [
        "**2. Базовая нормализация текста**"
      ]
    },
    {
      "cell_type": "markdown",
      "metadata": {
        "id": "hL2BXNo8wEVY"
      },
      "source": [
        "Нормализация текста — это процесс преобразования текста к стандартному виду для облегчения его дальнейшей обработки. Рассмотрим базовые операции нормализации."
      ]
    },
    {
      "cell_type": "markdown",
      "metadata": {
        "id": "J5Gk1AnRwHK0"
      },
      "source": [
        "2.1. Приведение к нижнему регистру помогает унифицировать текст. Обычно используется нижний регистр."
      ]
    },
    {
      "cell_type": "code",
      "execution_count": 129,
      "metadata": {
        "id": "vNNMpCqOv2Dz",
        "colab": {
          "base_uri": "https://localhost:8080/"
        },
        "outputId": "0fea37e7-e49e-45ec-c752-5efa42d3ffda"
      },
      "outputs": [
        {
          "output_type": "stream",
          "name": "stdout",
          "text": [
            "Исходный текст: КомпьЮтерная ЛИНГвистика изучает Методы Автоматической Обработки Текста.\n",
            "Нормализованный текст: компьютерная лингвистика изучает методы автоматической обработки текста.\n",
            "Английский текст после нормализации: natural language processing (nlp) is a field of ai.\n"
          ]
        }
      ],
      "source": [
        "# Пример текста с разным регистром\n",
        "mixed_case_text = \"КомпьЮтерная ЛИНГвистика изучает Методы Автоматической Обработки Текста.\"\n",
        "\n",
        "# Приведение к нижнему регистру\n",
        "normalized_text = mixed_case_text.lower()\n",
        "print(\"Исходный текст:\", mixed_case_text)\n",
        "print(\"Нормализованный текст:\", normalized_text)\n",
        "\n",
        "# Пример на английском\n",
        "english_text = \"Natural Language Processing (NLP) is a FIELD of AI.\"\n",
        "print(\"Английский текст после нормализации:\", english_text.lower())"
      ]
    },
    {
      "cell_type": "markdown",
      "metadata": {
        "id": "Vlwzl4-bw7u9"
      },
      "source": [
        "2.2. Удаление лишних пробелов. Часто тексты содержат лишние пробелы, которые нужно удалить.\n",
        "\n",
        "\n"
      ]
    },
    {
      "cell_type": "code",
      "execution_count": 130,
      "metadata": {
        "id": "AioDUYPrw-Hl",
        "colab": {
          "base_uri": "https://localhost:8080/"
        },
        "outputId": "029780e0-082b-4358-a891-00d4ed096168"
      },
      "outputs": [
        {
          "output_type": "stream",
          "name": "stdout",
          "text": [
            "После strip(): В  этом   тексте  есть  лишние    пробелы.\n",
            "Нормализация: В этом тексте есть лишние пробелы.\n",
            "Английский текст после нормализации пробелов: This text has extra spaces.\n"
          ]
        }
      ],
      "source": [
        "# Текст с лишними пробелами\n",
        "text_with_spaces = \"   В  этом   тексте  есть  лишние    пробелы.   \"\n",
        "\n",
        "# Удаление пробелов в начале и конце\n",
        "trimmed_text = text_with_spaces.strip()\n",
        "print(\"После strip():\", trimmed_text)\n",
        "\n",
        "words = trimmed_text.split()  # Разбиваем текст на слова\n",
        "normalized_manually = ' '.join(words)  # Объединяем слова с одним пробелом\n",
        "print(\"Нормализация:\", normalized_manually)\n",
        "\n",
        "# Пример на английском\n",
        "english_spaces = \"  This   text   has   extra   spaces. \"\n",
        "english_normalized = ' '.join(english_spaces.strip().split())\n",
        "print(\"Английский текст после нормализации пробелов:\", english_normalized)"
      ]
    },
    {
      "cell_type": "markdown",
      "metadata": {
        "id": "M7bFiY8syfRf"
      },
      "source": [
        "2.3. Удаление пунктуации. Для многих задач обработки текста необходимо удалить знаки пунктуации."
      ]
    },
    {
      "cell_type": "code",
      "execution_count": 131,
      "metadata": {
        "id": "g7M5Bna1yjB1",
        "colab": {
          "base_uri": "https://localhost:8080/"
        },
        "outputId": "2ccd1112-e915-4f55-d6be-f8b577768610"
      },
      "outputs": [
        {
          "output_type": "stream",
          "name": "stdout",
          "text": [
            "Знаки пунктуации: !\"#$%&'()*+,-./:;<=>?@[\\]^_`{|}~\n",
            "Текст без пунктуации (метод 1): Привет мир Как дела Это  пример текста с разными знаками пунктуации\n",
            "Текст без пунктуации (метод 2): Привет мир Как дела Это  пример текста с разными знаками пунктуации\n",
            "Английский текст без пунктуации: Hello world How are you This is a sample text with various punctuation marks\n"
          ]
        }
      ],
      "source": [
        "# Текст с пунктуацией\n",
        "text_with_punctuation = \"Привет, мир! Как дела? Это - пример текста; с разными знаками пунктуации.\"\n",
        "\n",
        "# Определение знаков пунктуации для удаления\n",
        "import string\n",
        "punctuation = string.punctuation  # !\"#$%&'()*+,-./:;<=>?@[\\]^_`{|}~\n",
        "print(\"Знаки пунктуации:\", punctuation)\n",
        "\n",
        "# Удаление пунктуации (метод 1)\n",
        "no_punctuation = ''.join(char for char in text_with_punctuation if char not in punctuation)\n",
        "print(\"Текст без пунктуации (метод 1):\", no_punctuation)\n",
        "\n",
        "# Удаление пунктуации (метод 2)\n",
        "translator = str.maketrans('', '', punctuation)\n",
        "no_punctuation2 = text_with_punctuation.translate(translator)\n",
        "print(\"Текст без пунктуации (метод 2):\", no_punctuation2)\n",
        "\n",
        "# Пример на английском\n",
        "english_punctuation = \"Hello, world! How are you? This is a sample text; with various punctuation marks.\"\n",
        "english_no_punctuation = english_punctuation.translate(translator)\n",
        "print(\"Английский текст без пунктуации:\", english_no_punctuation)"
      ]
    },
    {
      "cell_type": "markdown",
      "metadata": {
        "id": "cCzDj3GayrSf"
      },
      "source": [
        "2.4. Комплексная нормализация текста. Объединим все изученные методы для комплексной нормализации текста."
      ]
    },
    {
      "cell_type": "code",
      "execution_count": 132,
      "metadata": {
        "id": "-EQfaUxNyuOm",
        "colab": {
          "base_uri": "https://localhost:8080/"
        },
        "outputId": "0c44e98c-ec9b-41d3-9155-263d42aafe88"
      },
      "outputs": [
        {
          "output_type": "stream",
          "name": "stdout",
          "text": [
            "Исходный русский текст:    Компьютерная    ЛИНГВИСТИКА - это ОБЛАСТЬ науки, изучающая   методы автоматической    обработки текста!   \n",
            "Нормализованный русский текст: компьютерная лингвистика это область науки изучающая методы автоматической обработки текста\n",
            "Исходный английский текст:    Natural    LANGUAGE Processing (NLP) - is a FIELD of AI, focusing   on text analysis!   \n",
            "Нормализованный английский текст: natural language processing nlp is a field of ai focusing on text analysis\n"
          ]
        }
      ],
      "source": [
        "def normalize_text(text):\n",
        "    \"\"\"\n",
        "    Функция для комплексной нормализации текста:\n",
        "    1. Приведение к нижнему регистру\n",
        "    2. Удаление лишних пробелов\n",
        "    3. Удаление пунктуации\n",
        "    \"\"\"\n",
        "    # Шаг 1: Приведение к нижнему регистру\n",
        "    text = text.lower()\n",
        "\n",
        "    # Шаг 2: Удаление пунктуации\n",
        "    translator = str.maketrans('', '', string.punctuation)\n",
        "    text = text.translate(translator)\n",
        "\n",
        "    # Шаг 3: Удаление лишних пробелов\n",
        "    text = ' '.join(text.split())\n",
        "\n",
        "    return text\n",
        "\n",
        "# Проверка функции на русском тексте\n",
        "russian_text = \"   Компьютерная    ЛИНГВИСТИКА - это ОБЛАСТЬ науки, изучающая   методы автоматической    обработки текста!   \"\n",
        "normalized_russian = normalize_text(russian_text)\n",
        "print(\"Исходный русский текст:\", russian_text)\n",
        "print(\"Нормализованный русский текст:\", normalized_russian)\n",
        "\n",
        "# Проверка функции на английском тексте\n",
        "english_text = \"   Natural    LANGUAGE Processing (NLP) - is a FIELD of AI, focusing   on text analysis!   \"\n",
        "normalized_english = normalize_text(english_text)\n",
        "print(\"Исходный английский текст:\", english_text)\n",
        "print(\"Нормализованный английский текст:\", normalized_english)"
      ]
    },
    {
      "cell_type": "markdown",
      "metadata": {
        "id": "H2IvHG_yy1uJ"
      },
      "source": [
        "**3. Простая токенизация текста**"
      ]
    },
    {
      "cell_type": "markdown",
      "metadata": {
        "id": "ISndfr9tzMRC"
      },
      "source": [
        "Токенизация — это процесс разделения текста на отдельные токены (обычно слова или предложения). Рассмотрим простые методы токенизации с использованием встроенных возможностей Python."
      ]
    },
    {
      "cell_type": "markdown",
      "metadata": {
        "id": "sjvNUNImzP5i"
      },
      "source": [
        "3.1. Токенизация по пробелам. Самый простой способ токенизации — разделение текста по пробелам с помощью метода .split()."
      ]
    },
    {
      "cell_type": "code",
      "execution_count": 133,
      "metadata": {
        "id": "pRMRYdZfzTk2",
        "colab": {
          "base_uri": "https://localhost:8080/"
        },
        "outputId": "fb56d9dc-14b6-4493-f1c0-a35460dea079"
      },
      "outputs": [
        {
          "output_type": "stream",
          "name": "stdout",
          "text": [
            "Токены: ['Компьютерная', 'лингвистика', 'изучает', 'методы', 'обработки', 'текста']\n",
            "Количество токенов: 6\n",
            "Английские токены: ['Natural', 'language', 'processing', 'studies', 'methods', 'of', 'text', 'analysis']\n",
            "Количество английских токенов: 8\n"
          ]
        }
      ],
      "source": [
        "# Пример текста\n",
        "text = \"Компьютерная лингвистика изучает методы обработки текста\"\n",
        "\n",
        "# Токенизация по пробелам\n",
        "tokens = text.split()\n",
        "print(\"Токены:\", tokens)\n",
        "print(\"Количество токенов:\", len(tokens))\n",
        "\n",
        "# Токенизация английского текста\n",
        "english_text = \"Natural language processing studies methods of text analysis\"\n",
        "english_tokens = english_text.split()\n",
        "print(\"Английские токены:\", english_tokens)\n",
        "print(\"Количество английских токенов:\", len(english_tokens))"
      ]
    },
    {
      "cell_type": "markdown",
      "metadata": {
        "id": "Ey-4jl42zahC"
      },
      "source": [
        "3.2. Токенизация с учетом пунктуации. Токенизация по пробелам не учитывает пунктуацию. Для более точной токенизации можно сначала отделить пунктуацию от слов."
      ]
    },
    {
      "cell_type": "code",
      "execution_count": 134,
      "metadata": {
        "id": "8rYkdzlnzdkp",
        "colab": {
          "base_uri": "https://localhost:8080/"
        },
        "outputId": "4123b175-3c8b-4cea-a91d-59b3251dfe2f"
      },
      "outputs": [
        {
          "output_type": "stream",
          "name": "stdout",
          "text": [
            "Русский текст: Привет, мир! Как дела? Это - пример текста; с разными знаками пунктуации.\n",
            "Токены русского текста: ['Привет', ',', 'мир', '!', 'Как', 'дела', '?', 'Это', '-', 'пример', 'текста', ';', 'с', 'разными', 'знаками', 'пунктуации', '.']\n",
            "Количество токенов: 17\n",
            "Английский текст: Hello, world! How are you? This is a sample text; with various punctuation marks.\n",
            "Токены английского текста: ['Hello', ',', 'world', '!', 'How', 'are', 'you', '?', 'This', 'is', 'a', 'sample', 'text', ';', 'with', 'various', 'punctuation', 'marks', '.']\n",
            "Количество токенов: 19\n"
          ]
        }
      ],
      "source": [
        "def simple_tokenize(text):\n",
        "    \"\"\"\n",
        "    Простая токенизация с учетом пунктуации:\n",
        "    1. Добавляем пробелы вокруг знаков пунктуации\n",
        "    2. Разделяем по пробелам\n",
        "    3. Удаляем пустые токены\n",
        "    \"\"\"\n",
        "    # Добавляем пробелы вокруг знаков пунктуации\n",
        "    for punct in string.punctuation:\n",
        "        text = text.replace(punct, f' {punct} ')\n",
        "\n",
        "    # Разделяем по пробелам и удаляем пустые токены\n",
        "    tokens = [token for token in text.split() if token]\n",
        "\n",
        "    return tokens\n",
        "\n",
        "# Проверка на русском тексте\n",
        "russian_text = \"Привет, мир! Как дела? Это - пример текста; с разными знаками пунктуации.\"\n",
        "russian_tokens = simple_tokenize(russian_text)\n",
        "print(\"Русский текст:\", russian_text)\n",
        "print(\"Токены русского текста:\", russian_tokens)\n",
        "print(\"Количество токенов:\", len(russian_tokens))\n",
        "\n",
        "# Проверка на английском тексте\n",
        "english_text = \"Hello, world! How are you? This is a sample text; with various punctuation marks.\"\n",
        "english_tokens = simple_tokenize(english_text)\n",
        "print(\"Английский текст:\", english_text)\n",
        "print(\"Токены английского текста:\", english_tokens)\n",
        "print(\"Количество токенов:\", len(english_tokens))"
      ]
    },
    {
      "cell_type": "markdown",
      "metadata": {
        "id": "qfbRKk1S0wq_"
      },
      "source": [
        "3.3. Токенизация предложений. Простой способ — разделение по знакам конца предложения."
      ]
    },
    {
      "cell_type": "code",
      "execution_count": 135,
      "metadata": {
        "id": "bw3dAKeG0-fA",
        "colab": {
          "base_uri": "https://localhost:8080/"
        },
        "outputId": "db31d066-19b8-4237-bfd7-c1796105956a"
      },
      "outputs": [
        {
          "output_type": "stream",
          "name": "stdout",
          "text": [
            "Русский текст: Привет, мир! Как дела? Это пример текста. Он состоит из нескольких предложений.\n",
            "Предложения русского текста:\n",
            "1. Привет, мир!\n",
            "2. Как дела?\n",
            "3. Это пример текста.\n",
            "4. Он состоит из нескольких предложений.\n",
            "\n",
            "Английский текст: Hello, world! How are you? This is a sample text. It consists of several sentences.\n",
            "Предложения английского текста:\n",
            "1. Hello, world!\n",
            "2. How are you?\n",
            "3. This is a sample text.\n",
            "4. It consists of several sentences.\n"
          ]
        }
      ],
      "source": [
        "def simple_sentence_tokenize(text):\n",
        "    \"\"\"\n",
        "    Простая токенизация на предложения:\n",
        "    1. Заменяем знаки конца предложения на специальный маркер\n",
        "    2. Разделяем текст по маркеру\n",
        "    3. Очищаем полученные предложения\n",
        "    \"\"\"\n",
        "    # Заменяем знаки конца предложения\n",
        "    for end_mark in ['.', '!', '?']:\n",
        "        text = text.replace(end_mark, f'{end_mark}SENTENCE_END')\n",
        "\n",
        "    # Разделяем по маркеру\n",
        "    sentences = text.split('SENTENCE_END')\n",
        "\n",
        "    # Очищаем предложения и удаляем пустые\n",
        "    cleaned_sentences = [sentence.strip() for sentence in sentences if sentence.strip()]\n",
        "\n",
        "    return cleaned_sentences\n",
        "\n",
        "# Проверка на русском тексте\n",
        "russian_text = \"Привет, мир! Как дела? Это пример текста. Он состоит из нескольких предложений.\"\n",
        "russian_sentences = simple_sentence_tokenize(russian_text)\n",
        "print(\"Русский текст:\", russian_text)\n",
        "print(\"Предложения русского текста:\")\n",
        "for i, sentence in enumerate(russian_sentences, 1):\n",
        "    print(f\"{i}. {sentence}\")\n",
        "\n",
        "# Проверка на английском тексте\n",
        "english_text = \"Hello, world! How are you? This is a sample text. It consists of several sentences.\"\n",
        "english_sentences = simple_sentence_tokenize(english_text)\n",
        "print(\"\\nАнглийский текст:\", english_text)\n",
        "print(\"Предложения английского текста:\")\n",
        "for i, sentence in enumerate(english_sentences, 1):\n",
        "    print(f\"{i}. {sentence}\")"
      ]
    },
    {
      "cell_type": "markdown",
      "metadata": {
        "id": "_a-rRcLp1NnW"
      },
      "source": [
        "3.4. Объединение токенов обратно в текст. Метод .join() позволяет объединить токены обратно в текст, указав разделитель."
      ]
    },
    {
      "cell_type": "code",
      "execution_count": 136,
      "metadata": {
        "id": "jCOkR50y1PYv",
        "colab": {
          "base_uri": "https://localhost:8080/"
        },
        "outputId": "a34746c7-4f7e-43f8-8d4c-8f38aca1540b"
      },
      "outputs": [
        {
          "output_type": "stream",
          "name": "stdout",
          "text": [
            "Объединенный текст: Компьютерная лингвистика изучает методы обработки текста\n",
            "Токены через запятую: Компьютерная, лингвистика, изучает, методы, обработки, текста\n",
            "Объединенный английский текст: Natural language processing studies methods of text analysis\n"
          ]
        }
      ],
      "source": [
        "# Пример токенов\n",
        "tokens = [\"Компьютерная\", \"лингвистика\", \"изучает\", \"методы\", \"обработки\", \"текста\"]\n",
        "\n",
        "# Объединение токенов с пробелом\n",
        "text = ' '.join(tokens)\n",
        "print(\"Объединенный текст:\", text)\n",
        "\n",
        "# Объединение с другими разделителями\n",
        "comma_separated = ', '.join(tokens)\n",
        "print(\"Токены через запятую:\", comma_separated)\n",
        "\n",
        "# Объединение английских токенов\n",
        "english_tokens = [\"Natural\", \"language\", \"processing\", \"studies\", \"methods\", \"of\", \"text\", \"analysis\"]\n",
        "english_text = ' '.join(english_tokens)\n",
        "print(\"Объединенный английский текст:\", english_text)"
      ]
    },
    {
      "cell_type": "markdown",
      "metadata": {
        "id": "zTAF-Lj21evo"
      },
      "source": [
        "**4. Практические упражнения**"
      ]
    },
    {
      "cell_type": "markdown",
      "metadata": {
        "id": "2ffDLEVL1oiZ"
      },
      "source": [
        "Упражнение 1: Нормализация текста. Напишите функцию, которая будет нормализовать текст следующим образом:\n",
        "\n",
        "1. Привести к нижнему регистру\n",
        "2. Удалить все цифры\n",
        "3. Заменить все символы пунктуации на пробелы\n",
        "4. Удалить лишние пробелы\n",
        "\n"
      ]
    },
    {
      "cell_type": "code",
      "execution_count": 137,
      "metadata": {
        "id": "rU4ZTUrd1jFX",
        "colab": {
          "base_uri": "https://localhost:8080/"
        },
        "outputId": "80f7911a-9ba4-4755-b6b5-a4dc3634f908"
      },
      "outputs": [
        {
          "output_type": "stream",
          "name": "stdout",
          "text": [
            "Исходный русский текст: Пример текста123, с РАЗНЫМИ символами! И 456 цифрами?!\n",
            "Нормализованный русский текст: пример текста с разными символами и цифрами\n"
          ]
        }
      ],
      "source": [
        "sample_text = \"Пример текста123, с РАЗНЫМИ символами! И 456 цифрами?!\"\n",
        "import string\n",
        "def normalize_text(text):\n",
        "    # Нижний регистр\n",
        "    text = text.lower()\n",
        "\n",
        "    # Удалить все цифры\n",
        "    translator = str.maketrans('', '', string.digits)\n",
        "    text = text.translate(translator)\n",
        "\n",
        "    # Заменить пунктуацию на пробелы\n",
        "    # string.punctuation - все стандарт символы пунктуации\n",
        "    # str.maketrans(x, y) - замена символов\n",
        "    text = text.translate(str.maketrans(string.punctuation, ' ' * len(string.punctuation)))\n",
        "\n",
        "    # Удалить лишние пробелы\n",
        "    text = ' '.join(text.split())\n",
        "\n",
        "    return text\n",
        "\n",
        "# Проверка\n",
        "normalized_russian = normalize_text(sample_text)\n",
        "print(\"Исходный русский текст:\", sample_text)\n",
        "print(\"Нормализованный русский текст:\", normalized_russian)"
      ]
    },
    {
      "cell_type": "markdown",
      "metadata": {
        "id": "waC9ZHWB2Kph"
      },
      "source": [
        "Упражнение 2: Подсчет частотности слов. Напишите функцию, которая будет принимать текст, нормализовать его, токенизировать и возвращать словарь с частотностью каждого слова."
      ]
    },
    {
      "cell_type": "code",
      "execution_count": 138,
      "metadata": {
        "id": "HlWO9Bpn2SQo",
        "colab": {
          "base_uri": "https://localhost:8080/"
        },
        "outputId": "de105358-8b14-477b-930d-d59aec332e57"
      },
      "outputs": [
        {
          "output_type": "stream",
          "name": "stdout",
          "text": [
            "Частота слов в русском тексте: {'компьютерная': 2, 'лингвистика': 2, 'изучает': 1, 'методы': 1, 'обработки': 1, 'текста': 1, 'является': 1, 'областью': 1, 'искусственного': 1, 'интеллекта': 1}\n",
            "Частота слов в английском тексте: {'natural': 2, 'language': 2, 'processing': 2, 'is': 1, 'a': 1, 'field': 1, 'of': 1, 'artificial': 1, 'intelligence': 1, 'focuses': 1, 'on': 1, 'the': 1, 'interaction': 1, 'between': 1, 'computers': 1, 'and': 1, 'humans': 1}\n"
          ]
        }
      ],
      "source": [
        "sample_text = \"Компьютерная лингвистика изучает методы обработки текста. Компьютерная лингвистика является областью искусственного интеллекта.\"\n",
        "english_text = \"Natural language processing is a field of artificial intelligence. Natural language processing focuses on the interaction between computers and humans.\"\n",
        "\n",
        "def analyse_text(text):\n",
        "    # Нижний регистр\n",
        "    text = text.lower()\n",
        "\n",
        "    # Удалить все цифры\n",
        "    import string\n",
        "    translator = str.maketrans('', '', string.digits)\n",
        "    text = text.translate(translator)\n",
        "\n",
        "    # Удалить пунктуацию\n",
        "    translator = str.maketrans('', '', string.punctuation)\n",
        "    text = text.translate(translator)\n",
        "\n",
        "    # Удалить лишние пробелы\n",
        "    text = ' '.join(text.split())\n",
        "\n",
        "    # Токенизировать\n",
        "    tokens = text.split()\n",
        "\n",
        "    # Частота слов\n",
        "    word_frequency = {}\n",
        "    for token in tokens:\n",
        "      if token in word_frequency:\n",
        "        word_frequency[token] += 1\n",
        "      else: word_frequency[token] = 1\n",
        "\n",
        "    return word_frequency\n",
        "\n",
        "normalized_russian = analyse_text(sample_text)\n",
        "print(f'Частота слов в русском тексте: {normalized_russian}')\n",
        "normalized_english = analyse_text(english_text)\n",
        "print(f'Частота слов в английском тексте: {normalized_english}')"
      ]
    },
    {
      "cell_type": "markdown",
      "metadata": {
        "id": "RPTWlfsD2ehu"
      },
      "source": [
        "Упражнение 3: Поиск самых длинных и коротких слов. Напишите функцию, которая находит самые длинные и самые короткие слова в тексте."
      ]
    },
    {
      "cell_type": "code",
      "execution_count": 139,
      "metadata": {
        "id": "hizov4xW2YhX",
        "colab": {
          "base_uri": "https://localhost:8080/"
        },
        "outputId": "a389a7ae-19eb-4586-f95d-5d45009001cf"
      },
      "outputs": [
        {
          "output_type": "stream",
          "name": "stdout",
          "text": [
            "Самое длинное слово русского текста: междисциплинарной\n",
            "Самое короткое слово русского текста: и\n",
            "Самое длинное слово английского текста: interdisciplinary\n",
            "Самое короткое слово английского текста: is\n"
          ]
        }
      ],
      "source": [
        "sample_text = \"Компьютерная лингвистика является междисциплинарной областью науки, которая изучает математические и компьютерные модели естественного языка, а также его применение в системах искусственного интеллекта.\"\n",
        "english_text = \"Computational linguistics is an interdisciplinary field of science that studies mathematical and computational models of natural language and its application in artificial intelligence systems.\"\n",
        "def find_words(text):\n",
        "    words = text.split()\n",
        "\n",
        "    longest_word = words[0]\n",
        "    shortest_word = words[0]\n",
        "\n",
        "    for word in words:\n",
        "        if len(word) > len(longest_word):\n",
        "            longest_word = word\n",
        "        if len(word) < len(shortest_word):\n",
        "            shortest_word = word\n",
        "\n",
        "    return longest_word, shortest_word\n",
        "\n",
        "get_longest_word, get_shortest_word = find_words(sample_text)\n",
        "get_eng_longest_word, get_eng_shortest_word = find_words(english_text)\n",
        "\n",
        "print(f'Самое длинное слово русского текста: {get_longest_word}')\n",
        "print(f'Самое короткое слово русского текста: {get_shortest_word}')\n",
        "print(f'Самое длинное слово английского текста: {get_eng_longest_word}')\n",
        "print(f'Самое короткое слово английского текста: {get_eng_shortest_word}')"
      ]
    },
    {
      "cell_type": "markdown",
      "metadata": {
        "id": "wtQ6vmk922D6"
      },
      "source": [
        "Упражнение 4: Поиск и подсчет определенных паттернов. Напишите функцию, которая находит и подсчитывает слова, начинающиеся с определенной буквы или содержащие определенную последовательность букв."
      ]
    },
    {
      "cell_type": "code",
      "execution_count": 140,
      "metadata": {
        "id": "Pv0AYXVp23vc",
        "colab": {
          "base_uri": "https://localhost:8080/"
        },
        "outputId": "d1720be9-0961-4ea4-a624-d2e8dc3efbd1"
      },
      "outputs": [
        {
          "output_type": "stream",
          "name": "stdout",
          "text": [
            "Количество слов, начинающихся с 'к': 2\n"
          ]
        }
      ],
      "source": [
        "sample_text = \"Компьютерная лингвистика изучает методы обработки текста. Математические модели и компьютерные алгоритмы используются для анализа естественных языков.\"\n",
        "\n",
        "import string\n",
        "# Поиск слов, начинающихся с 'к'\n",
        "def pattern_search(text):\n",
        "    text = text.lower()\n",
        "    translator = str.maketrans('', '', string.punctuation)\n",
        "    text = text.translate(translator)\n",
        "\n",
        "    count = 0\n",
        "\n",
        "    tokens = text.split()\n",
        "\n",
        "    for token in tokens:\n",
        "        if token.strip().startswith(\"к\"):\n",
        "            count += 1\n",
        "\n",
        "    return count\n",
        "\n",
        "count = pattern_search(sample_text)\n",
        "print(f\"Количество слов, начинающихся с 'к': {count}\")\n"
      ]
    },
    {
      "cell_type": "code",
      "execution_count": 141,
      "metadata": {
        "id": "1i4Yjoum26nz",
        "colab": {
          "base_uri": "https://localhost:8080/"
        },
        "outputId": "9aa6249f-6b45-44d1-96ef-9f2c7ff45ae3"
      },
      "outputs": [
        {
          "output_type": "stream",
          "name": "stdout",
          "text": [
            "Количество слов, содержащих 'ing': 2\n"
          ]
        }
      ],
      "source": [
        "english_text = \"Computational linguistics studies methods of text processing. Mathematical models and computer algorithms are used to analyze natural languages.\"\n",
        "\n",
        "# Поиск слов, содержащих 'ing'\n",
        "import string\n",
        "def pattern_search(text):\n",
        "    text = text.lower()\n",
        "    translator = str.maketrans('', '', string.punctuation)\n",
        "    text = text.translate(translator)\n",
        "\n",
        "    tokens = text.split()\n",
        "\n",
        "    count = 0\n",
        "\n",
        "    for token in tokens:\n",
        "        if token.count(\"ing\") > 0:\n",
        "          count += 1\n",
        "    return count\n",
        "\n",
        "count = pattern_search(english_text)\n",
        "print(f\"Количество слов, содержащих 'ing': {count}\")"
      ]
    },
    {
      "cell_type": "markdown",
      "metadata": {
        "id": "anDhdjLG3M1A"
      },
      "source": [
        "Упражнение 5: Анализ предложений в тексте. Напишите функцию, которая анализирует текст на уровне предложений, подсчитывая:\n",
        "\n",
        "1. Количество предложений\n",
        "2. Среднюю длину предложения (в словах)\n",
        "3. Самое длинное и самое короткое предложение\n"
      ]
    },
    {
      "cell_type": "code",
      "execution_count": 142,
      "metadata": {
        "id": "QQd2ZgIj3YlJ",
        "colab": {
          "base_uri": "https://localhost:8080/"
        },
        "outputId": "7c7c6361-2f1f-4d15-9b72-102792b0bdc1"
      },
      "outputs": [
        {
          "output_type": "stream",
          "name": "stdout",
          "text": [
            "Результаты анализа предложений: \n",
            "Количество предложений: 4\n",
            "Средняя длина предложения (в словах): 9.5\n",
            "Самое длинное предложение: Методы компьютерной лингвистики применяются для решения различных задач, таких как машинный перевод, автоматическое реферирование и информационный поиск.\n",
            "Самое короткое предложение: Компьютерная лингвистика - это междисциплинарная область науки.\n"
          ]
        }
      ],
      "source": [
        "sample_text = \"\"\"Компьютерная лингвистика - это междисциплинарная область науки.\n",
        "Она изучает математические и компьютерные модели естественного языка.\n",
        "Методы компьютерной лингвистики применяются для решения различных задач, таких как машинный перевод, автоматическое реферирование и информационный поиск.\n",
        "Современные алгоритмы позволяют анализировать большие объемы текстов.\"\"\"\n",
        "import string\n",
        "def analyse_text(text):\n",
        "    # Заменяем знаки конца предложения\n",
        "    for end_mark in ['.', '!', '?']:\n",
        "        text = text.replace(end_mark, f'{end_mark}SENTENCE_END')\n",
        "    # Разделяем по маркеру\n",
        "    sentences = text.split('SENTENCE_END')\n",
        "    # Очищаем предложения и удаляем пустые\n",
        "    cleaned_sentences = [sentence.strip() for sentence in sentences if sentence.strip()]\n",
        "\n",
        "    # Кол-во предложений\n",
        "    number_of_sentences = len(cleaned_sentences)\n",
        "\n",
        "    # Удаление пунктуации\n",
        "    translator = str.maketrans('', '', string.punctuation)\n",
        "    normalized_text = text.translate(translator)\n",
        "\n",
        "    # Подсчет слов в предложении\n",
        "    length = []\n",
        "    for sentence in cleaned_sentences:\n",
        "        normalized_sentence = sentence.translate(translator)\n",
        "        words = normalized_sentence.split()\n",
        "        length.append(len(words))\n",
        "\n",
        "    # Средняя длина предложения\n",
        "    average_length = sum(length) / len(length)\n",
        "\n",
        "    # Самое длинное и самое короткое слово\n",
        "    longest_sentence = cleaned_sentences[0]\n",
        "    shortest_sentence = cleaned_sentences[0]\n",
        "\n",
        "    for sentence in cleaned_sentences:\n",
        "        if len(sentence) > len(longest_sentence):\n",
        "          longest_sentence = sentence\n",
        "        if len(sentence) < len(shortest_sentence):\n",
        "          shortest_sentence = sentence\n",
        "\n",
        "    return number_of_sentences, average_length, longest_sentence, shortest_sentence\n",
        "\n",
        "num_sentences, average_sentences, longest_sent, shortest_sent = analyse_text(sample_text)\n",
        "# Анализ предложений\n",
        "print(f\"Результаты анализа предложений: \")\n",
        "print(f\"Количество предложений: {num_sentences}\")\n",
        "print(f\"Средняя длина предложения (в словах): {average_sentences}\")\n",
        "print(f\"Самое длинное предложение: {longest_sent}\")\n",
        "print(f\"Самое короткое предложение: {shortest_sent}\")"
      ]
    },
    {
      "cell_type": "code",
      "execution_count": 143,
      "metadata": {
        "id": "N7pW-9_c3rmI",
        "colab": {
          "base_uri": "https://localhost:8080/"
        },
        "outputId": "0bbcddb5-76b5-4f29-9750-0b5260f4da66"
      },
      "outputs": [
        {
          "output_type": "stream",
          "name": "stdout",
          "text": [
            "Результаты анализа предложений: \n",
            "Количество предложений: 4\n",
            "Средняя длина предложения (в словах): 11.0\n",
            "Самое длинное предложение: Methods of computational linguistics are applied to solve various tasks such as machine translation, automatic summarization, and information retrieval.\n",
            "Самое короткое предложение: Modern algorithms allow analyzing large volumes of texts.\n"
          ]
        }
      ],
      "source": [
        "english_text = \"\"\"Computational linguistics is an interdisciplinary field of science.\n",
        "It studies mathematical and computational models of natural language.\n",
        "Methods of computational linguistics are applied to solve various tasks such as machine translation, automatic summarization, and information retrieval.\n",
        "Modern algorithms allow analyzing large volumes of texts.\"\"\"\n",
        "import string\n",
        "def analyse_text(text):\n",
        "    # Заменяем знаки конца предложения\n",
        "    for end_mark in ['.', '!', '?']:\n",
        "        text = text.replace(end_mark, f'{end_mark}SENTENCE_END')\n",
        "    # Разделяем по маркеру\n",
        "    sentences = text.split('SENTENCE_END')\n",
        "    # Очищаем предложения и удаляем пустые\n",
        "    cleaned_sentences = [sentence.strip() for sentence in sentences if sentence.strip()]\n",
        "\n",
        "    # Кол-во предложений\n",
        "    number_of_sentences = len(cleaned_sentences)\n",
        "\n",
        "    # Удаление пунктуации\n",
        "    translator = str.maketrans('', '', string.punctuation)\n",
        "    normalized_text = text.translate(translator)\n",
        "\n",
        "    # Подсчет слов в предложении\n",
        "    length = []\n",
        "    for sentence in cleaned_sentences:\n",
        "        normalized_sentence = sentence.translate(translator)\n",
        "        words = normalized_sentence.split()\n",
        "        length.append(len(words))\n",
        "\n",
        "    # Средняя длина предложения\n",
        "    average_length = sum(length) / len(length)\n",
        "\n",
        "    # Самое длинное и самое короткое слово\n",
        "    longest_sentence = cleaned_sentences[0]\n",
        "    shortest_sentence = cleaned_sentences[0]\n",
        "\n",
        "    for sentence in cleaned_sentences:\n",
        "        if len(sentence) > len(longest_sentence):\n",
        "          longest_sentence = sentence\n",
        "        if len(sentence) < len(shortest_sentence):\n",
        "          shortest_sentence = sentence\n",
        "\n",
        "    return number_of_sentences, average_length, longest_sentence, shortest_sentence\n",
        "\n",
        "num_sentences, average_sentences, longest_sent, shortest_sent = analyse_text(english_text)\n",
        "# Анализ предложений\n",
        "print(f\"Результаты анализа предложений: \")\n",
        "print(f\"Количество предложений: {num_sentences}\")\n",
        "print(f\"Средняя длина предложения (в словах): {average_sentences}\")\n",
        "print(f\"Самое длинное предложение: {longest_sent}\")\n",
        "print(f\"Самое короткое предложение: {shortest_sent}\")"
      ]
    },
    {
      "cell_type": "markdown",
      "metadata": {
        "id": "ZE7TEjrM37te"
      },
      "source": [
        "**5. Домашнее задание**"
      ]
    },
    {
      "cell_type": "markdown",
      "metadata": {
        "id": "qJtWAqaL3-od"
      },
      "source": [
        "Напишите функцию для нормализации текста, которая:\n",
        "\n",
        "1. Приводит текст к нижнему регистру\n",
        "2. Удаляет все знаки пунктуации\n",
        "3. Заменяет все цифры на символ '#'\n",
        "4. Удаляет лишние пробелы\n",
        "\n",
        "Напишите функцию, которая находит и выводит все слова из текста, содержащие гласные в определенной последовательности (например, 'о' и затем 'а').\n",
        "\n",
        "Создайте функцию, которая:\n",
        "\n",
        "1.   Токенизирует текст\n",
        "2.   Отбирает только слова длиной более 4 символов\n",
        "3. Сортирует их по алфавиту\n",
        "4. Возвращает первые 10 слов\n",
        "\n",
        "Напишите функцию для анализа частотности символов в тексте, которая возвращает 5 самых часто встречающихся символов и их количество.\n",
        "\n",
        "Напишите программу, которая разделяет текст на параграфы (по двойному переносу строки), а затем подсчитывает для каждого параграфа: количество предложений, количество слов, среднюю длину слова"
      ]
    },
    {
      "cell_type": "code",
      "source": [
        "#1\n",
        "sample_text = \"Привет2, это текст для примера5\"\n",
        "import string\n",
        "def normalize_text(text):\n",
        "    text = text.lower()\n",
        "\n",
        "    translator = str.maketrans('', '', string.punctuation)\n",
        "    text = text.translate(translator)\n",
        "\n",
        "    text = text.translate(str.maketrans(string.digits, '#' * len(string.digits)))\n",
        "\n",
        "    text = ' '.join(text.split())\n",
        "\n",
        "    return text\n",
        "\n",
        "normalized_russian = normalize_text(sample_text)\n",
        "\n",
        "print(\"Исходный русский текст:\", sample_text)\n",
        "print(\"Нормализованный русский текст:\", normalized_russian)"
      ],
      "metadata": {
        "id": "DUNykC2kFBaj",
        "colab": {
          "base_uri": "https://localhost:8080/"
        },
        "outputId": "bdd34a74-cbff-4369-8d74-687557052cdf"
      },
      "execution_count": 144,
      "outputs": [
        {
          "output_type": "stream",
          "name": "stdout",
          "text": [
            "Исходный русский текст: Привет2, это текст для примера5\n",
            "Нормализованный русский текст: привет# это текст для примера#\n"
          ]
        }
      ]
    },
    {
      "cell_type": "code",
      "source": [
        "#2\n",
        "sample_text = \"Компьютерная лингвистика изучает методы обработки текста.\"\n",
        "import re\n",
        "import string\n",
        "def analysis(text):\n",
        "    text = text.lower()\n",
        "    translator = str.maketrans('', '',string.digits)\n",
        "    text = text.translate(translator)\n",
        "\n",
        "    for punct in string.punctuation:\n",
        "        text = text.replace(punct, f' {punct} ')\n",
        "\n",
        "    tokens = [token for token in text.split() if token]\n",
        "\n",
        "    matches = [word for word in tokens if re.search('о.*а', word)]\n",
        "\n",
        "    return matches\n",
        "\n",
        "matches = analysis(sample_text)\n",
        "print(f\"Совпадения: {matches}\")"
      ],
      "metadata": {
        "colab": {
          "base_uri": "https://localhost:8080/"
        },
        "id": "yIr2FylsRPCq",
        "outputId": "0f88b256-9281-4278-adc3-af24744e0e1c"
      },
      "execution_count": 145,
      "outputs": [
        {
          "output_type": "stream",
          "name": "stdout",
          "text": [
            "Совпадения: ['компьютерная', 'обработки']\n"
          ]
        }
      ]
    },
    {
      "cell_type": "code",
      "source": [
        "#3\n",
        "sample_text = \"Компьютерная лингвистика изучает методы обработки текста. Компьютерная лингвистика является областью искусственного интеллекта.\"\n",
        "def text_transform(text):\n",
        "  text = text.lower()\n",
        "  translator = str.maketrans('', '', string.punctuation)\n",
        "  text = text.translate(translator)\n",
        "\n",
        "  tokens = text.split()\n",
        "\n",
        "  selected_words = []\n",
        "  for token in tokens:\n",
        "      if len(token) > 4:\n",
        "          selected_words.append(token)\n",
        "\n",
        "  selected_words.sort()\n",
        "\n",
        "  return selected_words[:10]\n",
        "\n",
        "transformed_text = text_transform(sample_text)\n",
        "print(f'Первые 10 слов более 4 букв: {transformed_text}')"
      ],
      "metadata": {
        "colab": {
          "base_uri": "https://localhost:8080/"
        },
        "id": "PXybTXe0YVoj",
        "outputId": "eb73d4b3-8a52-449c-e019-8daa5897784a"
      },
      "execution_count": 146,
      "outputs": [
        {
          "output_type": "stream",
          "name": "stdout",
          "text": [
            "Первые 10 слов более 4 букв: ['изучает', 'интеллекта', 'искусственного', 'компьютерная', 'компьютерная', 'лингвистика', 'лингвистика', 'методы', 'областью', 'обработки']\n"
          ]
        }
      ]
    },
    {
      "cell_type": "code",
      "source": [
        "#4\n",
        "sample_text = \"Компьютерная лингвистика изучает методы обработки текста. Компьютерная лингвистика является областью искусственного интеллекта.\"\n",
        "english_text = \"Natural language processing is a field of artificial intelligence. Natural language processing focuses on the interaction between computers and humans.\"\n",
        "\n",
        "def analyse_text(text):\n",
        "    # Нижний регистр\n",
        "    text = text.lower()\n",
        "    # Удалить все цифры\n",
        "    import string\n",
        "    translator = str.maketrans('', '', string.digits)\n",
        "    text = text.translate(translator)\n",
        "    # Удалить пунктуацию\n",
        "    translator = str.maketrans('', '', string.punctuation)\n",
        "    text = text.translate(translator)\n",
        "    # Удалить лишние пробелы\n",
        "    text = ' '.join(text.split())\n",
        "    # Токенизировать\n",
        "    tokens = text.split()\n",
        "\n",
        "    # Частота слов\n",
        "    word_frequency = {}\n",
        "    for token in tokens:\n",
        "      if token in word_frequency:\n",
        "        word_frequency[token] += 1\n",
        "      else: word_frequency[token] = 1\n",
        "\n",
        "    # Сортировка, 5 первых слов\n",
        "    sorted_word_frequency = sorted(word_frequency.items(), key=lambda x: x[1], reverse=True)\n",
        "    freq5 = dict(sorted_word_frequency[:5])\n",
        "\n",
        "    return freq5\n",
        "\n",
        "normalized_russian = analyse_text(sample_text)\n",
        "print(f'Частота слов в русском тексте: {normalized_russian}')\n",
        "normalized_english = analyse_text(english_text)\n",
        "print(f'Частота слов в английском тексте: {normalized_english}')"
      ],
      "metadata": {
        "id": "biG_oOBRetOz",
        "colab": {
          "base_uri": "https://localhost:8080/"
        },
        "outputId": "0c6c2d83-bb05-40e3-864a-a388e579f048"
      },
      "execution_count": 147,
      "outputs": [
        {
          "output_type": "stream",
          "name": "stdout",
          "text": [
            "Частота слов в русском тексте: {'компьютерная': 2, 'лингвистика': 2, 'изучает': 1, 'методы': 1, 'обработки': 1}\n",
            "Частота слов в английском тексте: {'natural': 2, 'language': 2, 'processing': 2, 'is': 1, 'a': 1}\n"
          ]
        }
      ]
    },
    {
      "cell_type": "code",
      "source": [
        "#5\n",
        "sample_text = \"\"\"Компьютерная лингвистика - это междисциплинарная область науки. Она изучает математические и компьютерные модели естественного языка.\n",
        "Методы компьютерной лингвистики применяются для решения различных задач, таких как машинный перевод, автоматическое реферирование и информационный поиск.\n",
        "Современные алгоритмы позволяют анализировать большие объемы текстов.\n",
        "\n",
        "Применение компьютерной лингвистики стало важным элементом в развитии поисковых систем,\n",
        "голосовых ассистентов и систем автоматического перевода. Однако, несмотря на достижения, компьютерная лингвистика сталкивается с рядом сложных проблем. Одной из них является многозначность слов, когда одно слово может иметь несколько значений в разных контекстах.\"\"\"\n",
        "\n",
        "def analyse_text(text):\n",
        "    paragraphs = text.split('\\n\\n')\n",
        "\n",
        "    results = []\n",
        "\n",
        "    for paragraph in paragraphs:\n",
        "        paragraph = paragraph.strip()\n",
        "\n",
        "        sentences = [sentence.strip() for sentence in paragraph.split('.') if sentence.strip()]\n",
        "\n",
        "        num_sentences = len(sentences)\n",
        "        words = paragraph.split()\n",
        "        num_words = len(words)\n",
        "\n",
        "        total_length = sum(len(word) for word in words)\n",
        "        average_length = total_length / num_words\n",
        "\n",
        "        results.append({\n",
        "            \"Число предложений\": num_sentences,\n",
        "            \"Количество слов\": num_words,\n",
        "            \"Средняя длина слова\": average_length\n",
        "        })\n",
        "\n",
        "    return results\n",
        "\n",
        "result = analyse_text(sample_text)\n",
        "for i, res in enumerate(result):\n",
        "    print(f\"Параграф {i + 1}: {res}\")\n",
        ""
      ],
      "metadata": {
        "colab": {
          "base_uri": "https://localhost:8080/"
        },
        "id": "pHT1SlouSede",
        "outputId": "e9928348-d942-4bec-f0a1-4559fc648211"
      },
      "execution_count": 148,
      "outputs": [
        {
          "output_type": "stream",
          "name": "stdout",
          "text": [
            "Параграф 1: {'Число предложений': 4, 'Количество слов': 39, 'Средняя длина слова': 8.179487179487179}\n",
            "Параграф 2: {'Число предложений': 3, 'Количество слов': 43, 'Средняя длина слова': 7.186046511627907}\n"
          ]
        }
      ]
    }
  ],
  "metadata": {
    "colab": {
      "provenance": []
    },
    "kernelspec": {
      "display_name": "Python 3",
      "name": "python3"
    },
    "language_info": {
      "name": "python"
    }
  },
  "nbformat": 4,
  "nbformat_minor": 0
}