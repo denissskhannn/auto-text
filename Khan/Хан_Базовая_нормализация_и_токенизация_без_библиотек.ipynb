{
  "nbformat": 4,
  "nbformat_minor": 0,
  "metadata": {
    "colab": {
      "provenance": []
    },
    "kernelspec": {
      "name": "python3",
      "display_name": "Python 3"
    },
    "language_info": {
      "name": "python"
    }
  },
  "cells": [
    {
      "cell_type": "markdown",
      "source": [
        "В этом ноутбуке вы узнаете:\n",
        "\n",
        "1.   Как использовать встроенные методы Python для работы со строками\n",
        "2.   Как выполнять базовую нормализацию текста\n",
        "3. Как токенизировать текст с помощью простых методов\n",
        "4. Как применять эти навыки на практике\n"
      ],
      "metadata": {
        "id": "xaCyWYJ6uGfk"
      }
    },
    {
      "cell_type": "markdown",
      "source": [
        "**1. Основные понятия и функции**"
      ],
      "metadata": {
        "id": "T4-yFhGcy934"
      }
    },
    {
      "cell_type": "markdown",
      "source": [
        "В Python текст представлен в виде строк (тип данных str). Строки можно создавать, используя одинарные или двойные кавычки."
      ],
      "metadata": {
        "id": "mMYBk9PluRfs"
      }
    },
    {
      "cell_type": "code",
      "source": [
        "# Создание строк\n",
        "text1 = 'Это текст в \"одинарных\" кавычках'\n",
        "text2 = \"Это текст в 'двойных' кавычках\"\n",
        "text3 = '''Это текст в \"тройных\" кавычках'''\n",
        "text4 = '''Это\n",
        "текст\n",
        "в 'тройных'\n",
        "кавычках'''\n",
        "\n",
        "# Вывод строк\n",
        "print(text1)\n",
        "print(text2)\n",
        "print(text3)\n",
        "print(text4)"
      ],
      "metadata": {
        "id": "tXalOImZuMdk",
        "colab": {
          "base_uri": "https://localhost:8080/"
        },
        "outputId": "9aeb7ecf-1094-433e-9c92-70f014c1e2b3"
      },
      "execution_count": 1,
      "outputs": [
        {
          "output_type": "stream",
          "name": "stdout",
          "text": [
            "Это текст в \"одинарных\" кавычках\n",
            "Это текст в 'двойных' кавычках\n",
            "Это текст в \"тройных\" кавычках\n",
            "Это\n",
            "текст\n",
            "в 'тройных'\n",
            "кавычках\n"
          ]
        }
      ]
    },
    {
      "cell_type": "markdown",
      "source": [
        "1.1. Индексация и срезы строк.\n",
        "Строки в Python — это последовательности символов, к которым можно обращаться по индексу. Индексация начинается с 0."
      ],
      "metadata": {
        "id": "4dVUdNKvuYvU"
      }
    },
    {
      "cell_type": "code",
      "source": [
        "# Строка для примеров\n",
        "sample_text = \"Компьютерная лингвистика\"\n",
        "\n",
        "# Получение отдельного символа\n",
        "print(\"Первый символ:\", sample_text[0])\n",
        "print(\"Пятый символ:\", sample_text[4])\n",
        "\n",
        "# Срезы строк\n",
        "print(\"Первые 12 символов:\", sample_text[:12])  # от начала до 12-го символа (не включая)\n",
        "print(\"С 13-го символа до конца:\", sample_text[13:])  # с 13-го символа до конца\n",
        "print(\"С 5-го по 10-й символ:\", sample_text[5:11])  # с 5-го по 10-й символ (11-й не включается)"
      ],
      "metadata": {
        "id": "8RlZDm97uVrC",
        "colab": {
          "base_uri": "https://localhost:8080/"
        },
        "outputId": "906ee958-e51a-4b96-9a1d-2ef7cd5bee51"
      },
      "execution_count": 2,
      "outputs": [
        {
          "output_type": "stream",
          "name": "stdout",
          "text": [
            "Первый символ: К\n",
            "Пятый символ: ь\n",
            "Первые 12 символов: Компьютерная\n",
            "С 13-го символа до конца: лингвистика\n",
            "С 5-го по 10-й символ: ютерна\n"
          ]
        }
      ]
    },
    {
      "cell_type": "markdown",
      "source": [
        "1.2. Основные методы строк\n",
        "Python предоставляет множество встроенных методов для работы со строками. Рассмотрим наиболее полезные для обработки текста:"
      ],
      "metadata": {
        "id": "-oi1N22TvbQx"
      }
    },
    {
      "cell_type": "code",
      "source": [
        "# Строка для примеров\n",
        "text = \"   Пример текста для анализа.   \"\n",
        "\n",
        "# Удаление пробелов в начале и конце строки\n",
        "print(\"После strip():\", text.strip())\n",
        "\n",
        "# Перевод в нижний регистр\n",
        "print(\"После lower():\", text.lower())\n",
        "\n",
        "# Перевод в верхний регистр\n",
        "print(\"После upper():\", text.upper())\n",
        "\n",
        "# Проверка, начинается ли строка с определенной подстроки\n",
        "print(\"Начинается с 'Пример'?\", text.strip().startswith(\"Пример\"))\n",
        "\n",
        "# Проверка, заканчивается ли строка определенной подстрокой\n",
        "print(\"Заканчивается на '.'?\", text.strip().endswith(\".\"))\n",
        "\n",
        "# Замена подстроки\n",
        "print(\"После replace():\", text.replace(\"анализа\", \"обработки\"))\n",
        "\n",
        "# Подсчет вхождений подстроки\n",
        "print(\"Количество пробелов:\", text.count(\" \"))"
      ],
      "metadata": {
        "id": "vkcKQqqgvcpk",
        "colab": {
          "base_uri": "https://localhost:8080/"
        },
        "outputId": "3884f23a-0583-435d-f7ec-c7cc5a4fd716"
      },
      "execution_count": 3,
      "outputs": [
        {
          "output_type": "stream",
          "name": "stdout",
          "text": [
            "После strip(): Пример текста для анализа.\n",
            "После lower():    пример текста для анализа.   \n",
            "После upper():    ПРИМЕР ТЕКСТА ДЛЯ АНАЛИЗА.   \n",
            "Начинается с 'Пример'? True\n",
            "Заканчивается на '.'? True\n",
            "После replace():    Пример текста для обработки.   \n",
            "Количество пробелов: 9\n"
          ]
        }
      ]
    },
    {
      "cell_type": "markdown",
      "source": [
        "1.3. Конкатенация строк и форматирование.\n",
        "Существует несколько способов объединения строк в Python:"
      ],
      "metadata": {
        "id": "-oEf7vLCvvzL"
      }
    },
    {
      "cell_type": "code",
      "source": [
        "# Простая конкатенация с помощью оператора +\n",
        "first_name = \"Иван\"\n",
        "last_name = \"Петров\"\n",
        "full_name = first_name + \" \" + last_name\n",
        "print(\"Полное имя:\", full_name)\n",
        "\n",
        "# Форматирование строк с помощью метода format()\n",
        "age = 25\n",
        "message = \"Меня зовут {}, мне {} лет.\".format(full_name, age)\n",
        "print(message)\n",
        "\n",
        "# f-строки (начиная с Python 3.6)\n",
        "message_f = f\"Меня зовут {full_name}, мне {age} лет.\"\n",
        "print(message_f)\n",
        "\n",
        "# Использование %\n",
        "message_old = \"Меня зовут %s, мне %d лет.\" % (full_name, age)\n",
        "print(message_old)"
      ],
      "metadata": {
        "id": "CS50TkzKvwfk",
        "colab": {
          "base_uri": "https://localhost:8080/"
        },
        "outputId": "1205eafa-72aa-4497-91eb-70ff57e7425f"
      },
      "execution_count": 4,
      "outputs": [
        {
          "output_type": "stream",
          "name": "stdout",
          "text": [
            "Полное имя: Иван Петров\n",
            "Меня зовут Иван Петров, мне 25 лет.\n",
            "Меня зовут Иван Петров, мне 25 лет.\n",
            "Меня зовут Иван Петров, мне 25 лет.\n"
          ]
        }
      ]
    },
    {
      "cell_type": "markdown",
      "source": [
        "**2. Базовая нормализация текста**"
      ],
      "metadata": {
        "id": "e0K6mt6Vv6gV"
      }
    },
    {
      "cell_type": "markdown",
      "source": [
        "Нормализация текста — это процесс преобразования текста к стандартному виду для облегчения его дальнейшей обработки. Рассмотрим базовые операции нормализации."
      ],
      "metadata": {
        "id": "hL2BXNo8wEVY"
      }
    },
    {
      "cell_type": "markdown",
      "source": [
        "2.1. Приведение к нижнему регистру помогает унифицировать текст. Обычно используется нижний регистр."
      ],
      "metadata": {
        "id": "J5Gk1AnRwHK0"
      }
    },
    {
      "cell_type": "code",
      "source": [
        "# Пример текста с разным регистром\n",
        "mixed_case_text = \"КомпьЮтерная ЛИНГвистика изучает Методы Автоматической Обработки Текста.\"\n",
        "\n",
        "# Приведение к нижнему регистру\n",
        "normalized_text = mixed_case_text.lower()\n",
        "print(\"Исходный текст:\", mixed_case_text)\n",
        "print(\"Нормализованный текст:\", normalized_text)\n",
        "\n",
        "# Пример на английском\n",
        "english_text = \"Natural Language Processing (NLP) is a FIELD of AI.\"\n",
        "print(\"Английский текст после нормализации:\", english_text.lower())"
      ],
      "metadata": {
        "id": "vNNMpCqOv2Dz",
        "colab": {
          "base_uri": "https://localhost:8080/"
        },
        "outputId": "6c77f9f2-13aa-464e-b8b0-1e0da29e276e"
      },
      "execution_count": 5,
      "outputs": [
        {
          "output_type": "stream",
          "name": "stdout",
          "text": [
            "Исходный текст: КомпьЮтерная ЛИНГвистика изучает Методы Автоматической Обработки Текста.\n",
            "Нормализованный текст: компьютерная лингвистика изучает методы автоматической обработки текста.\n",
            "Английский текст после нормализации: natural language processing (nlp) is a field of ai.\n"
          ]
        }
      ]
    },
    {
      "cell_type": "markdown",
      "source": [
        "2.2. Удаление лишних пробелов. Часто тексты содержат лишние пробелы, которые нужно удалить.\n",
        "\n",
        "\n"
      ],
      "metadata": {
        "id": "Vlwzl4-bw7u9"
      }
    },
    {
      "cell_type": "code",
      "source": [
        "# Текст с лишними пробелами\n",
        "text_with_spaces = \"   В  этом   тексте  есть  лишние    пробелы.   \"\n",
        "\n",
        "# Удаление пробелов в начале и конце\n",
        "trimmed_text = text_with_spaces.strip()\n",
        "print(\"После strip():\", trimmed_text)\n",
        "\n",
        "words = trimmed_text.split()  # Разбиваем текст на слова\n",
        "normalized_manually = ' '.join(words)  # Объединяем слова с одним пробелом\n",
        "print(\"Нормализация:\", normalized_manually)\n",
        "\n",
        "# Пример на английском\n",
        "english_spaces = \"  This   text   has   extra   spaces. \"\n",
        "english_normalized = ' '.join(english_spaces.strip().split())\n",
        "print(\"Английский текст после нормализации пробелов:\", english_normalized)"
      ],
      "metadata": {
        "id": "AioDUYPrw-Hl",
        "colab": {
          "base_uri": "https://localhost:8080/"
        },
        "outputId": "a5bc2514-ad28-41e0-805d-8e3ac9881cf4"
      },
      "execution_count": 6,
      "outputs": [
        {
          "output_type": "stream",
          "name": "stdout",
          "text": [
            "После strip(): В  этом   тексте  есть  лишние    пробелы.\n",
            "Нормализация: В этом тексте есть лишние пробелы.\n",
            "Английский текст после нормализации пробелов: This text has extra spaces.\n"
          ]
        }
      ]
    },
    {
      "cell_type": "markdown",
      "source": [
        "2.3. Удаление пунктуации. Для многих задач обработки текста необходимо удалить знаки пунктуации."
      ],
      "metadata": {
        "id": "M7bFiY8syfRf"
      }
    },
    {
      "cell_type": "code",
      "source": [
        "# Текст с пунктуацией\n",
        "text_with_punctuation = \"Привет, мир! Как дела? Это - пример текста; с разными знаками пунктуации.\"\n",
        "\n",
        "# Определение знаков пунктуации для удаления\n",
        "import string\n",
        "punctuation = string.punctuation  # !\"#$%&'()*+,-./:;<=>?@[\\]^_`{|}~\n",
        "print(\"Знаки пунктуации:\", punctuation)\n",
        "\n",
        "# Удаление пунктуации (метод 1)\n",
        "no_punctuation = ''.join(char for char in text_with_punctuation if char not in punctuation)\n",
        "print(\"Текст без пунктуации (метод 1):\", no_punctuation)\n",
        "\n",
        "# Удаление пунктуации (метод 2)\n",
        "translator = str.maketrans('', '', punctuation)\n",
        "no_punctuation2 = text_with_punctuation.translate(translator)\n",
        "print(\"Текст без пунктуации (метод 2):\", no_punctuation2)\n",
        "\n",
        "# Пример на английском\n",
        "english_punctuation = \"Hello, world! How are you? This is a sample text; with various punctuation marks.\"\n",
        "english_no_punctuation = english_punctuation.translate(translator)\n",
        "print(\"Английский текст без пунктуации:\", english_no_punctuation)"
      ],
      "metadata": {
        "id": "g7M5Bna1yjB1",
        "colab": {
          "base_uri": "https://localhost:8080/"
        },
        "outputId": "e6fe7d37-cca6-4e15-aeee-d02417ba2251"
      },
      "execution_count": 7,
      "outputs": [
        {
          "output_type": "stream",
          "name": "stdout",
          "text": [
            "Знаки пунктуации: !\"#$%&'()*+,-./:;<=>?@[\\]^_`{|}~\n",
            "Текст без пунктуации (метод 1): Привет мир Как дела Это  пример текста с разными знаками пунктуации\n",
            "Текст без пунктуации (метод 2): Привет мир Как дела Это  пример текста с разными знаками пунктуации\n",
            "Английский текст без пунктуации: Hello world How are you This is a sample text with various punctuation marks\n"
          ]
        }
      ]
    },
    {
      "cell_type": "markdown",
      "source": [
        "2.4. Комплексная нормализация текста. Объединим все изученные методы для комплексной нормализации текста."
      ],
      "metadata": {
        "id": "cCzDj3GayrSf"
      }
    },
    {
      "cell_type": "code",
      "source": [
        "def normalize_text(text):\n",
        "    \"\"\"\n",
        "    Функция для комплексной нормализации текста:\n",
        "    1. Приведение к нижнему регистру\n",
        "    2. Удаление лишних пробелов\n",
        "    3. Удаление пунктуации\n",
        "    \"\"\"\n",
        "    # Шаг 1: Приведение к нижнему регистру\n",
        "    text = text.lower()\n",
        "\n",
        "    # Шаг 2: Удаление пунктуации\n",
        "    translator = str.maketrans('', '', string.punctuation)\n",
        "    text = text.translate(translator)\n",
        "\n",
        "    # Шаг 3: Удаление лишних пробелов\n",
        "    text = ' '.join(text.split())\n",
        "\n",
        "    return text\n",
        "\n",
        "# Проверка функции на русском тексте\n",
        "russian_text = \"   Компьютерная    ЛИНГВИСТИКА - это ОБЛАСТЬ науки, изучающая   методы автоматической    обработки текста!   \"\n",
        "normalized_russian = normalize_text(russian_text)\n",
        "print(\"Исходный русский текст:\", russian_text)\n",
        "print(\"Нормализованный русский текст:\", normalized_russian)\n",
        "\n",
        "# Проверка функции на английском тексте\n",
        "english_text = \"   Natural    LANGUAGE Processing (NLP) - is a FIELD of AI, focusing   on text analysis!   \"\n",
        "normalized_english = normalize_text(english_text)\n",
        "print(\"Исходный английский текст:\", english_text)\n",
        "print(\"Нормализованный английский текст:\", normalized_english)"
      ],
      "metadata": {
        "id": "-EQfaUxNyuOm",
        "colab": {
          "base_uri": "https://localhost:8080/"
        },
        "outputId": "d600966e-56aa-45b4-e91a-4a40805f83cd"
      },
      "execution_count": 8,
      "outputs": [
        {
          "output_type": "stream",
          "name": "stdout",
          "text": [
            "Исходный русский текст:    Компьютерная    ЛИНГВИСТИКА - это ОБЛАСТЬ науки, изучающая   методы автоматической    обработки текста!   \n",
            "Нормализованный русский текст: компьютерная лингвистика это область науки изучающая методы автоматической обработки текста\n",
            "Исходный английский текст:    Natural    LANGUAGE Processing (NLP) - is a FIELD of AI, focusing   on text analysis!   \n",
            "Нормализованный английский текст: natural language processing nlp is a field of ai focusing on text analysis\n"
          ]
        }
      ]
    },
    {
      "cell_type": "markdown",
      "source": [
        "**3. Простая токенизация текста**"
      ],
      "metadata": {
        "id": "H2IvHG_yy1uJ"
      }
    },
    {
      "cell_type": "markdown",
      "source": [
        "Токенизация — это процесс разделения текста на отдельные токены (обычно слова или предложения). Рассмотрим простые методы токенизации с использованием встроенных возможностей Python."
      ],
      "metadata": {
        "id": "ISndfr9tzMRC"
      }
    },
    {
      "cell_type": "markdown",
      "source": [
        "3.1. Токенизация по пробелам. Самый простой способ токенизации — разделение текста по пробелам с помощью метода .split()."
      ],
      "metadata": {
        "id": "sjvNUNImzP5i"
      }
    },
    {
      "cell_type": "code",
      "source": [
        "# Пример текста\n",
        "text = \"Компьютерная лингвистика изучает методы обработки текста\"\n",
        "\n",
        "# Токенизация по пробелам\n",
        "tokens = text.split()\n",
        "print(\"Токены:\", tokens)\n",
        "print(\"Количество токенов:\", len(tokens))\n",
        "\n",
        "# Токенизация английского текста\n",
        "english_text = \"Natural language processing studies methods of text analysis\"\n",
        "english_tokens = english_text.split()\n",
        "print(\"Английские токены:\", english_tokens)\n",
        "print(\"Количество английских токенов:\", len(english_tokens))"
      ],
      "metadata": {
        "id": "pRMRYdZfzTk2",
        "colab": {
          "base_uri": "https://localhost:8080/"
        },
        "outputId": "7b35cfe3-72ee-41c6-d0da-783fd0a3df8f"
      },
      "execution_count": 9,
      "outputs": [
        {
          "output_type": "stream",
          "name": "stdout",
          "text": [
            "Токены: ['Компьютерная', 'лингвистика', 'изучает', 'методы', 'обработки', 'текста']\n",
            "Количество токенов: 6\n",
            "Английские токены: ['Natural', 'language', 'processing', 'studies', 'methods', 'of', 'text', 'analysis']\n",
            "Количество английских токенов: 8\n"
          ]
        }
      ]
    },
    {
      "cell_type": "markdown",
      "source": [
        "3.2. Токенизация с учетом пунктуации. Токенизация по пробелам не учитывает пунктуацию. Для более точной токенизации можно сначала отделить пунктуацию от слов."
      ],
      "metadata": {
        "id": "Ey-4jl42zahC"
      }
    },
    {
      "cell_type": "code",
      "source": [
        "def simple_tokenize(text):\n",
        "    \"\"\"\n",
        "    Простая токенизация с учетом пунктуации:\n",
        "    1. Добавляем пробелы вокруг знаков пунктуации\n",
        "    2. Разделяем по пробелам\n",
        "    3. Удаляем пустые токены\n",
        "    \"\"\"\n",
        "    # Добавляем пробелы вокруг знаков пунктуации\n",
        "    for punct in string.punctuation:\n",
        "        text = text.replace(punct, f' {punct} ')\n",
        "\n",
        "    # Разделяем по пробелам и удаляем пустые токены\n",
        "    tokens = [token for token in text.split() if token]\n",
        "\n",
        "    return tokens\n",
        "\n",
        "# Проверка на русском тексте\n",
        "russian_text = \"Привет, мир! Как дела? Это - пример текста; с разными знаками пунктуации.\"\n",
        "russian_tokens = simple_tokenize(russian_text)\n",
        "print(\"Русский текст:\", russian_text)\n",
        "print(\"Токены русского текста:\", russian_tokens)\n",
        "print(\"Количество токенов:\", len(russian_tokens))\n",
        "\n",
        "# Проверка на английском тексте\n",
        "english_text = \"Hello, world! How are you? This is a sample text; with various punctuation marks.\"\n",
        "english_tokens = simple_tokenize(english_text)\n",
        "print(\"Английский текст:\", english_text)\n",
        "print(\"Токены английского текста:\", english_tokens)\n",
        "print(\"Количество токенов:\", len(english_tokens))"
      ],
      "metadata": {
        "id": "8rYkdzlnzdkp",
        "colab": {
          "base_uri": "https://localhost:8080/"
        },
        "outputId": "13406550-1eb9-4765-e307-3ae1284b8fe5"
      },
      "execution_count": 10,
      "outputs": [
        {
          "output_type": "stream",
          "name": "stdout",
          "text": [
            "Русский текст: Привет, мир! Как дела? Это - пример текста; с разными знаками пунктуации.\n",
            "Токены русского текста: ['Привет', ',', 'мир', '!', 'Как', 'дела', '?', 'Это', '-', 'пример', 'текста', ';', 'с', 'разными', 'знаками', 'пунктуации', '.']\n",
            "Количество токенов: 17\n",
            "Английский текст: Hello, world! How are you? This is a sample text; with various punctuation marks.\n",
            "Токены английского текста: ['Hello', ',', 'world', '!', 'How', 'are', 'you', '?', 'This', 'is', 'a', 'sample', 'text', ';', 'with', 'various', 'punctuation', 'marks', '.']\n",
            "Количество токенов: 19\n"
          ]
        }
      ]
    },
    {
      "cell_type": "markdown",
      "source": [
        "3.3. Токенизация предложений. Простой способ — разделение по знакам конца предложения."
      ],
      "metadata": {
        "id": "qfbRKk1S0wq_"
      }
    },
    {
      "cell_type": "code",
      "source": [
        "def simple_sentence_tokenize(text):\n",
        "    \"\"\"\n",
        "    Простая токенизация на предложения:\n",
        "    1. Заменяем знаки конца предложения на специальный маркер\n",
        "    2. Разделяем текст по маркеру\n",
        "    3. Очищаем полученные предложения\n",
        "    \"\"\"\n",
        "    # Заменяем знаки конца предложения\n",
        "    for end_mark in ['.', '!', '?']:\n",
        "        text = text.replace(end_mark, f'{end_mark}SENTENCE_END')\n",
        "\n",
        "    # Разделяем по маркеру\n",
        "    sentences = text.split('SENTENCE_END')\n",
        "\n",
        "    # Очищаем предложения и удаляем пустые\n",
        "    cleaned_sentences = [sentence.strip() for sentence in sentences if sentence.strip()]\n",
        "\n",
        "    return cleaned_sentences\n",
        "\n",
        "# Проверка на русском тексте\n",
        "russian_text = \"Привет, мир! Как дела? Это пример текста. Он состоит из нескольких предложений.\"\n",
        "russian_sentences = simple_sentence_tokenize(russian_text)\n",
        "print(\"Русский текст:\", russian_text)\n",
        "print(\"Предложения русского текста:\")\n",
        "for i, sentence in enumerate(russian_sentences, 1):\n",
        "    print(f\"{i}. {sentence}\")\n",
        "\n",
        "# Проверка на английском тексте\n",
        "english_text = \"Hello, world! How are you? This is a sample text. It consists of several sentences.\"\n",
        "english_sentences = simple_sentence_tokenize(english_text)\n",
        "print(\"\\nАнглийский текст:\", english_text)\n",
        "print(\"Предложения английского текста:\")\n",
        "for i, sentence in enumerate(english_sentences, 1):\n",
        "    print(f\"{i}. {sentence}\")"
      ],
      "metadata": {
        "id": "bw3dAKeG0-fA",
        "colab": {
          "base_uri": "https://localhost:8080/"
        },
        "outputId": "5036000c-a993-4688-9f28-de1778b0cfb0"
      },
      "execution_count": 11,
      "outputs": [
        {
          "output_type": "stream",
          "name": "stdout",
          "text": [
            "Русский текст: Привет, мир! Как дела? Это пример текста. Он состоит из нескольких предложений.\n",
            "Предложения русского текста:\n",
            "1. Привет, мир!\n",
            "2. Как дела?\n",
            "3. Это пример текста.\n",
            "4. Он состоит из нескольких предложений.\n",
            "\n",
            "Английский текст: Hello, world! How are you? This is a sample text. It consists of several sentences.\n",
            "Предложения английского текста:\n",
            "1. Hello, world!\n",
            "2. How are you?\n",
            "3. This is a sample text.\n",
            "4. It consists of several sentences.\n"
          ]
        }
      ]
    },
    {
      "cell_type": "markdown",
      "source": [
        "3.4. Объединение токенов обратно в текст. Метод .join() позволяет объединить токены обратно в текст, указав разделитель."
      ],
      "metadata": {
        "id": "_a-rRcLp1NnW"
      }
    },
    {
      "cell_type": "code",
      "source": [
        "# Пример токенов\n",
        "tokens = [\"Компьютерная\", \"лингвистика\", \"изучает\", \"методы\", \"обработки\", \"текста\"]\n",
        "\n",
        "# Объединение токенов с пробелом\n",
        "text = ' '.join(tokens)\n",
        "print(\"Объединенный текст:\", text)\n",
        "\n",
        "# Объединение с другими разделителями\n",
        "comma_separated = ', '.join(tokens)\n",
        "print(\"Токены через запятую:\", comma_separated)\n",
        "\n",
        "# Объединение английских токенов\n",
        "english_tokens = [\"Natural\", \"language\", \"processing\", \"studies\", \"methods\", \"of\", \"text\", \"analysis\"]\n",
        "english_text = ' '.join(english_tokens)\n",
        "print(\"Объединенный английский текст:\", english_text)"
      ],
      "metadata": {
        "id": "jCOkR50y1PYv",
        "colab": {
          "base_uri": "https://localhost:8080/"
        },
        "outputId": "92175acb-90dd-4705-c054-34550b6f34c9"
      },
      "execution_count": 12,
      "outputs": [
        {
          "output_type": "stream",
          "name": "stdout",
          "text": [
            "Объединенный текст: Компьютерная лингвистика изучает методы обработки текста\n",
            "Токены через запятую: Компьютерная, лингвистика, изучает, методы, обработки, текста\n",
            "Объединенный английский текст: Natural language processing studies methods of text analysis\n"
          ]
        }
      ]
    },
    {
      "cell_type": "markdown",
      "source": [
        "**4. Практические упражнения**"
      ],
      "metadata": {
        "id": "zTAF-Lj21evo"
      }
    },
    {
      "cell_type": "markdown",
      "source": [
        "Упражнение 1: Нормализация текста. Напишите функцию, которая будет нормализовать текст следующим образом:\n",
        "\n",
        "1. Привести к нижнему регистру\n",
        "2. Удалить все цифры\n",
        "3. Заменить все символы пунктуации на пробелы\n",
        "4. Удалить лишние пробелы\n",
        "\n"
      ],
      "metadata": {
        "id": "2ffDLEVL1oiZ"
      }
    },
    {
      "cell_type": "code",
      "source": [
        "from posixpath import join\n",
        "sample_text = \"Пример текста123, с РАЗНЫМИ символами! И 456 цифрами?!\"\n",
        "# ваш код\n",
        "def normalize_text(text):\n",
        "    text = text.lower()\n",
        "    translator = str.maketrans('', '', string.digits)\n",
        "    text = text.translate(translator)\n",
        "    translator = str.maketrans('', '', string.punctuation)\n",
        "    text = text.translate(translator)\n",
        "    text = text.strip()\n",
        "    text = text.split()\n",
        "    text = ' '.join(text)\n",
        "\n",
        "    return text\n",
        "\n",
        "print(normalize_text(sample_text))\n"
      ],
      "metadata": {
        "id": "rU4ZTUrd1jFX",
        "colab": {
          "base_uri": "https://localhost:8080/"
        },
        "outputId": "c61d8921-19d4-4cc5-9299-0d7570bb1e95"
      },
      "execution_count": 13,
      "outputs": [
        {
          "output_type": "stream",
          "name": "stdout",
          "text": [
            "пример текста с разными символами и цифрами\n"
          ]
        }
      ]
    },
    {
      "cell_type": "markdown",
      "source": [
        "Упражнение 2: Подсчет частотности слов. Напишите функцию, которая будет принимать текст, нормализовать его, токенизировать и возвращать словарь с частотностью каждого слова."
      ],
      "metadata": {
        "id": "waC9ZHWB2Kph"
      }
    },
    {
      "cell_type": "code",
      "source": [
        "sample_text = \"Компьютерная лингвистика изучает методы обработки текста. Компьютерная лингвистика является областью искусственного интеллекта.\"\n",
        "english_text = \"Natural language processing is a field of artificial intelligence. Natural language processing focuses on the interaction between computers and humans.\"\n",
        "# ваш код\n",
        "def norm_tok_text(text):\n",
        "    text = normalize_text(text)\n",
        "    tokens = text.split()\n",
        "    freq_dic = {}\n",
        "    for word in tokens:\n",
        "        freq_dic[word] = tokens.count(word)\n",
        "\n",
        "    return freq_dic\n",
        "\n",
        "print(norm_tok_text(sample_text))\n",
        "print(norm_tok_text(english_text))\n"
      ],
      "metadata": {
        "id": "HlWO9Bpn2SQo",
        "colab": {
          "base_uri": "https://localhost:8080/"
        },
        "outputId": "2cfdba4c-5a98-4e75-d613-2f07dbbd36d8"
      },
      "execution_count": 14,
      "outputs": [
        {
          "output_type": "stream",
          "name": "stdout",
          "text": [
            "{'компьютерная': 2, 'лингвистика': 2, 'изучает': 1, 'методы': 1, 'обработки': 1, 'текста': 1, 'является': 1, 'областью': 1, 'искусственного': 1, 'интеллекта': 1}\n",
            "{'natural': 2, 'language': 2, 'processing': 2, 'is': 1, 'a': 1, 'field': 1, 'of': 1, 'artificial': 1, 'intelligence': 1, 'focuses': 1, 'on': 1, 'the': 1, 'interaction': 1, 'between': 1, 'computers': 1, 'and': 1, 'humans': 1}\n"
          ]
        }
      ]
    },
    {
      "cell_type": "markdown",
      "source": [
        "Упражнение 3: Поиск самых длинных и коротких слов. Напишите функцию, которая находит самые длинные и самые короткие слова в тексте."
      ],
      "metadata": {
        "id": "RPTWlfsD2ehu"
      }
    },
    {
      "cell_type": "code",
      "source": [
        "russian_text = \"Компьютерная лингвистика является междисциплинарной областью науки, которая изучает математические и компьютерные модели естественного языка, а также его применение в системах искусственного интеллекта.\"\n",
        "english_text = \"Computational linguistics is an interdisciplinary field of science that studies mathematical and computational models of natural language and its application in artificial intelligence systems.\"\n",
        "# ваш код\n",
        "def long_short_words(text):\n",
        "    tokens = normalize_text(text).split()\n",
        "    longest_string = max(tokens, key=len)\n",
        "    shortest_string = min(tokens, key=len)\n",
        "    return longest_string, shortest_string\n",
        "\n",
        "\n",
        "print(long_short_words(russian_text))\n",
        "print(long_short_words(english_text))"
      ],
      "metadata": {
        "id": "hizov4xW2YhX",
        "colab": {
          "base_uri": "https://localhost:8080/"
        },
        "outputId": "e8d0963e-be6b-4cf4-b493-8b28577d3a0f"
      },
      "execution_count": 15,
      "outputs": [
        {
          "output_type": "stream",
          "name": "stdout",
          "text": [
            "('междисциплинарной', 'и')\n",
            "('interdisciplinary', 'is')\n"
          ]
        }
      ]
    },
    {
      "cell_type": "markdown",
      "source": [
        "Упражнение 4: Поиск и подсчет определенных паттернов. Напишите функцию, которая находит и подсчитывает слова, начинающиеся с определенной буквы или содержащие определенную последовательность букв."
      ],
      "metadata": {
        "id": "wtQ6vmk922D6"
      }
    },
    {
      "cell_type": "code",
      "source": [
        "sample_text = \"Компьютерная лингвистика изучает методы обработки текста. Математические модели и компьютерные алгоритмы используются для анализа естественных языков.\"\n",
        "\n",
        "# Поиск слов, начинающихся с 'к'\n",
        "# ваш код\n",
        "def search_words_rus(text):\n",
        "    tokens = normalize_text(text).split()\n",
        "    counter = 0\n",
        "    for word in tokens:\n",
        "        if word[0] == 'к':\n",
        "            counter += 1\n",
        "    return counter\n",
        "\n",
        "print(search_words_rus(sample_text))"
      ],
      "metadata": {
        "id": "Pv0AYXVp23vc",
        "colab": {
          "base_uri": "https://localhost:8080/"
        },
        "outputId": "c660dbbb-a7cc-4038-b9d9-1d745c448b6f"
      },
      "execution_count": 16,
      "outputs": [
        {
          "output_type": "stream",
          "name": "stdout",
          "text": [
            "2\n"
          ]
        }
      ]
    },
    {
      "cell_type": "code",
      "source": [
        "english_text = \"Computational linguistics studies methods of text processing. Mathematical models and computer algorithms are used to analyze natural languages.\"\n",
        "\n",
        "# Поиск слов, содержащих 'ing'\n",
        "# ваш код\n",
        "def search_words_eng(text):\n",
        "    tokens = normalize_text(text).split()\n",
        "    counter = 0\n",
        "    for word in tokens:\n",
        "        if word[-3:] == 'ing':\n",
        "            counter += 1\n",
        "    return counter\n",
        "\n",
        "print(search_words_eng(english_text))"
      ],
      "metadata": {
        "id": "1i4Yjoum26nz",
        "colab": {
          "base_uri": "https://localhost:8080/"
        },
        "outputId": "68455482-30f7-4d5f-f55e-339e205317e5"
      },
      "execution_count": 17,
      "outputs": [
        {
          "output_type": "stream",
          "name": "stdout",
          "text": [
            "1\n"
          ]
        }
      ]
    },
    {
      "cell_type": "markdown",
      "source": [
        "Упражнение 5: Анализ предложений в тексте. Напишите функцию, которая анализирует текст на уровне предложений, подсчитывая:\n",
        "\n",
        "1. Количество предложений\n",
        "2. Среднюю длину предложения (в словах)\n",
        "3. Самое длинное и самое короткое предложение\n"
      ],
      "metadata": {
        "id": "anDhdjLG3M1A"
      }
    },
    {
      "cell_type": "code",
      "source": [
        "sample_text = \"\"\"Компьютерная лингвистика — это междисциплинарная область науки.\n",
        "Она изучает математические и компьютерные модели естественного языка.\n",
        "Методы компьютерной лингвистики применяются для решения различных задач, таких как машинный перевод, автоматическое реферирование и информационный поиск.\n",
        "Современные алгоритмы позволяют анализировать большие объемы текстов.\"\"\"\n",
        "\n",
        "# ваш код\n",
        "def analyze_sentence(text):\n",
        "    for end_mark in ['.', '!', '?']:\n",
        "        text = text.replace(end_mark, f'{end_mark}SENTENCE_END')\n",
        "    sentences = text.split('SENTENCE_END')\n",
        "    cleaned_sentences = [sentence.strip() for sentence in sentences if sentence.strip()]\n",
        "\n",
        "    sentence_length = []\n",
        "    longest_sentence = max(cleaned_sentences, key=len)\n",
        "    shortest_sentence = min(cleaned_sentences, key=len)\n",
        "    for sentence in cleaned_sentences:\n",
        "        sentence_length.append(len(normalize_text(sentence).split()))\n",
        "    sentence_length = round(sum(sentence_length) / len(sentence_length))\n",
        "\n",
        "    return len(cleaned_sentences), sentence_length, longest_sentence, shortest_sentence\n",
        "\n",
        "c_sentence, l_sentence, max_sentence, min_sentence = analyze_sentence(sample_text)\n",
        "\n",
        "# Анализ предложений\n",
        "print(\"Результаты анализа предложений:\")\n",
        "print(f\"Количество предложений: {c_sentence}\")\n",
        "print(f\"Средняя длина предложения (в словах): {l_sentence}\")\n",
        "print(f\"Самое длинное предложение: {max_sentence}\")\n",
        "print(f\"Самое короткое предложение: {min_sentence}\")\n"
      ],
      "metadata": {
        "id": "QQd2ZgIj3YlJ",
        "colab": {
          "base_uri": "https://localhost:8080/"
        },
        "outputId": "37bfd6b9-bfa4-4aee-cff3-85656ec7d477"
      },
      "execution_count": 18,
      "outputs": [
        {
          "output_type": "stream",
          "name": "stdout",
          "text": [
            "Результаты анализа предложений:\n",
            "Количество предложений: 4\n",
            "Средняя длина предложения (в словах): 10\n",
            "Самое длинное предложение: Методы компьютерной лингвистики применяются для решения различных задач, таких как машинный перевод, автоматическое реферирование и информационный поиск.\n",
            "Самое короткое предложение: Компьютерная лингвистика — это междисциплинарная область науки.\n"
          ]
        }
      ]
    },
    {
      "cell_type": "code",
      "source": [
        "english_text = \"\"\"Computational linguistics is an interdisciplinary field of science.\n",
        "It studies mathematical and computational models of natural language.\n",
        "Methods of computational linguistics are applied to solve various tasks such as machine translation, automatic summarization, and information retrieval.\n",
        "Modern algorithms allow analyzing large volumes of texts.\"\"\"\n",
        "\n",
        "# ваш код\n",
        "c_sentence, l_sentence, max_sentence, min_sentence = analyze_sentence(english_text)\n",
        "\n",
        "# Анализ предложений на английском\n",
        "print(\"\\nРезультаты анализа предложений на английском:\")\n",
        "print(f\"Количество предложений: {c_sentence}\")\n",
        "print(f\"Средняя длина предложения (в словах): {l_sentence}\")\n",
        "print(f\"Самое длинное предложение: {max_sentence}\")\n",
        "print(f\"Самое короткое предложение: {min_sentence}\")"
      ],
      "metadata": {
        "id": "N7pW-9_c3rmI",
        "colab": {
          "base_uri": "https://localhost:8080/"
        },
        "outputId": "884ef4bc-1603-4457-d2eb-b746f48d82af"
      },
      "execution_count": 19,
      "outputs": [
        {
          "output_type": "stream",
          "name": "stdout",
          "text": [
            "\n",
            "Результаты анализа предложений на английском:\n",
            "Количество предложений: 4\n",
            "Средняя длина предложения (в словах): 11\n",
            "Самое длинное предложение: Methods of computational linguistics are applied to solve various tasks such as machine translation, automatic summarization, and information retrieval.\n",
            "Самое короткое предложение: Modern algorithms allow analyzing large volumes of texts.\n"
          ]
        }
      ]
    },
    {
      "cell_type": "markdown",
      "source": [
        "**5. Домашнее задание**"
      ],
      "metadata": {
        "id": "ZE7TEjrM37te"
      }
    },
    {
      "cell_type": "markdown",
      "source": [
        "Напишите функцию для нормализации текста, которая:\n",
        "\n",
        "1. Приводит текст к нижнему регистру\n",
        "2. Удаляет все знаки пунктуации\n",
        "3. Заменяет все цифры на символ '#'\n",
        "4. Удаляет лишние пробелы\n",
        "\n",
        "Напишите функцию, которая находит и выводит все слова из текста, содержащие гласные в определенной последовательности (например, 'о' и затем 'а').\n",
        "\n",
        "Создайте функцию, которая:\n",
        "\n",
        "1.   Токенизирует текст\n",
        "2.   Отбирает только слова длиной более 4 символов\n",
        "3. Сортирует их по алфавиту\n",
        "4. Возвращает первые 10 слов\n",
        "\n",
        "Напишите функцию для анализа частотности символов в тексте, которая возвращает 5 самых часто встречающихся символов и их количество.\n",
        "\n",
        "Напишите программу, которая разделяет текст на параграфы (по двойному переносу строки), а затем подсчитывает для каждого параграфа: количество предложений, количество слов, среднюю длину слова"
      ],
      "metadata": {
        "id": "qJtWAqaL3-od"
      }
    },
    {
      "cell_type": "code",
      "source": [
        "import re\n",
        "sample_text = \"В 2025 году экспедиция доктора Ноа прибыла в тропический лес северной Австралии. На дереве, под номером участка № 14, спокойно спала коала, а неподалёку, у ручья, извивалась огромная змея боа, длиной почти 3,5 метра. Учёные сделали 12 фотографий, записали температуру воздуха (28 °C) и отметили в журнале редкое взаимодействие между коалой и боа. Это наблюдение стало 1-м в своём роде за весь сезон.\"\n",
        "def normalize_text(text):\n",
        "    text = text.lower()\n",
        "    translator = str.maketrans('', '', string.punctuation)\n",
        "    text = text.translate(translator)\n",
        "    text = re.sub(r'\\d', '#', text)\n",
        "    text = text.strip()\n",
        "    text = text.split()\n",
        "    text = ' '.join(text)\n",
        "    return text\n",
        "\n",
        "def sort_text(text):\n",
        "    tokens = text.split()\n",
        "    sorted_tokens = []\n",
        "    for i in range(len(tokens)):\n",
        "        if len(tokens[i]) > 4:\n",
        "            sorted_tokens.append(tokens[i])\n",
        "    sorted_tokens = sorted(sorted_tokens)\n",
        "    return sorted_tokens\n",
        "\n",
        "print(sort_text(normalize_text(sample_text)))"
      ],
      "metadata": {
        "colab": {
          "base_uri": "https://localhost:8080/"
        },
        "id": "VNi2KDfkKmH1",
        "outputId": "90ea3deb-e0ef-4004-f677-944664d7cc91"
      },
      "execution_count": 20,
      "outputs": [
        {
          "output_type": "stream",
          "name": "stdout",
          "text": [
            "['австралии', 'взаимодействие', 'воздуха', 'дереве', 'длиной', 'доктора', 'журнале', 'записали', 'извивалась', 'коала', 'коалой', 'между', 'метра', 'наблюдение', 'неподалёку', 'номером', 'огромная', 'отметили', 'почти', 'прибыла', 'редкое', 'ручья', 'своём', 'сделали', 'северной', 'сезон', 'спала', 'спокойно', 'стало', 'температуру', 'тропический', 'участка', 'учёные', 'фотографий', 'экспедиция']\n"
          ]
        }
      ]
    },
    {
      "cell_type": "code",
      "source": [],
      "metadata": {
        "id": "__IwwQEpmWLZ"
      },
      "execution_count": 20,
      "outputs": []
    }
  ]
}